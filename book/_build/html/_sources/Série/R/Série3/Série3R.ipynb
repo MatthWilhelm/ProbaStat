{
 "cells": [
  {
   "cell_type": "markdown",
   "id": "81d8820b-1b2e-4e43-b38e-8e758b200103",
   "metadata": {
    "tags": []
   },
   "source": [
    "# Série3\n",
    "## Exercice 1: \n",
    "\n",
    "On suppose que la taille, en centimètres, d'un homme âgé de 25 ans est une variable aléatoire \n",
    "normale de paramètres $\\mu= 176.6$ et $\\sigma^2=63.84$. \n",
    "\n",
    "1\\) Quelle est la probabilité que la taille d'un homme de 25 ans choisi au hasard soit supérieure à 170cm? \n"
   ]
  },
  {
   "cell_type": "code",
   "execution_count": null,
   "id": "17b9f00e-e4f9-4fdf-b625-618282235faa",
   "metadata": {
    "tags": []
   },
   "outputs": [],
   "source": [
    "mu <- 176.6\n",
    "sigma_square <- 63.84\n",
    "\n",
    "# Calculer cette probabilité en utilisant directement la fonction de répartition \n",
    "# d'une loi normale de moyenne 176.6 et d'écart-type 63.84\n",
    "prob <- ...\n",
    "\n",
    "# Calculer cette probabilité en normalisant notre observation et en utilisant la \n",
    "# fonction de répartition d'une loi normale standardisé\n",
    "normalisation <- ... \n",
    "prob_ <- ... "
   ]
  },
  {
   "cell_type": "markdown",
   "id": "155da732-bec4-4b11-a53f-e928007dc9e8",
   "metadata": {},
   "source": [
    "2\\) Sachant que l'homme choisi mesure plus de 180cm, quelle est la probabilité qu'il mesure plus de 192cm?  \n",
    "a\\) Calculer $\\mathbb{P}(\\{X > 192\\} \\bigcap \\{X > 180\\})$:  \n",
    "\n",
    "**Solution**:  \n",
    "  \n"
   ]
  },
  {
   "cell_type": "code",
   "execution_count": null,
   "id": "b76d9189-59dc-496c-960c-cdce518d2244",
   "metadata": {
    "tags": []
   },
   "outputs": [],
   "source": [
    "# Place your answer here"
   ]
  },
  {
   "cell_type": "markdown",
   "id": "e7c2dce1-daf9-4716-b4f3-e0951f53f562",
   "metadata": {},
   "source": [
    "b\\) Calculer $\\mathbb{P}(X > 180)$:"
   ]
  },
  {
   "cell_type": "code",
   "execution_count": null,
   "id": "9abc7867-9c70-426c-9f80-a6ac8fc3949b",
   "metadata": {
    "tags": []
   },
   "outputs": [],
   "source": [
    "# Place your answer here"
   ]
  },
  {
   "cell_type": "markdown",
   "id": "5a83563d-6333-47b4-a541-41d301e7c401",
   "metadata": {},
   "source": [
    "c\\) En déduire la valeur de la probabilité $\\mathbb{P}(X > 192 | X > 180)$:"
   ]
  },
  {
   "cell_type": "code",
   "execution_count": null,
   "id": "3a4edb7a-31bc-4702-bade-4f8765196b66",
   "metadata": {
    "tags": []
   },
   "outputs": [],
   "source": [
    "# Place your answer here"
   ]
  },
  {
   "cell_type": "markdown",
   "id": "7e64ecc2-61b4-4407-9690-298575b3480c",
   "metadata": {},
   "source": [
    "3\\) Quel est la taille $x$ pour laquelle il y a $5$% de chance d'observer plus grande que $x$, c'est-à-dire $x$ tel que $\\mathbb{P}(X>x) = 0.05$ avec $X\\sim\\mathcal{N}(\\mu,\\sigma^2)$."
   ]
  },
  {
   "cell_type": "code",
   "execution_count": null,
   "id": "8d6768f1-dda0-48ba-b36a-5f4da9ac5d1e",
   "metadata": {
    "tags": []
   },
   "outputs": [],
   "source": [
    "# Place your answer here"
   ]
  },
  {
   "cell_type": "markdown",
   "id": "659f2f5b-c4ce-42f5-8ade-de87aa5a80bd",
   "metadata": {
    "tags": []
   },
   "source": [
    "## Exercice 2: \n",
    "\n",
    "On considère une variable aléatoire réelle $X$ avec espérance $\\mu$ et variance $\\sigma^2 < \\infty$. Soit $X_1, \\dots, X_n$ un échantillon iid de $n$ variables aléatoires avec la même loi que $X$.\n",
    "On définit $\\overline{X}=  \\frac{1}{n}\\sum_i^n X_i $ et $\\hat{\\sigma}^2 = \\frac{1}{n}\\sum_i (X_i - \\overline{X})^2$ des estimateurs empiriques des deux premiers moments de $X$.\n",
    "\n",
    "1) a) Soit directement en markdown, soit à la main, calculer $\\mathbb{E}[\\overline{X}]$ et $\\mathbb{E}[\\hat{\\sigma}^2]$:\n",
    "\n",
    "**Solution**:  \n",
    "  \n",
    "b) En déduire un estimateur non-biaisé de $\\sigma^2$.\n",
    "\n",
    "**Solution**:  \n",
    "  \n",
    "2) Proposer une méthode pour estimer l'espérance et la variance si nous avions un échantillon $X_1, \\dots, X_n$ de grande taille.\n",
    "\n",
    "**Solution**:  \n",
    "  \n",
    "3) Nous allons maintenant tester cela en générant un grand nombre de variables aléatoires pour une variable étudiée en cours (une variable suivant la loi Beta par exemple):  \n",
    "a) Générer $n = 10000$ observations de la loi que vous avez choisi."
   ]
  },
  {
   "cell_type": "code",
   "execution_count": null,
   "id": "f13f4da9-f859-43b3-8c20-60badbfb9813",
   "metadata": {
    "tags": []
   },
   "outputs": [],
   "source": [
    "# Place your answer here"
   ]
  },
  {
   "cell_type": "markdown",
   "id": "ba55ee98-8b28-4542-94e6-7546c110adbf",
   "metadata": {},
   "source": [
    "a\\) Calculer la moyenne et la variance de la loi que vous avez choisi pour les paramètres que vous avez fixé.\n",
    "\n",
    "**Solution**:  \n",
    "  \n"
   ]
  },
  {
   "cell_type": "code",
   "execution_count": null,
   "id": "462edde9-a752-4758-bcb3-d5e612e1e66d",
   "metadata": {
    "tags": []
   },
   "outputs": [],
   "source": [
    "mean <- ... \n",
    "var <- ... "
   ]
  },
  {
   "cell_type": "markdown",
   "id": "48d36133-cf01-40af-bbfc-cba4760e7aec",
   "metadata": {},
   "source": [
    "1\\) Faire un plot de l'évolution de l'estimation de la moyenne en fonction du nombre $m = 1, \\cdots, n$ d'obervations utilisé dans l'estimation. Faire aussi apparaître la vrai valeur de la moyenne sur ce plot."
   ]
  },
  {
   "cell_type": "code",
   "execution_count": null,
   "id": "d9dc97ac-a0b5-488f-b328-09c8d20b5a53",
   "metadata": {
    "tags": []
   },
   "outputs": [],
   "source": [
    "library(ggplot2)\n",
    "df <- data.frame(X = X)\n",
    "\n",
    "# Plot de l'évolution de l'estimation de la moyenne\n",
    "...\n"
   ]
  },
  {
   "cell_type": "markdown",
   "id": "a018c936-2159-4441-a5be-01ec7350d9a6",
   "metadata": {},
   "source": [
    "2\\) Faire un plot de l'évolution de l'estimation de la variance en fonction du nombre $m = 1, \\cdots, n$ d'obervations utilisé dans l'estimation. Faire aussi apparaître la vrai valeur de la variance sur ce plot."
   ]
  },
  {
   "cell_type": "code",
   "execution_count": null,
   "id": "2eb62070-58c1-4909-8b5b-b980852dab2e",
   "metadata": {
    "tags": []
   },
   "outputs": [],
   "source": [
    "# Calculer l'estimation de la variance pour chacunes des m premières observations\n",
    "...\n",
    "\n",
    "# Plot de l'évolution de l'estimation de la moyenne\n",
    "...\n"
   ]
  },
  {
   "cell_type": "markdown",
   "id": "97ba3169-82f6-4b02-b9c3-20264f9afe5e",
   "metadata": {
    "tags": []
   },
   "source": [
    "## Exercice 3: Estimation de Monte-Carlo\n",
    "\n",
    "Considérer un domaine quelconque (mesurable, de mesure non-nulle) $D\\subset [0,1]^2\\subset \\mathbb{R}^2$. Soit $X\\sim f_X$ un variable aléatoire de densité $f_X$ telle que $D\\subset \\text{supp}(f_X)$ (le support de $f_X$, c'est-à-dire l'ensemble pour lequel $f_X >0$) et soit $Y = \\mathbf{1}_{\\{X\\in D\\}}$. \n",
    "\n",
    "1) Donner la distribution de $Y$ en fonction de $X$.\n",
    "\n",
    "**Solution**:  \n",
    "  \n",
    "2) Calculer l'espérance de $Y$. \n",
    "\n",
    "**Solution**:  \n",
    "  \n",
    "3) Supposons à présent que $X \\sim \\mathcal{U}\\left([-1,1]^2\\right)$ et considérons le disque $D = \\{(x,y) \\in \\mathbb{R}^2: x^2 +y^2 \\leq 1\\}$.  \n",
    "a) Calculer $\\mathbb{P}(X\\in D)$.\n",
    "\n",
    "**Solution**:  \n",
    "  \n",
    "b) En supposant qu'on dispose d'un grand échantillon $X_1, \\cdots, X_n \\stackrel{idd}{\\sim} \\mathcal{U}\\left([-1,1]^2\\right)$ proposer une procédure pour estimer la valeure de $\\pi$.\n",
    "\n",
    "**Solution**:  \n",
    "  \n",
    "c) En déduire une estimation de $\\pi$ et montrer la convergence de l'estimation sur un plot."
   ]
  },
  {
   "cell_type": "code",
   "execution_count": null,
   "id": "2c650376-d5a2-4ab7-930c-764e26bc107a",
   "metadata": {
    "tags": []
   },
   "outputs": [],
   "source": [
    "library(ggplot2)\n",
    "\n",
    "n <- 5000\n",
    "\n",
    "# Générer un échantillon de n VA unif([-1,1])\n",
    "X <- ...\n",
    "\n",
    "# Générer la variable aléatoire Y\n",
    "Y <- (apply(X,1,FUN=norm,type=\"2\")<=1)\n",
    "\n",
    "# Évolution de l'estimation de pi\n",
    "...\n"
   ]
  },
  {
   "cell_type": "markdown",
   "id": "5520259e-e8b9-4ad4-897c-2e28412c7846",
   "metadata": {
    "tags": []
   },
   "source": [
    "4) Soit une fonction $h\\in C^0([0,1]^2)$. À l'aide d'un échantillon de variables $X \\sim \\mathcal{U}\\left([0,1]^2\\right)$, en vous inspirant des questions précédentes, donner une estimation de \n",
    "\\begin{equation*}\n",
    "\\int_{[0,1]^2} h(x) \\ dx.\n",
    "\\end{equation*}\n",
    "De plus, on rappel la propriété suivante de l'espérance: \n",
    "\\begin{equation*}\n",
    "\\mathbb{E}[h(X)] = \\int_{[0,1]^2} h(x,y) f_X(x,y)\\ dxdy\n",
    "\\end{equation*}\n",
    "\n",
    "**Solution**:  \n",
    "  \n",
    "5) En considérant la fonction $h(x,y) = e^{x^2+y^2}\\in C^0([0,1]^2)$, calculer une approximation de $\\int_{[0,1]^2} h(x) \\ dx$ et comparé cette valeur à sa vrai valeur qui vaut $\\int_{[0,1]^2} h(x) \\ dx \\approx 2.139350129$."
   ]
  },
  {
   "cell_type": "code",
   "execution_count": null,
   "id": "dfec941a-42f9-4827-897d-f1720cf2acaa",
   "metadata": {
    "tags": []
   },
   "outputs": [],
   "source": [
    "n <- 50000\n",
    "true_value <- 2.139350129\n",
    "\n",
    "# Générer un échantillon de n VA unif([-1,1])\n",
    "X <- ...\n",
    "\n",
    "# Écrire la fonction h\n",
    "h <- function(X){\n",
    "    val <- ...\n",
    "    val\n",
    "}\n",
    "# Générer la variable aléatoire Y\n",
    "Y <- ... \n",
    "\n",
    "# Plot de l'évolution de l'estimation de la moyenne\n",
    "...\n"
   ]
  },
  {
   "cell_type": "markdown",
   "id": "6341e6a5-6df8-4c5b-b3ed-eec599e29a4b",
   "metadata": {},
   "source": [
    "6) Soient $X_1, \\cdots, X_n$ une suite variable aléatoire réelles indépendantes et identiquement distribuées de moyennes et de variances communes $\\mu$ et $\\sigma^2$ finies. On peut reformuler le théorème central limite de la façon suivante:\n",
    "\\begin{equation*}\n",
    "\\overline{X}_n - \\mu \\sim \\frac{1}{\\sqrt{n}}\\mathcal{N}(0,\\sigma^2),\\ \\text{pour $n$ assez grand}\n",
    "\\end{equation*}\n",
    "On a donc que le taux de convergence de la $\\text{RMSE} = \\sqrt{\\mathbb{E}\\left[(\\overline{X}_n-\\mu)^2\\right]}$ est de $\\sqrt{n} = n^{-\\frac{1}{2}}$. En reprenant l'estimation de $\\pi$, illustrer le taux de convergence de la RMSE en estimant la racine carrée de l'erreur quadratique moyenne pour plusieurs valeurs de $n$ (par exemple $n\\in\\{10,20,50,100,200,500,1000\\}$) et en générant à chaque fois $m = 100$ échantilons, puis en faire un plot en échelle logarithmique sur l'axe des ordonée. La doite de régression devrait avoir une pente de $-\\frac{1}{2}$ car le taux de convergence est de $\\sqrt{n}$."
   ]
  },
  {
   "cell_type": "code",
   "execution_count": null,
   "id": "25ee63fc-01b9-43c0-a3ed-bce3ebbd2f97",
   "metadata": {
    "tags": []
   },
   "outputs": [],
   "source": [
    "N <- c(10,20,50,100,250,500,1000,2500,5000)\n",
    "m <- 100\n",
    "\n",
    "RMSE <- rep(0.,length(N))\n",
    "\n",
    "i <- 0\n",
    "for (n in N){\n",
    "    i <- i+1\n",
    "    échantillon_estimation = rep(0.,m)\n",
    "    for (j in 1:m){\n",
    "        # Générer un échantillon de n VA unif([-1,1])\n",
    "        X <- ...\n",
    "        # Estimation de pi\n",
    "        pi_est = 4*mean(apply(X,1,FUN=norm,type=\"2\")<=1)        _\n",
    "        # Calcul de la MSE de l'échantillon\n",
    "        échantillon_estimation[j] <- ...\n",
    "    }\n",
    "    RMSE[i] = sqrt(mean(échantillon_estimation))\n",
    "}\n",
    "# Plot du taux de convergence\n",
    "...\n"
   ]
  },
  {
   "cell_type": "markdown",
   "id": "d1443646-a6bd-42f0-83c8-4c3022f251b1",
   "metadata": {},
   "source": [
    "Les applications des méthodes de Monte-Carlo sont nombreuses, cependant elles sont particulièrement utilisées pour calculer des intégrales en dimensions plus grandes que 1 (en particulier, pour calculer des surfaces et des volumes). Elles sont également couramment utilisées en physique des particules, où des simulations probabilistes permettent d'estimer la forme d'un signal ou la sensibilité d'un détecteur. La comparaison des données mesurées à ces simulations peut permettre de mettre en évidence des caractéristiques inattendues, par exemple de nouvelles particules."
   ]
  },
  {
   "cell_type": "markdown",
   "id": "30f9b10c-f25c-4d26-996c-ae92b8359227",
   "metadata": {
    "tags": []
   },
   "source": [
    "## Exercice 4: \n",
    "\n",
    "On considère $ 100 $ lancers indépendants d'une pièce de monnaie dont la probabilité de tomber sur face est $ 3/5 $. \n",
    "Soient $ X_i $, $ i \\in \\{ 1, \\ldots, 100 \\} $, les variables aléatoires telles que $ X_i=1 $ si on est tombé sur face au $ i^{ème}$ jet et $ X_i=0 $ sinon.\n",
    "\n",
    "1\\) Quelle est la loi de $X_i$ pour $i\\in\\{1, \\cdots, 100\\}$ ?\n",
    "\n",
    "**Solution**:  \n",
    "  \n",
    "2\\) Quelle est la loi de $ S_{100} = \\sum_{i=1}^{100} X_i $?\n",
    "\n",
    "**Solution**:  \n",
    "  \n",
    "3\\) Calculez $ \\mathbb{P}(S_{100} \\leq 60) $."
   ]
  },
  {
   "cell_type": "code",
   "execution_count": null,
   "id": "4f3c1727-d5cd-4dff-9fb2-46af6dc652b1",
   "metadata": {
    "tags": []
   },
   "outputs": [],
   "source": [
    "n <- 100\n",
    "p <- 3./5\n",
    "prob <- ... \n",
    "# Afficher le résulat\n",
    "...\n"
   ]
  },
  {
   "cell_type": "markdown",
   "id": "3c3e87a2-808a-4edb-8d1e-2db61c89dcb7",
   "metadata": {},
   "source": [
    "4\\) Écrire une fonction qui standardise $S_{100}$ et donnez la loi approximative de la variable standardisée.  \n",
    "\n",
    "**Solution**:  \n",
    "  \n"
   ]
  },
  {
   "cell_type": "code",
   "execution_count": null,
   "id": "9073a7dd-b5a0-492b-970c-b487ae1879a8",
   "metadata": {
    "tags": []
   },
   "outputs": [],
   "source": [
    "# Place your answer here"
   ]
  },
  {
   "cell_type": "markdown",
   "id": "2263faf9-8843-4e4f-b7b9-4a645a099eda",
   "metadata": {},
   "source": [
    "5\\) Approximez la valeur de $\\mathbb{P}(S_{100} \\leq 60)$ grâce à la question précédente et comparez cette valeur approximative à la valeur exacte.  \n",
    "\n",
    "**Solution**:  \n",
    "  \n"
   ]
  },
  {
   "cell_type": "code",
   "execution_count": null,
   "id": "e2dc5143-aea0-4a5e-ae67-c516834d5481",
   "metadata": {
    "tags": []
   },
   "outputs": [],
   "source": [
    "Z <- ... \n",
    "prob_ <- ... \n",
    "# Afficher le résulat\n",
    "...\n"
   ]
  },
  {
   "cell_type": "markdown",
   "id": "cfd9253b-c94b-4239-95c5-6e819d10d87e",
   "metadata": {
    "tags": []
   },
   "source": [
    "## Exercice 5: \n",
    "\n",
    "Soit $X$ le résultat du jet d'un dé équilibré.\n",
    "\n",
    "1\\) Calculez $\\mathbb{E}[X]$ et $\\text{Var}(X)$"
   ]
  },
  {
   "cell_type": "code",
   "execution_count": null,
   "id": "c4ffb21e-960e-41fd-8beb-ae72c9621b53",
   "metadata": {
    "tags": []
   },
   "outputs": [],
   "source": [
    "E_X <- ... \n",
    "V_X <- ... \n",
    "# Afficher le résultat\n",
    "...\n"
   ]
  },
  {
   "cell_type": "markdown",
   "id": "685f5663-76d2-41d3-9deb-567b11e59f74",
   "metadata": {},
   "source": [
    "2\\) On lance $100$ dés équilibrés de façon indépendante. Calculez approximativement la probabilité la somme des $100$ résultats soit comprise entre $340$ et $360$."
   ]
  },
  {
   "cell_type": "code",
   "execution_count": null,
   "id": "89760adf-ff29-4a99-8c0f-3d9e0f21b183",
   "metadata": {
    "tags": []
   },
   "outputs": [],
   "source": [
    "# Place your answer here"
   ]
  }
 ],
 "metadata": {
  "kernelspec": {
   "display_name": "R",
   "language": "R",
   "name": "ir"
  },
  "language_info": {
   "codemirror_mode": "r",
   "file_extension": ".r",
   "mimetype": "text/x-r-source",
   "name": "R",
   "pygments_lexer": "r",
   "version": "4.2.2"
  }
 },
 "nbformat": 4,
 "nbformat_minor": 5
}
