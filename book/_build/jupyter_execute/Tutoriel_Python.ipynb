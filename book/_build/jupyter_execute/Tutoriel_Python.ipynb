{
 "cells": [
  {
   "cell_type": "markdown",
   "id": "ef28d57b",
   "metadata": {},
   "source": [
    "# Tutoriel Python\n",
    "\n",
    "\n",
    "<div style=\"border:1px solid black; padding:20px 20px;text-align: justify;text-justify: inter-word\">\n",
    "    <strong>Introduction à Python et aux Jupyter Notebooks\n",
    "<br/> <br/>\n",
    "  <span style=\"text-decoration:underline;font-weight:bold;\">Comment utiliser ce notebook?</span><br/>\n",
    "    Ce notebook est fait de cellules \"texte\" (Markdown) et \"code\". Les cellules code doivent être <strong>exécutées</strong> pour voir le résultat du programme. Pour exécuter une cellule, sélectionne la et clique sur le bouton \"Exécuter\" (<span style=\"font: bold 12px/30px Arial, serif;\">&#9658;</span>) dans la barre à outils juste au-dessus du notebook, ou utilise <code>shift + enter</code>. Utiliser <code>shift + enter</code> plusieurs fois exécutera des blocs de code consécutifs les uns après les autres, tout en ignorant les cellules de texte (leur exécution ne fait rien). Il est important d'exécuter les cellules de code dans leur ordre d'apparition dans le notebook.<br/>\n",
    "Vous pouvez utiliser la table des matières pour naviguer facilement entre les sections.\n",
    "</div>"
   ]
  },
  {
   "cell_type": "markdown",
   "id": "4e69341f",
   "metadata": {},
   "source": [
    "##  Introduction\n",
    "\n",
    "Ceci est un notebook jupyter. C'est le support que nous allons utiliser tout au long du semestre pour les séances d'exercices. La révision des concepts présentés dans ce noteboook vous sera grandement bénéfique et vous permettra de gagner du temps lors des séances d'exercices. \n",
    "\n",
    "\n",
    "**Pourquoi Python?**\n",
    "\n",
    "Certains d'entre vous n'ont peut-être pas encore utilisé Python, mais Python est un langage facile à comprendre et très rapide à prendre en main, tout en étant de haut niveau. La syntaxe est plus simple que d'autres langages tels que C et C++, tout en vous donnant la possibilité de faire de la programmation orientée objet. Cependant, elle est sensible à l'indentation (contrairement au C et au C++ qui utilisent des parenthèses) ; soyez donc attentifs à cela au début. \n",
    "\n",
    "Python est développé sous une licence open source approuvée par l'OSI, ce qui le rend librement utilisable [(contrairement à Matlab)] et distribuable, même pour un usage commercial'' (https://www.python.org/about/). Il existe une communauté active qui développe des librairies destinées à être utilisées dans divers contextes comme la robotique et l'apprentissage automatique par exemple. Cela signifie également que la communauté python est assez importante et qu'il existe un grand nombre d'aides en ligne, notamment sur [stack overflow](https://stackoverflow.com/) où vous êtes sûr de trouver la plupart des réponses à vos questions relatives à python. \n",
    "\n",
    "Il est également compatible avec de nombreux systèmes d'exploitation, ce qui signifie que vous ne rencontrerez pas de problèmes lorsque vous passerez de linux à macOS ou à windows. L'installation de bibliothèques est également très facile avec pip3. \n",
    "\n",
    "Python est ce qu'on appelle un \"langage typographié dynamiquement\", c'est-à-dire que vous n'avez pas à spécifier le type d'un objet. Un des inconvénients de Python est sa vitesse. Il est beaucoup plus lent qu'un langage qui est compilé comme le C++. \n",
    "\n",
    "\n",
    "**Qu'est-ce que les Jupyter Notebooks et pourquoi les utiliser?**.\n",
    "\n",
    "L'environnement Jupyter Notebooks est un système hybride écrit en Python dont l'interface utilisateur s'exécute comme des applications web dans votre navigateur. Par conséquent, comme Python, les Jupyter Notebooks sont des applications web open source qui facilitent la création et le partage de codes et de documents. Les carnets Jupyter fournissent un environnement dans lequel vous disposez de différents types de cellules (par exemple, celle qui est présentée ici est appelée cellule **Markdown** et est pratique pour la documentation, l'intégration d'images, de liens url, l'explication de ce que vous prévoyez de faire, comment, etc.) Les cellules de codage sont utiles car elles peuvent être exécutées une par une et facilitent le prototypage et le débeuguage, un peu comme la division d'un scrip Matlab en sections. Contrairement à Matlab cependant, vous n'avez pas une vue d'ensemble de vos variables et de leurs valeurs, mais vous pouvez toujours les imprimer. Les carnets Jupyter peuvent également être utilisés pour d'autres langages que python (par exemple R, SQL etc...). \n",
    "\n"
   ]
  },
  {
   "cell_type": "markdown",
   "id": "9d76b123",
   "metadata": {},
   "source": [
    "## Comment utiliser les Jupyter notebooks ?"
   ]
  },
  {
   "cell_type": "markdown",
   "id": "3ab44d5a",
   "metadata": {},
   "source": [
    "Pour utiliser un Jupyter notebook, vous devez comprendre quelques principes de base : \n",
    "\n",
    "\n",
    "**Ajout et suppression de cellules**\n",
    "\n",
    "Si vous avez ouvert le notebook avec **noto**, vous pouvez ajouter (au-dessus ou en-dessous) et supprimer des cellules depuis le coin supérieur droit de chaque cellule.\n",
    "\n",
    "Si vous travaillez en local avec une distribution **Anaconda**,vous pouvez ajouter des cellules en allant dans le menu \"Insertion\" et en choisissant \"Ajouter au-dessus ou au-dessous\" et déplacer des cellules vers le haut ou vers le bas en choisissant les flèches sous la barre à outils.\n",
    "\n",
    "A tout moment vous pouvez changer le type de cellule : Code, Markdown,etc..\n",
    "\n",
    "\n",
    "**Faire tourner les cellules**\n",
    "\n",
    "Vous devrez procéder de la sorte pour exécuter le code contenu dans les cellules individuelles. \n",
    "\n",
    "- Pour exécuter une cellule individuelle, sélectionnez-la et appuyez sur \"Maj+Entrée\".\n",
    "\n",
    "- Pour exécuter le notebook en entier, allez dans \"Cellule->Exécuter tout\". Pour exécuter seulement les cellules au-dessus ou au-dessous, vous trouverez cela dans le même menu. \n",
    "\n",
    "- Pour éxécuter de nouveau le notebook en entier, allez dans \"Kernel -> Restart and Run all\" ou appuyez sur le bouton qui ressemble à un bouton d'avance rapide. Ceci efface toutes les variables stockées en mémoire et exécute le notebook depuis le début. Il est important de ré-exécuter le notebook à partir de zéro de temps en temps, par exemple lorsque vous avez atteint une étape importante pour vous assurer que vous n'avez pas de beugs. Comme le notebook stocke toutes les variables en mémoire, cela permet d'éviter les erreurs dues à la suppression d'un élément ou à l'ordre incorrect de certains éléments dans les cellules ou entre les cellules. \n",
    "\n",
    "**Bonnes pratiques**\n",
    "\n",
    "- Expliquez votre raisonnement dans les cellules Markdown, de la même manière que vous le feriez dans un rapport. Vous pouvez avoir des sections, des sous-sections, écrire des paragraphes, saisir des images, etc. \n",
    "\n",
    "- Commentez votre code afin que toute personne qui ouvre votre notebook comprenne ce que vous faites. \n",
    "\n",
    "- Lorsque vous faites appel à une librairie, il est considéré comme une bonne pratique de l'importer au début du notebook. \n",
    "\n",
    "- N'oubliez pas de sauvegarder régulièrement votre notebook. Vous pouvez le faire soit avec le raccourci d'enregistrement (Ctrl+S), soit en passant par Fichier -> Enregistrer sous. Sous Fichier, vous trouverez également d'autres options telles que créer un nouveau notebook, renommer le notebook actuel, le télécharger en tant que fichier pdf, python etc... \n",
    "\n",
    "**Installation des extensions Jupyter Notebook**\n",
    "\n",
    "Les extensions Jupyter sont des modules complémentaires qui fonctionnent avec les notebooks Jupyter (et non avec Jupyter Lab) permettant d'améliorer votre productivité. \n",
    "Si vous êtes intéressés, vous pouvez installer quelques [extensions qui sont utiles](https://towardsdatascience.com/jupyter-tools-to-increase-productivity-7b3c6b90be09) "
   ]
  },
  {
   "cell_type": "markdown",
   "id": "9ccf01ba",
   "metadata": {},
   "source": [
    "## Introduction à Python"
   ]
  },
  {
   "cell_type": "markdown",
   "id": "1d27a530",
   "metadata": {},
   "source": [
    "### Types et opérateurs"
   ]
  },
  {
   "cell_type": "markdown",
   "id": "c446a680",
   "metadata": {},
   "source": [
    "En Python, il y a différents **types** prédéfinis:\n",
    "\n",
    "- Text Type:\t**str**\n",
    "\n",
    "\n",
    "- Numeric Types:\t**int**, **float**, complex\n",
    "\n",
    "\n",
    "- Sequence Types:\t**list**, **tuple** , **range**\n",
    "\n",
    "\n",
    "- Mapping Type:\t**dict** \n",
    "\n",
    "\n",
    "- Set Types:\t**set** , frozenset \n",
    "\n",
    "\n",
    "- Boolean Type:\t**bool** (either ``True`` or ``False``)\n",
    "\n",
    "\n",
    "- Binary Types:\tbytes, bytearray, memoryview\n",
    "\n",
    "\n",
    "Le type d'une variable est défini au moment où on lui assigne une valeur.\n",
    "\n",
    "|Exemple| Type correspondant|\n",
    "| :------------- |:-------------:|\n",
    "|x = \"Hello World\"|\tstr\t|\n",
    "|x = 20\t|int\t|\n",
    "|x = 20.5\t|float\t|\n",
    "|x = 1j\t|complex\t|\n",
    "|x = [\"apple\", \"banana\", \"cherry\"]\t|list\t|\n",
    "|x = (\"apple\", \"banana\", \"cherry\")\t|tuple\t|\n",
    "|x = range(6)\t|range\t|\n",
    "|x = {\"name\" : \"John\", \"age\" : 36}\t|dict\t|\n",
    "|x = {\"apple\", \"banana\", \"cherry\"}\t|set\t|\n",
    "|x = frozenset({\"apple\", \"banana\", \"cherry\"})\t|frozenset\t|\n",
    "|x = True\t|bool\t|\n",
    "|x = b\"Hello\"\t|bytes\t|\n",
    "|x = bytearray(5)\t|bytearray\t|\n",
    "|x = memoryview(bytes(5))\t|memoryview|"
   ]
  },
  {
   "cell_type": "markdown",
   "id": "195c00b4",
   "metadata": {},
   "source": [
    "Les **opérateurs** sont utilisés pour faire des opérations sur des variables ou des valeurs.\n",
    "\n",
    "Python divise les opérateurs en différents groupes:\n",
    "\n",
    "- Les opérateurs arithmétiques\n",
    "- Les opérateurs d'affectation\n",
    "- Les opérateurs de comparaison\n",
    "- Les opérateurs logiques\n",
    "\n",
    "**Les opérateurs arithmétiques**\n",
    "\n",
    "|Opérateur|Nom|Exemple|\n",
    "|:-------------: | :------------- |:-------------:|\n",
    "|+|Addition|x + y|\n",
    "|-|Soustraction|x - y|\n",
    "|*|Multiplication|x * y|\n",
    "|/|Division|x / y|\n",
    "|%|Module|x % y|\n",
    "|**|Exponentielle|x ** y|\n",
    "|//|Division entière|x // y|\n",
    "\n",
    "**Les opérateurs d'affectation**\n",
    "\n",
    "|Opérateur\t|Exemple\t|Comme|\n",
    "|:-------------: | :------------- |:-------------:|\n",
    "|=|\tx = 5|\tx = 5\t|\n",
    "|+=|\tx += 3|\tx = x + 3\t|\n",
    "|-=|\tx -= 3|\tx = x - 3\t|\n",
    "|*=|\tx *= 3|\tx = x * 3\t|\n",
    "|/=|\tx /= 3|\tx = x / 3\t|\n",
    "|%=|\tx %= 3|\tx = x % 3\t|\n",
    "|//=|\tx //= 3|\tx = x // 3\t|\n",
    "|\\**=|\tx \\**= 3|\tx = x \\** 3\t|\n",
    "|&=|\tx &= 3|\tx = x & 3\t|\n",
    "|\\|=|\tx |= 3|\tx = x | 3\t|\n",
    "|^=|\tx ^= 3|\tx = x ^ 3\t|\n",
    "\n",
    "**Les opérateurs de comparaison**\n",
    "\n",
    "| Opérateur | Nom | Exemple |\n",
    "|----------|--------------------------|---------|\n",
    "| == | Egal | x == y |\n",
    "| != | Différent | x != y |\n",
    "| > | Plus grand que | x > y |\n",
    "| < | Plus petit que | x < y |\n",
    "| >= | Plus grand ou égal | x >= y |\n",
    "| <= | Plus petit ou égal | x <= y |\n",
    "\n",
    "**Les opérateurs logiques**\n",
    "\n",
    "| Opérateur | Description | Exemple |\n",
    "|----------|---------------------------------------------------------|-----------------------|\n",
    "| and  | Retourne Vrai si les deux déclarations sont vraies | x < 5 and  x < 10 |\n",
    "| or | Retourne Vrai si au moins une des deux déclarations est vraie  | x < 5 or x < 4 |\n",
    "| not | Inverse le résultat, renvoie Faux si le résultat est vrai. | not(x < 5 and x < 10) |"
   ]
  },
  {
   "cell_type": "markdown",
   "id": "b0975a49",
   "metadata": {},
   "source": [
    "#### Listes/Arrays\n",
    "\n",
    "Une liste est un ensemble ordonné et modifiable. En Python, les listes sont écrites avec des crochets [ ].\n",
    "**L'indexation commence à 0 en Python.** L'index -1 permet d'accéder au dernier élément de la liste."
   ]
  },
  {
   "cell_type": "code",
   "execution_count": 15,
   "id": "feaf3c10",
   "metadata": {},
   "outputs": [
    {
     "data": {
      "text/plain": [
       "'apple'"
      ]
     },
     "execution_count": 15,
     "metadata": {},
     "output_type": "execute_result"
    }
   ],
   "source": [
    "list = [\"apple\", \"banana\", \"cherry\"]\n",
    "list[0]"
   ]
  },
  {
   "cell_type": "code",
   "execution_count": 16,
   "id": "98acd518",
   "metadata": {},
   "outputs": [
    {
     "data": {
      "text/plain": [
       "6"
      ]
     },
     "execution_count": 16,
     "metadata": {},
     "output_type": "execute_result"
    }
   ],
   "source": [
    "vecteur = [2,4,6,8]\n",
    "vecteur[2]   #3ème élément du vecteur"
   ]
  },
  {
   "cell_type": "code",
   "execution_count": 17,
   "id": "f1384118",
   "metadata": {},
   "outputs": [],
   "source": [
    "import numpy as np"
   ]
  },
  {
   "cell_type": "code",
   "execution_count": 18,
   "id": "39c8b672",
   "metadata": {},
   "outputs": [
    {
     "name": "stdout",
     "output_type": "stream",
     "text": [
      "[[1 2 3 4]\n",
      " [5 6 7 8]]\n"
     ]
    }
   ],
   "source": [
    "#avec un array en 2D\n",
    "A = np.array([[1,2,3,4],[5,6,7,8]])\n",
    "print(A)"
   ]
  },
  {
   "cell_type": "code",
   "execution_count": 19,
   "id": "c0a13e0d",
   "metadata": {},
   "outputs": [
    {
     "data": {
      "text/plain": [
       "2"
      ]
     },
     "execution_count": 19,
     "metadata": {},
     "output_type": "execute_result"
    }
   ],
   "source": [
    "A[0,1]  #élément à la 1ère ligne, 2ème colonne"
   ]
  },
  {
   "cell_type": "code",
   "execution_count": 20,
   "id": "8d6d1fa6",
   "metadata": {},
   "outputs": [
    {
     "name": "stdout",
     "output_type": "stream",
     "text": [
      "[5 6 7 8]\n"
     ]
    }
   ],
   "source": [
    "print(A[1,:])  #affiche toute la 2ème ligne"
   ]
  },
  {
   "cell_type": "markdown",
   "id": "ed6ee5d7",
   "metadata": {},
   "source": [
    "#### Opérations sur des vecteurs/matrices\n",
    "\n",
    "Voir les exemples ci-dessous:"
   ]
  },
  {
   "cell_type": "code",
   "execution_count": 21,
   "id": "eca2a35c",
   "metadata": {},
   "outputs": [
    {
     "name": "stdout",
     "output_type": "stream",
     "text": [
      "[ 60 140]\n"
     ]
    }
   ],
   "source": [
    "print(A.dot(vecteur)) #multiplication matrice-vecteur"
   ]
  },
  {
   "cell_type": "code",
   "execution_count": 22,
   "id": "40c891d2",
   "metadata": {},
   "outputs": [
    {
     "name": "stdout",
     "output_type": "stream",
     "text": [
      "[ 60 140]\n"
     ]
    }
   ],
   "source": [
    "print(A @ vecteur) # le signe @ est un opérateur de multiplication entre matrices ou entre matrices et vecteurs"
   ]
  },
  {
   "cell_type": "code",
   "execution_count": 23,
   "id": "3ed44ba7",
   "metadata": {},
   "outputs": [
    {
     "name": "stdout",
     "output_type": "stream",
     "text": [
      "[[ 3  6  9 12]\n",
      " [15 18 21 24]]\n"
     ]
    }
   ],
   "source": [
    "print(3*A)"
   ]
  },
  {
   "cell_type": "code",
   "execution_count": 24,
   "id": "9a668028",
   "metadata": {},
   "outputs": [
    {
     "name": "stdout",
     "output_type": "stream",
     "text": [
      "[[ 8 11 14 17]\n",
      " [20 23 26 29]]\n"
     ]
    }
   ],
   "source": [
    "print(3*A + 5)"
   ]
  },
  {
   "cell_type": "code",
   "execution_count": 25,
   "id": "79b3960d",
   "metadata": {},
   "outputs": [
    {
     "name": "stdout",
     "output_type": "stream",
     "text": [
      "[2, 4, 6, 8, 2, 4, 6, 8, 2, 4, 6, 8]\n"
     ]
    }
   ],
   "source": [
    "print(3*vecteur)   "
   ]
  },
  {
   "cell_type": "code",
   "execution_count": 26,
   "id": "3f7e9411",
   "metadata": {},
   "outputs": [
    {
     "name": "stdout",
     "output_type": "stream",
     "text": [
      "[ 6 12 18 24]\n"
     ]
    }
   ],
   "source": [
    "vecteur = np.array([2,4,6,8])\n",
    "print(3*vecteur)"
   ]
  },
  {
   "cell_type": "markdown",
   "id": "b275b354",
   "metadata": {},
   "source": [
    "Attention! Suivant comment a été déclarée la variable, les opérations changent. Dans le premier cas, on voit que le vecteur a été copié 2 fois. Dans le 2ème cas, chaque élément a été multiplié par 3. Voir les sections suivantes sur les librairies et notamment NumPy."
   ]
  },
  {
   "cell_type": "markdown",
   "id": "dd3531e8",
   "metadata": {},
   "source": [
    "### Les principales structures"
   ]
  },
  {
   "cell_type": "markdown",
   "id": "fa9ca429",
   "metadata": {},
   "source": [
    "#### L'instruction if\n",
    "\n",
    "Exécutez les différents exemples ci-dessous pour vous familiariser avec sa syntaxe:"
   ]
  },
  {
   "cell_type": "code",
   "execution_count": 27,
   "id": "1919750b",
   "metadata": {},
   "outputs": [
    {
     "name": "stdout",
     "output_type": "stream",
     "text": [
      "b is greater than a\n"
     ]
    }
   ],
   "source": [
    "a = 33\n",
    "b = 200\n",
    "if b > a:\n",
    "  print(\"b is greater than a\")"
   ]
  },
  {
   "cell_type": "code",
   "execution_count": 28,
   "id": "f103e857",
   "metadata": {},
   "outputs": [
    {
     "ename": "IndentationError",
     "evalue": "expected an indented block (1443227691.py, line 4)",
     "output_type": "error",
     "traceback": [
      "\u001b[0;36m  Input \u001b[0;32mIn [28]\u001b[0;36m\u001b[0m\n\u001b[0;31m    print(\"b is greater than a\") # you will get an error\u001b[0m\n\u001b[0m    ^\u001b[0m\n\u001b[0;31mIndentationError\u001b[0m\u001b[0;31m:\u001b[0m expected an indented block\n"
     ]
    }
   ],
   "source": [
    "a = 33\n",
    "b = 200\n",
    "if b > a:\n",
    "print(\"b is greater than a\") # you will get an error"
   ]
  },
  {
   "cell_type": "markdown",
   "id": "f590b8bc",
   "metadata": {},
   "source": [
    "**Attention à l'indentation** lorsque vous utilisez des structures !"
   ]
  },
  {
   "cell_type": "code",
   "execution_count": 29,
   "id": "1fc657ca",
   "metadata": {},
   "outputs": [
    {
     "name": "stdout",
     "output_type": "stream",
     "text": [
      "a is greater than b\n"
     ]
    }
   ],
   "source": [
    "a = 200\n",
    "b = 33\n",
    "if b > a:\n",
    "  print(\"b is greater than a\")\n",
    "else:\n",
    "  print(\"a is greater than b\")"
   ]
  },
  {
   "cell_type": "code",
   "execution_count": 30,
   "id": "d0bf2a2e",
   "metadata": {},
   "outputs": [
    {
     "name": "stdout",
     "output_type": "stream",
     "text": [
      "a and b are equal\n"
     ]
    }
   ],
   "source": [
    "a = 200\n",
    "b = 200\n",
    "if b > a:\n",
    "  print(\"b is greater than a\")\n",
    "elif a == b:\n",
    "  print(\"a and b are equal\")\n",
    "else:\n",
    "  print(\"a is greater than b\")"
   ]
  },
  {
   "cell_type": "markdown",
   "id": "a9aca1c8",
   "metadata": {},
   "source": [
    "Il peut y avoir un nombre quelconque de parties elif et la partie else est facultative. Le mot clé elif est un raccourci pour else if, et permet de gagner un niveau d'indentation. Une séquence if ... elif ... elif ... est par ailleurs équivalente aux instructions switch ou case disponibles dans d'autres langages."
   ]
  },
  {
   "cell_type": "markdown",
   "id": "e3490465",
   "metadata": {},
   "source": [
    "#### L'instruction while\n",
    "\n",
    "La boucle **while** permet d'exécuter un ensemble d'instructions tant qu'une condition est vraie."
   ]
  },
  {
   "cell_type": "code",
   "execution_count": 31,
   "id": "fd7b7e77",
   "metadata": {},
   "outputs": [
    {
     "name": "stdout",
     "output_type": "stream",
     "text": [
      "1\n",
      "2\n",
      "3\n",
      "4\n",
      "5\n"
     ]
    }
   ],
   "source": [
    "i = 1\n",
    "while i < 6:\n",
    "  print(i)\n",
    "  i += 1"
   ]
  },
  {
   "cell_type": "markdown",
   "id": "1cfe840f",
   "metadata": {},
   "source": [
    "La boucle while exige que les variables pertinentes soient prêtes. Dans cet exemple, nous avons dû définir une variable d'indexation, i, fixée à 1.\n",
    "\n",
    "Exécutez les cellules ci-dessous pour découvrir les outils **break** et **continue**"
   ]
  },
  {
   "cell_type": "code",
   "execution_count": 32,
   "id": "43ea1fe0",
   "metadata": {},
   "outputs": [
    {
     "name": "stdout",
     "output_type": "stream",
     "text": [
      "1\n",
      "2\n",
      "3\n"
     ]
    }
   ],
   "source": [
    "i = 1\n",
    "while i < 6:\n",
    "  print(i)\n",
    "  if i == 3:\n",
    "    break\n",
    "  i += 1"
   ]
  },
  {
   "cell_type": "code",
   "execution_count": 33,
   "id": "c911e853",
   "metadata": {},
   "outputs": [
    {
     "name": "stdout",
     "output_type": "stream",
     "text": [
      "1\n",
      "2\n",
      "4\n",
      "5\n",
      "6\n"
     ]
    }
   ],
   "source": [
    "i = 0\n",
    "while i < 6:\n",
    "  i += 1\n",
    "  if i == 3:\n",
    "    continue\n",
    "  print(i)"
   ]
  },
  {
   "cell_type": "markdown",
   "id": "1112034b",
   "metadata": {},
   "source": [
    "**Break** permet d'arrêter la boucle while même si la condition du while est toujours satisfaite. **Continue** permet de stopper l'itération en cours et de passer à la suivante directement."
   ]
  },
  {
   "cell_type": "markdown",
   "id": "38f3bc48",
   "metadata": {},
   "source": [
    "#### L'instruction for\n",
    "\n",
    "L'instruction **for** que propose Python est un peu différente de celle que l'on peut trouver dans d'autres langages de programmation et fonctionne davantage comme une méthode d'itération que l'on trouve dans les langages de programmation orientés objet.\n",
    "\n",
    "Elle est utilisée pour itérer sur une séquence (c'est-à-dire une liste, un tuple, un dictionnaire, un ensemble ou une chaîne).\n",
    "\n",
    "\n",
    "De nouveau, éxécutez les différents exemples ci-dessous pour vous familiariser avec sa synthaxe:"
   ]
  },
  {
   "cell_type": "code",
   "execution_count": 34,
   "id": "5261ad31",
   "metadata": {},
   "outputs": [
    {
     "name": "stdout",
     "output_type": "stream",
     "text": [
      "apple\n",
      "banana\n",
      "cherry\n"
     ]
    }
   ],
   "source": [
    "fruits = [\"apple\", \"banana\", \"cherry\"] #avec une liste\n",
    "for x in fruits:\n",
    "  print(x)"
   ]
  },
  {
   "cell_type": "code",
   "execution_count": 35,
   "id": "d4a2c8aa",
   "metadata": {},
   "outputs": [
    {
     "name": "stdout",
     "output_type": "stream",
     "text": [
      "b\n",
      "a\n",
      "n\n",
      "a\n",
      "n\n",
      "a\n"
     ]
    }
   ],
   "source": [
    "for x in \"banana\": #avec une chaine de caractères (str)\n",
    "  print(x)"
   ]
  },
  {
   "cell_type": "code",
   "execution_count": 36,
   "id": "4bcaea1d",
   "metadata": {},
   "outputs": [
    {
     "name": "stdout",
     "output_type": "stream",
     "text": [
      "1\n",
      "2\n",
      "4\n",
      "6\n"
     ]
    }
   ],
   "source": [
    "for x in [1,2,4,6]: #avec un tuple\n",
    "    print(x)"
   ]
  },
  {
   "cell_type": "markdown",
   "id": "bfdc342c",
   "metadata": {},
   "source": [
    "Comme pour la boucle **while**, on peut utiliser **break** et **continue** pour sortir de la boucle for ou passer à l'itération suivante.\n",
    "\n",
    "Vous avez remarqué que contrairement à une boucle **for** en C où l'on donne à l'utilisateur la possibilité de définir le pas d'itération et la condition de fin, l'instruction **for** en Python itère sur les éléments d'une séquence (qui peut être une liste, une chaîne de caractères…), dans l'ordre dans lequel ils apparaissent dans la séquence.\n",
    "\n",
    "Exécutez les cellules suivantes pour voir l'utilité de certaines fonctions complémentaires comme **range** et **enumerate**.\n"
   ]
  },
  {
   "cell_type": "code",
   "execution_count": 37,
   "id": "74150a6f",
   "metadata": {},
   "outputs": [
    {
     "name": "stdout",
     "output_type": "stream",
     "text": [
      "0\n",
      "1\n",
      "2\n",
      "3\n",
      "4\n",
      "5\n"
     ]
    }
   ],
   "source": [
    "for x in range(6): #Par défaut range commence à 0 et incrémente de 1. Notez que range s'arrête à N-1 pour range(N)\n",
    "  print(x)"
   ]
  },
  {
   "cell_type": "code",
   "execution_count": 38,
   "id": "58baf267",
   "metadata": {},
   "outputs": [
    {
     "name": "stdout",
     "output_type": "stream",
     "text": [
      "2\n",
      "5\n",
      "8\n",
      "11\n",
      "14\n",
      "17\n",
      "20\n",
      "23\n",
      "26\n",
      "29\n"
     ]
    }
   ],
   "source": [
    "for x in range(2, 30, 3): #commence à 2, finit à 29 et incrémente de 3\n",
    "  print(x)"
   ]
  },
  {
   "cell_type": "code",
   "execution_count": 39,
   "id": "13f20b4c",
   "metadata": {},
   "outputs": [
    {
     "name": "stdout",
     "output_type": "stream",
     "text": [
      "Elément en position 0 est Looping\n",
      "Elément en position 1 est with\n",
      "Elément en position 2 est counters\n",
      "Elément en position 3 est is\n",
      "Elément en position 4 est a\n",
      "Elément en position 5 est classic!\n"
     ]
    }
   ],
   "source": [
    "some_list = ['Looping', 'with', 'counters', 'is', 'a', 'classic!']\n",
    "for idx, element in enumerate(some_list):\n",
    "     print(f'Elément en position {idx} est {element}')"
   ]
  },
  {
   "cell_type": "markdown",
   "id": "772527d9",
   "metadata": {},
   "source": [
    "### Les fonctions\n",
    "\n",
    "#### Syntaxe des fonctions\n",
    "\n",
    "La syntaxe Python pour la définition d’une fonction est la suivante :"
   ]
  },
  {
   "cell_type": "code",
   "execution_count": 40,
   "id": "f32ea513",
   "metadata": {},
   "outputs": [
    {
     "ename": "SyntaxError",
     "evalue": "invalid syntax (3927259200.py, line 1)",
     "output_type": "error",
     "traceback": [
      "\u001b[0;36m  Input \u001b[0;32mIn [40]\u001b[0;36m\u001b[0m\n\u001b[0;31m    def nom_fonction(liste de paramètres):\u001b[0m\n\u001b[0m                           ^\u001b[0m\n\u001b[0;31mSyntaxError\u001b[0m\u001b[0;31m:\u001b[0m invalid syntax\n"
     ]
    }
   ],
   "source": [
    "def nom_fonction(liste de paramètres):\n",
    "      bloc d'instructions"
   ]
  },
  {
   "cell_type": "markdown",
   "id": "e474817f",
   "metadata": {},
   "source": [
    "Vous pouvez choisir n’importe quel nom pour la fonction que vous créez, à l’exception des mots-clés réservés du langage, et à la condition de n’utiliser aucun caractère spécial ou accentué (le caractère souligné « _ » est permis). Comme c’est le cas pour les noms de variables, on utilise par convention des minuscules, notamment au début du nom (les noms commençant par une majuscule seront réservés aux classes).\n",
    "\n",
    "Une fonction peut avoir un, plusieurs ou pas de paramètres d'entrée (appelés **arguments**) et elle peut retourner indirectement (print) ou directement des variables (avec **return**). Exécutez les cellules ci-dessous pour vous familiariser avec les fonctions."
   ]
  },
  {
   "cell_type": "code",
   "execution_count": 41,
   "id": "10890e45",
   "metadata": {},
   "outputs": [
    {
     "name": "stdout",
     "output_type": "stream",
     "text": [
      "0\n",
      "1\n",
      "2\n"
     ]
    }
   ],
   "source": [
    "def compteur3(): #sans paramètres d'entreé ni de sortie\n",
    "    i = 0\n",
    "    while i < 3:\n",
    "        print(i)\n",
    "        i = i + 1\n",
    "compteur3()"
   ]
  },
  {
   "cell_type": "code",
   "execution_count": 42,
   "id": "6d008dae",
   "metadata": {},
   "outputs": [
    {
     "name": "stdout",
     "output_type": "stream",
     "text": [
      "0\n",
      "1\n",
      "2\n"
     ]
    }
   ],
   "source": [
    "compteur3() #on aurait très bien pu appeler la fonction depuis une autre cellule du notebook."
   ]
  },
  {
   "cell_type": "code",
   "execution_count": 43,
   "id": "11092ee7",
   "metadata": {},
   "outputs": [
    {
     "name": "stdout",
     "output_type": "stream",
     "text": [
      "0\n",
      "1\n",
      "2\n",
      "3\n"
     ]
    }
   ],
   "source": [
    "def compteur(stop): #avec un paramètre d'entrée\n",
    "    i = 0\n",
    "    while i < stop:\n",
    "        print(i)\n",
    "        i = i + 1\n",
    "compteur(4)"
   ]
  },
  {
   "cell_type": "code",
   "execution_count": 44,
   "id": "0a9ede6a",
   "metadata": {},
   "outputs": [
    {
     "name": "stdout",
     "output_type": "stream",
     "text": [
      "2\n",
      "4\n"
     ]
    }
   ],
   "source": [
    "def compteur(stop,b): #avec 2 paramètres d'entrée\n",
    "    i = 0\n",
    "    while i < stop:\n",
    "        i = i + b\n",
    "        print(i)\n",
    "compteur(4,2)"
   ]
  },
  {
   "cell_type": "code",
   "execution_count": 45,
   "id": "4b041b40",
   "metadata": {},
   "outputs": [
    {
     "data": {
      "text/plain": [
       "4"
      ]
     },
     "execution_count": 45,
     "metadata": {},
     "output_type": "execute_result"
    }
   ],
   "source": [
    "def compteur(stop): #avec un paramètre d'entrée et de sortie\n",
    "    i = 0\n",
    "    while i < stop:\n",
    "        i = i + 1\n",
    "    return i\n",
    "compteur(4)     #renvoie la dernière valeur prise par i dans la fonction.   "
   ]
  },
  {
   "cell_type": "code",
   "execution_count": 46,
   "id": "417cf32c",
   "metadata": {},
   "outputs": [
    {
     "name": "stdout",
     "output_type": "stream",
     "text": [
      "4\n"
     ]
    }
   ],
   "source": [
    "x = compteur(4) #on peut directement attribuer ce que retourne la fonction à des variables en dehors de la fonction\n",
    "print(x)"
   ]
  },
  {
   "cell_type": "code",
   "execution_count": 47,
   "id": "57058062",
   "metadata": {},
   "outputs": [
    {
     "name": "stdout",
     "output_type": "stream",
     "text": [
      "4 96\n"
     ]
    }
   ],
   "source": [
    "def compteur(stop): #avec un paramètre d'entrée et 2 de sortie\n",
    "    i = 0\n",
    "    j = 100\n",
    "    while i < stop:\n",
    "        i = i + 1\n",
    "        j = j - 1\n",
    "    return i,j \n",
    "x,y = compteur(4) # Attention à l'ordre des paramètres: x prend la valeur de i et y de j.\n",
    "print(x,y)"
   ]
  },
  {
   "cell_type": "markdown",
   "id": "719b9177",
   "metadata": {},
   "source": [
    "#### Portée des variables (scope)\n",
    "\n",
    "En Python, nous pouvons déclarer des variables n’importe où dans notre script : au début du script, à l’intérieur de boucles, au sein de nos fonctions, etc.\n",
    "\n",
    "L’endroit où l'on définit une variable dans le script va déterminer l’endroit où la variable va être accessible c’est-à-dire utilisable.\n",
    "\n",
    "Le terme de “portée des variables” sert à désigner les différents espaces dans le script dans lesquels une variable est accessible. En Python, une variable peut avoir une portée locale ou une portée globale.\n",
    "\n",
    "Les variables définies dans une fonction sont appelées **variables locales**. Elles ne peuvent être utilisées que localement c’est-à-dire qu’à l’intérieur de la fonction qui les a définies. Tenter d’appeler une variable locale depuis l’extérieur de la fonction qui l’a définie provoquera une erreur."
   ]
  },
  {
   "cell_type": "code",
   "execution_count": 48,
   "id": "2b2d7a75",
   "metadata": {},
   "outputs": [],
   "source": [
    "def exemple():\n",
    "    locale = 5   "
   ]
  },
  {
   "cell_type": "code",
   "execution_count": 49,
   "id": "7bde380d",
   "metadata": {},
   "outputs": [
    {
     "ename": "NameError",
     "evalue": "name 'locale' is not defined",
     "output_type": "error",
     "traceback": [
      "\u001b[0;31m---------------------------------------------------------------------------\u001b[0m",
      "\u001b[0;31mNameError\u001b[0m                                 Traceback (most recent call last)",
      "Input \u001b[0;32mIn [49]\u001b[0m, in \u001b[0;36m<cell line: 1>\u001b[0;34m()\u001b[0m\n\u001b[0;32m----> 1\u001b[0m \u001b[38;5;28mprint\u001b[39m(\u001b[43mlocale\u001b[49m)\n",
      "\u001b[0;31mNameError\u001b[0m: name 'locale' is not defined"
     ]
    }
   ],
   "source": [
    "print(locale)"
   ]
  },
  {
   "cell_type": "markdown",
   "id": "7e9017a5",
   "metadata": {},
   "source": [
    "Cela est dû au fait que chaque fois qu’une fonction est appelée, Python réserve pour elle (dans la mémoire de l’ordinateur) un nouvel espace de noms (c’est-à-dire une sorte de dossier virtuel). Les contenus des variables locales sont stockés dans cet espace de noms qui est inaccessible depuis l’extérieur de la fonction.\n",
    "\n",
    "Cet espace de noms est automatiquement détruit dès que la fonction a terminé son travail, réinitialisant les valeurs des variables à chaque nouvel appel de fonction.\n",
    "\n",
    "Les variables définies dans l’espace global du script, c’est-à-dire en dehors de toute fonction sont appelées des **variables globales**. Ces variables sont accessibles (= utilisables) à travers l’ensemble du script et accessible en lecture seulement à l’intérieur des fonctions utilisées dans ce script.\n",
    "\n",
    "Pour le dire très simplement : une fonction va pouvoir utiliser la valeur d’une variable définie globalement mais ne va pas pouvoir modifier sa valeur c’est-à-dire la redéfinir. En effet, toute variable définie dans une fonction est par définition locale ce qui fait que si on essaie de redéfinir une variable globale à l’intérieur d’une fonction on ne fera que créer une autre variable de même nom que la variable globale qu’on souhaite redéfinir mais qui sera locale et bien distincte de cette dernière."
   ]
  },
  {
   "cell_type": "code",
   "execution_count": null,
   "id": "9b090b15",
   "metadata": {},
   "outputs": [],
   "source": [
    "var_globale = 5\n",
    "\n",
    "def exemple():\n",
    "    var_globale = 0\n",
    "    print(var_globale)\n",
    "    \n",
    "exemple()        \n",
    "print(var_globale)"
   ]
  },
  {
   "cell_type": "markdown",
   "id": "8a97f004",
   "metadata": {},
   "source": [
    "Dans certaines situations, il serait utile de pouvoir modifier la valeur d’une variable globale depuis une fonction, notamment dans le cas où une fonction se sert d’une variable globale et la manipule.\n",
    "\n",
    "Cela est possible en Python. Pour se faire, il suffit d’utiliser le mot-clé **global** devant le nom d’une variable globale utilisée localement afin d’indiquer à Python qu’on souhaite bien modifier le contenu de la variable globale et non pas créer une variable locale de même nom."
   ]
  },
  {
   "cell_type": "code",
   "execution_count": 50,
   "id": "0ef73c94",
   "metadata": {},
   "outputs": [
    {
     "name": "stdout",
     "output_type": "stream",
     "text": [
      "0\n",
      "0\n"
     ]
    }
   ],
   "source": [
    "var_globale = 5\n",
    "\n",
    "def exemple():\n",
    "    global var_globale  #définir comme variable globale\n",
    "    var_globale = 0\n",
    "    print(var_globale)\n",
    "    \n",
    "exemple()        \n",
    "print(var_globale)"
   ]
  },
  {
   "cell_type": "markdown",
   "id": "071c8e21",
   "metadata": {},
   "source": [
    "## Les librairies"
   ]
  },
  {
   "cell_type": "markdown",
   "id": "bb5f0ee8",
   "metadata": {},
   "source": [
    "Jusque là, nous avons vu les différentes structures (if, while, for) et comment implémenter une fonction. Nous allons à présent aborder ce qui fait la puissance de Python grâce à sa communauté de développeurs qui créent et mettent à disposition de nombreuses **librairies** permettant de gagner un temps précieux.\n",
    "\n",
    "En langage Python, une librairie est un ensemble de fonctions, de classes d’objets et de constantes qui permettent de travailler sur un thème en particulier. Découvrons quelques librairies qui seront très utiles dans ce cours.\n",
    "\n",
    "Avant toute chose, il faut les installer puis les importer sur le notebook."
   ]
  },
  {
   "cell_type": "markdown",
   "id": "455b525f",
   "metadata": {},
   "source": [
    "**Installation des librairies Python via le notebook**\n",
    "\n",
    "Au lieu de lancer l'installation via le terminal, vous pouvez également lancer l'installation depuis le notebook dans une cellule du Code en appelant ``!pip3 install lib1 lib2 lib3``. C'est ce que nous ferons pour les librairies qui sont nécessaires pour résoudre les sessions d'exercices hebdomadaires.\n",
    "\n",
    "Par exemple, nous allons installer les librairies utiles pour le cours:"
   ]
  },
  {
   "cell_type": "code",
   "execution_count": 51,
   "id": "de6d4255",
   "metadata": {},
   "outputs": [
    {
     "name": "stdout",
     "output_type": "stream",
     "text": [
      "Defaulting to user installation because normal site-packages is not writeable\n",
      "Requirement already satisfied: numpy in /usr/local/lib/python3.8/dist-packages (1.22.4)\n",
      "Requirement already satisfied: pandas in /usr/local/lib/python3.8/dist-packages (1.4.3)\n",
      "Requirement already satisfied: scipy in /usr/local/lib/python3.8/dist-packages (1.9.1)\n",
      "Requirement already satisfied: matplotlib in /usr/local/lib/python3.8/dist-packages (3.5.3)\n",
      "Requirement already satisfied: pytz>=2020.1 in /usr/local/lib/python3.8/dist-packages (from pandas) (2022.2)\n",
      "Requirement already satisfied: python-dateutil>=2.8.1 in /usr/local/lib/python3.8/dist-packages (from pandas) (2.8.2)\n",
      "Requirement already satisfied: fonttools>=4.22.0 in /usr/local/lib/python3.8/dist-packages (from matplotlib) (4.37.1)\n",
      "Requirement already satisfied: kiwisolver>=1.0.1 in /usr/local/lib/python3.8/dist-packages (from matplotlib) (1.4.4)\n",
      "Requirement already satisfied: cycler>=0.10 in /usr/local/lib/python3.8/dist-packages (from matplotlib) (0.11.0)\n",
      "Requirement already satisfied: pillow>=6.2.0 in /usr/local/lib/python3.8/dist-packages (from matplotlib) (9.2.0)\n",
      "Requirement already satisfied: pyparsing>=2.2.1 in /usr/local/lib/python3.8/dist-packages (from matplotlib) (3.0.9)\n",
      "Requirement already satisfied: packaging>=20.0 in /usr/local/lib/python3.8/dist-packages (from matplotlib) (21.3)\n",
      "Requirement already satisfied: six>=1.5 in /usr/lib/python3/dist-packages (from python-dateutil>=2.8.1->pandas) (1.14.0)\n"
     ]
    }
   ],
   "source": [
    "!pip3 install numpy pandas scipy matplotlib"
   ]
  },
  {
   "cell_type": "markdown",
   "id": "c6f2b88b",
   "metadata": {},
   "source": [
    "**Importation des librairies Python sur le notebook**"
   ]
  },
  {
   "cell_type": "code",
   "execution_count": 52,
   "id": "273b2756",
   "metadata": {},
   "outputs": [],
   "source": [
    "import numpy as np \n",
    "import pandas as pd"
   ]
  },
  {
   "cell_type": "markdown",
   "id": "0c41cbe6",
   "metadata": {},
   "source": [
    "Notez qu'en général, on donne un surnom à la librairie (ici \"np\" et “pd”). En effet, on va être amené à appeler cette librairie souvent dans le corps du code. Alors autant réduire le nombre de caractères nécessaires afin de gagner du temps!\n",
    "\n",
    "Certaines librairies comportent des sous-modules qui offrent des fonctionnalités particulières. Attention, les sous-modules ne sont pas automatiquement importés lorsqu'on importe la librairie si bien qu'il faut les importer séparément comme nous le verrons dans certains exemples."
   ]
  },
  {
   "cell_type": "markdown",
   "id": "1d47f673",
   "metadata": {},
   "source": [
    "### Pandas\n",
    "\n",
    "Pandas est la bibliothèque la plus complète en ce qui concerne la manipulation de données. On peut comparer pandas à un “Excel sous stéroïdes”. Elle permet de travailler avec :\n",
    "\n",
    "- des tableaux de données en deux dimensions (lignes et colonnes) appelés **DataFrames**,‍\n",
    "- des Panels, c'est-à-dire des ensemble de données en trois ou quatre dimensions!\n",
    "\n",
    "Avec la bibliothèque Pandas, tu peux importer des données depuis un fichier .csv afin de les nettoyer (par exemple pour éliminer toutes les lignes vides), les transformer ou les compléter.\n",
    "\n",
    "Pandas permet également d’effectuer des calculs statistiques sur tes données, par exemple avec la méthode .mean() qui permet d’obtenir la moyenne des valeurs contenues dans une colonne."
   ]
  },
  {
   "cell_type": "code",
   "execution_count": 53,
   "id": "f488ad6a",
   "metadata": {},
   "outputs": [
    {
     "data": {
      "text/html": [
       "<div>\n",
       "<style scoped>\n",
       "    .dataframe tbody tr th:only-of-type {\n",
       "        vertical-align: middle;\n",
       "    }\n",
       "\n",
       "    .dataframe tbody tr th {\n",
       "        vertical-align: top;\n",
       "    }\n",
       "\n",
       "    .dataframe thead th {\n",
       "        text-align: right;\n",
       "    }\n",
       "</style>\n",
       "<table border=\"1\" class=\"dataframe\">\n",
       "  <thead>\n",
       "    <tr style=\"text-align: right;\">\n",
       "      <th></th>\n",
       "      <th>Taille</th>\n",
       "      <th>Poids</th>\n",
       "    </tr>\n",
       "  </thead>\n",
       "  <tbody>\n",
       "    <tr>\n",
       "      <th>0</th>\n",
       "      <td>147</td>\n",
       "      <td>52</td>\n",
       "    </tr>\n",
       "    <tr>\n",
       "      <th>1</th>\n",
       "      <td>150</td>\n",
       "      <td>53</td>\n",
       "    </tr>\n",
       "    <tr>\n",
       "      <th>2</th>\n",
       "      <td>152</td>\n",
       "      <td>54</td>\n",
       "    </tr>\n",
       "    <tr>\n",
       "      <th>3</th>\n",
       "      <td>155</td>\n",
       "      <td>56</td>\n",
       "    </tr>\n",
       "    <tr>\n",
       "      <th>4</th>\n",
       "      <td>157</td>\n",
       "      <td>57</td>\n",
       "    </tr>\n",
       "  </tbody>\n",
       "</table>\n",
       "</div>"
      ],
      "text/plain": [
       "   Taille  Poids\n",
       "0     147     52\n",
       "1     150     53\n",
       "2     152     54\n",
       "3     155     56\n",
       "4     157     57"
      ]
     },
     "execution_count": 53,
     "metadata": {},
     "output_type": "execute_result"
    }
   ],
   "source": [
    "datas = pd.DataFrame(np.array([[147 , 150 , 152 , 155 , 157 , 160 , 163 , 165 , 168 , 170 , 173 , 175 , 178 , 180 , 183], \n",
    "                                [52 , 53 , 54 , 56 , 57 , 59 , 60 , 61 , 63 , 64 , 66 , 68 , 70 , 72 , 74]]).transpose(), \n",
    "                     columns=[\"Taille\",\"Poids\"])\n",
    "datas.head()"
   ]
  },
  {
   "cell_type": "code",
   "execution_count": 54,
   "id": "7786f49b",
   "metadata": {},
   "outputs": [
    {
     "data": {
      "text/plain": [
       "Taille    165.066667\n",
       "Poids      61.933333\n",
       "dtype: float64"
      ]
     },
     "execution_count": 54,
     "metadata": {},
     "output_type": "execute_result"
    }
   ],
   "source": [
    "datas.mean()"
   ]
  },
  {
   "cell_type": "code",
   "execution_count": 55,
   "id": "fb67a5c1",
   "metadata": {},
   "outputs": [
    {
     "data": {
      "text/plain": [
       "Taille    165.0\n",
       "Poids      61.0\n",
       "dtype: float64"
      ]
     },
     "execution_count": 55,
     "metadata": {},
     "output_type": "execute_result"
    }
   ],
   "source": [
    "datas.median()"
   ]
  },
  {
   "cell_type": "code",
   "execution_count": 56,
   "id": "e06d6170",
   "metadata": {},
   "outputs": [
    {
     "data": {
      "image/png": "[encoded data removed]",
      "text/plain": [
       "<Figure size 640x480 with 1 Axes>"
      ]
     },
     "metadata": {
      "filenames": {
       "image/png": "/Users/kieranvaudaux/Desktop/EPFL/MATH 234 (d)/ProbaStat/book/_build/jupyter_execute/Tutoriel_Python_73_0.png"
      }
     },
     "output_type": "display_data"
    }
   ],
   "source": [
    "datas.plot.hist(alpha=0.5);"
   ]
  },
  {
   "cell_type": "code",
   "execution_count": 57,
   "id": "27a03f3d",
   "metadata": {},
   "outputs": [
    {
     "data": {
      "image/png": "[encoded data removed]",
      "text/plain": [
       "<Figure size 640x480 with 1 Axes>"
      ]
     },
     "metadata": {
      "filenames": {
       "image/png": "/Users/kieranvaudaux/Desktop/EPFL/MATH 234 (d)/ProbaStat/book/_build/jupyter_execute/Tutoriel_Python_74_0.png"
      }
     },
     "output_type": "display_data"
    }
   ],
   "source": [
    "datas.plot.scatter(x=\"Taille\", y=\"Poids\");"
   ]
  },
  {
   "cell_type": "markdown",
   "id": "8a37b9a6",
   "metadata": {},
   "source": [
    "### Numpy\n",
    "\n",
    "Numpy contient des modules de gestion de données et de calcul. Elle permet de gérer facilement des bases de données : on les appelle les **numpy arrays**. Ce sont des listes, ou bien des listes de listes.\n",
    "\n",
    "L’avantage de Numpy est de pouvoir créer rapidement une base de données, avec des instructions simples que Python comprend. Par exemple, l’instruction np.zeros(10) renvoie une liste de dix chiffres, tous égaux à 0. \n",
    "\n",
    "Ensuite, Numpy permet d’effectuer des opérations particulièrement rapidement. En effet, avec Numpy une opération effectuée sur un “array” s’applique à chaque terme de cet array. Cela évite de devoir exécuter une boucle FOR ou une boucle WHILE, ce qui est parfois une opération assez lente.\n",
    "\n",
    "Tu peux également faire interagir deux arrays, par exemple en les additionnant. \n",
    "\n",
    "Numpy est pourvue de fonctions mathématiques plus puissantes que pandas. Toutefois, Numpy ne permet pas d'étiqueter les colonnes et les lignes."
   ]
  },
  {
   "cell_type": "code",
   "execution_count": 58,
   "id": "d66db802",
   "metadata": {},
   "outputs": [
    {
     "data": {
      "text/plain": [
       "array([0., 0., 0., 0., 0., 0., 0., 0., 0., 0.])"
      ]
     },
     "execution_count": 58,
     "metadata": {},
     "output_type": "execute_result"
    }
   ],
   "source": [
    "np.zeros(10)"
   ]
  },
  {
   "cell_type": "code",
   "execution_count": 59,
   "id": "bf37cda9",
   "metadata": {},
   "outputs": [
    {
     "name": "stdout",
     "output_type": "stream",
     "text": [
      "[0. 0. 0. 0. 0. 0. 0. 0. 0. 0.]\n"
     ]
    }
   ],
   "source": [
    "print(np.zeros(10)) #print affiche directement le tableau"
   ]
  },
  {
   "cell_type": "code",
   "execution_count": 60,
   "id": "4217fb97",
   "metadata": {},
   "outputs": [
    {
     "data": {
      "text/plain": [
       "3.0"
      ]
     },
     "execution_count": 60,
     "metadata": {},
     "output_type": "execute_result"
    }
   ],
   "source": [
    "X = np.array([1,2,3,4,5])\n",
    "np.mean(X)   #np.mean est la fonction de numpy pour calculer la moyenne d'un numpy array."
   ]
  },
  {
   "cell_type": "code",
   "execution_count": 61,
   "id": "d0c1008b",
   "metadata": {},
   "outputs": [
    {
     "ename": "LinAlgError",
     "evalue": "Singular matrix",
     "output_type": "error",
     "traceback": [
      "\u001b[0;31m---------------------------------------------------------------------------\u001b[0m",
      "\u001b[0;31mLinAlgError\u001b[0m                               Traceback (most recent call last)",
      "Input \u001b[0;32mIn [61]\u001b[0m, in \u001b[0;36m<cell line: 3>\u001b[0;34m()\u001b[0m\n\u001b[1;32m      1\u001b[0m A \u001b[38;5;241m=\u001b[39m np\u001b[38;5;241m.\u001b[39marray([[\u001b[38;5;241m1\u001b[39m,\u001b[38;5;241m2\u001b[39m,\u001b[38;5;241m3\u001b[39m],[\u001b[38;5;241m4\u001b[39m,\u001b[38;5;241m5\u001b[39m,\u001b[38;5;241m6\u001b[39m],[\u001b[38;5;241m7\u001b[39m,\u001b[38;5;241m8\u001b[39m,\u001b[38;5;241m9\u001b[39m]])\n\u001b[1;32m      2\u001b[0m y \u001b[38;5;241m=\u001b[39m np\u001b[38;5;241m.\u001b[39marray([\u001b[38;5;241m1\u001b[39m,\u001b[38;5;241m1\u001b[39m,\u001b[38;5;241m1\u001b[39m])\n\u001b[0;32m----> 3\u001b[0m x \u001b[38;5;241m=\u001b[39m \u001b[43mnp\u001b[49m\u001b[38;5;241;43m.\u001b[39;49m\u001b[43mlinalg\u001b[49m\u001b[38;5;241;43m.\u001b[39;49m\u001b[43msolve\u001b[49m\u001b[43m(\u001b[49m\u001b[43mA\u001b[49m\u001b[43m,\u001b[49m\u001b[43my\u001b[49m\u001b[43m)\u001b[49m \u001b[38;5;66;03m# résout l'équation Ax = y\u001b[39;00m\n\u001b[1;32m      4\u001b[0m \u001b[38;5;28mprint\u001b[39m(x)\n",
      "File \u001b[0;32m<__array_function__ internals>:180\u001b[0m, in \u001b[0;36msolve\u001b[0;34m(*args, **kwargs)\u001b[0m\n",
      "File \u001b[0;32m/usr/local/lib/python3.8/dist-packages/numpy/linalg/linalg.py:393\u001b[0m, in \u001b[0;36msolve\u001b[0;34m(a, b)\u001b[0m\n\u001b[1;32m    391\u001b[0m signature \u001b[38;5;241m=\u001b[39m \u001b[38;5;124m'\u001b[39m\u001b[38;5;124mDD->D\u001b[39m\u001b[38;5;124m'\u001b[39m \u001b[38;5;28;01mif\u001b[39;00m isComplexType(t) \u001b[38;5;28;01melse\u001b[39;00m \u001b[38;5;124m'\u001b[39m\u001b[38;5;124mdd->d\u001b[39m\u001b[38;5;124m'\u001b[39m\n\u001b[1;32m    392\u001b[0m extobj \u001b[38;5;241m=\u001b[39m get_linalg_error_extobj(_raise_linalgerror_singular)\n\u001b[0;32m--> 393\u001b[0m r \u001b[38;5;241m=\u001b[39m \u001b[43mgufunc\u001b[49m\u001b[43m(\u001b[49m\u001b[43ma\u001b[49m\u001b[43m,\u001b[49m\u001b[43m \u001b[49m\u001b[43mb\u001b[49m\u001b[43m,\u001b[49m\u001b[43m \u001b[49m\u001b[43msignature\u001b[49m\u001b[38;5;241;43m=\u001b[39;49m\u001b[43msignature\u001b[49m\u001b[43m,\u001b[49m\u001b[43m \u001b[49m\u001b[43mextobj\u001b[49m\u001b[38;5;241;43m=\u001b[39;49m\u001b[43mextobj\u001b[49m\u001b[43m)\u001b[49m\n\u001b[1;32m    395\u001b[0m \u001b[38;5;28;01mreturn\u001b[39;00m wrap(r\u001b[38;5;241m.\u001b[39mastype(result_t, copy\u001b[38;5;241m=\u001b[39m\u001b[38;5;28;01mFalse\u001b[39;00m))\n",
      "File \u001b[0;32m/usr/local/lib/python3.8/dist-packages/numpy/linalg/linalg.py:88\u001b[0m, in \u001b[0;36m_raise_linalgerror_singular\u001b[0;34m(err, flag)\u001b[0m\n\u001b[1;32m     87\u001b[0m \u001b[38;5;28;01mdef\u001b[39;00m \u001b[38;5;21m_raise_linalgerror_singular\u001b[39m(err, flag):\n\u001b[0;32m---> 88\u001b[0m     \u001b[38;5;28;01mraise\u001b[39;00m LinAlgError(\u001b[38;5;124m\"\u001b[39m\u001b[38;5;124mSingular matrix\u001b[39m\u001b[38;5;124m\"\u001b[39m)\n",
      "\u001b[0;31mLinAlgError\u001b[0m: Singular matrix"
     ]
    }
   ],
   "source": [
    "A = np.array([[1,2,3],[4,5,6],[7,8,9]])\n",
    "y = np.array([1,1,1])\n",
    "x = np.linalg.solve(A,y) # résout l'équation Ax = y\n",
    "print(x)"
   ]
  },
  {
   "cell_type": "code",
   "execution_count": null,
   "id": "6cd3e82f",
   "metadata": {},
   "outputs": [],
   "source": [
    "np.shape(A) # renvoit la taille de A: matrice 3x3"
   ]
  },
  {
   "cell_type": "code",
   "execution_count": null,
   "id": "b6ea994e",
   "metadata": {},
   "outputs": [],
   "source": [
    "np.mean(A,axis=0) # axis = 0 permet de faire la somme sur les colonnes. (remplacer par axis=1 pour les lignes)"
   ]
  },
  {
   "cell_type": "code",
   "execution_count": null,
   "id": "518274cb",
   "metadata": {},
   "outputs": [],
   "source": [
    "A.T # matrice transposée de A"
   ]
  },
  {
   "cell_type": "markdown",
   "id": "bde27213",
   "metadata": {},
   "source": [
    "### SciPy\n",
    "\n",
    "SciPy s’utilise en synergie avec Numpy puisqu’elle travaille sur des données du format Numpy array. SciPy offre un catalogue d’opérations scientifiques : algèbre linéaire, algorithmes de régression, fonctions statistiques… \n",
    "\n",
    "En particulier, SciPy permet de travailler sur des projets d’optimisation numérique qui consistent à chercher à obtenir le plus petit chiffre (ou le plus grand) possible en modifiant certaines variables.\n",
    "\n",
    "**Scipy.stats** est un sous-module de **Scipy** qui contient un grand nombre d'outils pour les statistiques : distributions de probabilités, fonctions de corrélation, tests statistiques, etc.. Attention à bien importer ce sous-module séparémment.\n",
    "\n"
   ]
  },
  {
   "cell_type": "code",
   "execution_count": null,
   "id": "09f9ef4d",
   "metadata": {},
   "outputs": [],
   "source": [
    "from scipy import stats\n",
    "from scipy.stats import bootstrap\n",
    "rng = np.random.default_rng()"
   ]
  },
  {
   "cell_type": "code",
   "execution_count": null,
   "id": "a4b739a5",
   "metadata": {},
   "outputs": [],
   "source": [
    "datas = np.array([[147 , 150 , 152 , 155 , 157 , 160 , 163 , 165 , 168 , 170 , 173 , 175 , 178 , 180 , 183], \n",
    "                                [52 , 53 , 54 , 56 , 57 , 59 , 60 , 61 , 63 , 64 , 66 , 68 , 70 , 72 , 74]])\n",
    "Taille = datas[0]\n",
    "Taille = (Taille,) #convert array to sequence\n",
    "Poids = datas[1]\n",
    "Poids = (Poids,)   #convert array to sequence\n",
    "\n",
    "#calcule l'intervalle de confiance à 95% pour les tailles\n",
    "bootstrap_Taille = bootstrap(Taille, np.median, confidence_level=0.95,\n",
    "                         random_state=1, method='percentile')\n",
    "\n",
    "#calcule l'intervalle de confiance à 80% pour les poids\n",
    "bootstrap_Poids = bootstrap(Poids, np.median, confidence_level=0.80,\n",
    "                         random_state=1, method='percentile')\n",
    "\n",
    "print(bootstrap_Taille.confidence_interval)\n",
    "print(bootstrap_Poids.confidence_interval)\n",
    "\n",
    "\n"
   ]
  },
  {
   "cell_type": "markdown",
   "id": "2417a9d9",
   "metadata": {},
   "source": [
    "Un test student, SciPy permet en effet d'en réaliser. Les tests seront traités par la suite dans le cours... Les fonctions permettent aussi d'obtenir les p-values !"
   ]
  },
  {
   "cell_type": "code",
   "execution_count": null,
   "id": "7a533712",
   "metadata": {},
   "outputs": [],
   "source": [
    "#Test statistique qui permet de vérifier si les variables ont la même moyenne\n",
    "\n",
    "rvs1 = stats.norm.rvs(loc=5, scale=10, size=500, random_state=rng)\n",
    "rvs2 = stats.norm.rvs(loc=5, scale=10, size=500, random_state=rng)\n",
    "stats.ttest_ind(rvs1, rvs2) #test student"
   ]
  },
  {
   "cell_type": "markdown",
   "id": "e1447279",
   "metadata": {},
   "source": [
    "### Matplotlib\n",
    "\n",
    "Matplotlib est un module de dataviz très plaisant : c’est en effet lui qui te permet, en une ligne de code, de créer des graphiques qui modélisent les données sur lesquelles tu travailles. Matplotlib s’utilise en synergie avec Numpy ou Pandas.\n",
    "\n",
    "Matplotlib offre une large variété de types de graphes qui s’adaptent à tous les besoins : histogrammes, boîtes à moustache, courbes, scatter plots, camemberts…\n",
    "\n",
    "De la même manière que scipy.stats pour scipy, **matplotlib.pyplot** est un sous-module de Matplotlib pour générer des graphes comme avec Matlab."
   ]
  },
  {
   "cell_type": "code",
   "execution_count": 1,
   "id": "5d07d579",
   "metadata": {},
   "outputs": [],
   "source": [
    "import matplotlib.pyplot as plt "
   ]
  },
  {
   "cell_type": "code",
   "execution_count": null,
   "id": "77282c36",
   "metadata": {},
   "outputs": [],
   "source": [
    "x = np.array([1, 2, 3, 4])\n",
    "y = np.array([1, 4, 9, 16])\n",
    "plt.plot(x,y)"
   ]
  },
  {
   "cell_type": "markdown",
   "id": "9b6e6198",
   "metadata": {},
   "source": [
    "Quelques autres exemples... Il est aussi possible de changer le style des graphiques de manière très complète"
   ]
  },
  {
   "cell_type": "code",
   "execution_count": null,
   "id": "0ce29878",
   "metadata": {},
   "outputs": [],
   "source": [
    "\n",
    "# evenly sampled time at 200ms intervals\n",
    "t = np.arange(0., 5., 0.2)\n",
    "\n",
    "# red dashes, blue squares and green triangles\n",
    "plt.plot(t, t, 'r--', t, t**2, 'bs', t, t**3, 'g^')\n",
    "plt.show()\n",
    "\n"
   ]
  },
  {
   "cell_type": "markdown",
   "id": "82c9bc6d",
   "metadata": {},
   "source": [
    "Un exemple d'histogramme:"
   ]
  },
  {
   "cell_type": "code",
   "execution_count": 62,
   "id": "db586c19",
   "metadata": {},
   "outputs": [
    {
     "ename": "NameError",
     "evalue": "name 'plt' is not defined",
     "output_type": "error",
     "traceback": [
      "\u001b[0;31m---------------------------------------------------------------------------\u001b[0m",
      "\u001b[0;31mNameError\u001b[0m                                 Traceback (most recent call last)",
      "Input \u001b[0;32mIn [62]\u001b[0m, in \u001b[0;36m<cell line: 5>\u001b[0;34m()\u001b[0m\n\u001b[1;32m      2\u001b[0m x \u001b[38;5;241m=\u001b[39m mu \u001b[38;5;241m+\u001b[39m sigma \u001b[38;5;241m*\u001b[39m np\u001b[38;5;241m.\u001b[39mrandom\u001b[38;5;241m.\u001b[39mrandn(\u001b[38;5;241m10000\u001b[39m)\n\u001b[1;32m      4\u001b[0m \u001b[38;5;66;03m# the histogram of the data\u001b[39;00m\n\u001b[0;32m----> 5\u001b[0m n, bins, patches \u001b[38;5;241m=\u001b[39m \u001b[43mplt\u001b[49m\u001b[38;5;241m.\u001b[39mhist(x, \u001b[38;5;241m50\u001b[39m, density\u001b[38;5;241m=\u001b[39m\u001b[38;5;28;01mTrue\u001b[39;00m, facecolor\u001b[38;5;241m=\u001b[39m\u001b[38;5;124m'\u001b[39m\u001b[38;5;124mg\u001b[39m\u001b[38;5;124m'\u001b[39m, alpha\u001b[38;5;241m=\u001b[39m\u001b[38;5;241m0.75\u001b[39m)\n\u001b[1;32m      8\u001b[0m plt\u001b[38;5;241m.\u001b[39mxlabel(\u001b[38;5;124m'\u001b[39m\u001b[38;5;124mSmarts\u001b[39m\u001b[38;5;124m'\u001b[39m)\n\u001b[1;32m      9\u001b[0m plt\u001b[38;5;241m.\u001b[39mylabel(\u001b[38;5;124m'\u001b[39m\u001b[38;5;124mProbability\u001b[39m\u001b[38;5;124m'\u001b[39m)\n",
      "\u001b[0;31mNameError\u001b[0m: name 'plt' is not defined"
     ]
    }
   ],
   "source": [
    "mu, sigma = 100, 15\n",
    "x = mu + sigma * np.random.randn(10000)\n",
    "\n",
    "# the histogram of the data\n",
    "n, bins, patches = plt.hist(x, 50, density=True, facecolor='g', alpha=0.75)\n",
    "\n",
    "\n",
    "plt.xlabel('Smarts')\n",
    "plt.ylabel('Probability')\n",
    "plt.title('Histogram of IQ')\n",
    "plt.text(60, .025, r'$\\mu=100,\\ \\sigma=15$')\n",
    "plt.axis([40, 160, 0, 0.03])\n",
    "plt.grid(True)\n",
    "plt.show()"
   ]
  },
  {
   "cell_type": "markdown",
   "id": "83890f0d",
   "metadata": {},
   "source": [
    "### Recherches sur les librairies avec help\n",
    "\n",
    "Vous pouvez directement rechercher des informations sur les librairies ou une fonctionnalité particulière d'une librairie grâce à la fonction **help()** ou en cliquant sur le bouton **Help** dans la barre d'outils et sélectionner \"NumPy Reference\" par exemple.\n",
    "\n",
    "Cette seconde solution est recommandée car elle permet de trouver une fonction en particulier rapidement.\n",
    "Par exemple, vous souhaitez faire un boxplot mais vous n'avez aucune idée comment faire. Vous supposez que la librairie Pandas pourrait bien vous aider. \n",
    "- Cliquez sur **Help** dans la barre d'outils, puis \"pandas reference\" ce qui permet d'ouvir la documentation de Pandas dans un nouvel onglet. \n",
    "- Cliquez ensuite sur \"User guide\" et assurez-vous de fermer la fenêtre sur le côté gauche (\"File Browser\") pour aperçevoir toute la documentation.\n",
    "- Sur le côté gauche, vous pouvez voir une table des matières pour naviguer facilement et rapidement dans la documentation. Sur le côté droit, vous pouvez voir une liste des points abordés dans la page sur laquelle vous êtes (qui est au milieu de votre écran).\n",
    "- Dans notre cas du boxplot: allons sur \"Chart visualization\" dans la table des matières à gauche, puis sélectionnez \"Other plots\" dans la liste des points abordés à droite de l'écran, puis \"Box plots\". Vous trouverez une documentation détaillée pour créer un boxplot en python avec plusieurs exemples.\n",
    "\n",
    "Vous pouvez faire de même avec n'importe quelle librairie en sélectionnant la librairie de votre choix depuis le **Help** de la barre d'outils.\n",
    "\n",
    "Comme mentionné précédemment, vous pouvez aussi accéder à la documentation d'une librairie depuis une cellule code directement avec la commande help(nom_de_la_librairie). A noter que cette alternative ne permet pas de naviguer dans la documentation aussi facilement.\n",
    "Attention, pour se faire, il faut que la librairie en question ait été importée au préalable. Voir ci-dessous les exemples en utilisant le **help** dans une cellule de code. \n",
    "\n",
    "NB: Si vous utilisez **noto**, mettez les commandes du help() en commentaire par la suite (en ajoutant # devant) et exécutez de nouveau la cellule. Cela permet de réduire la taille du notebook qui est devenu très grande à cause de la documentation téléchargée. "
   ]
  },
  {
   "cell_type": "code",
   "execution_count": 1,
   "id": "dd441b56",
   "metadata": {},
   "outputs": [],
   "source": [
    "#help(np)  # et pas help(numpy) car on avait définit \"numpy as np\" pendant l'importation."
   ]
  },
  {
   "cell_type": "code",
   "execution_count": 3,
   "id": "a693f0bc",
   "metadata": {},
   "outputs": [],
   "source": [
    "#help(plt)"
   ]
  }
 ],
 "metadata": {
  "kernelspec": {
   "display_name": "Python",
   "language": "python",
   "name": "python3"
  },
  "language_info": {
   "codemirror_mode": {
    "name": "ipython",
    "version": 3
   },
   "file_extension": ".py",
   "mimetype": "text/x-python",
   "name": "python",
   "nbconvert_exporter": "python",
   "pygments_lexer": "ipython3",
   "version": "3.8.10"
  },
  "vscode": {
   "interpreter": {
    "hash": "d8029b478de32fdc1aa34081dedd11fb14ac97854dbafe5aac8002b51b3d44b4"
   }
  }
 },
 "nbformat": 4,
 "nbformat_minor": 5
}