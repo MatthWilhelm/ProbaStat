{
 "cells": [
  {
   "cell_type": "markdown",
   "id": "4e69341f",
   "metadata": {
    "tags": []
   },
   "source": [
    "# Tutoriel R\n",
    "\n",
    "##  Introduction\n",
    "\n",
    "Ceci est un notebook jupyter. C'est le support que nous allons utiliser tout au long du semestre pour les séances d'exercices. La révision des concepts présentés dans ce noteboook vous sera grandement bénéfique et vous permettra de gagner du temps lors des séances d'exercices. \n",
    "\n",
    "\n",
    "**Qu'est-ce que les Jupyter Notebooks et pourquoi les utiliser?**.\n",
    "\n",
    "L'environnement Jupyter Notebooks est un système hybride écrit en Python dont l'interface utilisateur s'exécute comme des applications web dans votre navigateur. Par conséquent, comme Python, les Jupyter Notebooks sont des applications open source qui facilitent la création et le partage de codes et de documents. Les carnets Jupyter fournissent un environnement dans lequel vous disposez de différents types de cellules (par exemple, celle qui est présentée ici est appelée cellule **Markdown** et est pratique pour la documentation, l'intégration d'images, de liens url, l'explication de ce que vous prévoyez de faire, comment, etc.) Les cellules de code sont utiles car elles peuvent être exécutées une par une et facilitent le prototypage et le débeuguage, un peu comme la division d'un scrip Matlab en sections. Ces cellules de codes peuvent être en un langage différent Python, comme R et c'est le cas de ce document. Contrairement à Matlab cependant, vous n'avez pas une vue d'ensemble de vos variables et de leurs valeurs, mais vous pouvez toujours les imprimer.\n",
    "\n"
   ]
  },
  {
   "cell_type": "markdown",
   "id": "9d76b123",
   "metadata": {},
   "source": [
    "## Comment utiliser les Jupyter notebooks ?"
   ]
  },
  {
   "cell_type": "markdown",
   "id": "3ab44d5a",
   "metadata": {},
   "source": [
    "Pour utiliser un Jupyter notebook, vous devez comprendre quelques principes de base : \n",
    "\n",
    "\n",
    "**Ajout et suppression de cellules**\n",
    "\n",
    "Si vous avez ouvert le notebook avec **noto**, vous pouvez ajouter (au-dessus ou en-dessous) et supprimer des cellules depuis le coin supérieur droit de chaque cellule.\n",
    "\n",
    "Si vous travaillez en local avec une distribution **Anaconda**,vous pouvez ajouter des cellules en allant dans le menu \"Insertion\" et en choisissant \"Ajouter au-dessus ou au-dessous\" et déplacer des cellules vers le haut ou vers le bas en choisissant les flèches sous la barre à outils.\n",
    "\n",
    "A tout moment vous pouvez changer le type de cellule : Code, Markdown,etc..\n",
    "\n",
    "\n",
    "**Faire tourner les cellules**\n",
    "\n",
    "Vous devrez procéder de la sorte pour exécuter le code contenu dans les cellules individuelles. \n",
    "\n",
    "- Pour exécuter une cellule individuelle, sélectionnez-la et appuyez sur \"Maj+Entrée\".\n",
    "\n",
    "- Pour exécuter le notebook en entier, allez dans \"Cellule->Exécuter tout\". Pour exécuter seulement les cellules au-dessus ou au-dessous, vous trouverez cela dans le même menu. \n",
    "\n",
    "- Pour éxécuter de nouveau le notebook en entier, allez dans \"Kernel -> Restart and Run all\" ou appuyez sur le bouton qui ressemble à un bouton d'avance rapide. Ceci efface toutes les variables stockées en mémoire et exécute le notebook depuis le début. Il est important de ré-exécuter le notebook à partir de zéro de temps en temps, par exemple lorsque vous avez atteint une étape importante pour vous assurer que vous n'avez pas de beugs. Comme le notebook stocke toutes les variables en mémoire, cela permet d'éviter les erreurs dues à la suppression d'un élément ou à l'ordre incorrect de certains éléments dans les cellules ou entre les cellules. \n",
    "\n",
    "**Bonnes pratiques**\n",
    "\n",
    "- Expliquez votre raisonnement dans les cellules Markdown, de la même manière que vous le feriez dans un rapport. Vous pouvez avoir des sections, des sous-sections, écrire des paragraphes, saisir des images, etc. \n",
    "\n",
    "- Commentez votre code afin que toute personne qui ouvre votre notebook comprenne ce que vous faites. \n",
    "\n",
    "- Lorsque vous faites appel à une librairie, il est considéré comme une bonne pratique de l'importer au début du notebook. \n",
    "\n",
    "- N'oubliez pas de sauvegarder régulièrement votre notebook. Vous pouvez le faire soit avec le raccourci d'enregistrement (Ctrl+S), soit en passant par Fichier -> Enregistrer sous. Sous Fichier, vous trouverez également d'autres options telles que créer un nouveau notebook, renommer le notebook actuel, le télécharger en tant que fichier pdf, python etc... \n",
    "\n",
    "**Installation des extensions Jupyter Notebook**\n",
    "\n",
    "Les extensions Jupyter sont des modules complémentaires qui fonctionnent avec les notebooks Jupyter (et non avec Jupyter Lab) permettant d'améliorer votre productivité. \n",
    "Si vous êtes intéressés, vous pouvez installer quelques [extensions qui sont utiles](https://towardsdatascience.com/jupyter-tools-to-increase-productivity-7b3c6b90be09) "
   ]
  },
  {
   "cell_type": "markdown",
   "id": "9ccf01ba",
   "metadata": {},
   "source": [
    "## Introduction à R"
   ]
  },
  {
   "cell_type": "markdown",
   "id": "be0d2a19-b0b1-448f-a8b4-34cb1241131e",
   "metadata": {},
   "source": [
    "R est un langage open source qui a été développé sur la base d'un autre langage, S, qui n'est désormais plus utilisé. R est devenu le langage privilégié de la communauté statistique. Il implémente un nombre très important de fonctions permettant de manipuler des données et de méthodes d'analyse statistiques. Il s'agit, à l'instar de Matlab ou Python, d'un langage interprété. Cela rend son utilisation typiquement plus lente qu'un langage compilé, comme C et C++, mais plus aisée puisqu'il n'est pas nécessaire de compiler une fonction pour l'utiliser. Par ailleurs, lorsque dans certaines situations, la vitesse d'exécution de R devient problématique, il est possible d'appeler depuis des routines écrites en C (nativement) ou C++ (via le package Rcpp). "
   ]
  },
  {
   "cell_type": "markdown",
   "id": "1d27a530",
   "metadata": {},
   "source": [
    "### Types et opérateurs"
   ]
  },
  {
   "cell_type": "markdown",
   "id": "c446a680",
   "metadata": {},
   "source": [
    "En R, il y a différents **types** prédéfinis:\n",
    "\n",
    "- chaîne de caractères:\t**string**\n",
    "\n",
    "\n",
    "- numérique:\t**int**, **float**\n",
    "\n",
    "\n",
    "- listes:\t**list**, **data.frame** , **tibble**, etc.\n",
    "\n",
    "\n",
    "- booléen:\t**bool** (`True` or `False`)\n",
    "\n",
    "\n",
    "- facteurs:\t**fac** (niveau encodant une variable catégorielle)\n",
    "\n",
    "\n",
    "Le type d'une variable est défini au moment où on lui assigne une valeur.\n",
    "\n",
    "|Exemple| Type correspondant|\n",
    "| :------------- |:-------------:|\n",
    "|x = \"Hello World\"|\tstring\t|\n",
    "|x = 20\t|integer\t|\n",
    "|x = 20.5\t|float\t|\n",
    "|x = list(\"apple\", \"banana\", \"cherry\")\t|list\t|\n",
    "|x = c(\"apple\", \"banana\", \"cherry\")\t|vector\t|\n",
    "|x = True\t|bool\t|"
   ]
  },
  {
   "cell_type": "markdown",
   "id": "195c00b4",
   "metadata": {},
   "source": [
    "Les **opérateurs** sont utilisés pour faire des opérations sur des variables ou des valeurs.\n",
    "\n",
    "**Les opérateurs arithmétiques**\n",
    "\n",
    "|Opérateur|Nom|Exemple|\n",
    "|:-------------: | :------------- |:-------------:|\n",
    "|+|Addition|x + y|\n",
    "|-|Soustraction|x - y|\n",
    "|*|Multiplication composante par composante|x * y|\n",
    "|/|Division|x / y|\n",
    "|%%|Modulo (reste d'une division entière)|x %% y|\n",
    "|^|Exponentielle|x ^ y|\n",
    "\n",
    "**Les opérateurs d'affectation**\n",
    "\n",
    "|Opérateur\t|Exemple\t|Comme|\n",
    "|:-------------: | :------------- |:-------------:|\n",
    "|= ou <-|\tx = 5|\tx = 5\t|\n",
    "|<-|\tx += 3|\tx = x + 3\t|\n",
    "\n",
    "**Les opérateurs de comparaison**\n",
    "\n",
    "| Opérateur | Nom | Exemple |\n",
    "|----------|--------------------------|---------|\n",
    "| == | Egal | x == y |\n",
    "| != | Différent | x != y |\n",
    "| > | Plus grand que | x > y |\n",
    "| < | Plus petit que | x < y |\n",
    "| >= | Plus grand ou égal | x >= y |\n",
    "| <= | Plus petit ou égal | x <= y |\n",
    "\n",
    "**Les opérateurs logiques**\n",
    "\n",
    "| Opérateur | Description | Exemple |\n",
    "|----------|---------------------------------------------------------|-----------------------|\n",
    "| &  | Retourne Vrai si les deux déclarations sont vraies | x < 5 &  x < 10 |\n",
    "| \\| | Retourne Vrai si au moins une des deux déclarations est vraie  | x < 5 or x < 4 |\n",
    "| ! | Négation, Inverse le résultat, renvoie Faux si le résultat est vrai. | not(x < 5 and x < 10) |"
   ]
  },
  {
   "cell_type": "markdown",
   "id": "b0975a49",
   "metadata": {},
   "source": [
    "#### vecteur\n",
    "\n",
    "Un vecteur est un ensemble ordonné et modifiable. En R, les vecteurs se déclarent avec des avec la fonction `c()`.\n",
    "**L'indexation commence à 1 en R.** L'index -1 permet de supprimer le premier élément de la liste et de manière générale, les indices négatifs retirent du vecteur les éléments correspondants."
   ]
  },
  {
   "cell_type": "code",
   "execution_count": 3,
   "id": "feaf3c10",
   "metadata": {},
   "outputs": [
    {
     "data": {
      "text/html": [
       "1"
      ],
      "text/latex": [
       "1"
      ],
      "text/markdown": [
       "1"
      ],
      "text/plain": [
       "[1] 1"
      ]
     },
     "metadata": {},
     "output_type": "display_data"
    }
   ],
   "source": [
    "vec = c(1, pi, exp(1))\n",
    "vec[1]"
   ]
  },
  {
   "cell_type": "markdown",
   "id": "c45b87c6-3bc3-44eb-b509-8cd969af64cd",
   "metadata": {},
   "source": [
    "Voilà mon titre"
   ]
  },
  {
   "cell_type": "markdown",
   "id": "54312f4b-2d48-4ed8-9cbf-dc2e34b47dfa",
   "metadata": {},
   "source": [
    "On peut déclarer un vecteur d'une suite d'entiers de manière particulièrement aisée en utilisant `:` ou alors, avec un peu plus de possibilités, en utilisant la fonction `seq`"
   ]
  },
  {
   "cell_type": "code",
   "execution_count": 21,
   "id": "52d1c966-a9a5-4b45-8e4a-1a44314cad00",
   "metadata": {},
   "outputs": [
    {
     "data": {
      "text/html": [
       "<style>\n",
       ".list-inline {list-style: none; margin:0; padding: 0}\n",
       ".list-inline>li {display: inline-block}\n",
       ".list-inline>li:not(:last-child)::after {content: \"\\00b7\"; padding: 0 .5ex}\n",
       "</style>\n",
       "<ol class=list-inline><li>1</li><li>2</li><li>3</li><li>4</li><li>5</li><li>6</li><li>7</li><li>8</li><li>9</li><li>10</li></ol>\n"
      ],
      "text/latex": [
       "\\begin{enumerate*}\n",
       "\\item 1\n",
       "\\item 2\n",
       "\\item 3\n",
       "\\item 4\n",
       "\\item 5\n",
       "\\item 6\n",
       "\\item 7\n",
       "\\item 8\n",
       "\\item 9\n",
       "\\item 10\n",
       "\\end{enumerate*}\n"
      ],
      "text/markdown": [
       "1. 1\n",
       "2. 2\n",
       "3. 3\n",
       "4. 4\n",
       "5. 5\n",
       "6. 6\n",
       "7. 7\n",
       "8. 8\n",
       "9. 9\n",
       "10. 10\n",
       "\n",
       "\n"
      ],
      "text/plain": [
       " [1]  1  2  3  4  5  6  7  8  9 10"
      ]
     },
     "metadata": {},
     "output_type": "display_data"
    },
    {
     "data": {
      "text/html": [
       "<style>\n",
       ".list-inline {list-style: none; margin:0; padding: 0}\n",
       ".list-inline>li {display: inline-block}\n",
       ".list-inline>li:not(:last-child)::after {content: \"\\00b7\"; padding: 0 .5ex}\n",
       "</style>\n",
       "<ol class=list-inline><li>8</li><li>7</li><li>6</li><li>5</li><li>4</li><li>3</li><li>2</li><li>1</li><li>0</li><li>-1</li><li>-2</li></ol>\n"
      ],
      "text/latex": [
       "\\begin{enumerate*}\n",
       "\\item 8\n",
       "\\item 7\n",
       "\\item 6\n",
       "\\item 5\n",
       "\\item 4\n",
       "\\item 3\n",
       "\\item 2\n",
       "\\item 1\n",
       "\\item 0\n",
       "\\item -1\n",
       "\\item -2\n",
       "\\end{enumerate*}\n"
      ],
      "text/markdown": [
       "1. 8\n",
       "2. 7\n",
       "3. 6\n",
       "4. 5\n",
       "5. 4\n",
       "6. 3\n",
       "7. 2\n",
       "8. 1\n",
       "9. 0\n",
       "10. -1\n",
       "11. -2\n",
       "\n",
       "\n"
      ],
      "text/plain": [
       " [1]  8  7  6  5  4  3  2  1  0 -1 -2"
      ]
     },
     "metadata": {},
     "output_type": "display_data"
    },
    {
     "data": {
      "text/html": [
       "<style>\n",
       ".list-inline {list-style: none; margin:0; padding: 0}\n",
       ".list-inline>li {display: inline-block}\n",
       ".list-inline>li:not(:last-child)::after {content: \"\\00b7\"; padding: 0 .5ex}\n",
       "</style>\n",
       "<ol class=list-inline><li>1</li><li>1.25</li><li>1.5</li><li>1.75</li><li>2</li><li>2.25</li><li>2.5</li><li>2.75</li><li>3</li><li>3.25</li><li>3.5</li><li>3.75</li><li>4</li><li>4.25</li><li>4.5</li><li>4.75</li><li>5</li><li>5.25</li><li>5.5</li><li>5.75</li><li>6</li><li>6.25</li><li>6.5</li><li>6.75</li><li>7</li><li>7.25</li><li>7.5</li><li>7.75</li><li>8</li><li>8.25</li><li>8.5</li><li>8.75</li><li>9</li><li>9.25</li><li>9.5</li><li>9.75</li><li>10</li><li>10.25</li><li>10.5</li><li>10.75</li><li>11</li><li>11.25</li><li>11.5</li><li>11.75</li><li>12</li></ol>\n"
      ],
      "text/latex": [
       "\\begin{enumerate*}\n",
       "\\item 1\n",
       "\\item 1.25\n",
       "\\item 1.5\n",
       "\\item 1.75\n",
       "\\item 2\n",
       "\\item 2.25\n",
       "\\item 2.5\n",
       "\\item 2.75\n",
       "\\item 3\n",
       "\\item 3.25\n",
       "\\item 3.5\n",
       "\\item 3.75\n",
       "\\item 4\n",
       "\\item 4.25\n",
       "\\item 4.5\n",
       "\\item 4.75\n",
       "\\item 5\n",
       "\\item 5.25\n",
       "\\item 5.5\n",
       "\\item 5.75\n",
       "\\item 6\n",
       "\\item 6.25\n",
       "\\item 6.5\n",
       "\\item 6.75\n",
       "\\item 7\n",
       "\\item 7.25\n",
       "\\item 7.5\n",
       "\\item 7.75\n",
       "\\item 8\n",
       "\\item 8.25\n",
       "\\item 8.5\n",
       "\\item 8.75\n",
       "\\item 9\n",
       "\\item 9.25\n",
       "\\item 9.5\n",
       "\\item 9.75\n",
       "\\item 10\n",
       "\\item 10.25\n",
       "\\item 10.5\n",
       "\\item 10.75\n",
       "\\item 11\n",
       "\\item 11.25\n",
       "\\item 11.5\n",
       "\\item 11.75\n",
       "\\item 12\n",
       "\\end{enumerate*}\n"
      ],
      "text/markdown": [
       "1. 1\n",
       "2. 1.25\n",
       "3. 1.5\n",
       "4. 1.75\n",
       "5. 2\n",
       "6. 2.25\n",
       "7. 2.5\n",
       "8. 2.75\n",
       "9. 3\n",
       "10. 3.25\n",
       "11. 3.5\n",
       "12. 3.75\n",
       "13. 4\n",
       "14. 4.25\n",
       "15. 4.5\n",
       "16. 4.75\n",
       "17. 5\n",
       "18. 5.25\n",
       "19. 5.5\n",
       "20. 5.75\n",
       "21. 6\n",
       "22. 6.25\n",
       "23. 6.5\n",
       "24. 6.75\n",
       "25. 7\n",
       "26. 7.25\n",
       "27. 7.5\n",
       "28. 7.75\n",
       "29. 8\n",
       "30. 8.25\n",
       "31. 8.5\n",
       "32. 8.75\n",
       "33. 9\n",
       "34. 9.25\n",
       "35. 9.5\n",
       "36. 9.75\n",
       "37. 10\n",
       "38. 10.25\n",
       "39. 10.5\n",
       "40. 10.75\n",
       "41. 11\n",
       "42. 11.25\n",
       "43. 11.5\n",
       "44. 11.75\n",
       "45. 12\n",
       "\n",
       "\n"
      ],
      "text/plain": [
       " [1]  1.00  1.25  1.50  1.75  2.00  2.25  2.50  2.75  3.00  3.25  3.50  3.75\n",
       "[13]  4.00  4.25  4.50  4.75  5.00  5.25  5.50  5.75  6.00  6.25  6.50  6.75\n",
       "[25]  7.00  7.25  7.50  7.75  8.00  8.25  8.50  8.75  9.00  9.25  9.50  9.75\n",
       "[37] 10.00 10.25 10.50 10.75 11.00 11.25 11.50 11.75 12.00"
      ]
     },
     "metadata": {},
     "output_type": "display_data"
    },
    {
     "data": {
      "text/html": [
       "<style>\n",
       ".list-inline {list-style: none; margin:0; padding: 0}\n",
       ".list-inline>li {display: inline-block}\n",
       ".list-inline>li:not(:last-child)::after {content: \"\\00b7\"; padding: 0 .5ex}\n",
       "</style>\n",
       "<ol class=list-inline><li>1</li><li>2.22222222222222</li><li>3.44444444444444</li><li>4.66666666666667</li><li>5.88888888888889</li><li>7.11111111111111</li><li>8.33333333333333</li><li>9.55555555555556</li><li>10.7777777777778</li><li>12</li></ol>\n"
      ],
      "text/latex": [
       "\\begin{enumerate*}\n",
       "\\item 1\n",
       "\\item 2.22222222222222\n",
       "\\item 3.44444444444444\n",
       "\\item 4.66666666666667\n",
       "\\item 5.88888888888889\n",
       "\\item 7.11111111111111\n",
       "\\item 8.33333333333333\n",
       "\\item 9.55555555555556\n",
       "\\item 10.7777777777778\n",
       "\\item 12\n",
       "\\end{enumerate*}\n"
      ],
      "text/markdown": [
       "1. 1\n",
       "2. 2.22222222222222\n",
       "3. 3.44444444444444\n",
       "4. 4.66666666666667\n",
       "5. 5.88888888888889\n",
       "6. 7.11111111111111\n",
       "7. 8.33333333333333\n",
       "8. 9.55555555555556\n",
       "9. 10.7777777777778\n",
       "10. 12\n",
       "\n",
       "\n"
      ],
      "text/plain": [
       " [1]  1.000000  2.222222  3.444444  4.666667  5.888889  7.111111  8.333333\n",
       " [8]  9.555556 10.777778 12.000000"
      ]
     },
     "metadata": {},
     "output_type": "display_data"
    }
   ],
   "source": [
    "1:10 # vecteur dont les composantes sont les entiers de 1 à 10\n",
    "8:-2 # vecteur dont les composantes sont les entiers de 8 à -2, dans l'ordre décroissant\n",
    "seq(from = 1, to = 12, by = .25) # vecteur de 1 à 12, avec un incrément de 0.25\n",
    "seq(1,12, length.out = 10) # vecteur de 1 à 12, avec un incrément constant et une longueur de 10"
   ]
  },
  {
   "cell_type": "markdown",
   "id": "b112b1e6",
   "metadata": {},
   "source": [
    "La fonction `matrix` permet de définir des matrices (en deux dimensions) en spécifiant ses éléments à l'aide d'un vecteur. Il est nécessaire de préciser le nombre de lignes et/ou de colonnes. Par défaut, la matrice se remplit par colonne mais l'option `byrow = T` permet de la remplir par ligne."
   ]
  },
  {
   "cell_type": "code",
   "execution_count": 4,
   "id": "7bd52c31",
   "metadata": {},
   "outputs": [
    {
     "name": "stdout",
     "output_type": "stream",
     "text": [
      "     [,1] [,2] [,3]\n",
      "[1,]    1    3    5\n",
      "[2,]    2    4    6\n"
     ]
    },
    {
     "data": {
      "text/html": [
       "<style>\n",
       ".list-inline {list-style: none; margin:0; padding: 0}\n",
       ".list-inline>li {display: inline-block}\n",
       ".list-inline>li:not(:last-child)::after {content: \"\\00b7\"; padding: 0 .5ex}\n",
       "</style>\n",
       "<ol class=list-inline><li>1</li><li>2</li></ol>\n"
      ],
      "text/latex": [
       "\\begin{enumerate*}\n",
       "\\item 1\n",
       "\\item 2\n",
       "\\end{enumerate*}\n"
      ],
      "text/markdown": [
       "1. 1\n",
       "2. 2\n",
       "\n",
       "\n"
      ],
      "text/plain": [
       "[1] 1 2"
      ]
     },
     "metadata": {},
     "output_type": "display_data"
    },
    {
     "name": "stdout",
     "output_type": "stream",
     "text": [
      "     [,1] [,2] [,3]\n",
      "[1,]    1    2    3\n",
      "[2,]    4    5    6\n"
     ]
    }
   ],
   "source": [
    "M = matrix(c(1,2,3,4,5,6), nc = 3)\n",
    "print(M)\n",
    "\n",
    "M[,1]  #élément à la 1ère ligne, 2ème colonne\n",
    "M = matrix(c(1,2,3,4,5,6), nc = 3, byrow = T)\n",
    "print(M)"
   ]
  },
  {
   "cell_type": "markdown",
   "id": "442cc29b-6ac7-43e1-905d-f3302cb12683",
   "metadata": {},
   "source": [
    "Pour afficher une dimension (ligne ou colonne), on laisse vide l'indice correspondant."
   ]
  },
  {
   "cell_type": "code",
   "execution_count": 5,
   "id": "8d6d1fa6",
   "metadata": {},
   "outputs": [
    {
     "data": {
      "text/html": [
       "<style>\n",
       ".list-inline {list-style: none; margin:0; padding: 0}\n",
       ".list-inline>li {display: inline-block}\n",
       ".list-inline>li:not(:last-child)::after {content: \"\\00b7\"; padding: 0 .5ex}\n",
       "</style>\n",
       "<ol class=list-inline><li>1</li><li>2</li><li>3</li></ol>\n"
      ],
      "text/latex": [
       "\\begin{enumerate*}\n",
       "\\item 1\n",
       "\\item 2\n",
       "\\item 3\n",
       "\\end{enumerate*}\n"
      ],
      "text/markdown": [
       "1. 1\n",
       "2. 2\n",
       "3. 3\n",
       "\n",
       "\n"
      ],
      "text/plain": [
       "[1] 1 2 3"
      ]
     },
     "metadata": {},
     "output_type": "display_data"
    },
    {
     "data": {
      "text/html": [
       "<style>\n",
       ".list-inline {list-style: none; margin:0; padding: 0}\n",
       ".list-inline>li {display: inline-block}\n",
       ".list-inline>li:not(:last-child)::after {content: \"\\00b7\"; padding: 0 .5ex}\n",
       "</style>\n",
       "<ol class=list-inline><li>2</li><li>5</li></ol>\n"
      ],
      "text/latex": [
       "\\begin{enumerate*}\n",
       "\\item 2\n",
       "\\item 5\n",
       "\\end{enumerate*}\n"
      ],
      "text/markdown": [
       "1. 2\n",
       "2. 5\n",
       "\n",
       "\n"
      ],
      "text/plain": [
       "[1] 2 5"
      ]
     },
     "metadata": {},
     "output_type": "display_data"
    }
   ],
   "source": [
    "M[1,]  #affiche toute la 1ère ligne\n",
    "M[,2]  #affiche toute la 2ème colonne"
   ]
  },
  {
   "cell_type": "markdown",
   "id": "ed6ee5d7",
   "metadata": {},
   "source": [
    "#### Opérations sur des vecteurs/matrices\n",
    "\n",
    "Voir les exemples ci-dessous:"
   ]
  },
  {
   "cell_type": "code",
   "execution_count": 16,
   "id": "eca2a35c",
   "metadata": {},
   "outputs": [
    {
     "data": {
      "text/html": [
       "<table class=\"dataframe\">\n",
       "<caption>A matrix: 2 × 1 of type dbl</caption>\n",
       "<tbody>\n",
       "\t<tr><td>15.43803</td></tr>\n",
       "\t<tr><td>36.01765</td></tr>\n",
       "</tbody>\n",
       "</table>\n"
      ],
      "text/latex": [
       "A matrix: 2 × 1 of type dbl\n",
       "\\begin{tabular}{l}\n",
       "\t 15.43803\\\\\n",
       "\t 36.01765\\\\\n",
       "\\end{tabular}\n"
      ],
      "text/markdown": [
       "\n",
       "A matrix: 2 × 1 of type dbl\n",
       "\n",
       "| 15.43803 |\n",
       "| 36.01765 |\n",
       "\n"
      ],
      "text/plain": [
       "     [,1]    \n",
       "[1,] 15.43803\n",
       "[2,] 36.01765"
      ]
     },
     "metadata": {},
     "output_type": "display_data"
    },
    {
     "data": {
      "text/html": [
       "<table class=\"dataframe\">\n",
       "<caption>A matrix: 2 × 1 of type dbl</caption>\n",
       "<tbody>\n",
       "\t<tr><td>15.43803</td></tr>\n",
       "\t<tr><td>36.01765</td></tr>\n",
       "</tbody>\n",
       "</table>\n"
      ],
      "text/latex": [
       "A matrix: 2 × 1 of type dbl\n",
       "\\begin{tabular}{l}\n",
       "\t 15.43803\\\\\n",
       "\t 36.01765\\\\\n",
       "\\end{tabular}\n"
      ],
      "text/markdown": [
       "\n",
       "A matrix: 2 × 1 of type dbl\n",
       "\n",
       "| 15.43803 |\n",
       "| 36.01765 |\n",
       "\n"
      ],
      "text/plain": [
       "     [,1]    \n",
       "[1,] 15.43803\n",
       "[2,] 36.01765"
      ]
     },
     "metadata": {},
     "output_type": "display_data"
    }
   ],
   "source": [
    " M %*% vec #multiplication matrice-vecteur\n",
    " M %*% matrix(vec, nc = 1) # identique; un vecteur est considere comme une matrice de taille n x 1"
   ]
  },
  {
   "cell_type": "code",
   "execution_count": 17,
   "id": "3ed44ba7",
   "metadata": {},
   "outputs": [
    {
     "data": {
      "text/html": [
       "<table class=\"dataframe\">\n",
       "<caption>A matrix: 2 × 3 of type dbl</caption>\n",
       "<tbody>\n",
       "\t<tr><td> 3</td><td> 6</td><td> 9</td></tr>\n",
       "\t<tr><td>12</td><td>15</td><td>18</td></tr>\n",
       "</tbody>\n",
       "</table>\n"
      ],
      "text/latex": [
       "A matrix: 2 × 3 of type dbl\n",
       "\\begin{tabular}{lll}\n",
       "\t  3 &  6 &  9\\\\\n",
       "\t 12 & 15 & 18\\\\\n",
       "\\end{tabular}\n"
      ],
      "text/markdown": [
       "\n",
       "A matrix: 2 × 3 of type dbl\n",
       "\n",
       "|  3 |  6 |  9 |\n",
       "| 12 | 15 | 18 |\n",
       "\n"
      ],
      "text/plain": [
       "     [,1] [,2] [,3]\n",
       "[1,]  3    6    9  \n",
       "[2,] 12   15   18  "
      ]
     },
     "metadata": {},
     "output_type": "display_data"
    }
   ],
   "source": [
    "3 * M # est similaire a une multiplication de la matrice par un scalaire"
   ]
  },
  {
   "cell_type": "code",
   "execution_count": 6,
   "id": "9a668028",
   "metadata": {},
   "outputs": [
    {
     "data": {
      "text/html": [
       "<table class=\"dataframe\">\n",
       "<caption>A matrix: 2 × 3 of type dbl</caption>\n",
       "<tbody>\n",
       "\t<tr><td> 8</td><td>11</td><td>14</td></tr>\n",
       "\t<tr><td>17</td><td>20</td><td>23</td></tr>\n",
       "</tbody>\n",
       "</table>\n"
      ],
      "text/latex": [
       "A matrix: 2 × 3 of type dbl\n",
       "\\begin{tabular}{lll}\n",
       "\t  8 & 11 & 14\\\\\n",
       "\t 17 & 20 & 23\\\\\n",
       "\\end{tabular}\n"
      ],
      "text/markdown": [
       "\n",
       "A matrix: 2 × 3 of type dbl\n",
       "\n",
       "|  8 | 11 | 14 |\n",
       "| 17 | 20 | 23 |\n",
       "\n"
      ],
      "text/plain": [
       "     [,1] [,2] [,3]\n",
       "[1,]  8   11   14  \n",
       "[2,] 17   20   23  "
      ]
     },
     "metadata": {},
     "output_type": "display_data"
    }
   ],
   "source": [
    "3*M + 5 # est similaire a une multiplication de la matrice par un scalaire suivi d'une addition d'un scalaire"
   ]
  },
  {
   "cell_type": "code",
   "execution_count": 7,
   "id": "79b3960d",
   "metadata": {},
   "outputs": [
    {
     "data": {
      "text/html": [
       "<style>\n",
       ".list-inline {list-style: none; margin:0; padding: 0}\n",
       ".list-inline>li {display: inline-block}\n",
       ".list-inline>li:not(:last-child)::after {content: \"\\00b7\"; padding: 0 .5ex}\n",
       "</style>\n",
       "<ol class=list-inline><li>1</li><li>3.14159265358979</li><li>2.71828182845905</li><li>1</li><li>3.14159265358979</li><li>2.71828182845905</li><li>1</li><li>3.14159265358979</li><li>2.71828182845905</li></ol>\n"
      ],
      "text/latex": [
       "\\begin{enumerate*}\n",
       "\\item 1\n",
       "\\item 3.14159265358979\n",
       "\\item 2.71828182845905\n",
       "\\item 1\n",
       "\\item 3.14159265358979\n",
       "\\item 2.71828182845905\n",
       "\\item 1\n",
       "\\item 3.14159265358979\n",
       "\\item 2.71828182845905\n",
       "\\end{enumerate*}\n"
      ],
      "text/markdown": [
       "1. 1\n",
       "2. 3.14159265358979\n",
       "3. 2.71828182845905\n",
       "4. 1\n",
       "5. 3.14159265358979\n",
       "6. 2.71828182845905\n",
       "7. 1\n",
       "8. 3.14159265358979\n",
       "9. 2.71828182845905\n",
       "\n",
       "\n"
      ],
      "text/plain": [
       "[1] 1.000000 3.141593 2.718282 1.000000 3.141593 2.718282 1.000000 3.141593\n",
       "[9] 2.718282"
      ]
     },
     "metadata": {},
     "output_type": "display_data"
    },
    {
     "data": {
      "text/html": [
       "<style>\n",
       ".list-inline {list-style: none; margin:0; padding: 0}\n",
       ".list-inline>li {display: inline-block}\n",
       ".list-inline>li:not(:last-child)::after {content: \"\\00b7\"; padding: 0 .5ex}\n",
       "</style>\n",
       "<ol class=list-inline><li>1</li><li>1</li><li>1</li><li>3.14159265358979</li><li>3.14159265358979</li><li>3.14159265358979</li><li>2.71828182845905</li><li>2.71828182845905</li><li>2.71828182845905</li></ol>\n"
      ],
      "text/latex": [
       "\\begin{enumerate*}\n",
       "\\item 1\n",
       "\\item 1\n",
       "\\item 1\n",
       "\\item 3.14159265358979\n",
       "\\item 3.14159265358979\n",
       "\\item 3.14159265358979\n",
       "\\item 2.71828182845905\n",
       "\\item 2.71828182845905\n",
       "\\item 2.71828182845905\n",
       "\\end{enumerate*}\n"
      ],
      "text/markdown": [
       "1. 1\n",
       "2. 1\n",
       "3. 1\n",
       "4. 3.14159265358979\n",
       "5. 3.14159265358979\n",
       "6. 3.14159265358979\n",
       "7. 2.71828182845905\n",
       "8. 2.71828182845905\n",
       "9. 2.71828182845905\n",
       "\n",
       "\n"
      ],
      "text/plain": [
       "[1] 1.000000 1.000000 1.000000 3.141593 3.141593 3.141593 2.718282 2.718282\n",
       "[9] 2.718282"
      ]
     },
     "metadata": {},
     "output_type": "display_data"
    }
   ],
   "source": [
    "rep(vec, 3) # répétition de 3 fois le même vecteur  \n",
    "rep(vec, each = 3) # répétition 3 fois de chaque éléments du vecteur consécutivement"
   ]
  },
  {
   "cell_type": "markdown",
   "id": "3b73e03a-249c-4243-8450-4945f1f1c3ba",
   "metadata": {},
   "source": [
    "Finalement, appeler un objet fait implicitement appel à la méthode `print` qui y est associée. Ainsi"
   ]
  },
  {
   "cell_type": "code",
   "execution_count": 15,
   "id": "6c97b356-3a67-415a-9a1a-2df6523ddf13",
   "metadata": {},
   "outputs": [
    {
     "data": {
      "text/html": [
       "<table class=\"dataframe\">\n",
       "<caption>A matrix: 2 × 3 of type dbl</caption>\n",
       "<tbody>\n",
       "\t<tr><td>1</td><td>2</td><td>3</td></tr>\n",
       "\t<tr><td>4</td><td>5</td><td>6</td></tr>\n",
       "</tbody>\n",
       "</table>\n"
      ],
      "text/latex": [
       "A matrix: 2 × 3 of type dbl\n",
       "\\begin{tabular}{lll}\n",
       "\t 1 & 2 & 3\\\\\n",
       "\t 4 & 5 & 6\\\\\n",
       "\\end{tabular}\n"
      ],
      "text/markdown": [
       "\n",
       "A matrix: 2 × 3 of type dbl\n",
       "\n",
       "| 1 | 2 | 3 |\n",
       "| 4 | 5 | 6 |\n",
       "\n"
      ],
      "text/plain": [
       "     [,1] [,2] [,3]\n",
       "[1,] 1    2    3   \n",
       "[2,] 4    5    6   "
      ]
     },
     "metadata": {},
     "output_type": "display_data"
    },
    {
     "name": "stdout",
     "output_type": "stream",
     "text": [
      "[1] 4\n"
     ]
    },
    {
     "data": {
      "text/html": [
       "4"
      ],
      "text/latex": [
       "4"
      ],
      "text/markdown": [
       "4"
      ],
      "text/plain": [
       "[1] 4"
      ]
     },
     "metadata": {},
     "output_type": "display_data"
    }
   ],
   "source": [
    "M # affiche M\n",
    "print(M[2,1]) # affiche la composante (2,1) de la matrice M \n",
    "M[2,1] # affiche aussi la composante (2,1) de la matrice M "
   ]
  },
  {
   "cell_type": "markdown",
   "id": "9fd88172-a310-4852-8250-71ddfbda1777",
   "metadata": {},
   "source": [
    "#### Les listes"
   ]
  },
  {
   "cell_type": "markdown",
   "id": "e759647a-a57f-4590-a693-8e544731743e",
   "metadata": {},
   "source": [
    "Les listes sont un type d'objets constitué d'objets. C'est particulièrement pratique pour stocker dans un même objet plusieurs informations de types différents. Il est à noter qu'un `data.frame` est un type particulier de liste, et donc que beaucoup de commandes sont similaires. \n",
    "On peut accéder aux éléments d'une liste de deux manières. En utilisant l'indice, à l'aide de deux crochets ou via leur nom, en utilisant le caractère `$`."
   ]
  },
  {
   "cell_type": "code",
   "execution_count": 52,
   "id": "68998f3e-9345-447f-8d01-effdbb7c71bf",
   "metadata": {},
   "outputs": [
    {
     "data": {
      "text/html": [
       "<style>\n",
       ".list-inline {list-style: none; margin:0; padding: 0}\n",
       ".list-inline>li {display: inline-block}\n",
       ".list-inline>li:not(:last-child)::after {content: \"\\00b7\"; padding: 0 .5ex}\n",
       "</style>\n",
       "<ol class=list-inline><li>2</li><li>3</li></ol>\n"
      ],
      "text/latex": [
       "\\begin{enumerate*}\n",
       "\\item 2\n",
       "\\item 3\n",
       "\\end{enumerate*}\n"
      ],
      "text/markdown": [
       "1. 2\n",
       "2. 3\n",
       "\n",
       "\n"
      ],
      "text/plain": [
       "[1] 2 3"
      ]
     },
     "metadata": {},
     "output_type": "display_data"
    },
    {
     "data": {
      "text/html": [
       "<table class=\"dataframe\">\n",
       "<caption>A matrix: 2 × 2 of type dbl</caption>\n",
       "<tbody>\n",
       "\t<tr><td> 1</td><td>-1</td></tr>\n",
       "\t<tr><td>-1</td><td> 2</td></tr>\n",
       "</tbody>\n",
       "</table>\n"
      ],
      "text/latex": [
       "A matrix: 2 × 2 of type dbl\n",
       "\\begin{tabular}{ll}\n",
       "\t  1 & -1\\\\\n",
       "\t -1 &  2\\\\\n",
       "\\end{tabular}\n"
      ],
      "text/markdown": [
       "\n",
       "A matrix: 2 × 2 of type dbl\n",
       "\n",
       "|  1 | -1 |\n",
       "| -1 |  2 |\n",
       "\n"
      ],
      "text/plain": [
       "     [,1] [,2]\n",
       "[1,]  1   -1  \n",
       "[2,] -1    2  "
      ]
     },
     "metadata": {},
     "output_type": "display_data"
    },
    {
     "data": {
      "text/html": [
       "<dl>\n",
       "\t<dt>$x</dt>\n",
       "\t\t<dd><style>\n",
       ".list-inline {list-style: none; margin:0; padding: 0}\n",
       ".list-inline>li {display: inline-block}\n",
       ".list-inline>li:not(:last-child)::after {content: \"\\00b7\"; padding: 0 .5ex}\n",
       "</style>\n",
       "<ol class=list-inline><li>2</li><li>3</li></ol>\n",
       "</dd>\n",
       "\t<dt>$y</dt>\n",
       "\t\t<dd><table class=\"dataframe\">\n",
       "<caption>A matrix: 2 × 2 of type dbl</caption>\n",
       "<tbody>\n",
       "\t<tr><td> 1</td><td>-1</td></tr>\n",
       "\t<tr><td>-1</td><td> 2</td></tr>\n",
       "</tbody>\n",
       "</table>\n",
       "</dd>\n",
       "\t<dt>$z</dt>\n",
       "\t\t<dd>TRUE</dd>\n",
       "</dl>\n"
      ],
      "text/latex": [
       "\\begin{description}\n",
       "\\item[\\$x] \\begin{enumerate*}\n",
       "\\item 2\n",
       "\\item 3\n",
       "\\end{enumerate*}\n",
       "\n",
       "\\item[\\$y] A matrix: 2 × 2 of type dbl\n",
       "\\begin{tabular}{ll}\n",
       "\t  1 & -1\\\\\n",
       "\t -1 &  2\\\\\n",
       "\\end{tabular}\n",
       "\n",
       "\\item[\\$z] TRUE\n",
       "\\end{description}\n"
      ],
      "text/markdown": [
       "$x\n",
       ":   1. 2\n",
       "2. 3\n",
       "\n",
       "\n",
       "\n",
       "$y\n",
       ":   \n",
       "A matrix: 2 × 2 of type dbl\n",
       "\n",
       "|  1 | -1 |\n",
       "| -1 |  2 |\n",
       "\n",
       "\n",
       "$z\n",
       ":   TRUE\n",
       "\n",
       "\n"
      ],
      "text/plain": [
       "$x\n",
       "[1] 2 3\n",
       "\n",
       "$y\n",
       "     [,1] [,2]\n",
       "[1,]    1   -1\n",
       "[2,]   -1    2\n",
       "\n",
       "$z\n",
       "[1] TRUE\n"
      ]
     },
     "metadata": {},
     "output_type": "display_data"
    }
   ],
   "source": [
    "mylist <- list(x = c(2,3), y = matrix(c(1,-1,-1,2), nc = 2)) # liste de deux objets, le premier, x est un vecteur\n",
    "# et le second, y, est une matrice\n",
    "mylist[[1]] # on accède au premier élément\n",
    "mylist$y # on accède à l'élément y\n",
    "mylist$z <- T # on déclare un élément z qui est un booléen T\n",
    "mylist\n"
   ]
  },
  {
   "cell_type": "markdown",
   "id": "dd3531e8",
   "metadata": {},
   "source": [
    "### Les principales structures"
   ]
  },
  {
   "cell_type": "markdown",
   "id": "fa9ca429",
   "metadata": {},
   "source": [
    "#### L'instruction if\n",
    "\n",
    "Exécutez les différents exemples ci-dessous pour vous familiariser avec sa syntaxe:"
   ]
  },
  {
   "cell_type": "code",
   "execution_count": 8,
   "id": "1919750b",
   "metadata": {},
   "outputs": [
    {
     "name": "stdout",
     "output_type": "stream",
     "text": [
      "[1] \"b is greater than a\"\n"
     ]
    }
   ],
   "source": [
    "a = 33\n",
    "b = 200\n",
    "if(b > a) print(\"b is greater than a\")"
   ]
  },
  {
   "cell_type": "markdown",
   "id": "787fcc0a",
   "metadata": {},
   "source": [
    "Si ce qui suit le `if` fait plus d'une ligne, l'utilisation d'accolades en guise de délimiteurs devient nécessaire."
   ]
  },
  {
   "cell_type": "code",
   "execution_count": 9,
   "id": "f103e857",
   "metadata": {},
   "outputs": [
    {
     "name": "stdout",
     "output_type": "stream",
     "text": [
      "[1] \"b is greater than a\"\n",
      "[1] 167\n"
     ]
    }
   ],
   "source": [
    "a = 33\n",
    "b = 200\n",
    "if(b > a){\n",
    "    print(\"b is greater than a\")\n",
    "    print(b-a)\n",
    "}\n"
   ]
  },
  {
   "cell_type": "markdown",
   "id": "f590b8bc",
   "metadata": {},
   "source": [
    "L'indentation n'importe pas (sauf pour la lisibilité de votre code. Lorsque `else` est utilisé, il doit être sur la même ligne que l'accolade fermant la condition `if`"
   ]
  },
  {
   "cell_type": "code",
   "execution_count": 11,
   "id": "1fc657ca",
   "metadata": {},
   "outputs": [
    {
     "name": "stdout",
     "output_type": "stream",
     "text": [
      "[1] \"a is greater than b\"\n"
     ]
    }
   ],
   "source": [
    "a = 200\n",
    "b = 33\n",
    "# version correcte\n",
    "if (b > a)\n",
    "    {\n",
    "     print(\"b is greater than a\")\n",
    "} else\n",
    "    {\n",
    "    print(\"a is greater than b\")\n",
    "}\n",
    " \n",
    "  "
   ]
  },
  {
   "cell_type": "code",
   "execution_count": 12,
   "id": "02af72c2",
   "metadata": {},
   "outputs": [
    {
     "ename": "ERROR",
     "evalue": "Error in parse(text = x, srcfile = src): <text>:8:1: unexpected 'else'\n7: }\n8: else\n   ^\n",
     "output_type": "error",
     "traceback": [
      "Error in parse(text = x, srcfile = src): <text>:8:1: unexpected 'else'\n7: }\n8: else\n   ^\nTraceback:\n"
     ]
    }
   ],
   "source": [
    "a = 200\n",
    "b = 33\n",
    "# donne une erreur\n",
    "if (b > a)\n",
    "    {\n",
    "     print(\"b is greater than a\")\n",
    "}\n",
    "else\n",
    "    {\n",
    "    print(\"a is greater than b\")\n",
    "}\n",
    " \n",
    "  "
   ]
  },
  {
   "cell_type": "code",
   "execution_count": 13,
   "id": "d0bf2a2e",
   "metadata": {},
   "outputs": [
    {
     "name": "stdout",
     "output_type": "stream",
     "text": [
      "[1] \"a is equal to b\"\n"
     ]
    }
   ],
   "source": [
    "a = 33\n",
    "b = 33\n",
    "# version correcte\n",
    "if (b > a)\n",
    "    {\n",
    "     print(\"b is greater than a\")\n",
    "}else if (b == a)\n",
    "    {\n",
    "    print(\"a is equal to b\")\n",
    "} else\n",
    "{\n",
    "    print(\"a is greater than b\")\n",
    "}"
   ]
  },
  {
   "cell_type": "markdown",
   "id": "a9aca1c8",
   "metadata": {},
   "source": [
    "Il peut y avoir un nombre quelconque de parties `else if()`."
   ]
  },
  {
   "cell_type": "markdown",
   "id": "e3490465",
   "metadata": {},
   "source": [
    "#### L'instruction while\n",
    "\n",
    "La boucle **while** permet d'exécuter un ensemble d'instructions tant qu'une condition est vraie."
   ]
  },
  {
   "cell_type": "code",
   "execution_count": 27,
   "id": "fd7b7e77",
   "metadata": {},
   "outputs": [
    {
     "name": "stdout",
     "output_type": "stream",
     "text": [
      "[1] 1\n",
      "[1] 2\n",
      "[1] 3\n",
      "[1] 4\n",
      "[1] 5\n"
     ]
    }
   ],
   "source": [
    "i = 1\n",
    "while(i < 6)\n",
    "    {\n",
    "  print(i)\n",
    "  i = i + 1\n",
    "}"
   ]
  },
  {
   "cell_type": "markdown",
   "id": "1cfe840f",
   "metadata": {},
   "source": [
    "La boucle while exige que les variables pertinentes soient prêtes. Dans cet exemple, nous avons dû définir une variable d'indexation, i, fixée à 1.\n",
    "\n",
    "Exécutez les cellules ci-dessous pour découvrir la commande **break**."
   ]
  },
  {
   "cell_type": "code",
   "execution_count": 28,
   "id": "43ea1fe0",
   "metadata": {},
   "outputs": [
    {
     "name": "stdout",
     "output_type": "stream",
     "text": [
      "[1] 1\n",
      "[1] 2\n",
      "[1] 3\n"
     ]
    }
   ],
   "source": [
    "i = 1\n",
    "while(i < 6)\n",
    "  { print(i)\n",
    "  if(i == 3) break\n",
    "  i  <- i + 1\n",
    "   }"
   ]
  },
  {
   "cell_type": "markdown",
   "id": "1112034b",
   "metadata": {},
   "source": [
    "**Break** permet d'arrêter la boucle while même si la condition du while est toujours satisfaite."
   ]
  },
  {
   "cell_type": "markdown",
   "id": "38f3bc48",
   "metadata": {},
   "source": [
    "#### L'instruction for\n",
    "\n",
    "L'instruction **for** que propose R est un peu différente de celle que l'on peut trouver dans d'autres langages de programmation et fonctionne davantage comme une méthode d'itération que l'on trouve dans les langages de programmation orientés objet.\n",
    "\n",
    "Elle est utilisée pour itérer sur un vecteur ou même sur une liste (c'est-à-dire une liste, un vecteur).\n",
    "\n",
    "\n",
    "De nouveau, éxécutez les différents exemples ci-dessous pour vous familiariser avec sa synthaxe:"
   ]
  },
  {
   "cell_type": "code",
   "execution_count": 29,
   "id": "5261ad31",
   "metadata": {},
   "outputs": [
    {
     "name": "stdout",
     "output_type": "stream",
     "text": [
      "[1] \"apple\"\n",
      "[1] \"banana\"\n",
      "[1] \"cherry\"\n"
     ]
    }
   ],
   "source": [
    "fruits = c(\"apple\", \"banana\", \"cherry\")\n",
    "for(x in fruits)\n",
    "  print(x)"
   ]
  },
  {
   "cell_type": "code",
   "execution_count": 16,
   "id": "4bcaea1d",
   "metadata": {},
   "outputs": [
    {
     "name": "stdout",
     "output_type": "stream",
     "text": [
      "[1] 2\n",
      "[1] 6.283185\n",
      "[1] 5.436564\n"
     ]
    }
   ],
   "source": [
    "for(x in vec) #avec un vecteur\n",
    "    print(x * 2)"
   ]
  },
  {
   "cell_type": "markdown",
   "id": "bfdc342c",
   "metadata": {},
   "source": [
    "Comme pour la boucle **while**, on peut utiliser **break** et **continue** pour sortir de la boucle for ou passer à l'itération suivante.\n",
    "\n",
    "Vous avez remarqué que contrairement à une boucle **for** en C où l'on donne à l'utilisateur la possibilité de définir le pas d'itération et la condition de fin, l'instruction **for** en Python itère sur les éléments d'une séquence (qui peut être une liste, une chaîne de caractères…), dans l'ordre dans lequel ils apparaissent dans la séquence.\n",
    "\n",
    "Exécutez les cellules suivantes pour voir l'utilité de certaines fonctions complémentaires comme `seq` et `seq_along`.\n"
   ]
  },
  {
   "cell_type": "code",
   "execution_count": 18,
   "id": "58baf267",
   "metadata": {},
   "outputs": [
    {
     "name": "stdout",
     "output_type": "stream",
     "text": [
      "[1] 2\n",
      "[1] 5\n",
      "[1] 8\n",
      "[1] 11\n",
      "[1] 14\n",
      "[1] 17\n",
      "[1] 20\n",
      "[1] 23\n",
      "[1] 26\n",
      "[1] 29\n"
     ]
    }
   ],
   "source": [
    "for(x in seq(2, 30, by = 3)) #commence à 2, finit à 29 et incrémente de 3\n",
    "  print(x)\n",
    "# seq_along permet déclare un vecteur correspondant au vecteur des indices d'un autre vecteur\n",
    "seq_along(vec)\n",
    "# typiquement utilisé de la manière suivante\n",
    "for(i in seq_along(vec))\n",
    "    vec[i]\n",
    "# et qui est équivalent à \n",
    "for(i in 1:length(vec))\n",
    "    vec[i]"
   ]
  },
  {
   "cell_type": "markdown",
   "id": "772527d9",
   "metadata": {},
   "source": [
    "### Les fonctions\n",
    "\n",
    "#### Syntaxe des fonctions\n",
    "\n",
    "La syntaxe R pour la définition d’une fonction est la suivante :"
   ]
  },
  {
   "cell_type": "markdown",
   "id": "2e207f5a-775e-46d8-a8f4-f3fb0e24f20d",
   "metadata": {},
   "source": [
    "`myfun <- function(liste de paramètres){bloc d'instructions}`"
   ]
  },
  {
   "cell_type": "markdown",
   "id": "e474817f",
   "metadata": {},
   "source": [
    "Vous pouvez choisir n’importe quel nom pour la fonction que vous créez, à l’exception des mots-clés réservés du langage, et à la condition de n’utiliser aucun caractère spécial ou accentué (le caractère souligné « _ » est permis).\n",
    "Une fonction peut avoir un, plusieurs ou pas de paramètres d'entrée (appelés **arguments**) et elle peut retourner indirectement (print) ou directement des variables (avec **return**). Par défaut, la dernière variable appelée dans la fonction est retournée.\n",
    "Exécutez les cellules ci-dessous pour vous familiariser avec les fonctions.\n",
    "A noter qu'en R, il n'est pas possible de retourner plusieurs objets. Toutefois il est possible de retourner une liste, qui comprend tous les objets que l'on souhaite. "
   ]
  },
  {
   "cell_type": "code",
   "execution_count": 8,
   "id": "10890e45",
   "metadata": {},
   "outputs": [
    {
     "name": "stdout",
     "output_type": "stream",
     "text": [
      "[1] 0\n",
      "[1] 1\n",
      "[1] 2\n"
     ]
    }
   ],
   "source": [
    "compteur <- function(){ #sans paramètres d'entreé ni de sortie\n",
    "    i = 0\n",
    "    while(i < 3){\n",
    "        print(i)\n",
    "        i = i + 1\n",
    "        }\n",
    "} \n",
    "    \n",
    "compteur()"
   ]
  },
  {
   "cell_type": "code",
   "execution_count": 7,
   "id": "6d008dae",
   "metadata": {},
   "outputs": [
    {
     "name": "stdout",
     "output_type": "stream",
     "text": [
      "[1] 0\n",
      "[1] 1\n",
      "[1] 2\n"
     ]
    },
    {
     "data": {
      "text/html": [
       "3"
      ],
      "text/latex": [
       "3"
      ],
      "text/markdown": [
       "3"
      ],
      "text/plain": [
       "[1] 3"
      ]
     },
     "metadata": {},
     "output_type": "display_data"
    }
   ],
   "source": [
    "compteur() #une fois définie, on peut appeler la fonction depuis une autre cellule du notebook."
   ]
  },
  {
   "cell_type": "code",
   "execution_count": 31,
   "id": "11092ee7",
   "metadata": {},
   "outputs": [
    {
     "name": "stdout",
     "output_type": "stream",
     "text": [
      "[1] 0\n",
      "[1] 1\n",
      "[1] 2\n",
      "[1] 3\n"
     ]
    }
   ],
   "source": [
    "compteur2 <- function(stop){ #avec un paramètre d'entrée\n",
    "    i = 0\n",
    "    while (i < stop){\n",
    "        print(i)\n",
    "        i = i + 1\n",
    "        }\n",
    "    }\n",
    "compteur2(4)"
   ]
  },
  {
   "cell_type": "markdown",
   "id": "332ce5ac-0c40-4a63-a097-bf5092be3a09",
   "metadata": {},
   "source": [
    "On peut utiliser la syntaxe `=` dans un argument pour lui donner une valeur par défaut. Ainsi"
   ]
  },
  {
   "cell_type": "code",
   "execution_count": 33,
   "id": "0a9ede6a",
   "metadata": {},
   "outputs": [
    {
     "name": "stdout",
     "output_type": "stream",
     "text": [
      "[1] 0\n",
      "[1] 1\n"
     ]
    }
   ],
   "source": [
    "compteur2 <- function(stop = 2){ #avec un paramètre d'entrée\n",
    "    i = 0\n",
    "    while (i < stop){\n",
    "        print(i)\n",
    "        i = i + 1\n",
    "        }\n",
    "    }\n",
    "compteur2()"
   ]
  },
  {
   "cell_type": "code",
   "execution_count": 39,
   "id": "d8ddd4c5-7871-4b91-99f9-f734d53419f6",
   "metadata": {},
   "outputs": [
    {
     "name": "stdout",
     "output_type": "stream",
     "text": [
      "[1] \"avec deux paramètres spécifiés\"\n",
      "[1] 2\n",
      "[1] 4\n",
      "[1] \"avec un seul paramètre spécifié\"\n",
      "[1] 3\n",
      "[1] 6\n"
     ]
    }
   ],
   "source": [
    "compteur3 <- function(stop,b = 3){ #avec 2 paramètres d'entrée, le second étant par défaut b = 3\n",
    "    i = 0\n",
    "    while(i < stop){\n",
    "        i = i + b\n",
    "        print(i)\n",
    "        }\n",
    "        }\n",
    "print(\"avec deux paramètres spécifiés\")\n",
    "compteur3(4,2)\n",
    "\n",
    "print(\"avec un seul paramètre spécifié\")\n",
    "compteur3(5)"
   ]
  },
  {
   "cell_type": "code",
   "execution_count": 46,
   "id": "417cf32c",
   "metadata": {},
   "outputs": [
    {
     "name": "stdout",
     "output_type": "stream",
     "text": [
      "4\n"
     ]
    }
   ],
   "source": [
    "x = compteur(4) #on peut directement attribuer ce que retourne la fonction à des variables en dehors de la fonction\n",
    "print(x)"
   ]
  },
  {
   "cell_type": "markdown",
   "id": "416b745d-a478-4eb8-9fc7-9e897e372111",
   "metadata": {},
   "source": [
    "On montre comment retourner plusieurs objets _via_ une liste. "
   ]
  },
  {
   "cell_type": "code",
   "execution_count": 41,
   "id": "57058062",
   "metadata": {},
   "outputs": [
    {
     "name": "stdout",
     "output_type": "stream",
     "text": [
      "[1]  4 96\n"
     ]
    }
   ],
   "source": [
    "compteur <- function(stop){ #avec un paramètre d'entrée et 2 de sortie\n",
    "    i = 0\n",
    "    j = 100\n",
    "    while(i < stop){\n",
    "        i = i + 1\n",
    "        j = j - 1\n",
    "        }\n",
    "    return(list(i = i,j = j)) \n",
    "}\n",
    "mylist <- compteur(4) # Attention à l'ordre des paramètres: x prend la valeur de i et y de j.\n",
    "print(c(mylist$i,mylist$j))"
   ]
  },
  {
   "cell_type": "code",
   "execution_count": 12,
   "id": "83369884-accd-40cb-a9a2-565c0aefa2cc",
   "metadata": {},
   "outputs": [
    {
     "name": "stdout",
     "output_type": "stream",
     "text": [
      "[1] 5\n"
     ]
    }
   ],
   "source": [
    "myfunction <- function(x = 5){\n",
    "    y = x + 2\n",
    "    y # équivalent à return(y)\n",
    "}\n",
    "x <- myfunction(3)\n",
    "print(x)"
   ]
  },
  {
   "cell_type": "markdown",
   "id": "719b9177",
   "metadata": {},
   "source": [
    "#### Portée des variables (scope)\n",
    "\n",
    "En R, nous pouvons déclarer des variables n’importe où dans notre script : au début du script, à l’intérieur de boucles, au sein de nos fonctions, etc. L’endroit où l'on définit une variable dans le script va déterminer l’endroit où la variable va être accessible c’est-à-dire utilisable.\n",
    "\n",
    "Le terme de “portée des variables” sert à désigner les différents espaces dans le script dans lesquels une variable est accessible. En R, une variable peut avoir une portée locale ou une portée globale.\n",
    "\n",
    "Les variables définies à l'intérieur d'une fonction sont appelées **variables locales**. Elles ne peuvent être utilisées que localement c’est-à-dire qu’à l’intérieur de la fonction qui les a définies. Tenter d’appeler une variable locale depuis l’extérieur de la fonction qui l’a définie provoquera une erreur."
   ]
  },
  {
   "cell_type": "code",
   "execution_count": 13,
   "id": "2b2d7a75",
   "metadata": {},
   "outputs": [
    {
     "ename": "ERROR",
     "evalue": "Error in print(loc): object 'loc' not found\n",
     "output_type": "error",
     "traceback": [
      "Error in print(loc): object 'loc' not found\nTraceback:\n",
      "1. print(loc)"
     ]
    }
   ],
   "source": [
    "example <- function(){\n",
    "    loc = 5\n",
    "} \n",
    "print(loc) # retourne une erreur puisque loc n'existe que dans la fonction"
   ]
  },
  {
   "cell_type": "markdown",
   "id": "7e9017a5",
   "metadata": {},
   "source": [
    "Cela est dû au fait que chaque fois qu’une fonction est appelée, R réserve pour elle (dans la mémoire de l’ordinateur) un nouvel espace de noms (c’est-à-dire une sorte de dossier virtuel). Les contenus des variables locales sont stockés dans cet espace de noms qui est inaccessible depuis l’extérieur de la fonction.\n",
    "\n",
    "Cet espace de noms est automatiquement détruit dès que la fonction a terminé son travail, réinitialisant les valeurs des variables à chaque nouvel appel de fonction.\n",
    "\n",
    "Les variables définies dans l’espace global du script, c’est-à-dire en dehors de toute fonction sont appelées des **variables globales**. Ces variables sont accessibles (= utilisables) à travers l’ensemble du script et accessible en lecture seulement à l’intérieur des fonctions utilisées dans ce script.\n",
    "\n",
    "Pour le dire très simplement : une fonction va pouvoir utiliser la valeur d’une variable définie globalement mais ne va pas pouvoir modifier sa valeur c’est-à-dire la redéfinir. En effet, toute variable définie dans une fonction est par définition locale ce qui fait que si on essaie de redéfinir une variable globale à l’intérieur d’une fonction on ne fera que créer une autre variable de même nom que la variable globale qu’on souhaite redéfinir mais qui sera locale et bien distincte de cette dernière."
   ]
  },
  {
   "cell_type": "code",
   "execution_count": 14,
   "id": "9b090b15",
   "metadata": {},
   "outputs": [
    {
     "name": "stdout",
     "output_type": "stream",
     "text": [
      "[1] 0\n",
      "[1] 5\n"
     ]
    }
   ],
   "source": [
    "var_globale = 5\n",
    "\n",
    "exemple <- function(){\n",
    "    var_globale = 0\n",
    "    print(var_globale)\n",
    "    }\n",
    "exemple()        \n",
    "print(var_globale)"
   ]
  },
  {
   "cell_type": "markdown",
   "id": "8a97f004",
   "metadata": {},
   "source": [
    "De manière générale, il est imprudent d'utiliser une variable globale dans une fonction. En effet, il suffit que l'on redémarre une session et que l'on ne déclare pas la variable globale utilisée pour que la fonction produise une erreur difficile à repérer. "
   ]
  },
  {
   "cell_type": "markdown",
   "id": "071c8e21",
   "metadata": {},
   "source": [
    "## Les librairies (packages)"
   ]
  },
  {
   "cell_type": "markdown",
   "id": "bb5f0ee8",
   "metadata": {},
   "source": [
    "Jusque là, nous avons vu les différentes structures (if, while, for) et comment implémenter une fonction. Nous allons à présent aborder ce qui fait la puissance de R grâce à sa communauté de développeurs qui créent et mettent à disposition de nombreuses **librairies** permettant de gagner un temps précieux.\n",
    "\n",
    "En R, une librairie est un ensemble de fonctions, de classes d'objet et de données qui permettent de travailler sur un thème en particulier. R contient de base de très nombreuses fonctions et, contrairement à Python, il n'est pas nécessaire de charger des librairies pour effectuer la plupart des choses nécessaires dans le cadre de ce cours.\n",
    "\n",
    "Avant toute chose, il faut les installer puis les importer sur le notebook."
   ]
  },
  {
   "cell_type": "markdown",
   "id": "455b525f",
   "metadata": {},
   "source": [
    "**Installation des packages via le notebook**\n",
    "\n",
    "La plupart des packages sont déjà préinstallés, ce qui signifie qu'il suffit de les charger. Cela se fait au moyen de la commande `library`. L'argument est le nom de la librairie (entre guillemet ou pas, les deux fonctionnent normalement). Par exemple, la librairie `tidyverse` qui regroupe de nombreuses libraires très utilisées, se charge de la manière suivante:"
   ]
  },
  {
   "cell_type": "code",
   "execution_count": 2,
   "id": "de6d4255",
   "metadata": {},
   "outputs": [],
   "source": [
    "library(\"tidyverse\")"
   ]
  },
  {
   "cell_type": "markdown",
   "id": "9d386bb9-7359-470b-9dc7-3fd2f0bf01be",
   "metadata": {},
   "source": [
    "Lorsque l'on souhaite utiliser une seule fonction d'une librairie, sans nécessairement charger toute la librairie, il suffit d'appeler cette fonction avec le préfixe de la librairie suivi de `::`: `package::function`. Par exemple, si on souhaite utiliser la fonction `mapvalues` du package `plyr` qui remplace un ensemble de valeurs par autre ensemble de valeurs dans un vecteur, par exemple on remplace `1` par `A`, `2` par `B`, etc. Toutefois, cette fonction utile fait partie d'une librarie qui n'est plus en développement. Autrement dit, il est peu avisé de charger cette librarie puisque d'autres librairies ont pris le relai. Toutefois, cette fonction est relativement utile. Du coup, on souhaiterais ne faire appel qu'à elle. On procède donc comme ci-dessous."
   ]
  },
  {
   "cell_type": "code",
   "execution_count": 9,
   "id": "5119030a-43ee-48d6-8273-a85e45fdcffb",
   "metadata": {},
   "outputs": [
    {
     "data": {
      "text/html": [
       "<style>\n",
       ".list-inline {list-style: none; margin:0; padding: 0}\n",
       ".list-inline>li {display: inline-block}\n",
       ".list-inline>li:not(:last-child)::after {content: \"\\00b7\"; padding: 0 .5ex}\n",
       "</style>\n",
       "<ol class=list-inline><li>'A'</li><li>'D'</li><li>'A'</li><li>'B'</li><li>'E'</li><li>'C'</li><li>'B'</li><li>'C'</li><li>'C'</li><li>'A'</li><li>'E'</li><li>'E'</li><li>'B'</li><li>'B'</li><li>'A'</li><li>'E'</li><li>'E'</li><li>'A'</li><li>'A'</li><li>'E'</li></ol>\n"
      ],
      "text/latex": [
       "\\begin{enumerate*}\n",
       "\\item 'A'\n",
       "\\item 'D'\n",
       "\\item 'A'\n",
       "\\item 'B'\n",
       "\\item 'E'\n",
       "\\item 'C'\n",
       "\\item 'B'\n",
       "\\item 'C'\n",
       "\\item 'C'\n",
       "\\item 'A'\n",
       "\\item 'E'\n",
       "\\item 'E'\n",
       "\\item 'B'\n",
       "\\item 'B'\n",
       "\\item 'A'\n",
       "\\item 'E'\n",
       "\\item 'E'\n",
       "\\item 'A'\n",
       "\\item 'A'\n",
       "\\item 'E'\n",
       "\\end{enumerate*}\n"
      ],
      "text/markdown": [
       "1. 'A'\n",
       "2. 'D'\n",
       "3. 'A'\n",
       "4. 'B'\n",
       "5. 'E'\n",
       "6. 'C'\n",
       "7. 'B'\n",
       "8. 'C'\n",
       "9. 'C'\n",
       "10. 'A'\n",
       "11. 'E'\n",
       "12. 'E'\n",
       "13. 'B'\n",
       "14. 'B'\n",
       "15. 'A'\n",
       "16. 'E'\n",
       "17. 'E'\n",
       "18. 'A'\n",
       "19. 'A'\n",
       "20. 'E'\n",
       "\n",
       "\n"
      ],
      "text/plain": [
       " [1] \"A\" \"D\" \"A\" \"B\" \"E\" \"C\" \"B\" \"C\" \"C\" \"A\" \"E\" \"E\" \"B\" \"B\" \"A\" \"E\" \"E\" \"A\" \"A\"\n",
       "[20] \"E\""
      ]
     },
     "metadata": {},
     "output_type": "display_data"
    }
   ],
   "source": [
    "set.seed(1) # pour fixer une graine dans le générateur de nombre aléatoire\n",
    "x <- sample(1:5,size = 20, replace = T ) # On choisit de manière équiprobable et avec remise 20 valeurs entre 1 et 5,\n",
    "plyr::mapvalues(x, from = 1:5, to = LETTERS[1:5]) # on remplace 1,..., 5 par A,...,E"
   ]
  },
  {
   "cell_type": "markdown",
   "id": "1d47f673",
   "metadata": {},
   "source": [
    "### data frames\n",
    "\n",
    "La manipulation de données est une opération essentielle dans R et ne nécessite donc, a priori, pas de charger une quelconque librairie. On peut donc aisément charger des fichiers `.csv` ou plus généralement des tables à l'aide des fonctions `read.table` et `read.csv`.  \n",
    "Pandas permet également d’effectuer des calculs statistiques sur tes données, par exemple avec la méthode .mean() qui permet d’obtenir la moyenne des valeurs contenues dans une colonne."
   ]
  },
  {
   "cell_type": "code",
   "execution_count": 13,
   "id": "f488ad6a",
   "metadata": {},
   "outputs": [
    {
     "data": {
      "text/html": [
       "<table class=\"dataframe\">\n",
       "<caption>A data.frame: 6 × 2</caption>\n",
       "<thead>\n",
       "\t<tr><th></th><th scope=col>Taille</th><th scope=col>Poids</th></tr>\n",
       "\t<tr><th></th><th scope=col>&lt;dbl&gt;</th><th scope=col>&lt;dbl&gt;</th></tr>\n",
       "</thead>\n",
       "<tbody>\n",
       "\t<tr><th scope=row>1</th><td>147</td><td>52</td></tr>\n",
       "\t<tr><th scope=row>2</th><td>150</td><td>53</td></tr>\n",
       "\t<tr><th scope=row>3</th><td>152</td><td>54</td></tr>\n",
       "\t<tr><th scope=row>4</th><td>155</td><td>56</td></tr>\n",
       "\t<tr><th scope=row>5</th><td>157</td><td>57</td></tr>\n",
       "\t<tr><th scope=row>6</th><td>160</td><td>59</td></tr>\n",
       "</tbody>\n",
       "</table>\n"
      ],
      "text/latex": [
       "A data.frame: 6 × 2\n",
       "\\begin{tabular}{r|ll}\n",
       "  & Taille & Poids\\\\\n",
       "  & <dbl> & <dbl>\\\\\n",
       "\\hline\n",
       "\t1 & 147 & 52\\\\\n",
       "\t2 & 150 & 53\\\\\n",
       "\t3 & 152 & 54\\\\\n",
       "\t4 & 155 & 56\\\\\n",
       "\t5 & 157 & 57\\\\\n",
       "\t6 & 160 & 59\\\\\n",
       "\\end{tabular}\n"
      ],
      "text/markdown": [
       "\n",
       "A data.frame: 6 × 2\n",
       "\n",
       "| <!--/--> | Taille &lt;dbl&gt; | Poids &lt;dbl&gt; |\n",
       "|---|---|---|\n",
       "| 1 | 147 | 52 |\n",
       "| 2 | 150 | 53 |\n",
       "| 3 | 152 | 54 |\n",
       "| 4 | 155 | 56 |\n",
       "| 5 | 157 | 57 |\n",
       "| 6 | 160 | 59 |\n",
       "\n"
      ],
      "text/plain": [
       "  Taille Poids\n",
       "1 147    52   \n",
       "2 150    53   \n",
       "3 152    54   \n",
       "4 155    56   \n",
       "5 157    57   \n",
       "6 160    59   "
      ]
     },
     "metadata": {},
     "output_type": "display_data"
    }
   ],
   "source": [
    "datas = data.frame(Taille = c(147 , 150 , 152 , 155 , 157 , 160 , 163 , 165 , 168 , 170 , 173 , 175 , 178 , 180 , 183), \n",
    "                                Poids = c(52 , 53 , 54 , 56 , 57 , 59 , 60 , 61 , 63 , 64 , 66 , 68 , 70 , 72 , 74))\n",
    "head(datas)"
   ]
  },
  {
   "cell_type": "code",
   "execution_count": 18,
   "id": "7786f49b",
   "metadata": {},
   "outputs": [
    {
     "data": {
      "text/html": [
       "61.9333333333333"
      ],
      "text/latex": [
       "61.9333333333333"
      ],
      "text/markdown": [
       "61.9333333333333"
      ],
      "text/plain": [
       "[1] 61.93333"
      ]
     },
     "metadata": {},
     "output_type": "display_data"
    }
   ],
   "source": [
    "mean(datas$Poids) # calcule la moyenne de la colonne \"Poids\" "
   ]
  },
  {
   "cell_type": "markdown",
   "id": "fa016acf-29c7-4f54-9851-a3ae5130028d",
   "metadata": {},
   "source": [
    "Si par exemple, on souhaite appliquer une même fonction à toutes les colonnes d'un `data.frame`, on peut utiliser la fonction `lapply` qui prend en argument une `list` et qui applique une même fonction à tous les arguments. Puisqu'un `data.frame` est une liste, cela fonctionne comme espéré."
   ]
  },
  {
   "cell_type": "code",
   "execution_count": 19,
   "id": "68cfb44c-d8e3-4070-8eb2-d1421a9037e0",
   "metadata": {},
   "outputs": [
    {
     "data": {
      "text/html": [
       "<dl>\n",
       "\t<dt>$Taille</dt>\n",
       "\t\t<dd>165.066666666667</dd>\n",
       "\t<dt>$Poids</dt>\n",
       "\t\t<dd>61.9333333333333</dd>\n",
       "</dl>\n"
      ],
      "text/latex": [
       "\\begin{description}\n",
       "\\item[\\$Taille] 165.066666666667\n",
       "\\item[\\$Poids] 61.9333333333333\n",
       "\\end{description}\n"
      ],
      "text/markdown": [
       "$Taille\n",
       ":   165.066666666667\n",
       "$Poids\n",
       ":   61.9333333333333\n",
       "\n",
       "\n"
      ],
      "text/plain": [
       "$Taille\n",
       "[1] 165.0667\n",
       "\n",
       "$Poids\n",
       "[1] 61.93333\n"
      ]
     },
     "metadata": {},
     "output_type": "display_data"
    }
   ],
   "source": [
    "lapply(datas, mean)"
   ]
  },
  {
   "cell_type": "code",
   "execution_count": 20,
   "id": "fb67a5c1",
   "metadata": {},
   "outputs": [
    {
     "data": {
      "text/html": [
       "<dl>\n",
       "\t<dt>$Taille</dt>\n",
       "\t\t<dd>165</dd>\n",
       "\t<dt>$Poids</dt>\n",
       "\t\t<dd>61</dd>\n",
       "</dl>\n"
      ],
      "text/latex": [
       "\\begin{description}\n",
       "\\item[\\$Taille] 165\n",
       "\\item[\\$Poids] 61\n",
       "\\end{description}\n"
      ],
      "text/markdown": [
       "$Taille\n",
       ":   165\n",
       "$Poids\n",
       ":   61\n",
       "\n",
       "\n"
      ],
      "text/plain": [
       "$Taille\n",
       "[1] 165\n",
       "\n",
       "$Poids\n",
       "[1] 61\n"
      ]
     },
     "metadata": {},
     "output_type": "display_data"
    }
   ],
   "source": [
    "lapply(datas, median)"
   ]
  },
  {
   "cell_type": "code",
   "execution_count": null,
   "id": "ae686490-02ca-449b-a9d4-235407c826a3",
   "metadata": {
    "jupyter": {
     "source_hidden": true
    },
    "tags": []
   },
   "outputs": [],
   "source": []
  },
  {
   "cell_type": "markdown",
   "id": "26a601c0-1aeb-431c-8fad-cea147e28b8f",
   "metadata": {},
   "source": [
    "La fonction `hist` permet de produire facilement un histogramme. Par exemple"
   ]
  },
  {
   "cell_type": "code",
   "execution_count": 25,
   "id": "e06d6170",
   "metadata": {},
   "outputs": [
    {
     "data": {
      "image/png": "[encoded data removed]",
      "text/plain": [
       "Plot with title “Histogramme du poids”"
      ]
     },
     "metadata": {
      "filenames": {
       "image/png": "/Users/kieranvaudaux/Desktop/EPFL/MATH 234 (d)/ProbaStat/book/_build/jupyter_execute/Tutoriel_R_79_0.png"
      },
      "image/png": {
       "height": 420,
       "width": 420
      }
     },
     "output_type": "display_data"
    }
   ],
   "source": [
    "hist(datas$Poids, main = \"Histogramme du poids\", xlab = \"Poids\")"
   ]
  },
  {
   "cell_type": "markdown",
   "id": "d7329ed4-4893-4040-a9ce-0b6ebd89c497",
   "metadata": {},
   "source": [
    "Un nuage de points s'obtient en utilisant la fonction `plot`"
   ]
  },
  {
   "cell_type": "code",
   "execution_count": 26,
   "id": "27a03f3d",
   "metadata": {},
   "outputs": [
    {
     "data": {
      "image/png": "[encoded data removed]",
      "text/plain": [
       "plot without title"
      ]
     },
     "metadata": {
      "filenames": {
       "image/png": "/Users/kieranvaudaux/Desktop/EPFL/MATH 234 (d)/ProbaStat/book/_build/jupyter_execute/Tutoriel_R_81_0.png"
      },
      "image/png": {
       "height": 420,
       "width": 420
      }
     },
     "output_type": "display_data"
    }
   ],
   "source": [
    "plot(x=datas$Taille, y=datas$Poids)"
   ]
  },
  {
   "cell_type": "markdown",
   "id": "b5a6f322-34c7-4a21-a5aa-3e6a26dbb6a5",
   "metadata": {},
   "source": [
    "Parfois, lorsque l'on travaille avec un `data.frame`, il est utile de s'éviter de devoir systématiquement appeler le data.frame. Cela se fait via la fonction `with`."
   ]
  },
  {
   "cell_type": "code",
   "execution_count": 29,
   "id": "75ddd0b6-a6cd-4cb7-83b4-eb3b82ca1082",
   "metadata": {},
   "outputs": [
    {
     "data": {
      "image/png": "[encoded data removed]",
      "text/plain": [
       "plot without title"
      ]
     },
     "metadata": {
      "filenames": {
       "image/png": "/Users/kieranvaudaux/Desktop/EPFL/MATH 234 (d)/ProbaStat/book/_build/jupyter_execute/Tutoriel_R_83_0.png"
      },
      "image/png": {
       "height": 420,
       "width": 420
      }
     },
     "output_type": "display_data"
    }
   ],
   "source": [
    "with(datas, plot(x = Taille, y = Poids)) # with prend comme premier argument le nom de l'environnement,\n",
    "# puis l'expression à évaluer"
   ]
  },
  {
   "cell_type": "markdown",
   "id": "8a37b9a6",
   "metadata": {},
   "source": [
    "### Opérations numériques\n",
    "\n",
    "La fonction `numeric(n)` renvoie un vecteur de `n` chiffres, tous égaux à 0. \n",
    "\n"
   ]
  },
  {
   "cell_type": "code",
   "execution_count": 30,
   "id": "d66db802",
   "metadata": {},
   "outputs": [
    {
     "data": {
      "text/html": [
       "<style>\n",
       ".list-inline {list-style: none; margin:0; padding: 0}\n",
       ".list-inline>li {display: inline-block}\n",
       ".list-inline>li:not(:last-child)::after {content: \"\\00b7\"; padding: 0 .5ex}\n",
       "</style>\n",
       "<ol class=list-inline><li>0</li><li>0</li><li>0</li><li>0</li><li>0</li><li>0</li><li>0</li><li>0</li><li>0</li><li>0</li></ol>\n"
      ],
      "text/latex": [
       "\\begin{enumerate*}\n",
       "\\item 0\n",
       "\\item 0\n",
       "\\item 0\n",
       "\\item 0\n",
       "\\item 0\n",
       "\\item 0\n",
       "\\item 0\n",
       "\\item 0\n",
       "\\item 0\n",
       "\\item 0\n",
       "\\end{enumerate*}\n"
      ],
      "text/markdown": [
       "1. 0\n",
       "2. 0\n",
       "3. 0\n",
       "4. 0\n",
       "5. 0\n",
       "6. 0\n",
       "7. 0\n",
       "8. 0\n",
       "9. 0\n",
       "10. 0\n",
       "\n",
       "\n"
      ],
      "text/plain": [
       " [1] 0 0 0 0 0 0 0 0 0 0"
      ]
     },
     "metadata": {},
     "output_type": "display_data"
    }
   ],
   "source": [
    "numeric(10)"
   ]
  },
  {
   "cell_type": "code",
   "execution_count": 59,
   "id": "bf37cda9",
   "metadata": {},
   "outputs": [
    {
     "name": "stdout",
     "output_type": "stream",
     "text": [
      "[0. 0. 0. 0. 0. 0. 0. 0. 0. 0.]\n"
     ]
    }
   ],
   "source": []
  },
  {
   "cell_type": "code",
   "execution_count": 31,
   "id": "4217fb97",
   "metadata": {},
   "outputs": [
    {
     "data": {
      "text/html": [
       "3"
      ],
      "text/latex": [
       "3"
      ],
      "text/markdown": [
       "3"
      ],
      "text/plain": [
       "[1] 3"
      ]
     },
     "metadata": {},
     "output_type": "display_data"
    }
   ],
   "source": [
    "X = c(1,2,3,4,5)\n",
    "mean(X)   #mean est la fonction pour calculer la moyenne d'un vecteur"
   ]
  },
  {
   "cell_type": "code",
   "execution_count": 38,
   "id": "d0c1008b",
   "metadata": {},
   "outputs": [
    {
     "data": {
      "text/html": [
       "-6"
      ],
      "text/latex": [
       "-6"
      ],
      "text/markdown": [
       "-6"
      ],
      "text/plain": [
       "[1] -6"
      ]
     },
     "metadata": {},
     "output_type": "display_data"
    },
    {
     "name": "stdout",
     "output_type": "stream",
     "text": [
      "[1] -0.1666667  0.0000000  0.1666667\n"
     ]
    }
   ],
   "source": [
    "M = matrix(c(1,2,3,3,5,6,7,8,9), nc = 3)\n",
    "y = c(1,1,1)\n",
    "det(M) # calcule le déterminant de M\n",
    "x = solve(M,y) # résout l'équation Ax = y\n",
    "print(x) # affiche la solution x"
   ]
  },
  {
   "cell_type": "code",
   "execution_count": 43,
   "id": "6cd3e82f",
   "metadata": {},
   "outputs": [
    {
     "data": {
      "text/html": [
       "<style>\n",
       ".list-inline {list-style: none; margin:0; padding: 0}\n",
       ".list-inline>li {display: inline-block}\n",
       ".list-inline>li:not(:last-child)::after {content: \"\\00b7\"; padding: 0 .5ex}\n",
       "</style>\n",
       "<ol class=list-inline><li>3</li><li>3</li></ol>\n"
      ],
      "text/latex": [
       "\\begin{enumerate*}\n",
       "\\item 3\n",
       "\\item 3\n",
       "\\end{enumerate*}\n"
      ],
      "text/markdown": [
       "1. 3\n",
       "2. 3\n",
       "\n",
       "\n"
      ],
      "text/plain": [
       "[1] 3 3"
      ]
     },
     "metadata": {},
     "output_type": "display_data"
    }
   ],
   "source": [
    "dim(M) # renvoit la taille de M: matrice 3x3"
   ]
  },
  {
   "cell_type": "code",
   "execution_count": 41,
   "id": "b6ea994e",
   "metadata": {},
   "outputs": [
    {
     "data": {
      "text/html": [
       "<style>\n",
       ".list-inline {list-style: none; margin:0; padding: 0}\n",
       ".list-inline>li {display: inline-block}\n",
       ".list-inline>li:not(:last-child)::after {content: \"\\00b7\"; padding: 0 .5ex}\n",
       "</style>\n",
       "<ol class=list-inline><li>11</li><li>15</li><li>18</li></ol>\n"
      ],
      "text/latex": [
       "\\begin{enumerate*}\n",
       "\\item 11\n",
       "\\item 15\n",
       "\\item 18\n",
       "\\end{enumerate*}\n"
      ],
      "text/markdown": [
       "1. 11\n",
       "2. 15\n",
       "3. 18\n",
       "\n",
       "\n"
      ],
      "text/plain": [
       "[1] 11 15 18"
      ]
     },
     "metadata": {},
     "output_type": "display_data"
    },
    {
     "data": {
      "text/html": [
       "<style>\n",
       ".list-inline {list-style: none; margin:0; padding: 0}\n",
       ".list-inline>li {display: inline-block}\n",
       ".list-inline>li:not(:last-child)::after {content: \"\\00b7\"; padding: 0 .5ex}\n",
       "</style>\n",
       "<ol class=list-inline><li>6</li><li>14</li><li>24</li></ol>\n"
      ],
      "text/latex": [
       "\\begin{enumerate*}\n",
       "\\item 6\n",
       "\\item 14\n",
       "\\item 24\n",
       "\\end{enumerate*}\n"
      ],
      "text/markdown": [
       "1. 6\n",
       "2. 14\n",
       "3. 24\n",
       "\n",
       "\n"
      ],
      "text/plain": [
       "[1]  6 14 24"
      ]
     },
     "metadata": {},
     "output_type": "display_data"
    }
   ],
   "source": [
    "rowSums(M) # permet de faire la somme sur les lignes\n",
    "colSums(M) # permet de faire la somme sur les colonne"
   ]
  },
  {
   "cell_type": "code",
   "execution_count": 42,
   "id": "518274cb",
   "metadata": {},
   "outputs": [
    {
     "data": {
      "text/html": [
       "<table class=\"dataframe\">\n",
       "<caption>A matrix: 3 × 3 of type dbl</caption>\n",
       "<tbody>\n",
       "\t<tr><td>1</td><td>2</td><td>3</td></tr>\n",
       "\t<tr><td>3</td><td>5</td><td>6</td></tr>\n",
       "\t<tr><td>7</td><td>8</td><td>9</td></tr>\n",
       "</tbody>\n",
       "</table>\n"
      ],
      "text/latex": [
       "A matrix: 3 × 3 of type dbl\n",
       "\\begin{tabular}{lll}\n",
       "\t 1 & 2 & 3\\\\\n",
       "\t 3 & 5 & 6\\\\\n",
       "\t 7 & 8 & 9\\\\\n",
       "\\end{tabular}\n"
      ],
      "text/markdown": [
       "\n",
       "A matrix: 3 × 3 of type dbl\n",
       "\n",
       "| 1 | 2 | 3 |\n",
       "| 3 | 5 | 6 |\n",
       "| 7 | 8 | 9 |\n",
       "\n"
      ],
      "text/plain": [
       "     [,1] [,2] [,3]\n",
       "[1,] 1    2    3   \n",
       "[2,] 3    5    6   \n",
       "[3,] 7    8    9   "
      ]
     },
     "metadata": {},
     "output_type": "display_data"
    }
   ],
   "source": [
    "t(M) # matrice transposée de M"
   ]
  },
  {
   "cell_type": "markdown",
   "id": "e1447279",
   "metadata": {},
   "source": [
    "### Plots\n",
    "\n",
    "R gère de manière native des graphiques performants et relativement intuitifs."
   ]
  },
  {
   "cell_type": "code",
   "execution_count": 1,
   "id": "77282c36",
   "metadata": {},
   "outputs": [
    {
     "data": {
      "image/png": "[encoded data removed]",
      "text/plain": [
       "plot without title"
      ]
     },
     "metadata": {
      "filenames": {
       "image/png": "/Users/kieranvaudaux/Desktop/EPFL/MATH 234 (d)/ProbaStat/book/_build/jupyter_execute/Tutoriel_R_93_0.png"
      },
      "image/png": {
       "height": 420,
       "width": 420
      }
     },
     "output_type": "display_data"
    }
   ],
   "source": [
    "x = c(1, 2, 3, 4)\n",
    "y = c(1, 4, 9, 16)\n",
    "plot(x,y)"
   ]
  },
  {
   "cell_type": "markdown",
   "id": "9b6e6198",
   "metadata": {},
   "source": [
    "Quelques autres exemples. Il est aussi possible de personnaliser le style des graphiques de manière très complète."
   ]
  },
  {
   "cell_type": "code",
   "execution_count": 9,
   "id": "0ce29878",
   "metadata": {},
   "outputs": [
    {
     "data": {
      "image/png": "[encoded data removed]",
      "text/plain": [
       "Plot with title “”"
      ]
     },
     "metadata": {
      "filenames": {
       "image/png": "/Users/kieranvaudaux/Desktop/EPFL/MATH 234 (d)/ProbaStat/book/_build/jupyter_execute/Tutoriel_R_95_0.png"
      },
      "image/png": {
       "height": 420,
       "width": 420
      }
     },
     "output_type": "display_data"
    }
   ],
   "source": [
    "\n",
    "# vecteurs de points equidistants\n",
    "t = seq(0., 1, 0.05)\n",
    "ft <- sin(2* pi *t)\n",
    "# une droite\n",
    "plot(t, t, type = \"l\", xlim = c(0,1), xlab = \"Some value\", main = \"\")\n",
    "# à laquelle on ajoute des points\n",
    "points(t,t, pch = 19, col = \"red\")\n",
    "# on joute une droite en traits tillés du sinus\n",
    "lines(t, ft, lty = 2)\n",
    "# the function legend adds a legend\n",
    "legend(\"topleft\", legend = c(\"A nice line\", \"some points\"), lty = c(1,NA), pch = c(NA, 19), col = c(\"black\", \"red\"))\n",
    "# l'argument lty correspond au type de ligne : la première est une ligne continue, correspondant à la valeur 1\n",
    "# le second n'est pas une ligne (c'est un point), donc nous fixons la seconde valeur à NA\n",
    "# l'argument pch correspond au type de point : le premier n'est pas un point mais une ligne, donc on met la deuxième valeur à NA.\n",
    "# le second est un point correspondant au type de point 19, tel que défini dans la fonction points ci-dessus. \n",
    "\n"
   ]
  },
  {
   "cell_type": "markdown",
   "id": "3c49bee1-de67-4a37-a279-0374bfe3af98",
   "metadata": {},
   "source": [
    "On voit sur le graphique précédent que puisque l'affiche se fait de manière séquentielle puisque d'abord on créé le graphique puis on y ajoute la courbe du sinus, l'échelle est celle fixée automatiquement lors de la création du graphique par la commande `plot`. Pour pouvoir afficher le sinus, il faut anticiper les limites du graphique avant de créer le graphique. Cela peut se faire à l'aide de la fonction `range`."
   ]
  },
  {
   "cell_type": "code",
   "execution_count": 2,
   "id": "4b4a9e0a-a637-4ad9-b1aa-fad5a65b5ea6",
   "metadata": {},
   "outputs": [
    {
     "data": {
      "image/png": "[encoded data removed]",
      "text/plain": [
       "Plot with title “A nice title”"
      ]
     },
     "metadata": {
      "filenames": {
       "image/png": "/Users/kieranvaudaux/Desktop/EPFL/MATH 234 (d)/ProbaStat/book/_build/jupyter_execute/Tutoriel_R_97_0.png"
      },
      "image/png": {
       "height": 420,
       "width": 420
      }
     },
     "output_type": "display_data"
    }
   ],
   "source": [
    "# evenly sampled time at 200ms intervals\n",
    "t = seq(0., 1, length = 100)\n",
    "# on créé un vecteur de translations\n",
    "shift_seq <- seq(0,2 * pi, length.out = 7)\n",
    "# on déclare une matrice de NA en spécifiant ses composantes\n",
    "shifted_sine <- matrix(NA, nr = length(t), nc = length(shift_seq)) \n",
    "for(i in seq_along(shift_seq))\n",
    "{\n",
    "    shifted_sine[,i] <- sin(2* pi *t + shift_seq[i]) # on pose que la ieme colonne est ce vecteur\n",
    "}\n",
    "limits_y <- range(c(shifted_sine, t)) # on concatène les valeurs a grapher et on en prend le min et le max\n",
    "plot(t, t, type = \"l\", xlim = c(0,1), xlab = \"Some value\", ylim = limits_y, main = \"A nice title\")\n",
    "points(t[seq(1, length(t), 5)],t[seq(1, length(t), 5)], pch = 19, col = \"red\")\n",
    "for(i in seq_along(shift_seq))\n",
    "{\n",
    "    lines(t, shifted_sine[,i], lty = i, col = i)\n",
    "}\n",
    "legend(\"topleft\", legend = c(rep(\"A nice line\", length = length(shift_seq)), \"some points\"),\n",
    "       lty = c(seq_along(shift_seq),NA), pch = c(rep(NA, length = length(shift_seq)), 19),\n",
    "       col = c(seq_along(shift_seq), \"red\"),bg=\"transparent\")\n"
   ]
  },
  {
   "cell_type": "markdown",
   "id": "82c9bc6d",
   "metadata": {},
   "source": [
    "Un exemple d'histogramme:"
   ]
  },
  {
   "cell_type": "code",
   "execution_count": 3,
   "id": "db586c19",
   "metadata": {},
   "outputs": [
    {
     "data": {
      "image/png": "[encoded data removed]",
      "text/plain": [
       "Plot with title “Histogramme de QIs”"
      ]
     },
     "metadata": {
      "filenames": {
       "image/png": "/Users/kieranvaudaux/Desktop/EPFL/MATH 234 (d)/ProbaStat/book/_build/jupyter_execute/Tutoriel_R_99_0.png"
      },
      "image/png": {
       "height": 420,
       "width": 420
      }
     },
     "output_type": "display_data"
    }
   ],
   "source": [
    "mu = 100; sigma = 15\n",
    "x = mu + sigma * rnorm(10000)\n",
    "\n",
    "# the histogram of the data\n",
    "hist(x, main = \"Histogramme de QIs\")\n"
   ]
  },
  {
   "cell_type": "markdown",
   "id": "83890f0d",
   "metadata": {},
   "source": [
    "### Recherches sur les librairies avec help\n",
    "\n",
    "Vous pouvez directement rechercher des informations sur les fonctions des packages installés (mais pas nécessairement chargés). Cela se fait via la commande `?` ou `help`.\n",
    "Par ailleurs, il est possible d'utiliser la commande `??` pour rechercher dans l'aide certains mot-clés."
   ]
  },
  {
   "cell_type": "code",
   "execution_count": 4,
   "id": "a693f0bc",
   "metadata": {},
   "outputs": [
    {
     "data": {
      "text/html": [
       "\n",
       "<table style=\"width: 100%;\"><tr><td>plot.default {graphics}</td><td style=\"text-align: right;\">R Documentation</td></tr></table>\n",
       "\n",
       "<h2>The Default Scatterplot Function</h2>\n",
       "\n",
       "<h3>Description</h3>\n",
       "\n",
       "<p>Draw a scatter plot with decorations such as axes and titles\n",
       "in the active graphics window.\n",
       "</p>\n",
       "\n",
       "\n",
       "<h3>Usage</h3>\n",
       "\n",
       "<pre><code class='language-R'>## Default S3 method:\n",
       "plot(x, y = NULL, type = \"p\",  xlim = NULL, ylim = NULL,\n",
       "     log = \"\", main = NULL, sub = NULL, xlab = NULL, ylab = NULL,\n",
       "     ann = par(\"ann\"), axes = TRUE, frame.plot = axes,\n",
       "     panel.first = NULL, panel.last = NULL, asp = NA,\n",
       "     xgap.axis = NA, ygap.axis = NA,\n",
       "     ...)\n",
       "</code></pre>\n",
       "\n",
       "\n",
       "<h3>Arguments</h3>\n",
       "\n",
       "<table>\n",
       "<tr style=\"vertical-align: top;\"><td><code>x, y</code></td>\n",
       "<td>\n",
       "<p>the <code>x</code> and <code>y</code> arguments provide the x and y\n",
       "coordinates for the plot.  Any reasonable way of defining the\n",
       "coordinates is acceptable.  See the function <code>xy.coords</code>\n",
       "for details.  If supplied separately, they must be of the same length.</p>\n",
       "</td></tr>\n",
       "<tr style=\"vertical-align: top;\"><td><code>type</code></td>\n",
       "<td>\n",
       "<p>1-character string giving the type of plot desired.  The\n",
       "following values are possible, for details, see <code>plot</code>:\n",
       "<code>\"p\"</code> for points, <code>\"l\"</code> for lines,\n",
       "<code>\"b\"</code> for both points and lines,\n",
       "<code>\"c\"</code> for empty points joined by lines,\n",
       "<code>\"o\"</code> for overplotted points and lines,\n",
       "<code>\"s\"</code> and <code>\"S\"</code> for stair steps and\n",
       "<code>\"h\"</code> for histogram-like vertical lines.  Finally,\n",
       "<code>\"n\"</code> does not produce any points or lines.</p>\n",
       "</td></tr>\n",
       "<tr style=\"vertical-align: top;\"><td><code>xlim</code></td>\n",
       "<td>\n",
       "<p>the x limits (x1, x2) of the plot.  Note that <code>x1 &gt; x2</code>\n",
       "is allowed and leads to a &lsquo;reversed axis&rsquo;.\n",
       "</p>\n",
       "<p>The default value, <code>NULL</code>, indicates that the range of the\n",
       "finite values to be plotted should be used.</p>\n",
       "</td></tr>\n",
       "<tr style=\"vertical-align: top;\"><td><code>ylim</code></td>\n",
       "<td>\n",
       "<p>the y limits of the plot.</p>\n",
       "</td></tr>\n",
       "<tr style=\"vertical-align: top;\"><td><code>log</code></td>\n",
       "<td>\n",
       "<p>a character string which contains <code>\"x\"</code> if the x axis\n",
       "is to be logarithmic, <code>\"y\"</code> if the y axis is to be logarithmic\n",
       "and <code>\"xy\"</code> or <code>\"yx\"</code> if both axes are to be logarithmic.</p>\n",
       "</td></tr>\n",
       "<tr style=\"vertical-align: top;\"><td><code>main</code></td>\n",
       "<td>\n",
       "<p>a main title for the plot, see also <code>title</code>.</p>\n",
       "</td></tr>\n",
       "<tr style=\"vertical-align: top;\"><td><code>sub</code></td>\n",
       "<td>\n",
       "<p>a subtitle for the plot.</p>\n",
       "</td></tr>\n",
       "<tr style=\"vertical-align: top;\"><td><code>xlab</code></td>\n",
       "<td>\n",
       "<p>a label for the x axis, defaults to a description of <code>x</code>.</p>\n",
       "</td></tr>\n",
       "<tr style=\"vertical-align: top;\"><td><code>ylab</code></td>\n",
       "<td>\n",
       "<p>a label for the y axis, defaults to a description of <code>y</code>.</p>\n",
       "</td></tr>\n",
       "<tr style=\"vertical-align: top;\"><td><code>ann</code></td>\n",
       "<td>\n",
       "<p>a logical value indicating whether the default annotation\n",
       "(title and x and y axis labels) should appear on the plot.</p>\n",
       "</td></tr>\n",
       "<tr style=\"vertical-align: top;\"><td><code>axes</code></td>\n",
       "<td>\n",
       "<p>a logical value indicating whether both axes should be drawn on\n",
       "the plot.  Use graphical parameter <code>\"xaxt\"</code> or <code>\"yaxt\"</code>\n",
       "to suppress just one of the axes.</p>\n",
       "</td></tr>\n",
       "<tr style=\"vertical-align: top;\"><td><code>frame.plot</code></td>\n",
       "<td>\n",
       "<p>a logical indicating whether a box should be drawn\n",
       "around the plot.</p>\n",
       "</td></tr>\n",
       "<tr style=\"vertical-align: top;\"><td><code>panel.first</code></td>\n",
       "<td>\n",
       "<p>an &lsquo;expression&rsquo; to be evaluated after the\n",
       "plot axes are set up but before any plotting takes place.  This can\n",
       "be useful for drawing background grids or scatterplot smooths.  Note\n",
       "that this works by lazy evaluation: passing this argument from other\n",
       "<code>plot</code> methods may well not work since it may be evaluated too\n",
       "early.</p>\n",
       "</td></tr>\n",
       "<tr style=\"vertical-align: top;\"><td><code>panel.last</code></td>\n",
       "<td>\n",
       "<p>an expression to be evaluated after plotting has\n",
       "taken place but before the axes, title and box are added.  See the\n",
       "comments about <code>panel.first</code>.</p>\n",
       "</td></tr>\n",
       "<tr style=\"vertical-align: top;\"><td><code>asp</code></td>\n",
       "<td>\n",
       "<p>the <code class=\"reqn\">y/x</code> aspect ratio, see <code>plot.window</code>.</p>\n",
       "</td></tr>\n",
       "<tr style=\"vertical-align: top;\"><td><code>xgap.axis, ygap.axis</code></td>\n",
       "<td>\n",
       "<p>the <code class=\"reqn\">x/y</code> axis gap factors, passed as\n",
       "<code>gap.axis</code> to the two <code>axis()</code> calls (when\n",
       "<code>axes</code> is true, as per default).</p>\n",
       "</td></tr>\n",
       "<tr style=\"vertical-align: top;\"><td><code>...</code></td>\n",
       "<td>\n",
       "<p>other graphical parameters (see <code>par</code> and\n",
       "section &lsquo;Details&rsquo; below).</p>\n",
       "</td></tr>\n",
       "</table>\n",
       "\n",
       "\n",
       "<h3>Details</h3>\n",
       "\n",
       "<p>Commonly used graphical parameters are:\n",
       "</p>\n",
       "\n",
       "<dl>\n",
       "<dt><code>col</code></dt><dd><p>The colors for lines and points.  Multiple colors can be\n",
       "specified so that each point can be given its own color.  If there\n",
       "are fewer colors than points they are recycled in the standard\n",
       "fashion.  Lines will all be plotted in the first colour specified.</p>\n",
       "</dd>\n",
       "<dt><code>bg</code></dt><dd><p>a vector of background colors for open plot symbols, see\n",
       "<code>points</code>.  Note: this is <b>not</b> the same setting\n",
       "as <code>par(\"bg\")</code>.</p>\n",
       "</dd>\n",
       "<dt><code>pch</code></dt><dd><p>a vector of plotting characters or symbols:\n",
       "see <code>points</code>.</p>\n",
       "</dd>\n",
       "<dt><code>cex</code></dt><dd><p>a numerical vector giving the amount by which\n",
       "plotting characters and symbols should be scaled relative to the\n",
       "default.  This works as a multiple of <code>par(\"cex\")</code>.\n",
       "<code>NULL</code> and <code>NA</code> are equivalent to <code>1.0</code>.  Note that\n",
       "this does not affect annotation: see below.</p>\n",
       "</dd>\n",
       "<dt><code>lty</code></dt><dd><p>a vector of line types, see <code>par</code>.</p>\n",
       "</dd>\n",
       "<dt><code>cex.main</code>, <code>col.lab</code>, <code>font.sub</code>,\n",
       "etc</dt><dd><p>settings for main- and sub-title and axis annotation, see\n",
       "<code>title</code> and <code>par</code>.</p>\n",
       "</dd>\n",
       "<dt><code>lwd</code></dt><dd><p>a vector of line widths, see <code>par</code>.</p>\n",
       "</dd>\n",
       "</dl>\n",
       "\n",
       "\n",
       "\n",
       "<h3>Note</h3>\n",
       "\n",
       "<p>The presence of <code>panel.first</code> and <code>panel.last</code> is a\n",
       "historical anomaly: default plots do not have &lsquo;panels&rsquo;, unlike\n",
       "e.g. <code>pairs</code> plots.  For more control, use lower-level\n",
       "plotting functions: <code>plot.default</code> calls in turn some of\n",
       "<code>plot.new</code>, <code>plot.window</code>,\n",
       "<code>plot.xy</code>, <code>axis</code>, <code>box</code> and\n",
       "<code>title</code>, and plots can be built up by calling these\n",
       "individually, or by calling <code>plot(type = \"n\")</code> and adding further\n",
       "elements.\n",
       "</p>\n",
       "<p>The <code>plot</code> generic was moved from the <span class=\"pkg\">graphics</span> package to\n",
       "the <span class=\"pkg\">base</span> package in <span style=\"font-family: Courier New, Courier; color: #666666;\"><b>R</b></span> 4.0.0. It is currently re-exported from\n",
       "the <span class=\"pkg\">graphics</span> namespace to allow packages importing it from there\n",
       "to continue working, but this may change in future versions of <span style=\"font-family: Courier New, Courier; color: #666666;\"><b>R</b></span>.\n",
       "</p>\n",
       "\n",
       "\n",
       "<h3>References</h3>\n",
       "\n",
       "<p>Becker, R. A., Chambers, J. M. and Wilks, A. R. (1988)\n",
       "<em>The New S Language</em>.\n",
       "Wadsworth &amp; Brooks/Cole.\n",
       "</p>\n",
       "<p>Cleveland, W. S. (1985)\n",
       "<em>The Elements of Graphing Data.</em>\n",
       "Monterey, CA: Wadsworth.\n",
       "</p>\n",
       "<p>Murrell, P. (2005) <em>R Graphics</em>. Chapman &amp; Hall/CRC Press.\n",
       "</p>\n",
       "\n",
       "\n",
       "<h3>See Also</h3>\n",
       "\n",
       "<p><code>plot</code>, <code>plot.window</code>, <code>xy.coords</code>.\n",
       "For thousands of points, consider using <code>smoothScatter</code>\n",
       "instead.\n",
       "</p>\n",
       "\n",
       "\n",
       "<h3>Examples</h3>\n",
       "\n",
       "<pre><code class='language-R'>Speed &lt;- cars$speed\n",
       "Distance &lt;- cars$dist\n",
       "plot(Speed, Distance, panel.first = grid(8, 8),\n",
       "     pch = 0, cex = 1.2, col = \"blue\")\n",
       "plot(Speed, Distance,\n",
       "     panel.first = lines(stats::lowess(Speed, Distance), lty = \"dashed\"),\n",
       "     pch = 0, cex = 1.2, col = \"blue\")\n",
       "\n",
       "## Show the different plot types\n",
       "x &lt;- 0:12\n",
       "y &lt;- sin(pi/5 * x)\n",
       "op &lt;- par(mfrow = c(3,3), mar = .1+ c(2,2,3,1))\n",
       "for (tp in c(\"p\",\"l\",\"b\",  \"c\",\"o\",\"h\",  \"s\",\"S\",\"n\")) {\n",
       "   plot(y ~ x, type = tp, main = paste0(\"plot(*, type = \\\"\", tp, \"\\\")\"))\n",
       "   if(tp == \"S\") {\n",
       "      lines(x, y, type = \"s\", col = \"red\", lty = 2)\n",
       "      mtext(\"lines(*, type = \\\"s\\\", ...)\", col = \"red\", cex = 0.8)\n",
       "   }\n",
       "}\n",
       "par(op)\n",
       "\n",
       "##--- Log-Log Plot  with  custom axes\n",
       "lx &lt;- seq(1, 5, length.out = 41)\n",
       "yl &lt;- expression(e^{-frac(1,2) * {log[10](x)}^2})\n",
       "y &lt;- exp(-.5*lx^2)\n",
       "op &lt;- par(mfrow = c(2,1), mar = par(\"mar\")-c(1,0,2,0), mgp = c(2, .7, 0))\n",
       "plot(10^lx, y, log = \"xy\", type = \"l\", col = \"purple\",\n",
       "     main = \"Log-Log plot\", ylab = yl, xlab = \"x\")\n",
       "plot(10^lx, y, log = \"xy\", type = \"o\", pch = \".\", col = \"forestgreen\",\n",
       "     main = \"Log-Log plot with custom axes\", ylab = yl, xlab = \"x\",\n",
       "     axes = FALSE, frame.plot = TRUE)\n",
       "my.at &lt;- 10^(1:5)\n",
       "axis(1, at = my.at, labels = formatC(my.at, format = \"fg\"))\n",
       "e.y &lt;- -5:-1 ; at.y &lt;- 10^e.y\n",
       "axis(2, at = at.y, col.axis = \"red\", las = 1,\n",
       "     labels = as.expression(lapply(e.y, function(E) bquote(10^.(E)))))\n",
       "par(op)\n",
       "</code></pre>\n",
       "\n",
       "<hr /><div style=\"text-align: center;\">[Package <em>graphics</em> version 4.2.2 ]</div>\n",
       "</div>"
      ],
      "text/latex": [
       "\\inputencoding{utf8}\n",
       "\\HeaderA{plot.default}{The Default Scatterplot Function}{plot.default}\n",
       "\\aliasA{plot}{plot.default}{plot}\n",
       "\\keyword{hplot}{plot.default}\n",
       "%\n",
       "\\begin{Description}\\relax\n",
       "Draw a scatter plot with decorations such as axes and titles\n",
       "in the active graphics window.\n",
       "\\end{Description}\n",
       "%\n",
       "\\begin{Usage}\n",
       "\\begin{verbatim}\n",
       "## Default S3 method:\n",
       "plot(x, y = NULL, type = \"p\",  xlim = NULL, ylim = NULL,\n",
       "     log = \"\", main = NULL, sub = NULL, xlab = NULL, ylab = NULL,\n",
       "     ann = par(\"ann\"), axes = TRUE, frame.plot = axes,\n",
       "     panel.first = NULL, panel.last = NULL, asp = NA,\n",
       "     xgap.axis = NA, ygap.axis = NA,\n",
       "     ...)\n",
       "\\end{verbatim}\n",
       "\\end{Usage}\n",
       "%\n",
       "\\begin{Arguments}\n",
       "\\begin{ldescription}\n",
       "\\item[\\code{x, y}] the \\code{x} and \\code{y} arguments provide the x and y\n",
       "coordinates for the plot.  Any reasonable way of defining the\n",
       "coordinates is acceptable.  See the function \\code{\\LinkA{xy.coords}{xy.coords}}\n",
       "for details.  If supplied separately, they must be of the same length.\n",
       "\\item[\\code{type}] 1-character string giving the type of plot desired.  The\n",
       "following values are possible, for details, see \\code{\\LinkA{plot}{plot}}:\n",
       "\\code{\"p\"} for points, \\code{\"l\"} for lines,\n",
       "\\code{\"b\"} for both points and lines,\n",
       "\\code{\"c\"} for empty points joined by lines,\n",
       "\\code{\"o\"} for overplotted points and lines,\n",
       "\\code{\"s\"} and \\code{\"S\"} for stair steps and\n",
       "\\code{\"h\"} for histogram-like vertical lines.  Finally,\n",
       "\\code{\"n\"} does not produce any points or lines.\n",
       "\\item[\\code{xlim}] the x limits (x1, x2) of the plot.  Note that \\code{x1 > x2}\n",
       "is allowed and leads to a `reversed axis'.\n",
       "\n",
       "The default value, \\code{NULL}, indicates that the range of the\n",
       "\\LinkA{finite}{finite} values to be plotted should be used.\n",
       "\\item[\\code{ylim}] the y limits of the plot.\n",
       "\\item[\\code{log}] a character string which contains \\code{\"x\"} if the x axis\n",
       "is to be logarithmic, \\code{\"y\"} if the y axis is to be logarithmic\n",
       "and \\code{\"xy\"} or \\code{\"yx\"} if both axes are to be logarithmic.\n",
       "\n",
       "\\item[\\code{main}] a main title for the plot, see also \\code{\\LinkA{title}{title}}.\n",
       "\\item[\\code{sub}] a subtitle for the plot.\n",
       "\\item[\\code{xlab}] a label for the x axis, defaults to a description of \\code{x}.\n",
       "\\item[\\code{ylab}] a label for the y axis, defaults to a description of \\code{y}.\n",
       "\n",
       "\\item[\\code{ann}] a logical value indicating whether the default annotation\n",
       "(title and x and y axis labels) should appear on the plot.\n",
       "\\item[\\code{axes}] a logical value indicating whether both axes should be drawn on\n",
       "the plot.  Use \\LinkA{graphical parameter}{graphical parameter} \\code{\"xaxt\"} or \\code{\"yaxt\"}\n",
       "to suppress just one of the axes.\n",
       "\\item[\\code{frame.plot}] a logical indicating whether a box should be drawn\n",
       "around the plot.\n",
       "\n",
       "\\item[\\code{panel.first}] an `expression' to be evaluated after the\n",
       "plot axes are set up but before any plotting takes place.  This can\n",
       "be useful for drawing background grids or scatterplot smooths.  Note\n",
       "that this works by lazy evaluation: passing this argument from other\n",
       "\\code{plot} methods may well not work since it may be evaluated too\n",
       "early.\n",
       "\n",
       "\\item[\\code{panel.last}] an expression to be evaluated after plotting has\n",
       "taken place but before the axes, title and box are added.  See the\n",
       "comments about \\code{panel.first}.\n",
       "\n",
       "\\item[\\code{asp}] the \\eqn{y/x}{} aspect ratio, see \\code{\\LinkA{plot.window}{plot.window}}.\n",
       "\n",
       "\\item[\\code{xgap.axis, ygap.axis}] the \\eqn{x/y}{} axis gap factors, passed as\n",
       "\\code{gap.axis} to the two \\code{\\LinkA{axis}{axis}()} calls (when\n",
       "\\code{axes} is true, as per default).\n",
       "\n",
       "\\item[\\code{...}] other \\LinkA{graphical parameters}{graphical parameters} (see \\code{\\LinkA{par}{par}} and\n",
       "section `Details' below).\n",
       "\\end{ldescription}\n",
       "\\end{Arguments}\n",
       "%\n",
       "\\begin{Details}\\relax\n",
       "Commonly used \\LinkA{graphical parameters}{graphical parameters} are:\n",
       "\\begin{description}\n",
       "\n",
       "\\item[\\code{col}] The colors for lines and points.  Multiple colors can be\n",
       "specified so that each point can be given its own color.  If there\n",
       "are fewer colors than points they are recycled in the standard\n",
       "fashion.  Lines will all be plotted in the first colour specified.\n",
       "\\item[\\code{bg}] a vector of background colors for open plot symbols, see\n",
       "\\code{\\LinkA{points}{points}}.  Note: this is \\bold{not} the same setting\n",
       "as \\code{\\LinkA{par}{par}(\"bg\")}.\n",
       "\\item[\\code{pch}] a vector of plotting characters or symbols:\n",
       "see \\code{\\LinkA{points}{points}}.\n",
       "\\item[\\code{cex}] a numerical vector giving the amount by which\n",
       "plotting characters and symbols should be scaled relative to the\n",
       "default.  This works as a multiple of \\code{\\LinkA{par}{par}(\"cex\")}.\n",
       "\\code{NULL} and \\code{NA} are equivalent to \\code{1.0}.  Note that\n",
       "this does not affect annotation: see below.\n",
       "\\item[\\code{lty}] a vector of line types, see \\code{\\LinkA{par}{par}}.\n",
       "\\item[\\code{cex.main}, \\code{col.lab}, \\code{font.sub},\n",
       "etc] settings for main- and sub-title and axis annotation, see\n",
       "\\code{\\LinkA{title}{title}} and \\code{\\LinkA{par}{par}}.\n",
       "\\item[\\code{lwd}] a vector of line widths, see \\code{\\LinkA{par}{par}}.\n",
       "\n",
       "\\end{description}\n",
       "\n",
       "\\end{Details}\n",
       "%\n",
       "\\begin{Note}\\relax\n",
       "The presence of \\code{panel.first} and \\code{panel.last} is a\n",
       "historical anomaly: default plots do not have `panels', unlike\n",
       "e.g.~\\code{\\LinkA{pairs}{pairs}} plots.  For more control, use lower-level\n",
       "plotting functions: \\code{plot.default} calls in turn some of\n",
       "\\code{\\LinkA{plot.new}{plot.new}}, \\code{\\LinkA{plot.window}{plot.window}},\n",
       "\\code{\\LinkA{plot.xy}{plot.xy}}, \\code{\\LinkA{axis}{axis}}, \\code{\\LinkA{box}{box}} and\n",
       "\\code{\\LinkA{title}{title}}, and plots can be built up by calling these\n",
       "individually, or by calling \\code{plot(type = \"n\")} and adding further\n",
       "elements.\n",
       "\n",
       "The \\code{plot} generic was moved from the \\pkg{graphics} package to\n",
       "the \\pkg{base} package in \\R{} 4.0.0. It is currently re-exported from\n",
       "the \\pkg{graphics} namespace to allow packages importing it from there\n",
       "to continue working, but this may change in future versions of \\R{}.\n",
       "\\end{Note}\n",
       "%\n",
       "\\begin{References}\\relax\n",
       "Becker, R. A., Chambers, J. M. and Wilks, A. R. (1988)\n",
       "\\emph{The New S Language}.\n",
       "Wadsworth \\& Brooks/Cole.\n",
       "\n",
       "Cleveland, W. S. (1985)\n",
       "\\emph{The Elements of Graphing Data.}\n",
       "Monterey, CA: Wadsworth.\n",
       "\n",
       "Murrell, P. (2005) \\emph{R Graphics}. Chapman \\& Hall/CRC Press.\n",
       "\\end{References}\n",
       "%\n",
       "\\begin{SeeAlso}\\relax\n",
       "\\code{\\LinkA{plot}{plot}}, \\code{\\LinkA{plot.window}{plot.window}}, \\code{\\LinkA{xy.coords}{xy.coords}}.\n",
       "For thousands of points, consider using \\code{\\LinkA{smoothScatter}{smoothScatter}}\n",
       "instead.\n",
       "\\end{SeeAlso}\n",
       "%\n",
       "\\begin{Examples}\n",
       "\\begin{ExampleCode}\n",
       "Speed <- cars$speed\n",
       "Distance <- cars$dist\n",
       "plot(Speed, Distance, panel.first = grid(8, 8),\n",
       "     pch = 0, cex = 1.2, col = \"blue\")\n",
       "plot(Speed, Distance,\n",
       "     panel.first = lines(stats::lowess(Speed, Distance), lty = \"dashed\"),\n",
       "     pch = 0, cex = 1.2, col = \"blue\")\n",
       "\n",
       "## Show the different plot types\n",
       "x <- 0:12\n",
       "y <- sin(pi/5 * x)\n",
       "op <- par(mfrow = c(3,3), mar = .1+ c(2,2,3,1))\n",
       "for (tp in c(\"p\",\"l\",\"b\",  \"c\",\"o\",\"h\",  \"s\",\"S\",\"n\")) {\n",
       "   plot(y ~ x, type = tp, main = paste0(\"plot(*, type = \\\"\", tp, \"\\\")\"))\n",
       "   if(tp == \"S\") {\n",
       "      lines(x, y, type = \"s\", col = \"red\", lty = 2)\n",
       "      mtext(\"lines(*, type = \\\"s\\\", ...)\", col = \"red\", cex = 0.8)\n",
       "   }\n",
       "}\n",
       "par(op)\n",
       "\n",
       "##--- Log-Log Plot  with  custom axes\n",
       "lx <- seq(1, 5, length.out = 41)\n",
       "yl <- expression(e^{-frac(1,2) * {log[10](x)}^2})\n",
       "y <- exp(-.5*lx^2)\n",
       "op <- par(mfrow = c(2,1), mar = par(\"mar\")-c(1,0,2,0), mgp = c(2, .7, 0))\n",
       "plot(10^lx, y, log = \"xy\", type = \"l\", col = \"purple\",\n",
       "     main = \"Log-Log plot\", ylab = yl, xlab = \"x\")\n",
       "plot(10^lx, y, log = \"xy\", type = \"o\", pch = \".\", col = \"forestgreen\",\n",
       "     main = \"Log-Log plot with custom axes\", ylab = yl, xlab = \"x\",\n",
       "     axes = FALSE, frame.plot = TRUE)\n",
       "my.at <- 10^(1:5)\n",
       "axis(1, at = my.at, labels = formatC(my.at, format = \"fg\"))\n",
       "e.y <- -5:-1 ; at.y <- 10^e.y\n",
       "axis(2, at = at.y, col.axis = \"red\", las = 1,\n",
       "     labels = as.expression(lapply(e.y, function(E) bquote(10^.(E)))))\n",
       "par(op)\n",
       "\\end{ExampleCode}\n",
       "\\end{Examples}"
      ],
      "text/plain": [
       "plot.default             package:graphics              R Documentation\n",
       "\n",
       "_\bT_\bh_\be _\bD_\be_\bf_\ba_\bu_\bl_\bt _\bS_\bc_\ba_\bt_\bt_\be_\br_\bp_\bl_\bo_\bt _\bF_\bu_\bn_\bc_\bt_\bi_\bo_\bn\n",
       "\n",
       "_\bD_\be_\bs_\bc_\br_\bi_\bp_\bt_\bi_\bo_\bn:\n",
       "\n",
       "     Draw a scatter plot with decorations such as axes and titles in\n",
       "     the active graphics window.\n",
       "\n",
       "_\bU_\bs_\ba_\bg_\be:\n",
       "\n",
       "     ## Default S3 method:\n",
       "     plot(x, y = NULL, type = \"p\",  xlim = NULL, ylim = NULL,\n",
       "          log = \"\", main = NULL, sub = NULL, xlab = NULL, ylab = NULL,\n",
       "          ann = par(\"ann\"), axes = TRUE, frame.plot = axes,\n",
       "          panel.first = NULL, panel.last = NULL, asp = NA,\n",
       "          xgap.axis = NA, ygap.axis = NA,\n",
       "          ...)\n",
       "     \n",
       "_\bA_\br_\bg_\bu_\bm_\be_\bn_\bt_\bs:\n",
       "\n",
       "    x, y: the ‘x’ and ‘y’ arguments provide the x and y coordinates for\n",
       "          the plot.  Any reasonable way of defining the coordinates is\n",
       "          acceptable.  See the function ‘xy.coords’ for details.  If\n",
       "          supplied separately, they must be of the same length.\n",
       "\n",
       "    type: 1-character string giving the type of plot desired.  The\n",
       "          following values are possible, for details, see ‘plot’: ‘\"p\"’\n",
       "          for points, ‘\"l\"’ for lines, ‘\"b\"’ for both points and lines,\n",
       "          ‘\"c\"’ for empty points joined by lines, ‘\"o\"’ for overplotted\n",
       "          points and lines, ‘\"s\"’ and ‘\"S\"’ for stair steps and ‘\"h\"’\n",
       "          for histogram-like vertical lines.  Finally, ‘\"n\"’ does not\n",
       "          produce any points or lines.\n",
       "\n",
       "    xlim: the x limits (x1, x2) of the plot.  Note that ‘x1 > x2’ is\n",
       "          allowed and leads to a ‘reversed axis’.\n",
       "\n",
       "          The default value, ‘NULL’, indicates that the range of the\n",
       "          finite values to be plotted should be used.\n",
       "\n",
       "    ylim: the y limits of the plot.\n",
       "\n",
       "     log: a character string which contains ‘\"x\"’ if the x axis is to\n",
       "          be logarithmic, ‘\"y\"’ if the y axis is to be logarithmic and\n",
       "          ‘\"xy\"’ or ‘\"yx\"’ if both axes are to be logarithmic.\n",
       "\n",
       "    main: a main title for the plot, see also ‘title’.\n",
       "\n",
       "     sub: a subtitle for the plot.\n",
       "\n",
       "    xlab: a label for the x axis, defaults to a description of ‘x’.\n",
       "\n",
       "    ylab: a label for the y axis, defaults to a description of ‘y’.\n",
       "\n",
       "     ann: a logical value indicating whether the default annotation\n",
       "          (title and x and y axis labels) should appear on the plot.\n",
       "\n",
       "    axes: a logical value indicating whether both axes should be drawn\n",
       "          on the plot.  Use graphical parameter ‘\"xaxt\"’ or ‘\"yaxt\"’ to\n",
       "          suppress just one of the axes.\n",
       "\n",
       "frame.plot: a logical indicating whether a box should be drawn around\n",
       "          the plot.\n",
       "\n",
       "panel.first: an ‘expression’ to be evaluated after the plot axes are\n",
       "          set up but before any plotting takes place.  This can be\n",
       "          useful for drawing background grids or scatterplot smooths.\n",
       "          Note that this works by lazy evaluation: passing this\n",
       "          argument from other ‘plot’ methods may well not work since it\n",
       "          may be evaluated too early.\n",
       "\n",
       "panel.last: an expression to be evaluated after plotting has taken\n",
       "          place but before the axes, title and box are added.  See the\n",
       "          comments about ‘panel.first’.\n",
       "\n",
       "     asp: the y/x aspect ratio, see ‘plot.window’.\n",
       "\n",
       "xgap.axis, ygap.axis: the x/y axis gap factors, passed as ‘gap.axis’ to\n",
       "          the two ‘axis()’ calls (when ‘axes’ is true, as per default).\n",
       "\n",
       "     ...: other graphical parameters (see ‘par’ and section ‘Details’\n",
       "          below).\n",
       "\n",
       "_\bD_\be_\bt_\ba_\bi_\bl_\bs:\n",
       "\n",
       "     Commonly used graphical parameters are:\n",
       "\n",
       "     ‘col’ The colors for lines and points.  Multiple colors can be\n",
       "          specified so that each point can be given its own color.  If\n",
       "          there are fewer colors than points they are recycled in the\n",
       "          standard fashion.  Lines will all be plotted in the first\n",
       "          colour specified.\n",
       "\n",
       "     ‘bg’ a vector of background colors for open plot symbols, see\n",
       "          ‘points’.  Note: this is *not* the same setting as\n",
       "          ‘par(\"bg\")’.\n",
       "\n",
       "     ‘pch’ a vector of plotting characters or symbols: see ‘points’.\n",
       "\n",
       "     ‘cex’ a numerical vector giving the amount by which plotting\n",
       "          characters and symbols should be scaled relative to the\n",
       "          default.  This works as a multiple of ‘par(\"cex\")’.  ‘NULL’\n",
       "          and ‘NA’ are equivalent to ‘1.0’.  Note that this does not\n",
       "          affect annotation: see below.\n",
       "\n",
       "     ‘lty’ a vector of line types, see ‘par’.\n",
       "\n",
       "     ‘cex.main’, ‘col.lab’, ‘font.sub’, etc settings for main- and\n",
       "          sub-title and axis annotation, see ‘title’ and ‘par’.\n",
       "\n",
       "     ‘lwd’ a vector of line widths, see ‘par’.\n",
       "\n",
       "_\bN_\bo_\bt_\be:\n",
       "\n",
       "     The presence of ‘panel.first’ and ‘panel.last’ is a historical\n",
       "     anomaly: default plots do not have ‘panels’, unlike e.g. ‘pairs’\n",
       "     plots.  For more control, use lower-level plotting functions:\n",
       "     ‘plot.default’ calls in turn some of ‘plot.new’, ‘plot.window’,\n",
       "     ‘plot.xy’, ‘axis’, ‘box’ and ‘title’, and plots can be built up by\n",
       "     calling these individually, or by calling ‘plot(type = \"n\")’ and\n",
       "     adding further elements.\n",
       "\n",
       "     The ‘plot’ generic was moved from the ‘graphics’ package to the\n",
       "     ‘base’ package in R 4.0.0. It is currently re-exported from the\n",
       "     ‘graphics’ namespace to allow packages importing it from there to\n",
       "     continue working, but this may change in future versions of R.\n",
       "\n",
       "_\bR_\be_\bf_\be_\br_\be_\bn_\bc_\be_\bs:\n",
       "\n",
       "     Becker, R. A., Chambers, J. M. and Wilks, A. R. (1988) _The New S\n",
       "     Language_.  Wadsworth & Brooks/Cole.\n",
       "\n",
       "     Cleveland, W. S. (1985) _The Elements of Graphing Data._ Monterey,\n",
       "     CA: Wadsworth.\n",
       "\n",
       "     Murrell, P. (2005) _R Graphics_. Chapman & Hall/CRC Press.\n",
       "\n",
       "_\bS_\be_\be _\bA_\bl_\bs_\bo:\n",
       "\n",
       "     ‘plot’, ‘plot.window’, ‘xy.coords’.  For thousands of points,\n",
       "     consider using ‘smoothScatter’ instead.\n",
       "\n",
       "_\bE_\bx_\ba_\bm_\bp_\bl_\be_\bs:\n",
       "\n",
       "     Speed <- cars$speed\n",
       "     Distance <- cars$dist\n",
       "     plot(Speed, Distance, panel.first = grid(8, 8),\n",
       "          pch = 0, cex = 1.2, col = \"blue\")\n",
       "     plot(Speed, Distance,\n",
       "          panel.first = lines(stats::lowess(Speed, Distance), lty = \"dashed\"),\n",
       "          pch = 0, cex = 1.2, col = \"blue\")\n",
       "     \n",
       "     ## Show the different plot types\n",
       "     x <- 0:12\n",
       "     y <- sin(pi/5 * x)\n",
       "     op <- par(mfrow = c(3,3), mar = .1+ c(2,2,3,1))\n",
       "     for (tp in c(\"p\",\"l\",\"b\",  \"c\",\"o\",\"h\",  \"s\",\"S\",\"n\")) {\n",
       "        plot(y ~ x, type = tp, main = paste0(\"plot(*, type = \\\"\", tp, \"\\\")\"))\n",
       "        if(tp == \"S\") {\n",
       "           lines(x, y, type = \"s\", col = \"red\", lty = 2)\n",
       "           mtext(\"lines(*, type = \\\"s\\\", ...)\", col = \"red\", cex = 0.8)\n",
       "        }\n",
       "     }\n",
       "     par(op)\n",
       "     \n",
       "     ##--- Log-Log Plot  with  custom axes\n",
       "     lx <- seq(1, 5, length.out = 41)\n",
       "     yl <- expression(e^{-frac(1,2) * {log[10](x)}^2})\n",
       "     y <- exp(-.5*lx^2)\n",
       "     op <- par(mfrow = c(2,1), mar = par(\"mar\")-c(1,0,2,0), mgp = c(2, .7, 0))\n",
       "     plot(10^lx, y, log = \"xy\", type = \"l\", col = \"purple\",\n",
       "          main = \"Log-Log plot\", ylab = yl, xlab = \"x\")\n",
       "     plot(10^lx, y, log = \"xy\", type = \"o\", pch = \".\", col = \"forestgreen\",\n",
       "          main = \"Log-Log plot with custom axes\", ylab = yl, xlab = \"x\",\n",
       "          axes = FALSE, frame.plot = TRUE)\n",
       "     my.at <- 10^(1:5)\n",
       "     axis(1, at = my.at, labels = formatC(my.at, format = \"fg\"))\n",
       "     e.y <- -5:-1 ; at.y <- 10^e.y\n",
       "     axis(2, at = at.y, col.axis = \"red\", las = 1,\n",
       "          labels = as.expression(lapply(e.y, function(E) bquote(10^.(E)))))\n",
       "     par(op)\n",
       "     "
      ]
     },
     "metadata": {},
     "output_type": "display_data"
    }
   ],
   "source": [
    "help(plot)"
   ]
  },
  {
   "cell_type": "code",
   "execution_count": 6,
   "id": "c47cb61c-c6f3-4b85-a5e1-a2ec2bc44d38",
   "metadata": {},
   "outputs": [
    {
     "data": {
      "text/plain": [
       "R Information\n",
       "\n",
       "Demos with name or title matching ‘histogram’ using fuzzy matching:\n",
       "\n",
       "\n",
       "plotly::crosstalk-highlight-binned-target-c\n",
       "                        Dynamically re-rendering a histogram based on\n",
       "                        selection\n",
       "\n",
       "\n",
       "Type 'demo(PKG::FOO)' to run demonstration 'PKG::FOO'.\n",
       "\n",
       "\n",
       "\n",
       "Help files with alias or concept or title matching ‘histogram’ using\n",
       "fuzzy matching:\n",
       "\n",
       "\n",
       "deSolve::plot.deSolve   Plot, Image and Histogram Method for deSolve\n",
       "                        Objects\n",
       "DiagrammeR::get_degree_histogram\n",
       "                        Get histogram data for a graph's degree\n",
       "                        frequency\n",
       "  Aliases: get_degree_histogram\n",
       "flowViz::densityplot    One-dimensional density/histogram plots for\n",
       "                        flow data\n",
       "  Aliases: histogram,formula,flowSet-method,\n",
       "    histogram,formula,flowFrame-method,\n",
       "    histogram,formula,ncdfFlowSet-method,\n",
       "    histogram,formula,ncdfFlowList-method\n",
       "geneplotter::histStack\n",
       "                        Stacked histogram\n",
       "ggforce::geom_autodensity\n",
       "                        A distribution geoms that fills the panel and\n",
       "                        works with discrete and continuous data\n",
       "  Aliases: geom_autohistogram\n",
       "ggplot2::geom_freqpoly\n",
       "                        Histograms and frequency polygons\n",
       "  Aliases: geom_histogram\n",
       "ggpubr::gghistogram     Histogram plot\n",
       "  Aliases: gghistogram\n",
       "ggpubr::ggscatterhist   Scatter Plot with Marginal Histograms\n",
       "ggridges::stat_binline\n",
       "                        Stat for histogram ridgeline plots\n",
       "ggstatsplot::gghistostats\n",
       "                        Histogram for distribution of a numeric\n",
       "                        variable\n",
       "ggstatsplot::grouped_ggdotplotstats\n",
       "                        Grouped histograms for distribution of a\n",
       "                        labeled numeric variable\n",
       "ggstatsplot::grouped_gghistostats\n",
       "                        Grouped histograms for distribution of a\n",
       "                        numeric variable\n",
       "gplots::hist2d          Compute and Plot a 2-Dimensional Histogram\n",
       "graphics::hist          Histograms\n",
       "graphics::hist.POSIXt   Histogram of a Date or Date-Time Object\n",
       "graphics::plot.histogram\n",
       "                        Plot Histograms\n",
       "  Aliases: plot.histogram, lines.histogram\n",
       "grDevices::nclass.Sturges\n",
       "                        Compute the Number of Classes for a Histogram\n",
       "Hmisc::hist.data.frame\n",
       "                        Histograms for Variables in a Data Frame\n",
       "Hmisc::histbackback     Back to Back Histograms\n",
       "Hmisc::histboxp         Use plotly to Draw Stratified Spike Histogram\n",
       "                        and Box Plot Statistics\n",
       "Hmisc::scat1d           One-Dimensional Scatter Diagram, Spike\n",
       "                        Histogram, or Density\n",
       "infer::shade_p_value    Shade histogram area beyond an observed\n",
       "                        statistic\n",
       "KernSmooth::dpih        Select a Histogram Bin Width\n",
       "ks::histde              Histogram density estimate\n",
       "ks::plot.histde         Plot for histogram density estimate\n",
       "lattice::histogram      Histograms and Kernel Density Plots\n",
       "  Aliases: histogram, histogram.factor, histogram.numeric,\n",
       "    histogram.formula\n",
       "lattice::panel.histogram\n",
       "                        Default Panel Function for histogram\n",
       "  Aliases: panel.histogram\n",
       "lattice::prepanel.default.bwplot\n",
       "                        Default Prepanel Functions\n",
       "  Aliases: prepanel.default.histogram\n",
       "MASS::hist.scott        Plot a Histogram with Automatic Bin Width\n",
       "                        Selection\n",
       "MASS::ldahist           Histograms or Density Plots of Multiple Groups\n",
       "MASS::truehist          Plot a Histogram\n",
       "mc2d::hist.mc           Histogram of a Monte Carlo Simulation\n",
       "plot3D::persp3D         Perspective plots, 3-D ribbons and 3-D\n",
       "                        histograms.\n",
       "plotly::add_trace       Add trace(s) to a plotly visualization\n",
       "  Aliases: add_histogram, add_histogram2d, add_histogram2dcontour\n",
       "pracma::histc           Histogram Count (Matlab style)\n",
       "pracma::histss          Histogram Bin-width Optimization\n",
       "psych::multi.hist       Multiple histograms with density and normal\n",
       "                        fits on one page\n",
       "psych::pairs.panels     SPLOM, histograms and correlations for a data\n",
       "                        matrix\n",
       "psych::scatter.hist     Draw a scatter plot with associated X and Y\n",
       "                        histograms, densities and correlation\n",
       "spatstat.explore::kaplan.meier\n",
       "                        Kaplan-Meier Estimator using Histogram Data\n",
       "spatstat.explore::km.rs\n",
       "                        Kaplan-Meier and Reduced Sample Estimator using\n",
       "                        Histograms\n",
       "spatstat.explore::panel.contour\n",
       "                        Panel Plots using Colour Image or Contour Lines\n",
       "  Aliases: panel.histogram\n",
       "spatstat.explore::reduced.sample\n",
       "                        Reduced Sample Estimator using Histogram Data\n",
       "spatstat.explore::rose\n",
       "                        Rose Diagram\n",
       "  Aliases: rose.histogram\n",
       "spatstat.geom::hist.funxy\n",
       "                        Histogram of Values of a Spatial Function\n",
       "spatstat.geom::hist.im\n",
       "                        Histogram of Pixel Values in an Image\n",
       "spatstat.geom::transformquantiles\n",
       "                        Transform the Quantiles\n",
       "  Concepts: Histogram equalisation\n",
       "spatstat.geom::whist    Weighted Histogram\n",
       "\n",
       "\n",
       "Type '?PKG::FOO' to inspect entries 'PKG::FOO', or 'TYPE?PKG::FOO' for\n",
       "entries like 'PKG::FOO-TYPE'.\n",
       "\n",
       "\n"
      ]
     },
     "metadata": {},
     "output_type": "display_data"
    }
   ],
   "source": [
    "?? histogram"
   ]
  }
 ],
 "metadata": {
  "kernelspec": {
   "display_name": "R",
   "language": "R",
   "name": "ir"
  },
  "language_info": {
   "codemirror_mode": "r",
   "file_extension": ".r",
   "mimetype": "text/x-r-source",
   "name": "R",
   "pygments_lexer": "r",
   "version": "4.2.2"
  },
  "vscode": {
   "interpreter": {
    "hash": "d8029b478de32fdc1aa34081dedd11fb14ac97854dbafe5aac8002b51b3d44b4"
   }
  }
 },
 "nbformat": 4,
 "nbformat_minor": 5
}