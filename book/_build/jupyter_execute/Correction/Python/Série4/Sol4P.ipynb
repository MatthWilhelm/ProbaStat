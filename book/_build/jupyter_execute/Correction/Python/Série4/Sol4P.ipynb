{
 "cells": [
  {
   "cell_type": "markdown",
   "id": "08500e14-b774-4abb-b07a-cac2955fae3d",
   "metadata": {
    "tags": []
   },
   "source": [
    "# Série4 : Correction \n",
    "  ## Exercice 1: \n",
    "\n",
    "Une entreprise d'automobiles veut publier des informations sur la consommation d'un nouveau modèle de voiture. \n",
    "Pour 12 voitures de ce modèle on mesure la consommation d'essence, en litres, pour parcourir 100 km, et on obtient\n",
    "les résultats suivants:\n",
    "\\begin{gather*}\n",
    "14.60, 11.21, 11.56, 11.37, 13.68, 15.07, 11.06, 16.58, 13.37, 15.98,\n",
    "12.07, 13.22\n",
    "\\end{gather*}\n",
    "\n",
    "1\\) Supposez que la consommation d'essence pour une voiture de ce modèle est une variable aléatoire $ X \\sim \\mathcal{N}(\\mu , 3.5 ) $ avec $ \\mu $ inconnu, et que les données récoltées sont indépendantes.  \n",
    "a\\) Écrire une fonction qui retourne un intervalle de confiance symmétrique à $ (1-\\alpha)100\\,\\% $  pour $ \\mu $ dans le cas où l'on connait la variance. (N'hésitez pas à faire des développements à la main ou en markdown avant de vous lancez dans l'implémentatioonde cette fonction)\n",
    "\n",
    "\n",
    "**Solution**: \n",
    "Si $X_1,\\dots,X_n$ sont iid $\\mathcal{N}(\\mu,\\sigma^2)$, alors\n",
    "\\begin{gather*}\n",
    "Z_n=\\sqrt{n}\\,\\frac{\\overline X_n-\\mu}{\\sigma}\\sim \\mathcal{N}(0,1).\n",
    "\\end{gather*}\n",
    "On sait que\n",
    "\\begin{gather*}\n",
    "\\Pr(-z < Z_n < z) = 2\\, \\Phi(z) - 1 ,\n",
    "\\end{gather*}\n",
    "pour toute constante $ z > 0 $.\n",
    "Donc si on choisit $ z_{1-\\alpha/2} = \\Phi^{-1}(1-\\alpha/2) $\n",
    "(le $ (1-\\alpha/2)- $quantile de la loi $ N(0,1) $), on obtient que\n",
    "\\begin{gather*}\n",
    "1-\\alpha = \\mathbb{P}(-z_{1-\\alpha/2} < Z_n < z_{1-\\alpha/2}) = \\mathbb{P} \\left( -z_{1-\\alpha/2} < \\sqrt{n}\\,\\frac{\\overline{X}_n-\\mu}{\\sigma} < z_{1-\\alpha/2} \\right)  = \\mathbb{P} \\left( \\overline{X}_n -\\frac{z_{1-\\alpha/2}}{\\sqrt{n}}\\, \\sigma < \\mu < \\overline{X}_n + \\frac{z_{1-\\alpha/2}}{\\sqrt{n}}\\, \\sigma \\right) \n",
    "\\end{gather*}\n",
    "L'intervalle \n",
    "\\begin{gather*}\n",
    "\\left( \\overline{X}_n -\\frac{z_{1-\\alpha/2}}{\\sqrt{n}}\\, \\sigma , \\overline{X}_n + \\frac{z_{1-\\alpha/2}}{\\sqrt{n}}\\, \\sigma \n",
    "\\right)\n",
    "\\end{gather*}\n",
    "couvre donc la vraie valeur de $ \\mu $ avec la probabilité $ 1-\\alpha $.\n",
    "\n"
   ]
  },
  {
   "cell_type": "code",
   "execution_count": null,
   "id": "3a4e3fda-8d9a-406f-9dfc-ae0adc515b6a",
   "metadata": {
    "tags": []
   },
   "outputs": [],
   "source": [
    "import pandas as pd\n",
    "from scipy import stats as st\n",
    "import numpy as np\n",
    "\n",
    "def IC_variance_connue(x_bar,sigma_square,n,alpha):\n",
    "    quantile = st.norm.ppf(1-alpha/2)\n",
    "    \n",
    "    IC = pd.DataFrame(data = {\"lower_bound\":[x_bar-quantile*np.sqrt(sigma_square/n)],\"upper_bound\":[x_bar  + quantile*np.sqrt(sigma_square/n)]})\n",
    "    return IC"
   ]
  },
  {
   "cell_type": "markdown",
   "id": "06967c01-e12b-42e1-972d-68c9a3eb50c5",
   "metadata": {},
   "source": [
    "b\\) Calculez cet intervalle de confiance pour le jeu de donnée fourni."
   ]
  },
  {
   "cell_type": "code",
   "execution_count": null,
   "id": "ece4e51c-e208-4250-9ebf-c1e365786ddb",
   "metadata": {
    "tags": []
   },
   "outputs": [
    {
     "name": "stdout",
     "output_type": "stream",
     "text": [
      "L'intervalle de confiance à 95% est donc: [12.256,14.373]\n"
     ]
    }
   ],
   "source": [
    "# Importation des données\n",
    "data = pd.read_csv(\"consommation.csv\")\n",
    "\n",
    "# Calcul de la moyenne empirique\n",
    "mean = data.consommation.mean()\n",
    "\n",
    "n = len(data)\n",
    "sigma_square = 3.5\n",
    "alpha = 0.05\n",
    "\n",
    "IC = IC_variance_connue(mean,sigma_square,n,alpha)\n",
    "# Afficher cet intervalle\n",
    "print(f\"L'intervalle de confiance à 95% est donc: [{IC.lower_bound[0]:.3f},{IC.upper_bound[0]:.3f}]\")"
   ]
  },
  {
   "cell_type": "markdown",
   "id": "ac59a775-09fc-4210-855d-3c7eced0c5a1",
   "metadata": {},
   "source": [
    "On va maintenant abandonner l'hypothèse de variance connue (ce qui est plus réaliste).  On considère toujours un modèle normal, mais cette fois on suppose que $ X ~\\sim \\mathcal{N}(\\mu , \\sigma^2 ) $ avec $ \\mu $ et $ \\sigma^2 $ inconnus. Les données récoltées sont toujours considérées indépendantes.\n",
    "\n",
    "2\\) Impémentez une fonction qui retourne un intervalle de confiance symmétrique à $ (1-\\alpha)100\\,\\% $  pour $ \\mu $ dans le cas où la variance est inconnue. (N'hésitez pas à faire des développements à la main ou en markdown avant de vous lancez dans l'implémentatioonde cette fonction)\n",
    "\n",
    "**Solution**: \n",
    "Si $X_1,\\dots,X_n$ sont iid $\\mathcal{N}(\\mu,\\sigma^2)$, alors\n",
    "\\begin{gather*}\n",
    "T=\\sqrt{n}\\,\\frac{\\overline{X}_n-\\mu}{S_n}\\sim t_{n-1},\n",
    "\\end{gather*}\n",
    "où $S_n^2=\\frac1{n-1}\\sum_{i=1}^n(X_i-\\overline{X})^2$, et $ t_{\\nu} $\n",
    "est la loi de Student avec $ \\nu $ degrés de liberté. La loi de Student\n",
    "est symétrique autour de zéro de la même manière que la loi $ \\mathcal{N}(0,1) $.\n",
    "On a donc\n",
    "\\begin{gather*}\n",
    "\\Pr(-t_{n-1,1-\\alpha/2} < T < t_{n-1,1-\\alpha/2} =  1 - \\alpha, \n",
    "\\end{gather*}\n",
    "c'est-à-dire que $t_{n-1,\\alpha/2} = -t_{n-1,1-\\alpha/2}$, et donc\n",
    "\\begin{gather*}\n",
    "]t_{n-1,\\alpha/2}, t_{n-1,1-\\alpha/2} [\\quad=\\quad ]-t_{n-1,1-\\alpha/2} , t_{n-1,1-\\alpha/2} [.\n",
    "\\end{gather*}\n",
    "\n",
    "On obtient l'intervalle de confiance\n",
    "sous la forme\n",
    "\\begin{gather*}\n",
    "\\left( \\overline{X}_n -\\frac{t_{n-1,1-\\alpha/2}}{\\sqrt{n}}\\, S_n ,\\ \\overline{X}_n + \\frac{t_{n-1,1-\\alpha/2}}{\\sqrt{n}}\\, S_n \\right).\n",
    "\\end{gather*}\n"
   ]
  },
  {
   "cell_type": "code",
   "execution_count": null,
   "id": "be2faa8b-0008-4f0a-9e14-ffd21d51ea31",
   "metadata": {},
   "outputs": [],
   "source": [
    "########### Solution Python: ##########\n",
    "\n",
    "\n",
    "def IC_variance_inconnue(x_bar,sigma_est,n,alpha):\n",
    "    quantile = st.t.ppf(1-alpha/2,n -1)\n",
    "    IC = pd.DataFrame(data = {\"lower_bound\":[x_bar-quantile*np.sqrt(sigma_est/n)],\"upper_bound\":[x_bar  + quantile*np.sqrt(sigma_est/n)]})\n",
    "    return IC"
   ]
  },
  {
   "cell_type": "markdown",
   "id": "11bf2db4-2d03-445a-8faf-d8fbd020b05f",
   "metadata": {},
   "source": [
    "3\\) a\\) Calculez un intervalle de confiance à $95\\,\\% $ pour le jeu de donnée fourni."
   ]
  },
  {
   "cell_type": "code",
   "execution_count": null,
   "id": "7840bd87-2a57-41e6-89d2-573934406b5c",
   "metadata": {},
   "outputs": [
    {
     "name": "stdout",
     "output_type": "stream",
     "text": [
      "L'intervalle de confiance à 95% est donc: [12.094,14.534]\n"
     ]
    }
   ],
   "source": [
    "########### Solution Python: ##########\n",
    "\n",
    "alpha = 0.05\n",
    "IC = IC_variance_inconnue(data.consommation.mean(),data.consommation.var(),n,alpha)\n",
    "print(f\"L'intervalle de confiance à 95% est donc: [{IC.lower_bound[0]:.3f},{IC.upper_bound[0]:.3f}]\")"
   ]
  },
  {
   "cell_type": "markdown",
   "id": "29ddb944-40dc-413c-846d-81a462343537",
   "metadata": {},
   "source": [
    "b\\) Calculez un intervalle de confiance à $90\\,\\% $ pour le jeu de donnée fourni."
   ]
  },
  {
   "cell_type": "code",
   "execution_count": null,
   "id": "167c4ab8-8e9f-4887-a8e3-f5837a38ed55",
   "metadata": {},
   "outputs": [
    {
     "name": "stdout",
     "output_type": "stream",
     "text": [
      "L'intervalle de confiance à 90% est donc: [12.319,14.310]\n"
     ]
    }
   ],
   "source": [
    "########### Solution Python: ##########\n",
    "\n",
    "alpha = 0.1\n",
    "IC = IC_variance_inconnue(data.consommation.mean(),data.consommation.var(),n,alpha)\n",
    "print(f\"L'intervalle de confiance à 90% est donc: [{IC.lower_bound[0]:.3f},{IC.upper_bound[0]:.3f}]\")"
   ]
  },
  {
   "cell_type": "markdown",
   "id": "c49001e5-d84f-4aab-8178-b5cb69e1b6fd",
   "metadata": {},
   "source": [
    "c\\) Commentez la différence entre ces deux intervalles.\n",
    "\n",
    "**Solution**: L'intervalle de confiance à $90\\,\\% $ est plus étroit que l'intervalle de confiance à $95\\,\\% $, car son seuil de confiance est plus petit. Plus on veut être confiant qu'un intervalle couvre la vraie valeur de $\\mu$, plus cet intervalle doit être large (et vice-versa).   \n",
    "\n",
    "4\\) Que l'entreprise peut-elle faire pour obtenir un intervalle de confiance à $ 95\\,\\% $ plus étroit que celui obtenu?\n",
    "\n",
    "**Solution**: Récolter plus de données. Plus on a de données, plus l'incertitude est faible. \n",
    "\n"
   ]
  },
  {
   "cell_type": "markdown",
   "id": "6a5543d9-0a3f-4ea7-a8fa-6a2cb43ae58e",
   "metadata": {
    "tags": []
   },
   "source": [
    "## Exercice 2: \n",
    "\n",
    "Une marque de friandises produit des bonbons au chocolat de six couleurs. Le responsable  de la communication affirme que les proportions des différentes couleurs sont de $30\\,\\%$ pour le brun, $20\\,\\%$ pour le jaune, $20\\,\\%$ pour le rouge, $10\\,\\%$ pour l'orange, $10\\,\\%$ pour le vert et $10\\,\\%$ pour le doré. Une expérience réalisée sur un total de $370$ bonbons donne les nombres suivants :\n",
    "\n",
    "| Couleur           | Brun | Jaune | Rouge | Orange | Vert | Doré |\n",
    "|-------------------|------|-------|-------|--------|------|------|\n",
    "| Nombre de bonbons | 84   | 79    | 75    | 49     | 36   | 47   |\n",
    "\n",
    "Les données semblent-elles en accord avec l'affirmation du responsable de la communication? Faites un test à un niveau de signification de $5\\%$.\n",
    "\n",
    "1\\) Proposer une hypothèse nulle et une hypothèse alternative qui permettront de tester l'affirmation du responsable de la communication.\n",
    "\n",
    "**Solution**: On va tester \n",
    "\\begin{eqnarray*}\n",
    "& H_0:&  \\text{l'affirmation du responsable de la communication est vraie}, \\\\ \n",
    "& H_1: & \\text{l'affirmation du responsable de la communication est fausse}.\n",
    "\\end{eqnarray*} \n",
    "Ainsi, si on note $ p_B $ la proportion de brun, $ p_J $ la proportion de jaune, $ p_R $ la proportion de rouge, $ p_O $ la proportion d'orange, $ p_V $ la proportion \n",
    "de vert et $ p_D $ la proportion de doré, on a\n",
    "\\begin{eqnarray*}\n",
    "& H_0: &  \\ p_B = 0.3,\\ p_J = 0.2,\\ p_R = 0.2,\\ p_O = 0.1,\\ p_V = 0.1,\\ p_D = 0.1,  \\\\\n",
    "& H_1: & H_0 \\text{ n'est pas vraie.}\n",
    "\\end{eqnarray*}  \n",
    "\n",
    "2\\) Quel test allez-vous utiliser pour tester ces deux hypothèses ? Donnez la statistique $T$ associé à ce test, ainsi que sa loi approximative sous $H_0$. De plus, y a-t-il une/des conditions pour que la convergence de $T$ soit le moins déraisonnable possible ? Si oui, énoncé-la/les et vérifier la/les.\n",
    "\n",
    "**Solution**: Il s'agit d'un test d'adéquation. On peut baser la statistique de test sur les différences\n",
    "entre les nombres de bonbons des différentes couleurs observés ($ O_i $) et les nombres attendus \n",
    "si $ H_0 $ est vraie ($ E_i $):\n",
    "\\begin{gather*}\n",
    "T=\\sum_{i=1}^k \\frac{(O_i-E_i)^2}{E_i}, \n",
    "\\end{gather*}\n",
    "où $ k $ est le nombre de classes.\n",
    "Si le nombre d'observations est assez grand et les nombres attendus sont suffisamment élevés (en pratique supérieurs ou égaux à 5), la statistique $ T $ suit approximativement sous $ H_0 $ une loi $ \\chi^2 $ dont le nombre de degrés de liberté est égal à\n",
    "\\begin{gather*}\n",
    "(\\text{nombre de classes}) - 1 - (\\text{nombre de paramètres estimés sous $H_0$}). \n",
    "\\end{gather*}\n",
    "\n",
    "Dans notre cas, les nombres observés et attendus sont affichés dans la cellule de code suivante. La taille de l'échantillon est grande et tous les nombres attendus $e_i$ sont plus grands que $5$.\n",
    "On peut donc utiliser l'approximation de la loi de la statistique $ T $ sous $ H_0 $ par la loi asymptotique (mentionnée ci-dessus). Nous avons 6 classes et aucun paramètre à estimer sous $ H_0 $ (les proportions sous $ H_0 $ sont\n",
    "données). Cela donne 5 degrés de liberté pour la loi asymptotique.\n"
   ]
  },
  {
   "cell_type": "code",
   "execution_count": null,
   "id": "cfc62eba-e94e-4432-8e2d-a6677e7dc5db",
   "metadata": {
    "tags": []
   },
   "outputs": [
    {
     "name": "stdout",
     "output_type": "stream",
     "text": [
      "Tous les nombres d'observations attendus sont supérieur à 5, la conditions est donc remplie.\n"
     ]
    }
   ],
   "source": [
    "import pandas as pd\n",
    "\n",
    "# Vérifier que la/les conditions sont remplies\n",
    "data = pd.DataFrame(data = {\"Couleur\": [\"Brun\" , \"Jaune\" , \"Rouge\" , \"Orange\" , \"Vert\" , \"Doré\"],\n",
    "                           \"Nombre_observé\": [84   , 79    , 75    , 49     , 36   , 47],\n",
    "                           \"probabilité\": [0.3,0.2,0.2,0.1,0.1,0.1]})\n",
    "data[\"Nombre_attendu\"] = data.Nombre_observé.sum()*data.probabilité\n",
    "\n",
    "if not False in (data.Nombre_attendu>5):\n",
    "    print(\"Tous les nombres d'observations attendus sont supérieur à 5, la conditions est donc remplie.\")\n",
    "else: \n",
    "    print(\"Tous les nombres d'observations attendus ne sont pas supérieur à 5, la conditions n'est donc pas remplie.\")"
   ]
  },
  {
   "cell_type": "markdown",
   "id": "d737bae4-04ff-4847-8829-004e9036e6fd",
   "metadata": {},
   "source": [
    "3\\) Tester l'hypothèse nulle $H_0$ à un seuil de $5\\,\\%$. Les données semblent-elles en accord avec l'affirmation du responsable de communication ? \n",
    "\n",
    "**Solution**: Il reste à calculer la valeur observée de la statistique de test et la comparer avec une valeur critique. En testant à un niveau de $ 5\\, \\% $ (ce qui est le niveau standard),la valeur critique est  $ \\chi^2_{5; 0.95}=11.07 $. La valeur observée de la statistique de test est \n",
    "\\begin{gather*}\n",
    "t_{obs} = \\sum_{i=1}^6 \\frac{(o_i-e_i)^2}{e_i} = 13.54.\n",
    "\\end{gather*}\n",
    "Puisque cette valeur est plus grande que la valeur critique, on rejette $H_0$ en faveur de $ H_1 $. On peut dire que, à un niveau de signification de $ 5\\, \\% $, on a montré que l'affirmation du responsable de communication est fausse.\n"
   ]
  },
  {
   "cell_type": "code",
   "execution_count": null,
   "id": "8817c065-628d-4805-979f-6cd63905ca33",
   "metadata": {},
   "outputs": [
    {
     "name": "stdout",
     "output_type": "stream",
     "text": [
      "On rejette H_0 en faveur de H_1\n"
     ]
    }
   ],
   "source": [
    "from scipy import stats as st\n",
    "\n",
    "degree_of_freedom = 5\n",
    "alpha = 0.05\n",
    "\n",
    "valeur_critique = st.chi2.ppf(1-alpha,degree_of_freedom)\n",
    "t_obs = ((data.Nombre_observé - data.Nombre_attendu)**2/data.Nombre_attendu).sum()\n",
    "# Test pour savoir si on rejette ou non l'hypothèse nulle\n",
    "if (t_obs > valeur_critique):\n",
    "    print(\"On rejette H_0 en faveur de H_1\")\n",
    "else:\n",
    "    print(\"On ne peut pas rejetter H_0 en faveur de H_1.\")"
   ]
  },
  {
   "cell_type": "markdown",
   "id": "2e613371-d872-40f0-8412-46085b15ec7c",
   "metadata": {
    "tags": []
   },
   "source": [
    "## Exercice 3: \n",
    "\n",
    "Le tableau suivant donne le nombre de naissances dans un hôpital pour quatre trimestres consécutifs:\n",
    "\n",
    "| Trimestre            | Janv-Mars | Avr-Juin | Juil-Sept | Oct-Déc |\n",
    "|----------------------|-----------|----------|-----------|---------|\n",
    "| Nombre de naissances | 110       | 57       | 53        | 80      |\n",
    "\n",
    "1\\) Nous voulons tester à un niveau de signification de $ 1 \\,\\% $  si la natalité du premier trimestre est deux fois plus élevée que celle de chacun des autres trimestres, qui sont toutes égales.  \n",
    "a\\) Écrire explicitement les hypothèses nulle et alternative qui nous permettent de tester l'hypothèse ci-dessus. Sous $H_0$, connait-on la distribution exacte des naissances ou faut-il l'estimer ? Si elle est connue, donnez là. \n",
    "\n",
    "**Solution**: On va tester \n",
    "\\begin{eqnarray*} \n",
    "& H_0: & \\text{la natalité du 1er trimestre est deux fois plus élevée que celle des autres trimestres,} \\\\\n",
    "& H_1: & H_0  \\text{ est fausse}.\n",
    "\\end{eqnarray*}\n",
    "Ainsi, si on note $ p_I $ la probabilité de naître au premier trimestre, $ p_{II} $ la probabilité de naître au deuxième trimestre, $ p_{III} $ la probabilité de naître au troisième trimestre et $ p_{IV} $ la probabilité de naître au quatrième trimestre, on a\n",
    "\\begin{eqnarray*}\n",
    "& H_0: &  p_I = 2\\times p_{II},\\ p_{II} = p_{III} = p_{IV}, \\\\\n",
    "& H_1: & H_0 \\text{ n'est pas vraie.}\n",
    "\\end{eqnarray*}\n",
    "Puisque $ p_{I} + p_{II} + p_{III} + p_{IV} = 1  $, on a que\n",
    "$ H_0: \\  p_I = 0.4,\\ p_{II} = p_{III} = p_{IV} = 0.2 $. \n",
    "\n",
    "b\\) Quel test allez-vous utiliser pour tester ces deux hypothèses ? Donnez la statistique $T$ associé à ce test, ainsi que sa loi approximative sous $H_0$. De plus, y a-t-il une/des conditions pour que la convergence de $T$ soit le moins déraisonnable possible ? Si oui, énoncé-la/les et vérifier la/les.\n",
    "\n",
    "**Solution**: Il s'agit d'un test d'adéquation. On peut baser la statistique de test sur les différences\n",
    "entre les nombres de naissances observées ($ O_i $) et les nombres attendus \n",
    "si $ H_0 $ est vraie ($ E_i $):\n",
    "\\begin{gather*}\n",
    "T=\\sum_{i=1}^4 \\frac{(O_i-E_i)^2}{E_i}.\n",
    "\\end{gather*}\n",
    "qui, sous $H_0$, suit la loi $\\chi^2_\\nu$ avec $\\nu = 4-1-0=3$, à condition que les nombres attendus sous $H_0$ soit supérieures à $5$, ce qui est le cas comme on peut le voir ci-dessous.  \n"
   ]
  },
  {
   "cell_type": "code",
   "execution_count": null,
   "id": "191ac679-0b56-4a76-a4ed-0947ca818c0e",
   "metadata": {
    "tags": []
   },
   "outputs": [
    {
     "name": "stdout",
     "output_type": "stream",
     "text": [
      "Tous les nombres d'observations attendus sont supérieur à 5, la conditions est donc remplie.\n"
     ]
    }
   ],
   "source": [
    "import pandas as pd\n",
    "\n",
    "# Vérifier que la/les conditions sont remplies\n",
    "data = pd.DataFrame(data = {\"Semestre\": [\"Janv-Mars\" , \"Avr-Juin\" , \"Juil-Sept\" , \"Oct-Déc\" ],\n",
    "                           \"Nombre_observé\": [110   , 57    , 53    , 80  ],\n",
    "                           \"probabilité\": [0.4,0.2,0.2,0.2]})\n",
    "data[\"Nombre_attendu\"] = data.Nombre_observé.sum()*data.probabilité\n",
    "\n",
    "if not False in (data.Nombre_attendu>5):\n",
    "    print(\"Tous les nombres d'observations attendus sont supérieur à 5, la conditions est donc remplie.\")\n",
    "else: \n",
    "    print(\"Tous les nombres d'observations attendus ne sont pas supérieur à 5, la conditions n'est donc pas remplie.\")"
   ]
  },
  {
   "cell_type": "markdown",
   "id": "c9ea2516-ca37-49a8-ae07-7eee278c7c1d",
   "metadata": {},
   "source": [
    "c\\) Tester l'hypothèse nulle $H_0$ à un seuil de $1\\,\\%$.\n",
    "\n",
    "**Solution**: Il reste à calculer la valeur observée de la statistique de test et la comparer avec une valeur critique. En testant à un niveau de $ 1\\, \\% $ ,la valeur critique est  $ \\chi^2_{5; 0.95}=11.345 $. La valeur observée de la statistique de test est \n",
    "\\begin{gather*}\n",
    "t_{obs} = \\sum_{i=1}^6 \\frac{(o_i-e_i)^2}{e_i} = 8.467.\n",
    "\\end{gather*}\n",
    "Puisque cette valeur est plus petite que la valeur critique, on ne rejette donc pas $H_0$. \n"
   ]
  },
  {
   "cell_type": "code",
   "execution_count": null,
   "id": "63ea9afa-d357-4598-a244-ea04a8807f40",
   "metadata": {
    "tags": []
   },
   "outputs": [
    {
     "name": "stdout",
     "output_type": "stream",
     "text": [
      "11.344866730144373 8.466666666666667\n",
      "On ne peut pas rejetter H_0 en faveur de H_1.\n"
     ]
    }
   ],
   "source": [
    "from scipy import stats as st\n",
    "\n",
    "degree_of_freedom = 3\n",
    "alpha = 0.01\n",
    "\n",
    "valeur_critique = st.chi2.ppf(1-alpha,degree_of_freedom)\n",
    "\n",
    "t_obs = ((data.Nombre_observé - data.Nombre_attendu)**2/data.Nombre_attendu).sum()\n",
    "# Test pour savoir si on rejette ou non l'hypothèse nulle\n",
    "if (t_obs > valeur_critique):\n",
    "    print(\"On rejette H_0 en faveur de H_1\")\n",
    "else:\n",
    "    print(\"On ne peut pas rejetter H_0 en faveur de H_1.\")"
   ]
  },
  {
   "cell_type": "markdown",
   "id": "30f69593-a69c-4cc4-81b9-790c0104b15e",
   "metadata": {},
   "source": [
    "2\\) Nous voulon maintenant tester à un niveau de signification de $ 1 \\,\\% $ si la natalité du premier trimestre est égale à celle du quatrième trimestre, et celle du deuxième trimestre est égale à celle du troisième trimestre.  \n",
    "a\\) Écrire explicitement les hypothèses nulle et alternative qui nous permettent de tester l'hypothèse ci-dessus.\n",
    "\n",
    "**Solution**: On va tester\n",
    "\\begin{eqnarray*}\n",
    "& H_0: &  p_I = p_{IV},\\ p_{II} = p_{III},\\\\\n",
    "& H_1: & H_0 \\text{ n'est pas vraie.}\n",
    "\\end{eqnarray*}  \n",
    "\n",
    "b\\)  Sous $H_0$, connait-on la distribution exacte des naissances ou faut-il l'estimer ? Si elle est connu donnez là, sinon estimez là.\n",
    "\n",
    "*Indication:* Si on note par $p_j$, $j=1,\\dots,4$, la probabilité d'être dans le $j$-ème trimestre, il faut tester $H_0$: $p_1=p_4$, $p_2=p_3$ (c'est-à-dire, les $p_j$ sont tels que $p_1=p_4$ et $p_2=p_3$, mais autrement inconnus). Pour calculer les nombres attendus, on commence par estimer la valeur $p_{14}=\\mathbb{P}(\\text{né dans le 1er ou 4ème trimestre})$ par la fréquence empirique et on utilise le fait que $p_1=p_4=p_{14}/2$ sous $H_0$.\n",
    "\n",
    "**Solution**: La différence avec la partie précédente est qu'ici nous n'avons pas de nombres concrets pour les proportions  attendues sous $ H_0 $. Il faut donc les estimer. Avant de le faire, on réfléchit au nombre minimal de paramètres à estimer. En fait, ici il suffit d'estimer $ p_{I} $ car sous $ H_0 $ on a $ p_{IV} = p_{I} $ et $ p_{II} = p_{III} = (1 - 2\\, p_{I}) / 2 $.\n",
    "On estime $ p_{I} $ par $\\hat p_{I}=(o_1/\\sum_{i=1}^4 o_i + o_4/\\sum_{i=1}^4 o_i)/2=(o_1+o_4)/(2 \\sum_{i=1}^4 o_i)= (110+80)/600=190/600$.\n",
    "Pour être rigoureux, il faudrait vérifier que l'estimateur $\\hat p_{I}$ est l'estimateur\n",
    "du maximum de vraisemblance; ceci est laissé en exercice.\n",
    "\n",
    "\n",
    "c\\) Quel test allez-vous utiliser pour tester ces deux hypothèses ? Donnez la statistique $T$ associé à ce test, ainsi que sa loi approximative sous $H_0$.  \n",
    "\n",
    "**Solution**: En utilisant $ \\hat{p}_{IV} = \\hat p_{I} $ et $ \\hat p_{II} = \\hat p_{III} = (1 - 2\\, \\hat p_{I}) / 2 $,\n",
    "on obtient les nombres attendus estimés calculés dans la cellule de code suivante.\n",
    "Il s'agit encore d'un test d'adéquation, on utilise alors la statistique de test  \n",
    "\\begin{gather*}\n",
    "T=\\sum_{j=1}^4 \\frac{(O_j-E_j)^2}{E_j},\n",
    "\\end{gather*}\n",
    "qui, sous $H_0$, suit la loi $\\chi^2_\\nu$ avec\n",
    "$\\nu = 4-1-1=2$ (on a estimé un paramètre). \n",
    "\n"
   ]
  },
  {
   "cell_type": "code",
   "execution_count": null,
   "id": "0f3f10ce-0360-455f-ba55-909a2ef8b825",
   "metadata": {
    "tags": []
   },
   "outputs": [
    {
     "name": "stdout",
     "output_type": "stream",
     "text": [
      "    Semestre  Nombre_observé  probabilité  Nombre_attendu\n",
      "0  Janv-Mars             110     0.316667            95.0\n",
      "1   Avr-Juin              57     0.183333            55.0\n",
      "2  Juil-Sept              53     0.183333            55.0\n",
      "3    Oct-Déc              80     0.316667            95.0 \n",
      "\n",
      "Tous les nombres d'observations attendus sont supérieur à 5, la conditions est donc remplie.\n"
     ]
    }
   ],
   "source": [
    "data = pd.DataFrame(data = {\"Semestre\": [\"Janv-Mars\" , \"Avr-Juin\" , \"Juil-Sept\" , \"Oct-Déc\" ],\n",
    "                           \"Nombre_observé\": [110   , 57    , 53    , 80  ]})\n",
    "\n",
    "# Estimation probabilité\n",
    "p1_hat = (data.Nombre_observé[0] + data.Nombre_observé[3])/(2*data.Nombre_observé.sum())\n",
    "prob = [p1_hat,(1-2*p1_hat)/2,(1-2*p1_hat)/2,p1_hat]\n",
    "data[\"probabilité\"] = prob\n",
    "\n",
    "\n",
    "# Calculez les nombres attendus et vérifier que la condition est remplie\n",
    "data[\"Nombre_attendu\"] = data.Nombre_observé.sum()*data.probabilité\n",
    "print(data,\"\\n\")\n",
    "if not False in (data.Nombre_attendu>5):\n",
    "    print(\"Tous les nombres d'observations attendus sont supérieur à 5, la conditions est donc remplie.\")\n",
    "else: \n",
    "    print(\"Tous les nombres d'observations attendus ne sont pas supérieur à 5, la conditions n'est donc pas remplie.\")"
   ]
  },
  {
   "cell_type": "markdown",
   "id": "a7b3c11a-0361-4c91-b7f2-241ea0bacaac",
   "metadata": {},
   "source": [
    "d\\) Tester l'hypothèse nulle $H_0$ à un seuil de $1\\,\\%$.\n",
    "\n",
    "**Solution**: Il reste à calculer la valeur observée de la statistique de test et la comparer avec une valeur critique. La réalisation de la statistique $T$ est $t_{obs}=4.88$. Celle-ci est pluspetite que le quantile $\\chi^2_{2;0.99}=9.21$ donc on ne rejette pas $H_0$.\n"
   ]
  },
  {
   "cell_type": "code",
   "execution_count": null,
   "id": "c9db06aa-fda4-4399-9afe-2c7d9252297c",
   "metadata": {
    "tags": []
   },
   "outputs": [
    {
     "name": "stdout",
     "output_type": "stream",
     "text": [
      "On ne peut pas rejetter H_0 en faveur de H_1.\n"
     ]
    }
   ],
   "source": [
    "from scipy import stats as st\n",
    "\n",
    "degree_of_freedom = 2\n",
    "alpha = 0.01\n",
    "\n",
    "valeur_critique = st.chi2.ppf(1-alpha,degree_of_freedom)\n",
    "\n",
    "t_obs = ((data.Nombre_observé - data.Nombre_attendu)**2/data.Nombre_attendu).sum()\n",
    "# Test pour savoir si on rejette ou non l'hypothèse nulle\n",
    "if (t_obs > valeur_critique):\n",
    "    print(\"On rejette H_0 en faveur de H_1\")\n",
    "else:\n",
    "    print(\"On ne peut pas rejetter H_0 en faveur de H_1.\")"
   ]
  },
  {
   "cell_type": "markdown",
   "id": "45dd9576-34ad-439a-bdec-77b289c7c08c",
   "metadata": {},
   "source": [
    "*Dans cet exercice on n'a rejeté aucune hypothèse nulle. Évidemment, les deux hypothèses nulles sont incompatibles, donc cela peut paraître étrange. Mais rappelons-nous que « ne pas rejeter »  n'est pas « accepter » .*"
   ]
  },
  {
   "cell_type": "markdown",
   "id": "ff7fed6c-92fa-4157-9625-5412dc278979",
   "metadata": {
    "tags": []
   },
   "source": [
    "## Exercice 4: \n",
    "\n",
    "Les données ci-dessous représentent le taux d'oxygénation de cours d'eau ayant la même température dans une certaine région:\n",
    "\n",
    "| taux d'oxygénation (par jour) | fréquence |\n",
    "|-------------------------------|-----------|\n",
    "| $ \\le 0.1$                    | 12        |\n",
    "| $ (0.1,\\ 0.15] $              | 20        |\n",
    "| $ (0.15,\\ 0.20] $             | 23        |\n",
    "| $ (0.20,\\ 0.25] $             | 15        |\n",
    "| $ >0.25$                      | 13        |\n",
    "\n",
    "La moyenne et l'écart-type calculées pour cet échantillon de taille $83$ sont $\\overline{x} = 0.173$ et $s_x = 0.066$, respectivement. Nous voulon tester à un niveau de signification de $ 5\\, \\% $ la qualité de l'ajustement d'une loi normale aux données ci-dessus.\n",
    "\n",
    "1\\) Écrire explicitement les hypothèses nulle et alternative qui nous permettent de tester l'hypothèse ci-dessus.   \n",
    "\n",
    "**Solution**: On a\n",
    "\\begin{eqnarray*}\n",
    "& H_0: &  \\text{les données viennent d'une loi normale},\\\\\n",
    "& H_1: & H_0 \\text{ n'est pas vraie.}\n",
    "\\end{eqnarray*}\n",
    "2\\) Quel test allez-vous utiliser pour tester ces deux hypothèses ? Donnez la statistique $T$ associé à ce test, ainsi que sa loi approximative sous $H_0$.     \n",
    "**Solution**: \n",
    "On considère le nombre d'observations dans certains intervalles. Sous $ H_0 $, la probabilité que le taux d'oxygénation soit dans un intervalle $ (a, b) $ est $ F(b) - F(a) $, où $ F $ est la fonction de répartition d'une loi normale. Une fois les paramètres de la loi normale connus, on peut calculer les nombres attendus estimés sous $ H_0 $ dans tous les intervalles. On estime les paramètres de la loi normale par $ \\hat \\mu = \\bar x $ et $ \\hat \\sigma^2 = s_x^2 $. \n",
    "\n",
    "Il ne s'agit alors que d'un test d'adéquation. Pour calculer le nombre attendu estimé sous $ H_0 $ dans l'intervalle $ (0.1, 0.15] $\n",
    "par exemple, on procède comme suit. On considère une variable aléatoire \n",
    "$ X \\sim \\mathcal{N}(0.173, 0.066^2) $, et on calcule\n",
    "\\begin{align*}\n",
    "e_2 &= 83 \\times \\Pr(0.1< X\\le 0.15) = \n",
    "83 \\times \\mathbb{P}\\left(\\frac{0.1-0.173}{0.066}< \\frac{X-0.173}{0.066}\n",
    "\\le \\frac{0.15-0.173}{0.066}\\right) \\\\\n",
    "& = 83 \\times  (\\Phi(-0.348) - \\Phi(-1.106))\n",
    "= 83 \\times  (1 - \\Phi(0.348) - 1 + \\Phi(1.106))\n",
    "\\\\\n",
    "&= 83 \\times  (\\Phi(1.106) - \\Phi(0.348))  = 19.039.\n",
    "\\end{align*}\n",
    "\n",
    "De cette manière, on peut calculer les nombres théoriques dans la cellules de code suivante. On utilise alors la statistique de test  $$T=\\sum_{j=1}^4 \\frac{(O_j-E_j)^2}{E_j},$$\n",
    "qui, sous $H_0$, suit la loi $\\chi^2_\\nu$ avec $\\nu = 5-1-2=2$ (il ya deux paramètres estimés, $\\mu$ et $\\sigma$). \n"
   ]
  },
  {
   "cell_type": "code",
   "execution_count": null,
   "id": "b405bf0c-fa6a-42d1-b208-23bb0566a431",
   "metadata": {
    "tags": []
   },
   "outputs": [
    {
     "name": "stdout",
     "output_type": "stream",
     "text": [
      "   Oxygénation  Nombre_observé  probabilité  Nombre_attendu\n",
      "0         <0.1              12     0.134350       11.151062\n",
      "1   (0.1,0.15]              20     0.229388       19.039196\n",
      "2  (0.15,0.2],              23     0.295025       24.487115\n",
      "3   (0.2,0.25]              15     0.219564       18.223809\n",
      "4        >0.25              13     0.121673       10.098818 \n",
      "\n",
      "Tous les nombres d'observations attendus sont supérieur à 5, la conditions est donc remplie.\n"
     ]
    }
   ],
   "source": [
    "import pandas as pd\n",
    "from scipy import stats as st\n",
    "\n",
    "data = pd.DataFrame(data = {\"Oxygénation\": [\"<0.1\" , \"(0.1,0.15]\" , \"(0.15,0.2],\" , \"(0.2,0.25]\", \">0.25\" ],\n",
    "                           \"Nombre_observé\": [12   , 20    , 23    , 15,13  ]})\n",
    "\n",
    "x_bar = 0.173\n",
    "sigma = 0.066\n",
    "\n",
    "# Estimation des probabilités\n",
    "q = lambda x,loc,scale: st.norm.cdf(x,loc,scale)\n",
    "prob = [q(0.1,x_bar,sigma),q(0.15,x_bar,sigma)-q(0.1,x_bar,sigma),q(0.2,x_bar,sigma)-q(0.15,x_bar,sigma),q(0.25,x_bar,sigma)-q(0.2,x_bar,sigma),1-q(0.25,x_bar,sigma) ]\n",
    "data[\"probabilité\"] = prob\n",
    "\n",
    "\n",
    "# Calculez les nombres attendus et vérifier que la condition est remplie\n",
    "data[\"Nombre_attendu\"] = data.Nombre_observé.sum()*data.probabilité\n",
    "print(data,\"\\n\")\n",
    "if not False in (data.Nombre_attendu>5):\n",
    "    print(\"Tous les nombres d'observations attendus sont supérieur à 5, la conditions est donc remplie.\")\n",
    "else: \n",
    "    print(\"Tous les nombres d'observations attendus ne sont pas supérieur à 5, la conditions n'est donc pas remplie.\")"
   ]
  },
  {
   "cell_type": "markdown",
   "id": "0afef4ad-08b1-4c4a-b468-36144a367ff9",
   "metadata": {},
   "source": [
    "3\\) Tester l'hypothèse nulle $H_0$ à un seuil de $5\\,\\%$.\n",
    "\n",
    "**Solution**: Il reste à calculer la valeur observée de la statistique de test et la comparer avec une valeur critique. La réalisation de la statistique $T$ est $t_{obs}=1.607$. Celle-ci est plus petite que le quantile $\\chi^2_{2;0.99}=5.99$ donc on ne rejette pas $H_0$.\n",
    "On constate que $t_{\\text{obs}}=1.607 < \\chi^2_{2; 0.95} = 5.99$, donc on ne rejette pas\n",
    "l'hypothèse nulle."
   ]
  },
  {
   "cell_type": "code",
   "execution_count": null,
   "id": "32f361d6-5678-4b96-aad1-ff7f1ba9f358",
   "metadata": {
    "tags": []
   },
   "outputs": [
    {
     "name": "stdout",
     "output_type": "stream",
     "text": [
      "On ne peut pas rejetter H_0 en faveur de H_1.\n"
     ]
    }
   ],
   "source": [
    "degree_of_freedom = 2\n",
    "alpha = 0.05\n",
    "\n",
    "valeur_critique = st.chi2.ppf(1-alpha,degree_of_freedom)\n",
    "\n",
    "t_obs = ((data.Nombre_observé - data.Nombre_attendu)**2/data.Nombre_attendu).sum()\n",
    "# Test pour savoir si on rejette ou non l'hypothèse nulle\n",
    "if (t_obs > valeur_critique):\n",
    "    print(\"On rejette H_0 en faveur de H_1\")\n",
    "else:\n",
    "    print(\"On ne peut pas rejetter H_0 en faveur de H_1.\")"
   ]
  },
  {
   "cell_type": "markdown",
   "id": "adbf0a74-4f7d-40bd-9ee6-43bde4ea0e4a",
   "metadata": {
    "tags": []
   },
   "source": [
    "## Exercice 5: \n",
    "\n",
    "Dans l'étude des défaillances d'un composant électronique, on a relevé les  retours en fabrique de 200 composants dont les défaillances ont été classées  par type (T1, T2) et par localisation (L1, L2, L3). \n",
    "\n",
    "|    |    |    |    |\n",
    "|----|----|----|----|\n",
    "|    | L1 | L2 | L3 |\n",
    "| T1 | 50 | 16 | 31 |\n",
    "| T2 | 61 | 26 | 16 |   \n",
    "\n",
    "1\\) Donnez les hypothèses nulle et alternative permettant de tester la dépendance entre le type et la localisation du défaut. Puis, donnez la statistique de test que vous comptez utiliser tester ces hypothèses.\n",
    "\n",
    "**Solution**: On va tester\n",
    "\\begin{eqnarray*}\n",
    "& H_0: & \\text{le type du défaut est indépendant de sa localisation,} \\\\\n",
    "& H_1: & H_0 \\text{ n'est pas vraie}.\n",
    "\\end{eqnarray*}\n",
    "Nous allons utiliser un test d'indépendance entre deux caractéristiques de données. On peut de nouveau  baser la statistique de test sur les différences entre les nombres observés et attendus. \n",
    "Si on a $ n_1 $ classes pour la première caractéristique et $ n_2 $ classes pour la deuxième  caractéristique, et si on note $ N_{ij} $ et $ E_{ij} $ les nombres observés et attendus d'observations de la $ i $ème classe de la première caractéristique et $ j $ème classe de la  deuxième caractéristique, la statistique de test à utiliser est\n",
    "\\begin{gather*}\n",
    "T=\\sum_{i=1}^{n_1}\\sum_{j=1}^{n_2} \\frac{(N_{ij}-E_{ij})^2}{E_{ij}}.\n",
    "\\end{gather*}\n",
    "2\\) Y a-t-il des paramètres à estimer ? Si oui, lesquels ? Estimez ces paramètres.\n",
    "\n",
    "**Solution**: Cela vient du fait que sous $ H_0 $ on a $ p_{ij} = p_i \\times p_j $, où $ p_i $ est la probabilité d'être dans la $ i $ème classe de la première caractéristique, $ p_j $ est la probabilité d'être dans la $ j $ème classe de la deuxième caractéristique et $ p_{ij} $ est la probabilité d'être dans la $ i $ème classe de la première caractéristique et\n",
    "dans la $ j $ème classe de la deuxième caractéristique. On estime $ p_i $ par $ (\\sum_{j=1}^{n_2}n_{ij}) / (\\sum_{i=1}^{n_1} \\sum_{j=1}^{n_2} n_{ij}) $ et $ p_j $ par $ (\\sum_{i=1}^{n_1}n_{ij}) / (\\sum_{i=1}^{n_1} \\sum_{j=1}^{n_2} n_{ij}) $.\n"
   ]
  },
  {
   "cell_type": "code",
   "execution_count": null,
   "id": "02e5156a-f44e-4934-a5a0-abd641826f5a",
   "metadata": {
    "tags": []
   },
   "outputs": [
    {
     "name": "stdout",
     "output_type": "stream",
     "text": [
      "Les nombres attendus sous H_0 sont :\n",
      "         L1     L2      L3\n",
      "T1  53.835  20.37  22.795\n",
      "T2  57.165  21.63  24.205\n",
      "[[50 16 31]\n",
      " [61 26 16]]\n"
     ]
    }
   ],
   "source": [
    "import numpy as np\n",
    "import pandas as pd\n",
    "\n",
    "data_obs = np.array([[50,16,31],[61,26,16]])\n",
    "n = data_obs.sum().sum()\n",
    "\n",
    "# Estimation des probabilités\n",
    "p_T = data_obs.sum(axis = 1).reshape(2,1)/n\n",
    "p_L = data_obs.sum(axis = 0).reshape(3,1)/n\n",
    "\n",
    "\n",
    "# Calculez les nombres attendus \n",
    "data_est = n*p_T*p_L.transpose()\n",
    "print(\"Les nombres attendus sous H_0 sont :\\n\",pd.DataFrame(data_est,columns=[\"L1\",\"L2\",\"L3\"], index=[\"T1\",\"T2\"]))\n",
    "\n",
    "print(data_obs)"
   ]
  },
  {
   "cell_type": "markdown",
   "id": "17904260-fb31-408c-8cce-b2141901bc00",
   "metadata": {},
   "source": [
    "3\\) En déduire la distributions de la statistique de test sous $H_O$.  \n",
    "\n",
    "**Solution**: La distribution asymptotique de la statistique $ T $ sous $ H_0 $ est $ \\chi^2_{\\nu} $ avec \n",
    "$ \\nu = (n_1-1) \\times (n_2-1) $. On peut obtenir $\\nu$, le nombre de degrés de liberté, comme suit.\n",
    "Le nombre total de classes est $ n_1\\times n_2 $. Le nombre de paramètres à estimer est\n",
    "$ (n_1 - 1) + (n_2 - 1) $ \n",
    "(on a $ n_1 - 1 $ estimateurs pour $ p_i $ et $ n_2 - 1 $ estimateurs pour $ p_j $).\n",
    "Enfin, $ n_1\\times n_2 - 1 - n_1 - n_2 + 2 = (n_1 - 1)\\times (n_2-1) $. Ce qui nous donne que $T \\sim \\chi^2_{2}$ sous $H_O$.\n",
    "\n",
    "4\\) Testez l'hypothèse $H_0$ à un seuil de $5\\,\\%$. Peut-on conclure qu'il y a une dépendance entre le type et la localisation du défaut?  \n",
    "\n",
    "**Solution**: La valeur observée de la statistique\n",
    "\\begin{gather*}\n",
    "T=\\sum_{i=1}^2\\sum_{j=1}^3 \\frac{(N_{ij}-E_{ij})^2}{E_{ij}}\n",
    "\\end{gather*}\n",
    "est $t_{obs} = 8.08 > \\chi^2_{2; 0.95} = 5.99,$ donc, au niveau de $ 5\\,\\% $, on a montré qu'il y a une dépendance entre le type et la localisation du défaut. Notons que l'approximation par la loi $\\chi^2$ est possible, car le nombre d'observations est grand et tous les nombres attendus $e_{ij}$ sont plus grands que $5$.\n"
   ]
  },
  {
   "cell_type": "code",
   "execution_count": null,
   "id": "c5b278f3-72a5-4aa1-9367-cedd5c829e2b",
   "metadata": {},
   "outputs": [
    {
     "name": "stdout",
     "output_type": "stream",
     "text": [
      "8.085553511756245\n",
      "On rejette H_0 en faveur de H_1\n"
     ]
    }
   ],
   "source": [
    "from scipy import stats as st\n",
    "\n",
    "degree_of_freedom = 2\n",
    "alpha = 0.05\n",
    "\n",
    "valeur_critique = st.chi2.ppf(1-alpha,degree_of_freedom)\n",
    "\n",
    "t_obs = ((data_obs-data_est)**2/data_est).sum().sum()\n",
    "# Test pour savoir si on rejette ou non l'hypothèse nulle\n",
    "if (t_obs > valeur_critique):\n",
    "    print(\"On rejette H_0 en faveur de H_1\")\n",
    "else:\n",
    "    print(\"On ne peut pas rejetter H_0 en faveur de H_1.\")"
   ]
  },
  {
   "cell_type": "markdown",
   "id": "e50d22ee-503d-4ee3-87f1-6f1f053d6192",
   "metadata": {
    "tags": []
   },
   "source": [
    "## Exercice 6: \n",
    "\n",
    "Pour certains jeux de données, il peut être judicieux de calculer une transformation des données avant d'effectuer une régression linéaire.\n",
    "\n",
    "Les données suivantes montrent les valeurs expérimentales de la pression $P$ d'une masse donnée de gaz pour différentes valeurs du volume $V$.\n",
    "\n",
    "|                               |      |      |      |      |       |       |\n",
    "|:-----------------------------:|:----:|:----:|:----:|:----:|:-----:|:-----:|\n",
    "|    Volume V [$\\text{cm}^3$]   | 54.3 | 61.8 | 72.4 | 88.7 | 118.6 | 194.0 |\n",
    "| Pression P [$\\text{kg/cm}^2$] | 61.2 | 49.5 | 37.6 | 28.4 |  19.2 |  10.1 |\n",
    "\n",
    " D'après les principes de la thermodynamique, on a la relation $P\\,V^{\\gamma}=C$, où $\\gamma$ et $C$ sont des constantes dépendant des conditions d'expérience.\n",
    " \n",
    "1\\) Transformer $P\\,V^{\\gamma}=C$ en une relation linéaire avec $Y=\\log(P)$. Quels sont les paramètres dont on cherche la valeur?  \n",
    "\n",
    "**Solution**: Puisque $P\\,V^{\\gamma}=C$, on a\n",
    "\\begin{gather*}\n",
    "  \\log(P) +\\gamma \\log (V)=\\log (C) \\quad \\text{et donc} \\quad \\log(P) =\\log(C)-\\gamma \\log(V).\n",
    "\\end{gather*}\n",
    "  En posant $X=\\log(V)$ et $Y=\\log(P)$, l'équation de la droite du modèle linéaire s'écrit\n",
    "\\begin{gather*}\n",
    "  Y=\\alpha+\\beta X\\,,\n",
    "\\end{gather*}\n",
    "  où $\\alpha=\\log(C)$ et $\\beta=-\\gamma$. Nous souhaitons estimer les paramètres $\\alpha$ et $\\beta$.\n",
    "2\\) Pour des observations non-transformées, écrire une fonction qui retourne l'estimation des paramètres $\\hat{\\alpha}$ et $\\hat{\\beta}$ de la régréssion linéaire.  \n",
    "\n",
    "**Solution**: On sait d'après le cours que les estimateurs des paramètres de la droite de régression sont donnés par\n",
    "\\begin{gather*}\n",
    "\\hat \\beta=\\frac{\\sum_{i=1}^{n} Y_i(x_i -\\overline x)}{\\sum_{i=1}^{n} (x_i-\\overline x)^2} \\quad\\text{et}\\quad \\hat \\alpha=\\overline y-\\hat \\beta \\overline x,\n",
    "\\end{gather*}\n",
    "où $x_i=\\log(v_i)$ et $Y_i=\\log(P_i), i=1, \\dots, 6$.\n",
    "On trouve $\\hat \\beta=-1.4$ et $\\hat\\alpha=9.66$. Ainsi, on a $\\hat{C}=\\exp(\\hat{\\alpha})=15677.78$ et $\\hat{\\gamma}=-\\hat{\\beta}=1.4$.\n"
   ]
  },
  {
   "cell_type": "code",
   "execution_count": null,
   "id": "f27d96eb-15fc-47bf-a1db-45bb0c41e262",
   "metadata": {
    "tags": []
   },
   "outputs": [],
   "source": [
    "import pandas as pd\n",
    "import numpy as np\n",
    "\n",
    "def regr_est(data):\n",
    "     \n",
    "    \n",
    "    data_trans = np.log(data)\n",
    "    beta = (data_trans.P*(data_trans.V-data_trans.V.mean())).mean()/data_trans.V.var(ddof = 0)\n",
    "    alpha = data_trans.P.mean() - beta*data_trans.V.mean() \n",
    "    \n",
    "    \n",
    "    return [alpha,beta]"
   ]
  },
  {
   "cell_type": "markdown",
   "id": "2b1cd270-a129-45f9-ba37-00df240b9dd0",
   "metadata": {},
   "source": [
    "3\\) Estimez $P$ quand $V=100$ $\\text{cm}^3$."
   ]
  },
  {
   "cell_type": "code",
   "execution_count": null,
   "id": "66fe4a6a-db66-44f6-b8f9-8700b3946aef",
   "metadata": {},
   "outputs": [
    {
     "name": "stdout",
     "output_type": "stream",
     "text": [
      "Pour V = 100cm^3, notre modèle linéaire estime donc P à 24.828 kg/cm^2.\n"
     ]
    }
   ],
   "source": [
    "data = pd.DataFrame(data = {\"V\": [ 54.3,61.8,72.4,88.7,118.6,194.0],\n",
    "                           \"P\": [61.2,49.5,37.6,28.4,19.2,10.1]})\n",
    "\n",
    "# Estimez P\n",
    "alpha, beta = regr_est(data)\n",
    "y = alpha  + beta*np.log(100.)\n",
    "p = np.exp(y)\n",
    "print(f\"Pour V = 100cm^3, notre modèle linéaire estime donc P à {p:.3f} kg/cm^2.\")"
   ]
  },
  {
   "cell_type": "markdown",
   "id": "9f5e2810-a1b3-48c2-a899-122a04537f6b",
   "metadata": {},
   "source": [
    "4\\) Calculer l'intervalle de confiance à $95\\%$ pour la pente de la droite du modèle de régression trouvé précédement.  \n",
    "\n",
    "**Solution**: Soit \n",
    "\\begin{gather*}\n",
    "S^2 = \\frac{1}{n-2} \\sum_{i=1}^n(Y_i-\\hat{\\alpha}-\\hat{\\beta}x_i)^2.\n",
    "\\end{gather*}\n",
    "On sait d'après le cours que \n",
    "\\begin{gather*}\n",
    "\\frac{\\hat{\\beta}-\\beta}{\\sqrt{\\frac{S^2}{\\sum_{i=1}^n (x_i-\\overline{x})^2}}} \\sim t_{n-2}.\n",
    "\\end{gather*}\n",
    "L'intervalle de confiance à $95\\%$ est donc donné par les bornes \n",
    "\\begin{gather*}\n",
    "\\hat{\\beta}\\pm \\frac{s}{\\sqrt{\\sum_{i=1}^n (x_i-\\overline{x})^2}}\\ t_{n-2;0.975},\n",
    "\\end{gather*}\n",
    "où\n",
    "\\begin{gather*}\n",
    "s=\\sqrt{\\frac{1}{n-2} \\sum_{i=1}^n(y_i-\\hat{\\alpha}-\\hat{\\beta}x_i)^2}.\n",
    "\\end{gather*}\n",
    "L'intervalle de confiance recherché est donc approximativement $[-1.502, -1.306]$.\n"
   ]
  },
  {
   "cell_type": "code",
   "execution_count": null,
   "id": "274502ca-0752-4f16-9a4e-1a257b6b12e9",
   "metadata": {},
   "outputs": [
    {
     "name": "stdout",
     "output_type": "stream",
     "text": [
      "L'intervalle de confiance à 95% pour la pente de la droite du modèle de régréssion est donc [-1.502,-1.306].\n"
     ]
    }
   ],
   "source": [
    "from scipy import stats as st\n",
    "\n",
    "alpha, beta = regr_est(data)\n",
    "data_trans = np.log(data)\n",
    "\n",
    "s = np.sqrt(((data_trans.P-alpha-beta*data_trans.V)**2).sum()/(len(data)-2))\n",
    "quantile = st.t.ppf(0.975,len(data)-2)\n",
    "\n",
    "# Autres valeurs à calculer ?\n",
    "div = data_trans.V.var(ddof=0)*len(data)\n",
    "\n",
    "\n",
    "lower_bound = beta - s*quantile/div\n",
    "upper_bound = beta + s*quantile/div\n",
    "\n",
    "print(f\"L'intervalle de confiance à 95% pour la pente de la droite du modèle de régréssion est donc [{lower_bound:.3f},{upper_bound:.3f}].\")"
   ]
  }
 ],
 "metadata": {
  "kernelspec": {
   "display_name": "Python 3 (ipykernel)",
   "language": "python",
   "name": "python3"
  },
  "language_info": {
   "codemirror_mode": {
    "name": "ipython",
    "version": 3
   },
   "file_extension": ".py",
   "mimetype": "text/x-python",
   "name": "python",
   "nbconvert_exporter": "python",
   "pygments_lexer": "ipython3",
   "version": "3.9.12"
  }
 },
 "nbformat": 4,
 "nbformat_minor": 5
}