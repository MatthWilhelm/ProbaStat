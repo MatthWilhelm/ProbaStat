{
 "cells": [
  {
   "cell_type": "markdown",
   "id": "81d8820b-1b2e-4e43-b38e-8e758b200103",
   "metadata": {
    "tags": []
   },
   "source": [
    "# Série3\n",
    "## Exercice 1: \n",
    "\n",
    "On suppose que la taille, en centimètres, d'un homme âgé de 25 ans est une variable aléatoire \n",
    "normale de paramètres $\\mu= 176.6$ et $\\sigma^2=63.84$. \n",
    "\n",
    "1\\) Quelle est la probabilité que la taille d'un homme de 25 ans choisi au hasard soit supérieure à 170cm? \n"
   ]
  },
  {
   "cell_type": "code",
   "execution_count": null,
   "id": "84bf9727-6fd6-4d2e-a174-de6e1fc75aeb",
   "metadata": {
    "tags": []
   },
   "outputs": [],
   "source": [
    "from scipy import stats as st\n",
    "import numpy as np\n",
    "\n",
    "mu = 176.6\n",
    "sigma_square = 63.84\n",
    "\n",
    "# Calculer cette probabilité en utilisant directement la fonction de répartition \n",
    "# d'une loi normale de moyenne 176.6 et de variance 63.84\n",
    "prob = ...\n",
    "\n",
    "# Calculer cette probabilité en normalisant notre observation et en utilisant la \n",
    "# fonction de répartition d'une loi normale standardisé\n",
    "normalisation = ... \n",
    "prob_ = ... "
   ]
  },
  {
   "cell_type": "markdown",
   "id": "155da732-bec4-4b11-a53f-e928007dc9e8",
   "metadata": {},
   "source": [
    "2\\) Sachant que l'homme choisi mesure plus de 180cm, quelle est la probabilité qu'il mesure plus de 192cm?  \n",
    "a\\) Calculer $\\mathbb{P}(\\{X > 192\\} \\bigcap \\{X > 180\\})$:  \n",
    "\n",
    "**Solution**:  \n",
    "  \n"
   ]
  },
  {
   "cell_type": "code",
   "execution_count": null,
   "id": "09e4d51c-7d64-4862-ab6c-b1138cf0af94",
   "metadata": {},
   "outputs": [],
   "source": [
    "# Place your answer here"
   ]
  },
  {
   "cell_type": "markdown",
   "id": "e7c2dce1-daf9-4716-b4f3-e0951f53f562",
   "metadata": {},
   "source": [
    "b\\) Calculer $\\mathbb{P}(X > 180)$:"
   ]
  },
  {
   "cell_type": "code",
   "execution_count": null,
   "id": "1c09aaba-5126-4ab1-88d3-a68f61dfd60e",
   "metadata": {},
   "outputs": [],
   "source": [
    "# Place your answer here"
   ]
  },
  {
   "cell_type": "markdown",
   "id": "5a83563d-6333-47b4-a541-41d301e7c401",
   "metadata": {},
   "source": [
    "c\\) En déduire la valeur de la probabilité $\\mathbb{P}(X > 192 | X > 180)$:"
   ]
  },
  {
   "cell_type": "code",
   "execution_count": null,
   "id": "d03e318f-484a-4947-8bda-8505789adb18",
   "metadata": {
    "tags": []
   },
   "outputs": [],
   "source": [
    "# Place your answer here"
   ]
  },
  {
   "cell_type": "markdown",
   "id": "7e64ecc2-61b4-4407-9690-298575b3480c",
   "metadata": {},
   "source": [
    "3\\) Quel est la taille $x$ pour laquelle il y a $5$% de chance d'observer plus grande que $x$, c'est-à-dire $x$ tel que $\\mathbb{P}(X>x) = 0.05$ avec $X\\sim\\mathcal{N}(\\mu,\\sigma^2)$."
   ]
  },
  {
   "cell_type": "code",
   "execution_count": null,
   "id": "33a10579-5bf7-4bae-8cf2-4bdd9a958dab",
   "metadata": {
    "tags": []
   },
   "outputs": [],
   "source": [
    "# Place your answer here"
   ]
  },
  {
   "cell_type": "markdown",
   "id": "659f2f5b-c4ce-42f5-8ade-de87aa5a80bd",
   "metadata": {
    "tags": []
   },
   "source": [
    "## Exercice 2: \n",
    "\n",
    "On considère une variable aléatoire réelle $X$ avec espérance $\\mu$ et variance $\\sigma^2 < \\infty$. Soit $X_1, \\dots, X_n$ un échantillon iid de $n$ variables aléatoires avec la même loi que $X$.\n",
    "On définit $\\overline{X}=  \\frac{1}{n}\\sum_i^n X_i $ et $\\hat{\\sigma}^2 = \\frac{1}{n}\\sum_i (X_i - \\overline{X})^2$ des estimateurs empiriques des deux premiers moments de $X$.\n",
    "\n",
    "1) a) Soit directement en markdown, soit à la main, calculer $\\mathbb{E}[\\overline{X}]$ et $\\mathbb{E}[\\hat{\\sigma}^2]$:\n",
    "\n",
    "**Solution**:  \n",
    "  \n",
    "b) En déduire un estimateur non-biaisé de $\\sigma^2$.\n",
    "\n",
    "**Solution**:  \n",
    "  \n",
    "2) Proposer une méthode pour estimer l'espérance et la variance si nous avions un échantillon $X_1, \\dots, X_n$ de grande taille.\n",
    "\n",
    "**Solution**:  \n",
    "  \n",
    "3) Nous allons maintenant tester cela en générant un grand nombre de variables aléatoires pour une variable étudiée en cours (une variable suivant la loi Beta par exemple):  \n",
    "a) Générer $n = 10000$ observations de la loi que vous avez choisi."
   ]
  },
  {
   "cell_type": "code",
   "execution_count": null,
   "id": "ee91f4fd-b55b-43a9-a7f6-60bb3c968c21",
   "metadata": {
    "tags": []
   },
   "outputs": [],
   "source": [
    "# Place your answer here"
   ]
  },
  {
   "cell_type": "markdown",
   "id": "ba55ee98-8b28-4542-94e6-7546c110adbf",
   "metadata": {},
   "source": [
    "a\\) Calculer la moyenne et la variance de la loi que vous avez choisi pour les paramètres que vous avez fixé.\n",
    "\n",
    "**Solution**:  \n",
    "  \n"
   ]
  },
  {
   "cell_type": "code",
   "execution_count": null,
   "id": "299e6945-8a61-4c3e-a651-586e37e52d29",
   "metadata": {
    "tags": []
   },
   "outputs": [],
   "source": [
    "mean = ... \n",
    "var = ... "
   ]
  },
  {
   "cell_type": "markdown",
   "id": "48d36133-cf01-40af-bbfc-cba4760e7aec",
   "metadata": {},
   "source": [
    "1\\) Faire un plot de l'évolution de l'estimation de la moyenne en fonction du nombre $m = 1, \\cdots, n$ d'obervations utilisé dans l'estimation. Faire aussi apparaître la vrai valeur de la moyenne sur ce plot."
   ]
  },
  {
   "cell_type": "code",
   "execution_count": null,
   "id": "c091e469-dad8-496a-865b-43622ae752fd",
   "metadata": {
    "tags": []
   },
   "outputs": [],
   "source": [
    "from matplotlib import pyplot as plt\n",
    "import numpy as np\n",
    "\n",
    "# Plot de l'évolution de l'estimation de la moyenne\n",
    "...\n"
   ]
  },
  {
   "cell_type": "markdown",
   "id": "a018c936-2159-4441-a5be-01ec7350d9a6",
   "metadata": {},
   "source": [
    "2\\) Faire un plot de l'évolution de l'estimation de la variance en fonction du nombre $m = 1, \\cdots, n$ d'obervations utilisé dans l'estimation. Faire aussi apparaître la vrai valeur de la variance sur ce plot."
   ]
  },
  {
   "cell_type": "code",
   "execution_count": null,
   "id": "fdbfc800-e78f-49bc-96b1-496bd118888b",
   "metadata": {
    "tags": []
   },
   "outputs": [],
   "source": [
    "# Calculer l'estimation de la variance pour chacunes des m premières observations\n",
    "# Attention: Suivant la fonction utilisée pour estimer la déviation, la définition par défaut de cette fonction peut \n",
    "# être différente de celle que nous utilisons (np.std par exemple, pour laquelle il faut utiliser le paramètre ddof = 1)\n",
    "...\n",
    "\n",
    "\n",
    "# Plot de l'évolution de l'estimation de la variance\n",
    "...\n"
   ]
  },
  {
   "cell_type": "markdown",
   "id": "97ba3169-82f6-4b02-b9c3-20264f9afe5e",
   "metadata": {
    "tags": []
   },
   "source": [
    "## Exercice 3: Estimation de Monte-Carlo\n",
    "\n",
    "Considérer un domaine quelconque (mesurable, de mesure non-nulle) $D\\subset [0,1]^2\\subset \\mathbb{R}^2$. Soit $X\\sim f_X$ un variable aléatoire de densité $f_X$ telle que $D\\subset \\text{supp}(f_X)$ (le support de $f_X$, c'est-à-dire l'ensemble pour lequel $f_X >0$) et soit $Y = \\mathbf{1}_{\\{X\\in D\\}}$. \n",
    "\n",
    "1) Donner la distribution de $Y$ en fonction de $X$.\n",
    "\n",
    "**Solution**:  \n",
    "  \n",
    "2) Calculer l'espérance de $Y$. \n",
    "\n",
    "**Solution**:  \n",
    "  \n",
    "3) Supposons à présent que $X \\sim \\mathcal{U}\\left([-1,1]^2\\right)$ et considérons le disque $D = \\{(x,y) \\in \\mathbb{R}^2: x^2 +y^2 \\leq 1\\}$.  \n",
    "a) Calculer $\\mathbb{P}(X\\in D)$.\n",
    "\n",
    "**Solution**:  \n",
    "  \n",
    "b) En supposant qu'on dispose d'un grand échantillon $X_1, \\cdots, X_n \\stackrel{idd}{\\sim} \\mathcal{U}\\left([-1,1]^2\\right)$ proposer une procédure pour estimer la valeure de $\\pi$.\n",
    "\n",
    "**Solution**:  \n",
    "  \n",
    "c) En déduire une estimation de $\\pi$ et montrer la convergence de l'estimation sur un plot."
   ]
  },
  {
   "cell_type": "code",
   "execution_count": null,
   "id": "fafd740d-952f-418c-a178-39e8fa807d6b",
   "metadata": {
    "tags": []
   },
   "outputs": [],
   "source": [
    "from scipy import stats as st\n",
    "from matplotlib import pyplot as plt\n",
    "import numpy as np\n",
    "\n",
    "n = 5000\n",
    "\n",
    "# Générer un échantillon de n VA unif([-1,1])\n",
    "X = ...\n",
    "\n",
    "# Générer la variable aléatoire Y\n",
    "Y = (np.linalg.norm(X, axis = 1)<=1)\n",
    "\n",
    "# Évolution de l'estimation de pi\n",
    "...\n"
   ]
  },
  {
   "cell_type": "markdown",
   "id": "5520259e-e8b9-4ad4-897c-2e28412c7846",
   "metadata": {
    "tags": []
   },
   "source": [
    "4) Soit une fonction $h\\in C^0([0,1]^2)$. À l'aide d'un échantillon de variables $X \\sim \\mathcal{U}\\left([0,1]^2\\right)$, en vous inspirant des questions précédentes, donner une estimation de \n",
    "\\begin{equation*}\n",
    "\\int_{[0,1]^2} h(x) \\ dx.\n",
    "\\end{equation*}\n",
    "De plus, on rappel la propriété suivante de l'espérance: \n",
    "\\begin{equation*}\n",
    "\\mathbb{E}[h(X)] = \\int_{[0,1]^2} h(x,y) f_X(x,y)\\ dxdy\n",
    "\\end{equation*}\n",
    "\n",
    "**Solution**:  \n",
    "  \n",
    "5) En considérant la fonction $h(x,y) = e^{x^2+y^2}\\in C^0([0,1]^2)$, calculer une approximation de $\\int_{[0,1]^2} h(x) \\ dx$ et comparé cette valeur à sa vrai valeur qui vaut $\\int_{[0,1]^2} h(x) \\ dx \\approx 2.139350129$."
   ]
  },
  {
   "cell_type": "code",
   "execution_count": null,
   "id": "346b77fa-c2e2-4d9f-b2f6-c0a04a7612ed",
   "metadata": {},
   "outputs": [],
   "source": [
    "n = 5000\n",
    "true_value = 2.139350129\n",
    "\n",
    "# Générer un échantillon de n VA unif([-1,1])\n",
    "X = ...\n",
    "\n",
    "# Écrire la fonction h\n",
    "def h(X):\n",
    "    val = ...\n",
    "    return val\n",
    "\n",
    "# Générer la variable aléatoire Y\n",
    "Y = ... \n",
    "\n",
    "# Plot de l'évolution de l'estimation de la moyenne\n",
    "...\n"
   ]
  },
  {
   "cell_type": "markdown",
   "id": "6341e6a5-6df8-4c5b-b3ed-eec599e29a4b",
   "metadata": {},
   "source": [
    "6) Soient $X_1, \\cdots, X_n$ une suite variable aléatoire réelles indépendantes et identiquement distribuées de moyennes et de variances communes $\\mu$ et $\\sigma^2$ finies. On peut reformuler le théorème central limite de la façon suivante:\n",
    "\\begin{equation*}\n",
    "\\overline{X}_n - \\mu \\sim \\frac{1}{\\sqrt{n}}\\mathcal{N}(0,\\sigma^2),\\ \\text{pour $n$ assez grand}\n",
    "\\end{equation*}\n",
    "On a donc que le taux de convergence de la $\\text{RMSE} = \\sqrt{\\mathbb{E}\\left[(\\overline{X}_n-\\mu)^2\\right]}$ est de $\\sqrt{n} = n^{-\\frac{1}{2}}$. En reprenant l'estimation de $\\pi$, illustrer le taux de convergence de la RMSE en estimant la racine carrée de l'erreur quadratique moyenne pour plusieurs valeurs de $n$ (par exemple $n\\in\\{10,20,50,100,200,500,1000\\}$) et en générant à chaque fois $m = 100$ échantilons, puis en faire un plot en échelle logarithmique sur l'axe des ordonée. La doite de régression devrait avoir une pente de $-\\frac{1}{2}$ car le taux de convergence est de $\\sqrt{n}$."
   ]
  },
  {
   "cell_type": "code",
   "execution_count": null,
   "id": "15b2cebf-cd22-4b52-ade2-e3a83e47bb6b",
   "metadata": {},
   "outputs": [],
   "source": [
    "N = [10,20,50,100,250,500,1000,2500,5000]\n",
    "m = 100\n",
    "\n",
    "RMSE = np.zeros(len(N))\n",
    "\n",
    "for i,n in enumerate(N):\n",
    "    échantillon_estimation = np.zeros(m)\n",
    "    for j in range(m):\n",
    "        # Générer un échantillon de n VA unif([-1,1])\n",
    "        X = ...\n",
    "        # Estimation de pi\n",
    "        pi = ...\n",
    "        # Calcul de la MSE de l'échantillon\n",
    "        échantillon_estimation[j] = ...\n",
    "    \n",
    "    RMSE[i] = np.sqrt(échantillon_estimation.mean())\n",
    "\n",
    "# Plot du taux de convergence\n",
    "...\n"
   ]
  },
  {
   "cell_type": "markdown",
   "id": "d1443646-a6bd-42f0-83c8-4c3022f251b1",
   "metadata": {},
   "source": [
    "Les applications des méthodes de Monte-Carlo sont nombreuses, cependant elles sont particulièrement utilisées pour calculer des intégrales en dimensions plus grandes que 1 (en particulier, pour calculer des surfaces et des volumes). Elles sont également couramment utilisées en physique des particules, où des simulations probabilistes permettent d'estimer la forme d'un signal ou la sensibilité d'un détecteur. La comparaison des données mesurées à ces simulations peut permettre de mettre en évidence des caractéristiques inattendues, par exemple de nouvelles particules."
   ]
  },
  {
   "cell_type": "markdown",
   "id": "30f9b10c-f25c-4d26-996c-ae92b8359227",
   "metadata": {
    "tags": []
   },
   "source": [
    "## Exercice 4: \n",
    "\n",
    "On considère $ 100 $ lancers indépendants d'une pièce de monnaie dont la probabilité de tomber sur face est $ 3/5 $. \n",
    "Soient $ X_i $, $ i \\in \\{ 1, \\ldots, 100 \\} $, les variables aléatoires telles que $ X_i=1 $ si on est tombé sur face au $ i^{ème}$ jet et $ X_i=0 $ sinon.\n",
    "\n",
    "1\\) Quelle est la loi de $X_i$ pour $i\\in\\{1, \\cdots, 100\\}$ ?\n",
    "\n",
    "**Solution**:  \n",
    "  \n",
    "2\\) Quelle est la loi de $ S_{100} = \\sum_{i=1}^{100} X_i $?\n",
    "\n",
    "**Solution**:  \n",
    "  \n",
    "3\\) Calculez $ \\mathbb{P}(S_{100} \\leq 60) $."
   ]
  },
  {
   "cell_type": "code",
   "execution_count": null,
   "id": "9abaec77-608c-4467-903e-e0d99fe9a532",
   "metadata": {
    "tags": []
   },
   "outputs": [],
   "source": [
    "from scipy import stats as st\n",
    "import numpy as np\n",
    "\n",
    "n = 100\n",
    "p = 3./5\n",
    "prob = ... \n",
    "# Afficher le résulat\n",
    "...\n"
   ]
  },
  {
   "cell_type": "markdown",
   "id": "3c3e87a2-808a-4edb-8d1e-2db61c89dcb7",
   "metadata": {},
   "source": [
    "4\\) Écrire une fonction qui standardise $S_{100}$ et donnez la loi approximative de la variable standardisée.  \n",
    "\n",
    "**Solution**:  \n",
    "  \n"
   ]
  },
  {
   "cell_type": "code",
   "execution_count": null,
   "id": "a0612578-3894-406d-be90-74e1f1d3c33e",
   "metadata": {},
   "outputs": [],
   "source": [
    "# Place your answer here"
   ]
  },
  {
   "cell_type": "markdown",
   "id": "2263faf9-8843-4e4f-b7b9-4a645a099eda",
   "metadata": {},
   "source": [
    "5\\) Approximez la valeur de $\\mathbb{P}(S_{100} \\leq 60)$ grâce à la question précédente et comparez cette valeur approximative à la valeur exacte.  \n",
    "\n",
    "**Solution**:  \n",
    "  \n"
   ]
  },
  {
   "cell_type": "code",
   "execution_count": null,
   "id": "db6404df-376f-40d2-ac79-c18b86362c4d",
   "metadata": {},
   "outputs": [],
   "source": [
    "Z = ... \n",
    "prob_ = ... \n",
    "# Afficher le résulat\n",
    "...\n"
   ]
  },
  {
   "cell_type": "markdown",
   "id": "cfd9253b-c94b-4239-95c5-6e819d10d87e",
   "metadata": {
    "tags": []
   },
   "source": [
    "## Exercice 5: \n",
    "\n",
    "Soit $X$ le résultat du jet d'un dé équilibré.\n",
    "\n",
    "1\\) Calculez $\\mathbb{E}[X]$ et $\\text{Var}(X)$"
   ]
  },
  {
   "cell_type": "code",
   "execution_count": null,
   "id": "c86f0d0b-4f6c-4417-936b-815794a4ab86",
   "metadata": {
    "tags": []
   },
   "outputs": [],
   "source": [
    "from scipy import stats as st\n",
    "import numpy as np\n",
    "\n",
    "E_X, V_X = ... \n",
    "# Afficher le résultat\n",
    "...\n"
   ]
  },
  {
   "cell_type": "markdown",
   "id": "685f5663-76d2-41d3-9deb-567b11e59f74",
   "metadata": {},
   "source": [
    "2\\) On lance $100$ dés équilibrés de façon indépendante. Calculez approximativement la probabilité la somme des $100$ résultats soit comprise entre $340$ et $360$."
   ]
  },
  {
   "cell_type": "code",
   "execution_count": null,
   "id": "8ebc2fda-1ad2-43ec-9aa5-bcc6175983c1",
   "metadata": {
    "tags": []
   },
   "outputs": [],
   "source": [
    "# Place your answer here"
   ]
  }
 ],
 "metadata": {
  "kernelspec": {
   "display_name": "Python",
   "language": "python",
   "name": "python3"
  },
  "language_info": {
   "codemirror_mode": {
    "name": "ipython",
    "version": 3
   },
   "file_extension": ".py",
   "mimetype": "text/x-python",
   "name": "python",
   "nbconvert_exporter": "python",
   "pygments_lexer": "ipython3",
   "version": "3.8.10"
  }
 },
 "nbformat": 4,
 "nbformat_minor": 5
}