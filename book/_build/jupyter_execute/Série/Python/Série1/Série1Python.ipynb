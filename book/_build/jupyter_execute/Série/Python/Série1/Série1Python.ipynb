{
 "cells": [
  {
   "cell_type": "markdown",
   "id": "36c6d462-4e34-45b1-bb4a-9b84e9ced64d",
   "metadata": {
    "tags": []
   },
   "source": [
    "# Série1\n",
    "## Exercice 1:  \n",
    "\n",
    "On a observé la taille de 15 femmes. Le boxplot et l'histogramme ci-dessous ont été construits avec ces données:\n",
    "\n",
    "|||||||||||||||||\n",
    "|:--:|:--:|:--:|:--:|:--:|:--:|:--:|:--:|:--:|:--:|:--:|:--:|:--:|:--:|:--:|:--:|\n",
    "| **Taille** | 147 | 59 | 152 | 155 | 157 | 160 | 64 | 165 | 168 | 170 | 173 | 175 | 178 | 180 | 183 |"
   ]
  },
  {
   "cell_type": "code",
   "execution_count": null,
   "id": "898d50da-e210-4cac-9352-86d214f7f7b8",
   "metadata": {
    "tags": []
   },
   "outputs": [],
   "source": [
    "import pandas as pd \n",
    "import numpy as np\n",
    "import matplotlib.pyplot as plt\n",
    "\n",
    "data = pd.DataFrame(np.array([147 , 59 , 152 , 155 , 157 , 160 , 64 , 165 , 168 , 170 , 173 , 175 , 178 , 180 , 183]).transpose(), \n",
    "                     columns=[\"Taille\"])"
   ]
  },
  {
   "cell_type": "markdown",
   "id": "896675cc-92ee-4365-b705-cda535551f7a",
   "metadata": {},
   "source": [
    "1\\) Calculer la moyenne et la médiane des tailles observées, puis faire un boxplot et un histogramme de ces tailles. Sur chacun de ces graphiques faire apparaître la moyenne et la médiane."
   ]
  },
  {
   "cell_type": "code",
   "execution_count": null,
   "id": "fc21b4d9-4fe0-4d19-aa95-1f8dfd049d75",
   "metadata": {},
   "outputs": [],
   "source": [
    "# Calculer la moyenne et la médiane des tailles observées\n",
    "mean = ... \n",
    "median = ... \n",
    "\n",
    "# Faire un boxplot et un histogramme\n",
    "...\n"
   ]
  },
  {
   "cell_type": "markdown",
   "id": "d8a5f884-a19a-4779-9fa6-b20184566a5e",
   "metadata": {},
   "source": [
    "2\\) Entre la moyenne et la médiane, laquelle de ces deux caractéristiques représente le mieux la tendance centrale de la \n",
    "distribution des tailles? Justifiez votre réponse.\n",
    "\n",
    "**Solution**:  \n",
    "  \n",
    "3\\) Si l'on considère seulement les tailles supérieures à $ 140 $ cm,  on obtient une moyenne de $ 166.4 $ cm et une médiane de $ 168 $ cm.  Commentez la phrase suivante : *“La médiane est plus robuste que la moyenne.”*\n",
    "\n",
    "**Solution**:  \n",
    "  \n",
    "4\\) Calculer l'écart-type et l'écart inter-quartile pour l'ensemble des tailles et pour les tailles supérieure à $140$ cm. Laquelle de ces deux caractéristiques vous semble la plus robuste?\n",
    "\n",
    "**Solution**:  \n",
    "  \n"
   ]
  },
  {
   "cell_type": "code",
   "execution_count": null,
   "id": "9d657969-320a-4bd6-8722-69081a558e32",
   "metadata": {
    "tags": []
   },
   "outputs": [],
   "source": [
    "# Calcul de l'écart inter-quartiles\n",
    "quantile = ...\n",
    "EIQ = ...\n",
    "\n",
    "# Calcul de l'écart-type\n",
    "std = ...\n",
    "\n",
    "# Sélection des tailles supérieures à 140cm\n",
    "data_140 = ... \n",
    "\n",
    "# Calcul de l'écart inter-quartile et de l'écart-type pour les tailles supérieures à 140cm\n",
    "quantile_140 = ...\n",
    "EIQ_140 = ...\n",
    "std_140 = ...\n",
    "\n",
    "# Affichage des valeures obtenues\n",
    "...\n"
   ]
  },
  {
   "cell_type": "markdown",
   "id": "3642f43b-1346-42d7-9361-bdff67d8ec0c",
   "metadata": {
    "tags": []
   },
   "source": [
    "## Exercice 2:  \n",
    "\n",
    "On a observé la taille et le poids de quelques femmes. Les résultats sont présentés dans le tableau suivant (la taille en centimètres, le poids en kilogrammes):\n",
    "\n",
    "|||||||||||||||||\n",
    "|:--:|:--:|:--:|:--:|:--:|:--:|:--:|:--:|:--:|:--:|:--:|:--:|:--:|:--:|:--:|:--:|\n",
    "| **Taille** | 147 | 150 | 152 | 155 | 157 | 160 | 163 | 165 | 168 | 170 | 173 | 175 | 178 | 180 | 183 |\n",
    "| **Poids** | 52 | 53 | 54 | 56 | 57 | 59 | 60 | 61 | 63 | 64 | 66 | 68 | 70 | 72 | 74 |"
   ]
  },
  {
   "cell_type": "code",
   "execution_count": null,
   "id": "7ee4bd46-2161-4f9f-ba6d-ba58c04704ca",
   "metadata": {
    "tags": []
   },
   "outputs": [],
   "source": [
    "import pandas as pd \n",
    "import numpy as np\n",
    "import matplotlib.pyplot as plt\n",
    "datas = pd.DataFrame(np.array([[147 , 150 , 152 , 155 , 157 , 160 , 163 , 165 , 168 , 170 , 173 , 175 , 178 , 180 , 183], \n",
    "                                [52 , 53 , 54 , 56 , 57 , 59 , 60 , 61 , 63 , 64 , 66 , 68 , 70 , 72 , 74]]).transpose(), \n",
    "                     columns=[\"Taille\",\"Poids\"])"
   ]
  },
  {
   "cell_type": "markdown",
   "id": "2de1ec89-e5e8-4a86-be36-c3418e6793f6",
   "metadata": {
    "tags": []
   },
   "source": [
    "1\\) Est-ce que la taille est une variable quantitative, qualitative nominale ou qualitative ordinale ?\n",
    "\n",
    "**Solution**:  \n",
    "  \n",
    "2\\) Calculez la moyenne et l'écart-type des tailles observées."
   ]
  },
  {
   "cell_type": "code",
   "execution_count": null,
   "id": "bd19cf97-1319-41c9-8d73-aec8be9091a8",
   "metadata": {
    "tags": []
   },
   "outputs": [],
   "source": [
    "# Calculer la moyenne des tailles\n",
    "mean = ... \n",
    "\n",
    "# Afficher cette moyenne\n",
    "...\n",
    "\n",
    "# Calculer l'écart-type des tailles\n",
    "std = ... \n",
    "\n",
    "# Afficher cet écart-type\n",
    "...\n"
   ]
  },
  {
   "cell_type": "markdown",
   "id": "19dcfe8e-3d69-49bf-80a9-c5146ca36292",
   "metadata": {},
   "source": [
    "3\\) Pour les tailles observées, calculez le minimum, le maximum, la médiane, le quartile inférieur, le quartile supérieur et le quartile d'ordre 30%. Qu'est-ce que représentent ces quantités ?\n",
    "\n",
    "**Solution**:  \n",
    "  \n"
   ]
  },
  {
   "cell_type": "code",
   "execution_count": null,
   "id": "f7a68798-94fc-4fed-9e99-236f32ee7b2e",
   "metadata": {
    "tags": []
   },
   "outputs": [],
   "source": [
    "min = ... \n",
    "max = ... \n",
    "med = ... \n",
    "q_ = ...\n",
    "# Afficher les résultats caclulés\n",
    "...\n"
   ]
  },
  {
   "cell_type": "markdown",
   "id": "40a6ff9f-e40b-482e-a45c-9d4458836cfc",
   "metadata": {},
   "source": [
    "4\\) Calculez l'écart inter-quartile des tailles observées"
   ]
  },
  {
   "cell_type": "code",
   "execution_count": null,
   "id": "06933ea1-221b-451f-b10f-9b8738a11b95",
   "metadata": {
    "tags": []
   },
   "outputs": [],
   "source": [
    "# Calcul de l'écart inter-quartile\n",
    "EIQ = ... \n",
    "# Afficher ce résultat\n",
    "...\n"
   ]
  },
  {
   "cell_type": "markdown",
   "id": "cb388288-b20b-4625-a914-f9782e4ab5cd",
   "metadata": {},
   "source": [
    "5\\) Construisez le boxplot des tailles observées. Quels aspects des données cette représentation graphique nous permet-elle de visualiser?\n",
    "\n",
    "**Solution**:  \n",
    "  \n"
   ]
  },
  {
   "cell_type": "code",
   "execution_count": null,
   "id": "96b5be0c-1158-4faf-aa8c-c352a95bd566",
   "metadata": {},
   "outputs": [],
   "source": [
    "# Faire un boxplot des tailles observées\n",
    "...\n"
   ]
  },
  {
   "cell_type": "markdown",
   "id": "a599e8ce-bdc4-4f2c-9d72-bf541a688a1f",
   "metadata": {},
   "source": [
    "6\\) Divisez les tailles observées en 5 groupes :  \n",
    "$ < 150 $, $ 150 - 159 $, $ 160 - 169 $, $ 170 - 179 $, $ > 179 $ cm.  \n",
    "Construisez un histogramme en utilisant une ligne par groupe. Quels aspects des données cette représentation graphique nous permet-elle de visualiser?\n",
    "\n",
    "**Solution**:  \n",
    "  \n"
   ]
  },
  {
   "cell_type": "code",
   "execution_count": null,
   "id": "7b99841a-cdc8-4e2c-bb6f-334b11443edf",
   "metadata": {
    "tags": []
   },
   "outputs": [],
   "source": [
    "# Faire un histogramme avec les groupes mentionnés ci-dessus\n",
    "...\n"
   ]
  },
  {
   "cell_type": "markdown",
   "id": "8224529a-12b1-4412-84b5-071b904039a2",
   "metadata": {},
   "source": [
    "7\\) Pensez-vous qu'il existe une relation entre la taille et le poids des femmes ayant participé à l'enquête? Justifiez votre réponse à l'aide d'un graphique adéquat.\n",
    "\n",
    "**Solution**:  \n",
    "  \n"
   ]
  },
  {
   "cell_type": "code",
   "execution_count": null,
   "id": "6aa3daa2-5baf-4790-8b21-32b35073bf12",
   "metadata": {
    "tags": []
   },
   "outputs": [],
   "source": [
    "# Faire un graphique permettant de mettre en évidence la relation entre la taille \n",
    "# et le poids des femmes ayant participer à l'enquête\n",
    "...\n"
   ]
  },
  {
   "cell_type": "markdown",
   "id": "037e004e",
   "metadata": {
    "tags": []
   },
   "source": [
    "## Exercice 3: \n",
    "\n",
    "On a observé la couleur des cheveux et des yeux de certains étudiants de l’Université du Delaware.\n",
    "Les résultats sont présentés dans le tableau suivant :\n",
    "\n",
    "| Cheveux / Yeux  | Brun | Bleu       | \"Hazel\" | Vert |\n",
    "| :---------------: |:---------------:|:---------------:| :---------------:| :---------------: |\n",
    "| Noir  | 68 | 20 | 15 | 5 |\n",
    "| Brun  | 119 | 84 | 54 | 29 |\n",
    "| Roux  | 26 | 17 | 14 | 14 |\n",
    "| Blond | 7 | 94 | 10 | 16|"
   ]
  },
  {
   "cell_type": "code",
   "execution_count": null,
   "id": "139e0779",
   "metadata": {
    "tags": []
   },
   "outputs": [],
   "source": [
    "import pandas as pd \n",
    "import numpy as np\n",
    "data = pd.DataFrame(np.array([[68, 20, 15, 5], [119, 84, 54, 29], [26, 17, 14,14 ],[7,94,10,16 ]]), \n",
    "                     columns=[\"Brun\",\"Bleu\", \"Hazel\", \"Vert\"],index=[\"Noir\",\"Brun\",\"Roux\",\"Blond\"])\n"
   ]
  },
  {
   "cell_type": "markdown",
   "id": "b951535b",
   "metadata": {
    "tags": []
   },
   "source": [
    "1\\) Combien d'étudiants ont participé à cette enquête ?"
   ]
  },
  {
   "cell_type": "code",
   "execution_count": null,
   "id": "1e589c03",
   "metadata": {
    "tags": []
   },
   "outputs": [],
   "source": [
    "# Calculer et affficher le nombre total d'étudiants qui ont participé à cette enquête\n",
    "...\n"
   ]
  },
  {
   "cell_type": "markdown",
   "id": "b75aec8d",
   "metadata": {},
   "source": [
    "2\\) Est-ce que la couleur des cheveux est une variable quantitative, qualitative nominale ou qualitative\n",
    "ordinale ?\n",
    "\n",
    "**Solution**:  \n",
    "  \n",
    "3\\) Résumez ce que vous pouvez dire sur la couleur des cheveux des étudiants à l’aide de quelques chiffres et graphiques adéquats.\n",
    "\n",
    "**Solution**:  \n",
    "  \n"
   ]
  },
  {
   "cell_type": "code",
   "execution_count": null,
   "id": "0d956783",
   "metadata": {
    "tags": []
   },
   "outputs": [],
   "source": [
    "import matplotlib.pyplot as plt\n",
    "\n",
    "# Calculer la fréquence absolue et relative des cheveux des étudiants\n",
    "...\n",
    "\n",
    "\n",
    "# Faire un plot en camembert de la fréquence absolue des couleurs des cheveux\n",
    "...\n",
    "\n",
    "\n",
    "# Faire un bar plot de la fréquence absolue des couleurs de cheveux\n",
    "...\n"
   ]
  },
  {
   "cell_type": "markdown",
   "id": "923b68c8",
   "metadata": {},
   "source": [
    "4\\) Pensez-vous que la couleur des cheveux et la couleur des yeux des étudiants ayant participé à l’enquête sont liées ? Justifiez votre réponse.\n",
    "\n",
    "\n",
    "**Solution**:  \n",
    "  \n"
   ]
  },
  {
   "cell_type": "code",
   "execution_count": null,
   "id": "79ed455a",
   "metadata": {
    "tags": []
   },
   "outputs": [],
   "source": [
    "# Place your answer here"
   ]
  },
  {
   "cell_type": "markdown",
   "id": "cf544f7d-0957-42f3-b356-27a1469460c4",
   "metadata": {
    "tags": []
   },
   "source": [
    "## Exercice 4:  \n",
    "\n",
    "On a observé les précipitations journalières 01.01.2000 - 10.07.2022 de la station météo Suisse de Changrins. "
   ]
  },
  {
   "cell_type": "code",
   "execution_count": null,
   "id": "5fe06f93-c3ba-47e4-92d0-193f0d540bc0",
   "metadata": {
    "tags": []
   },
   "outputs": [],
   "source": [
    "import pandas as pd\n",
    "data = pd.read_csv('Precipitations_journalieres_Changins.csv',sep=',',names= [\"Date\",\"Précipitation\"])"
   ]
  },
  {
   "cell_type": "markdown",
   "id": "210aed38-02ed-4ddc-9edd-c9af3ebdaec7",
   "metadata": {},
   "source": [
    "1\\) Calculer la moyenne et la médiane de ces données. Puis, faire un boxplot et un histogramme de ces données et faire apparaitre la moyenne et la médiane sur chacunes de ces figures."
   ]
  },
  {
   "cell_type": "code",
   "execution_count": null,
   "id": "f71d2f14-305d-4c84-9c76-6a8aca641cb4",
   "metadata": {
    "tags": []
   },
   "outputs": [],
   "source": [
    "import matplotlib.pyplot as plt\n",
    "# Calculer la moyenne et la médiane des tailles observées\n",
    "mean = ... \n",
    "median = ... \n",
    "\n",
    "# Faire un boxplot et un histogramme\n",
    "...\n"
   ]
  },
  {
   "cell_type": "markdown",
   "id": "8e68eae7-58e8-47fa-9418-12c56b519d01",
   "metadata": {},
   "source": [
    "2\\) Laquelle de ces deux caractéristiques représente le mieux la tendance centrale de la \n",
    "distribution? Justifiez votre réponse.\n",
    "\n",
    "**Solution**:  \n",
    "  \n"
   ]
  }
 ],
 "metadata": {
  "kernelspec": {
   "display_name": "Python",
   "language": "python",
   "name": "python3"
  },
  "language_info": {
   "codemirror_mode": {
    "name": "ipython",
    "version": 3
   },
   "file_extension": ".py",
   "mimetype": "text/x-python",
   "name": "python",
   "nbconvert_exporter": "python",
   "pygments_lexer": "ipython3",
   "version": "3.8.10"
  }
 },
 "nbformat": 4,
 "nbformat_minor": 5
}