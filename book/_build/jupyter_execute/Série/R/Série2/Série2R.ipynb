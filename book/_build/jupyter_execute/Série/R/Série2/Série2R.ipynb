{
 "cells": [
  {
   "cell_type": "markdown",
   "id": "7a4792f4-64c4-4e9e-8b85-fa9db6528669",
   "metadata": {
    "tags": []
   },
   "source": [
    "# Série2\n",
    "## Exercice 1:  \n",
    "\n",
    "Nous avons à notre disposition les données d'échec ou de réussite de l'examen de cette matière de 2020. Nous allons nous intérésser en particulier à deux variables binaires de ces données:\n",
    "- La section: **S** $\\in\\{\\text{GM},\\text{EL}\\}$\n",
    "- Le succes à l'examen: **A** $\\in\\{0,1\\}$\n",
    "\n",
    "Dans le cadre des probabilités conditionnelles, avec deux variables binaires, une erreur qui revient souvent est de penser que:\n",
    "\\begin{equation*} \\mathbb{P}\\left(\\textbf{A} = 1 | \\textbf{S} = \\text{GM}\\right) + \\mathbb{P}\\left(\\textbf{A} = 1 | \\textbf{S} = \\text{EL}\\right) = 1 \\end{equation*}\n",
    "Néanmoins, cela est généralement faux. Nous allons donc nous appliquer à montrer que cela est faux dans notre cas, ainsi que de voir quel serait la version correcte de cette équation."
   ]
  },
  {
   "cell_type": "code",
   "execution_count": null,
   "id": "aaf4ca73-3a40-46f9-9061-bfa0484e5e5e",
   "metadata": {
    "tags": []
   },
   "outputs": [],
   "source": [
    "library(dplyr)\n",
    "\n",
    "data <- read.csv(\"Success_ProbaStat.csv\")"
   ]
  },
  {
   "cell_type": "markdown",
   "id": "6926d7d4-9a32-4b3e-a3cc-1850307c6bf9",
   "metadata": {},
   "source": [
    "1\\) Synthétiser ces données de façon à avoir le nombre d'échec ou de réussite par section."
   ]
  },
  {
   "cell_type": "code",
   "execution_count": null,
   "id": "1caec49b-584a-477e-b520-9892466503c2",
   "metadata": {},
   "outputs": [],
   "source": [
    "# Place your answer here"
   ]
  },
  {
   "cell_type": "markdown",
   "id": "d9161036-666c-4a0c-bb59-bb0d7850d479",
   "metadata": {},
   "source": [
    "2\\) Montrer expérimentalement que $ \\mathbb{P}\\left(\\textbf{A} = 1 | \\textbf{S} = \\text{GM}\\right) + \\mathbb{P}\\left(\\textbf{A} = 1 | \\textbf{S} = \\text{EL}\\right) \\neq 1 $:"
   ]
  },
  {
   "cell_type": "code",
   "execution_count": null,
   "id": "2bd104d0-9038-4424-8da2-3247fbfc665b",
   "metadata": {},
   "outputs": [],
   "source": [
    "# Place your answer here"
   ]
  },
  {
   "cell_type": "markdown",
   "id": "edd35636-33c2-455e-a25a-2a3ca81eabe2",
   "metadata": {},
   "source": [
    "3\\) Cette erreur est plutôt commune et vient d'une confusion avec une autre équation qui elle est correcte:\n",
    "\\begin{equation*}\\mathbb{P}\\left(\\textbf{A} = 1 | \\textbf{S} = \\text{s}\\right) + \\mathbb{P}\\left(\\textbf{A} = 0 | \\textbf{S} = \\text{s}\\right) = 1, \\forall s\\in\\{\\text{GM},\\text{EL}\\}\n",
    "\\end{equation*}\n",
    "Vérifier expérimentalement que cette équation est correcte.  \n",
    "  \n"
   ]
  },
  {
   "cell_type": "code",
   "execution_count": null,
   "id": "ab5db9c2-3893-4652-93d2-647d9ac979c6",
   "metadata": {},
   "outputs": [],
   "source": [
    "# Place your answer here"
   ]
  },
  {
   "cell_type": "markdown",
   "id": "1b8143f5-afac-42a4-b23b-370e94e8c789",
   "metadata": {
    "tags": []
   },
   "source": [
    "## Exercice 2: \n",
    "\n",
    "Nous allons considérer quatre fonctions définies de l'ensemble $\\left\\{0, 1, 2, ..., 10\\right\\}$ dans $\\mathbb{R}$. Le but de cet exercice est de vérifier lesquels de ces fonctions sont des fonctions de masses."
   ]
  },
  {
   "cell_type": "code",
   "execution_count": null,
   "id": "5fe3683d-2412-4fe7-8c41-fe8d450a8f6f",
   "metadata": {
    "tags": []
   },
   "outputs": [],
   "source": [
    "source(\"fonction.r\")\n",
    "\n",
    "X = c(0,1,2,3,4,5,6,7,8,9,10)\n",
    "\n",
    "# Vous pouvez accéder à ces quatres fonctions, f1,f2,f3,f4, de la manière suivante\n",
    "f1(2)"
   ]
  },
  {
   "cell_type": "markdown",
   "id": "53c6c17e-85a1-4536-a45f-76818cce5bf4",
   "metadata": {},
   "source": [
    "1\\) La fonction ```f1``` est-elle une fonction de masse ?\n",
    "\n",
    "**Solution**:  \n",
    "  \n"
   ]
  },
  {
   "cell_type": "code",
   "execution_count": null,
   "id": "d32c2069-fc18-4ca1-924e-0ce288c74b75",
   "metadata": {
    "tags": []
   },
   "outputs": [],
   "source": [
    "# Place your answer here"
   ]
  },
  {
   "cell_type": "markdown",
   "id": "fbebfc7a-0fae-4df4-90ff-80585761176a",
   "metadata": {},
   "source": [
    "2\\) La fonction ```f2``` est-elle une fonction de masse ?\n",
    "\n",
    "**Solution**:  \n",
    "  \n"
   ]
  },
  {
   "cell_type": "code",
   "execution_count": null,
   "id": "f7b501ce-df58-4d20-9fbc-0626c0e9a7d7",
   "metadata": {
    "tags": []
   },
   "outputs": [],
   "source": [
    "# Place your answer here"
   ]
  },
  {
   "cell_type": "markdown",
   "id": "28f56f47-a823-469d-a4c3-4da6ccb871a1",
   "metadata": {},
   "source": [
    "3\\) La fonction ```f3``` est-elle une fonction de masse ?\n",
    "\n",
    "**Solution**:  \n",
    "  \n"
   ]
  },
  {
   "cell_type": "code",
   "execution_count": null,
   "id": "456b3f7b-6ff7-45f0-8035-99618911e4a0",
   "metadata": {
    "tags": []
   },
   "outputs": [],
   "source": [
    "# Place your answer here"
   ]
  },
  {
   "cell_type": "markdown",
   "id": "0b6824bf-e5e7-4908-b911-bb03eec572ea",
   "metadata": {},
   "source": [
    "4\\) La fonction ```f4``` est-elle une fonction de masse ?\n",
    "\n",
    "**Solution**:  \n",
    "  \n"
   ]
  },
  {
   "cell_type": "code",
   "execution_count": null,
   "id": "ceae07e5-fab1-493c-8491-cddc0783996a",
   "metadata": {},
   "outputs": [],
   "source": [
    "# Place your answer here"
   ]
  },
  {
   "cell_type": "markdown",
   "id": "c413482b-1037-416b-9c43-d226ed8708af",
   "metadata": {
    "tags": []
   },
   "source": [
    "## Exercice 3: \n",
    "\n",
    "Le but de cet exercice est de déterminer si les fonctions suivantes peuvent être des fonctions de répartitions.\n"
   ]
  },
  {
   "cell_type": "code",
   "execution_count": null,
   "id": "73eb96f8-4fd9-40e7-ab1a-6dcdfa81cce4",
   "metadata": {
    "tags": []
   },
   "outputs": [],
   "source": [
    "library(ggplot2)\n",
    "library(patchwork)\n",
    "\n",
    "data1 <- data.frame(x=c(-10.,0.,0.,10.,10.,20.,20.,30.,30.,40.,40.,50.,50.,60.,60.,70.,70.,80.,80.,90.,90.,100.,100.,120.,120.),\n",
    "            y=c(0.,0.,0.1,0.1,0.19,0.19,0.25,0.25,0.34,0.34,0.45,0.45,0.5,0.5,0.57,0.57,0.61,0.61,0.63,0.63,0.65,0.65,0.67,0.67,0.67))\n",
    "data2 <- data.frame(x=0.1*c(-10.,0.,0.,10.,10.,20.,20.,30.,30.,35.,35.,50.,50.,54.,54.,70.,70.,83.,83.,90.,90.,115.,115.,120.,120.),\n",
    "                    y=c(0.,0.,0.05,0.05,0.09,0.09,0.15,0.15,0.34,0.34,0.39,0.39,0.47,0.47,0.67,0.67,0.86,0.86,0.89,0.89,0.91,0.91,1.,1.,1.))\n",
    "data3 <- data.frame(x=c(-10.,0.,0.,10.,10.,20.,20.,30.,30.,35.,35.,50.,50.,54.,54.,70.,70.,83.,83.,90.,90.,115.,115.,120.,120.),\n",
    "                   y=c(0.,0.,0.05,0.05,0.09,0.09,0.15,0.15,0.34,0.34,0.39,0.39,0.47,0.47,0.67,0.67,0.86,0.86,0.84,0.84,0.91,0.91,1.,1.,1.))\n",
    "\n",
    "f1 <- ggplot(data1,aes(x,y)) + geom_line() + labs(title = \"Figure 1\") + theme(plot.title = element_text(hjust = 0.5))\n",
    "f2 <- ggplot(data2,aes(x,y)) + geom_line() + labs(title = \"Figure 2\") + theme(plot.title = element_text(hjust = 0.5))\n",
    "f3 <- ggplot(data3,aes(x,y)) + geom_line() + labs(title = \"Figure 3\") + theme(plot.title = element_text(hjust = 0.5))\n",
    "\n",
    "(f1 + f2) / f3 "
   ]
  },
  {
   "cell_type": "markdown",
   "id": "147fb203-de61-40c9-8cab-e9eb7b8a1ee0",
   "metadata": {},
   "source": [
    "1\\) La Figue 1 est-elle le plot d'une fonction de répartition ?\n",
    "\n",
    "**Solution**:  \n",
    "  \n",
    "2\\) La Figue 2 est-elle le plot d'une fonction de répartition ?\n",
    "\n",
    "**Solution**:  \n",
    "  \n",
    "3\\) La Figue 3 est-elle le plot d'une fonction de répartition ?\n",
    "\n",
    "**Solution**:  \n",
    "  \n"
   ]
  },
  {
   "cell_type": "markdown",
   "id": "67434dea-3bc5-4331-acd7-632dfe21f7a8",
   "metadata": {
    "tags": []
   },
   "source": [
    "## Exercice 4: Lien entre une variable de Bernoulli et une variable géométrique\n",
    "\n",
    "Considérons un archer, qui vise le milieu de la cible. Il tire autant de flèche que nécessaire et s'arrête une fois qu'une d'entre elle frappe le centre de la cible. On suppose qu'il parvient à atteindre son but avec une probabilité $p$ à chaque flèche et que chaque tir est indépendant des autres.\n",
    "- Le fait que le $i^{ème}$ tir atteigne le centre de la cible peut alors être modéliser par la variable aléatoire $X_i \\sim Bern(p)$.  \n",
    "- De même, le nombre de flèches nécéssaires avant d'atteindre le centre de la cible peut être modéliser par la variable aléatoire $ S = \\min\\left\\{{i\\in\\mathbb{N} | X_i = 1}\\right\\}$, qui suit une loi géométrique de paramètre $p$. "
   ]
  },
  {
   "cell_type": "markdown",
   "id": "141b7ec6-82ef-4670-8a0f-aa06bcf403b7",
   "metadata": {},
   "source": [
    "1\\) Dans question nous allons créer une fonction ```bern``` qui génère aléatoirement une variable de Bernouilli pour un paramètre $p$ donné en argument.  \n",
    "a\\) En utilisant la fonction ```runif``` qui permet de générer des réalisations de variables aléatoires uniformes, et la fonction indicatrice $\\mathbf{1}_{\\{U<p\\}}$ (où $U \\sim Unif(0,1)$) écrire une fonction ```bern``` qui génère $n$ réalisations de variables de Bernoulli $X$ avec probabilité de succès $p\\in[0,1]$."
   ]
  },
  {
   "cell_type": "code",
   "execution_count": null,
   "id": "081aef38-c77f-40c7-9c26-64442fd9ee0f",
   "metadata": {
    "tags": []
   },
   "outputs": [],
   "source": [
    "bern <- function(p,n){\n",
    "    # Générer une variable aléatoire de Bernouilli avec probabilité de succès p\n",
    "    X <- ...\n",
    "    X\n",
    "}"
   ]
  },
  {
   "cell_type": "markdown",
   "id": "29d0ce70-408c-40b0-892b-5ccac558aea9",
   "metadata": {},
   "source": [
    "b\\) En fixant $p = 0.3$, générer un grand nombre de variables de Bernoulli, disons $n = 10000$ avec la fonction ```bern``` et à l'aide d'un plot vérifier expérimentalement que $\\mathbb{P}(X = 1) = 0.3$ et que $\\mathbb{P}(X = 0) = 1-p = 0.7$.\n",
    "\n",
    "**Solution**:  \n",
    "  \n"
   ]
  },
  {
   "cell_type": "code",
   "execution_count": null,
   "id": "d1e46fd7-7e55-4f0e-b591-ab374a60ede3",
   "metadata": {
    "tags": []
   },
   "outputs": [],
   "source": [
    "library(ggplot2)\n",
    "\n",
    "n <- 10000\n",
    "p <- 0.3\n",
    "\n",
    "# Générer n variable de Bernoulli avec probabilité de succès p\n",
    "df <- ... \n",
    "\n",
    "# Calcul de la moyenne empirique \n",
    "mean <- ... \n",
    "sprintf(\"La moyenne de la variable générée est %f\",mean)\n",
    "\n",
    "# Plot pour vérifier expérimentalement que la fonction bern génère bien des variables de Bernoulli\n",
    "...\n"
   ]
  },
  {
   "cell_type": "markdown",
   "id": "96cb2ae0-c969-47da-a7e9-19db8cefc07d",
   "metadata": {},
   "source": [
    "c\\) Pourriez-vous envisager d'autres fonctions indicatrices pour générer une variable de Bernoulli de paramètres $p$?\n",
    "\n",
    "**Solution**:  \n",
    "  \n"
   ]
  },
  {
   "cell_type": "markdown",
   "id": "181ae162-997f-48b9-9c2c-883c520df4fd",
   "metadata": {},
   "source": [
    "2\\) En utilisant la fonction ```bern```, écrire une fonction ```geom``` qui simule la génération d'une variable aléatoire $S = \\min\\left\\{{i\\in\\mathbb{N} | X_i = 1}\\right\\}$, où $X_i \\sim Bern(p)$."
   ]
  },
  {
   "cell_type": "code",
   "execution_count": null,
   "id": "4f80a109-6d5b-4668-a8d0-5ec8e4089e7f",
   "metadata": {
    "tags": []
   },
   "outputs": [],
   "source": [
    "geom <- function(p){\n",
    "    if (p<1e-06){\n",
    "        stop(\"La probabilité de succès doit être supérieure à zéro.\")\n",
    "    }\n",
    "    \n",
    "    \n",
    "    ...\n",
    "\n",
    "}"
   ]
  },
  {
   "cell_type": "markdown",
   "id": "b0939f97-0f38-48cb-b602-de06681f2682",
   "metadata": {},
   "source": [
    "3\\) Nous allons maintenant estimer quelques probabilités liées à notre variable aléatoire $S$:  \n",
    "a\\) Grâce à un plot et une valeure numérique, estimer la valeure de $\\mathbb{P}(S = 1)$ ($n = 10000$ devrait être suffisant pour une bonne estmination).  \n",
    "\n",
    "**Solution**:  \n",
    "  \n"
   ]
  },
  {
   "cell_type": "code",
   "execution_count": null,
   "id": "5c4839fa-6099-4dd1-9092-21ad500dd3f3",
   "metadata": {
    "tags": []
   },
   "outputs": [],
   "source": [
    "n <- 10000\n",
    "p <- 0.3\n",
    "\n",
    "# Générer n observations de S\n",
    "df <- ... \n",
    "\n",
    "# Proposer une estimation de P(S = 1)\n",
    "...\n",
    "\n",
    "\n",
    "# Faire un plot montrant la convergence de cette probabilité\n",
    "...\n"
   ]
  },
  {
   "cell_type": "markdown",
   "id": "80dfbd98-0600-46c2-8a9c-595aabfbe2ab",
   "metadata": {},
   "source": [
    "b\\) De la même manière que la question précédente, estimer la probabilité $\\mathbb{P}(S>3)$.\n",
    "  \n",
    "**Solution**:  \n",
    "  \n"
   ]
  },
  {
   "cell_type": "code",
   "execution_count": null,
   "id": "954df319-97c5-4f55-8b77-53d15259dafb",
   "metadata": {
    "tags": []
   },
   "outputs": [],
   "source": [
    "n <- 10000\n",
    "p <- 0.3\n",
    "\n",
    "# Générer n observations de S\n",
    "df <- ... \n",
    "\n",
    "# Proposer une estimation de P(S = 1)\n",
    "...\n",
    "\n",
    "\n",
    "# Faire un plot montrant la convergence de cette probabilité\n",
    "...\n"
   ]
  },
  {
   "cell_type": "markdown",
   "id": "3f6aafab-e9fa-42c7-814a-551a970ab050",
   "metadata": {},
   "source": [
    "c\\) Enfin, pour des valeures $m$ et $t$ fixées, vérifier que $\\mathbb{P}(S > t + m| S > t) = \\mathbb{P}(S > m)$.\n",
    "\n",
    "**Solution**:  \n",
    "  \n"
   ]
  },
  {
   "cell_type": "code",
   "execution_count": null,
   "id": "3b2575d3-f7f4-41af-8834-218df3283ff2",
   "metadata": {
    "tags": []
   },
   "outputs": [],
   "source": [
    "n <- 10000\n",
    "p <- 0.3\n",
    "\n",
    "t <- 4\n",
    "m <- 2\n",
    "\n",
    "# Générer deux ensemble de n observations de S pour estimer chacunes de ces \n",
    "# deux probabilités avec deux ensembles distinct\n",
    "df <- ... \n",
    "\n",
    "# Proposer une estimation de P(S = 1)\n",
    "...\n",
    "\n",
    "\n",
    "\n",
    "# Faire un plot montrant la convergence de cette probabilité\n",
    "...\n"
   ]
  },
  {
   "cell_type": "markdown",
   "id": "f322e097-de2a-4313-9cf3-dc7bfcb1f6d0",
   "metadata": {
    "tags": []
   },
   "source": [
    "## Exercice 5: \n",
    "\n",
    "1\\) Laquelle des fonctions suivantes est la densité d'une variable continue ? Reconnaissez-vous cette loi ?\n",
    "\n",
    "**Solution**:  \n",
    "  \n"
   ]
  },
  {
   "cell_type": "code",
   "execution_count": null,
   "id": "332e9bfe-57e0-4eb6-84f5-3ca06937613a",
   "metadata": {
    "tags": []
   },
   "outputs": [],
   "source": [
    "library(ggplot2)\n",
    "library(patchwork)\n",
    "\n",
    "data1 <- data.frame(x=c(-1.,0.,0.,1.,1.,2.),\n",
    "                    y=c(0.,0.,2.,2.,0.,0.))\n",
    "data2 <- data.frame(x=c(-1.,0.25,0.25,0.75,0.75,2.),\n",
    "                    y=c(0.,0.,1.,1.,0.,0.))\n",
    "data3 <- data.frame(x=c(-1.,0.,0.,1.,1.,2.),\n",
    "                    y=c(0.,0.,1.,1.,0.,0.))\n",
    "data4 <- data.frame(x=c(-1.,-0.5,0.,0.5,1.,1.5,2.,2.5),\n",
    "                    y=c(0.,0.,1.,0.,0.,1.,0.,0.))\n",
    "\n",
    "f1 <- ggplot(data1,aes(x,y)) + geom_line() + labs(title = \"Figure 1\") + theme(plot.title = element_text(hjust = 0.5))\n",
    "f2 <- ggplot(data2,aes(x,y)) + geom_line() + labs(title = \"Figure 2\") + theme(plot.title = element_text(hjust = 0.5))\n",
    "f3 <- ggplot(data3,aes(x,y)) + geom_line() + labs(title = \"Figure 3\") + theme(plot.title = element_text(hjust = 0.5))\n",
    "f4 <- ggplot(data4,aes(x,y)) + geom_line() + labs(title = \"Figure 4\") + theme(plot.title = element_text(hjust = 0.5))\n",
    "(f1 + f2) / (f3 + f4) "
   ]
  },
  {
   "cell_type": "markdown",
   "id": "e4478c91-4ec6-44bf-ad72-037a24316435",
   "metadata": {
    "tags": []
   },
   "source": [
    "## Exercice 6: \n",
    "\n",
    "1\\) Est-ce que les fonctions suivantes sont des fonctions de répartition? Si oui, le sont-elles pour des variables continues ou discrètes ?\n",
    "\n",
    "**Solution**:  \n",
    "  \n"
   ]
  },
  {
   "cell_type": "code",
   "execution_count": null,
   "id": "836eff77-3990-453b-b2ea-05b9105badb8",
   "metadata": {
    "tags": []
   },
   "outputs": [],
   "source": [
    "library(ggplot2)\n",
    "library(patchwork)\n",
    "\n",
    "data1 <- data.frame(x=c(-10.,0.,0.,10.,10.,20.,20.,30.,30.,40.,40.,50.,50.,60.,60.,70.,70.,80.,80.,90.,90.,100.,100.,120.,120.),\n",
    "                    y=c(0.,0.,0.1,0.1,0.19,0.19,0.25,0.25,0.34,0.34,0.45,0.45,0.5,0.5,0.57,0.57,0.61,0.61,0.63,0.63,0.65,0.65,0.67,0.67,0.67))/0.67\n",
    "data2 <- data.frame(x=seq(-10, 10, length.out = 100),\n",
    "                    y=exp(seq(-10, 10, length.out = 100))/(1+exp(seq(-10, 10, length.out = 100))))\n",
    "data3 <- data.frame(x=c(-1.,0.,1.,2.),\n",
    "                    y=c(0.,0.,1.,1.))\n",
    "data4 <- data.frame(x=c(-1.,0,1,2,2,3,4),\n",
    "                    y=c(0.,0.,0.4,0.4,0.6,1.,1))\n",
    "data5 <- data.frame(x=c(-1.,0,1,2,2,3,4),\n",
    "                    y=c(0.,0.,0.4,0.,0.6,1.,1))\n",
    "data6 <- data.frame(x=c(-1.,0,0,1,1,2),\n",
    "                    y=c(0.,0.,0.4,0.4,1.,1))\n",
    "\n",
    "f1 <- ggplot(data1,aes(x,y)) + geom_line() + labs(title = \"Figure 1\") + theme(plot.title = element_text(hjust = 0.5))\n",
    "f2 <- ggplot(data2,aes(x,y)) + geom_line() + labs(title = \"Figure 2\") + theme(plot.title = element_text(hjust = 0.5))\n",
    "f3 <- ggplot(data3,aes(x,y)) + geom_line() + labs(title = \"Figure 3\") + theme(plot.title = element_text(hjust = 0.5))\n",
    "f4 <- ggplot(data4,aes(x,y)) + geom_line() + labs(title = \"Figure 4\") + theme(plot.title = element_text(hjust = 0.5))\n",
    "f5 <- ggplot(data5,aes(x,y)) + geom_line() + labs(title = \"Figure 5\") + theme(plot.title = element_text(hjust = 0.5))\n",
    "f6 <- ggplot(data6,aes(x,y)) + geom_line() + labs(title = \"Figure 6\") + theme(plot.title = element_text(hjust = 0.5))\n",
    "(f1 + f2 + f3) / (f4 + f5 + f5) "
   ]
  }
 ],
 "metadata": {
  "kernelspec": {
   "display_name": "R",
   "language": "R",
   "name": "ir"
  },
  "language_info": {
   "codemirror_mode": "r",
   "file_extension": ".r",
   "mimetype": "text/x-r-source",
   "name": "R",
   "pygments_lexer": "r",
   "version": "4.2.2"
  }
 },
 "nbformat": 4,
 "nbformat_minor": 5
}