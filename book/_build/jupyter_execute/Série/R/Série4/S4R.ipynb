{
 "cells": [
  {
   "cell_type": "markdown",
   "id": "08500e14-b774-4abb-b07a-cac2955fae3d",
   "metadata": {
    "tags": []
   },
   "source": [
    "# Série4\n",
    " ## Exercice 1: \n",
    "\n",
    "Une entreprise d'automobiles veut publier des informations sur la consommation d'un nouveau modèle de voiture. \n",
    "Pour 12 voitures de ce modèle on mesure la consommation d'essence, en litres, pour parcourir 100 km, et on obtient\n",
    "les résultats suivants:\n",
    "\\begin{gather*}\n",
    "14.60, 11.21, 11.56, 11.37, 13.68, 15.07, 11.06, 16.58, 13.37, 15.98,\n",
    "12.07, 13.22\n",
    "\\end{gather*}\n",
    "\n",
    "1\\) Supposez que la consommation d'essence pour une voiture de ce modèle est une variable aléatoire $ X \\sim \\mathcal{N}(\\mu , 3.5 ) $ avec $ \\mu $ inconnu, et que les données récoltées sont indépendantes.  \n",
    "a\\) Écrire une fonction qui retourne un intervalle de confiance symmétrique à $ (1-\\alpha)100\\,\\% $  pour $ \\mu $ dans le cas où l'on connait la variance. (N'hésitez pas à faire des développements à la main ou en markdown avant de vous lancez dans l'implémentatioonde cette fonction)\n",
    "\n",
    "\n",
    "**Solution**:  \n",
    "  \n"
   ]
  },
  {
   "cell_type": "code",
   "execution_count": null,
   "id": "56b13734-1070-4370-a8c0-217512f7c81c",
   "metadata": {
    "tags": []
   },
   "outputs": [],
   "source": [
    "IC_variance_connue <- function(x_bar,sigma_square,n,alpha){\n",
    "    quantile <- ... \n",
    "    IC <- ...\n",
    "    IC\n",
    "}"
   ]
  },
  {
   "cell_type": "markdown",
   "id": "06967c01-e12b-42e1-972d-68c9a3eb50c5",
   "metadata": {},
   "source": [
    "b\\) Calculez cet intervalle de confiance pour le jeu de donnée fourni."
   ]
  },
  {
   "cell_type": "code",
   "execution_count": null,
   "id": "e4f9f884-5077-4d1e-9fb9-ea820c51acc4",
   "metadata": {
    "tags": []
   },
   "outputs": [],
   "source": [
    "# Importation des données\n",
    "data <- ... \n",
    "\n",
    "# Calcul de la moyenne empirique\n",
    "mean <- ... \n",
    "\n",
    "n <- ... \n",
    "sigma_square <- ... \n",
    "alpha <- ... \n",
    "\n",
    "IC <- ... \n",
    "\n",
    "# Afficher cet intervalle\n",
    "...\n"
   ]
  },
  {
   "cell_type": "markdown",
   "id": "ac59a775-09fc-4210-855d-3c7eced0c5a1",
   "metadata": {},
   "source": [
    "On va maintenant abandonner l'hypothèse de variance connue (ce qui est plus réaliste).  On considère toujours un modèle normal, mais cette fois on suppose que $ X ~\\sim \\mathcal{N}(\\mu , \\sigma^2 ) $ avec $ \\mu $ et $ \\sigma^2 $ inconnus. Les données récoltées sont toujours considérées indépendantes.\n",
    "\n",
    "2\\) Impémentez une fonction qui retourne un intervalle de confiance symmétrique à $ (1-\\alpha)100\\,\\% $  pour $ \\mu $ dans le cas où la variance est inconnue. (N'hésitez pas à faire des développements à la main ou en markdown avant de vous lancez dans l'implémentatioonde cette fonction)\n",
    "\n",
    "**Solution**:  \n",
    "  \n"
   ]
  },
  {
   "cell_type": "code",
   "execution_count": null,
   "id": "63b45340-9feb-4041-8b1b-41c2d63d4648",
   "metadata": {
    "tags": []
   },
   "outputs": [],
   "source": [
    "# Place your answer here"
   ]
  },
  {
   "cell_type": "markdown",
   "id": "11bf2db4-2d03-445a-8faf-d8fbd020b05f",
   "metadata": {},
   "source": [
    "3\\) a\\) Calculez un intervalle de confiance à $95\\,\\% $ pour le jeu de donnée fourni."
   ]
  },
  {
   "cell_type": "code",
   "execution_count": null,
   "id": "5649e002-93a1-47de-ac4c-54a82d244c08",
   "metadata": {
    "tags": []
   },
   "outputs": [],
   "source": [
    "# Place your answer here"
   ]
  },
  {
   "cell_type": "markdown",
   "id": "29ddb944-40dc-413c-846d-81a462343537",
   "metadata": {},
   "source": [
    "b\\) Calculez un intervalle de confiance à $90\\,\\% $ pour le jeu de donnée fourni."
   ]
  },
  {
   "cell_type": "code",
   "execution_count": null,
   "id": "aaf8f9bf-2ecd-40b1-852d-6b1cf28e8811",
   "metadata": {
    "tags": []
   },
   "outputs": [],
   "source": [
    "# Place your answer here"
   ]
  },
  {
   "cell_type": "markdown",
   "id": "c49001e5-d84f-4aab-8178-b5cb69e1b6fd",
   "metadata": {},
   "source": [
    "c\\) Commentez la différence entre ces deux intervalles.\n",
    "\n",
    "**Solution**:  \n",
    "  \n",
    "4\\) Que l'entreprise peut-elle faire pour obtenir un intervalle de confiance à $ 95\\,\\% $ plus étroit que celui obtenu?\n",
    "\n",
    "**Solution**:  \n",
    "  \n"
   ]
  },
  {
   "cell_type": "markdown",
   "id": "6a5543d9-0a3f-4ea7-a8fa-6a2cb43ae58e",
   "metadata": {
    "tags": []
   },
   "source": [
    "## Exercice 2: \n",
    "\n",
    "Une marque de friandises produit des bonbons au chocolat de six couleurs. Le responsable  de la communication affirme que les proportions des différentes couleurs sont de $30\\,\\%$ pour le brun, $20\\,\\%$ pour le jaune, $20\\,\\%$ pour le rouge, $10\\,\\%$ pour l'orange, $10\\,\\%$ pour le vert et $10\\,\\%$ pour le doré. Une expérience réalisée sur un total de $370$ bonbons donne les nombres suivants :\n",
    "\n",
    "| Couleur           | Brun | Jaune | Rouge | Orange | Vert | Doré |\n",
    "|-------------------|------|-------|-------|--------|------|------|\n",
    "| Nombre de bonbons | 84   | 79    | 75    | 49     | 36   | 47   |\n",
    "\n",
    "Les données semblent-elles en accord avec l'affirmation du responsable de la communication? Faites un test à un niveau de signification de $5\\%$.\n",
    "\n",
    "1\\) Proposer une hypothèse nulle et une hypothèse alternative qui permettront de tester l'affirmation du responsable de la communication.\n",
    "\n",
    "**Solution**:  \n",
    "  \n",
    "2\\) Quel test allez-vous utiliser pour tester ces deux hypothèses ? Donnez la statistique $T$ associé à ce test, ainsi que sa loi approximative sous $H_0$. De plus, y a-t-il une/des conditions pour que la convergence de $T$ soit le moins déraisonnable possible ? Si oui, énoncé-la/les et vérifier la/les.\n",
    "\n",
    "**Solution**:  \n",
    "  \n"
   ]
  },
  {
   "cell_type": "code",
   "execution_count": null,
   "id": "e786dd55-3035-42ce-ab72-cd5751084284",
   "metadata": {
    "tags": []
   },
   "outputs": [],
   "source": [
    "# Vérifier que la/les conditions sont remplies\n",
    "...\n"
   ]
  },
  {
   "cell_type": "markdown",
   "id": "d737bae4-04ff-4847-8829-004e9036e6fd",
   "metadata": {},
   "source": [
    "3\\) Tester l'hypothèse nulle $H_0$ à un seuil de $5\\,\\%$. Les données semblent-elles en accord avec l'affirmation du responsable de communication ? \n",
    "\n",
    "**Solution**:  \n",
    "  \n"
   ]
  },
  {
   "cell_type": "code",
   "execution_count": null,
   "id": "09140f6e-60a4-44ff-a04b-b00551319aef",
   "metadata": {
    "tags": []
   },
   "outputs": [],
   "source": [
    "degree_of_freedom <- ... \n",
    "alpha <- ... \n",
    "\n",
    "valeur_critique <- ... \n",
    "t_obs <- ... \n",
    "# Test pour savoir si on rejette ou non l'hypothèse nulle\n",
    "...\n"
   ]
  },
  {
   "cell_type": "markdown",
   "id": "2e613371-d872-40f0-8412-46085b15ec7c",
   "metadata": {
    "tags": []
   },
   "source": [
    "## Exercice 3: \n",
    "\n",
    "Le tableau suivant donne le nombre de naissances dans un hôpital pour quatre trimestres consécutifs:\n",
    "\n",
    "| Trimestre            | Janv-Mars | Avr-Juin | Juil-Sept | Oct-Déc |\n",
    "|----------------------|-----------|----------|-----------|---------|\n",
    "| Nombre de naissances | 110       | 57       | 53        | 80      |\n",
    "\n",
    "1\\) Nous voulons tester à un niveau de signification de $ 1 \\,\\% $  si la natalité du premier trimestre est deux fois plus élevée que celle de chacun des autres trimestres, qui sont toutes égales.  \n",
    "a\\) Écrire explicitement les hypothèses nulle et alternative qui nous permettent de tester l'hypothèse ci-dessus. Sous $H_0$, connait-on la distribution exacte des naissances ou faut-il l'estimer ? Si elle est connue, donnez là. \n",
    "\n",
    "**Solution**:  \n",
    "  \n",
    "b\\) Quel test allez-vous utiliser pour tester ces deux hypothèses ? Donnez la statistique $T$ associé à ce test, ainsi que sa loi approximative sous $H_0$. De plus, y a-t-il une/des conditions pour que la convergence de $T$ soit le moins déraisonnable possible ? Si oui, énoncé-la/les et vérifier la/les.\n",
    "\n",
    "**Solution**:  \n",
    "  \n"
   ]
  },
  {
   "cell_type": "code",
   "execution_count": null,
   "id": "636bac17-799c-4fe2-bb46-a06fd2d4b8d5",
   "metadata": {
    "tags": []
   },
   "outputs": [],
   "source": [
    "# Vérifier que la/les conditions sont remplies\n",
    "...\n"
   ]
  },
  {
   "cell_type": "markdown",
   "id": "c9ea2516-ca37-49a8-ae07-7eee278c7c1d",
   "metadata": {},
   "source": [
    "c\\) Tester l'hypothèse nulle $H_0$ à un seuil de $1\\,\\%$.\n",
    "\n",
    "**Solution**:  \n",
    "  \n"
   ]
  },
  {
   "cell_type": "code",
   "execution_count": null,
   "id": "9f7e7dac-7bd8-4246-9a52-afc00003d734",
   "metadata": {
    "tags": []
   },
   "outputs": [],
   "source": [
    "degree_of_freedom <- ... \n",
    "alpha <- ... \n",
    "\n",
    "valeur_critique <- ... \n",
    "t_obs <- ... \n",
    "# Test pour savoir si on rejette ou non l'hypothèse nulle\n",
    "...\n"
   ]
  },
  {
   "cell_type": "markdown",
   "id": "30f69593-a69c-4cc4-81b9-790c0104b15e",
   "metadata": {},
   "source": [
    "2\\) Nous voulon maintenant tester à un niveau de signification de $ 1 \\,\\% $ si la natalité du premier trimestre est égale à celle du quatrième trimestre, et celle du deuxième trimestre est égale à celle du troisième trimestre.  \n",
    "a\\) Écrire explicitement les hypothèses nulle et alternative qui nous permettent de tester l'hypothèse ci-dessus.\n",
    "\n",
    "**Solution**:  \n",
    "  \n",
    "b\\)  Sous $H_0$, connait-on la distribution exacte des naissances ou faut-il l'estimer ? Si elle est connu donnez là, sinon estimez là.\n",
    "\n",
    "*Indication:* Si on note par $p_j$, $j=1,\\dots,4$, la probabilité d'être dans le $j$-ème trimestre, il faut tester $H_0$: $p_1=p_4$, $p_2=p_3$ (c'est-à-dire, les $p_j$ sont tels que $p_1=p_4$ et $p_2=p_3$, mais autrement inconnus). Pour calculer les nombres attendus, on commence par estimer la valeur $p_{14}=\\mathbb{P}(\\text{né dans le 1er ou 4ème trimestre})$ par la fréquence empirique et on utilise le fait que $p_1=p_4=p_{14}/2$ sous $H_0$.\n",
    "\n",
    "**Solution**:  \n",
    "  \n",
    "c\\) Quel test allez-vous utiliser pour tester ces deux hypothèses ? Donnez la statistique $T$ associé à ce test, ainsi que sa loi approximative sous $H_0$.  \n",
    "\n",
    "**Solution**:  \n",
    "  \n"
   ]
  },
  {
   "cell_type": "code",
   "execution_count": null,
   "id": "408caf0a-8257-42e8-b3be-c0a3ab330dbe",
   "metadata": {
    "tags": []
   },
   "outputs": [],
   "source": [
    "data <- data.frame(Couleur= c(\"Janv-Mars\" , \"Avr-Juin\" , \"Juil-Sept\" , \"Oct-Déc\"),\n",
    "                   Nombre_observé=c(110   , 57    , 53    , 80 ))\n",
    "\n",
    "# Estimation probabilité\n",
    "...\n",
    "\n",
    "\n",
    "# Vérifier que la/les conditions sont remplies\n",
    "...\n"
   ]
  },
  {
   "cell_type": "markdown",
   "id": "a7b3c11a-0361-4c91-b7f2-241ea0bacaac",
   "metadata": {},
   "source": [
    "d\\) Tester l'hypothèse nulle $H_0$ à un seuil de $1\\,\\%$.\n",
    "\n",
    "**Solution**:  \n",
    "  \n"
   ]
  },
  {
   "cell_type": "code",
   "execution_count": null,
   "id": "bf074ae3-c79a-401d-bde0-b82357aaee72",
   "metadata": {
    "tags": []
   },
   "outputs": [],
   "source": [
    "degree_of_freedom <- ... \n",
    "alpha <- ... \n",
    "\n",
    "valeur_critique <- ... \n",
    "t_obs <- ... \n",
    "# Test pour savoir si on rejette ou non l'hypothèse nulle\n",
    "...\n"
   ]
  },
  {
   "cell_type": "markdown",
   "id": "45dd9576-34ad-439a-bdec-77b289c7c08c",
   "metadata": {},
   "source": [
    "*Dans cet exercice on n'a rejeté aucune hypothèse nulle. Évidemment, les deux hypothèses nulles sont incompatibles, donc cela peut paraître étrange. Mais rappelons-nous que « ne pas rejeter »  n'est pas « accepter » .*"
   ]
  },
  {
   "cell_type": "markdown",
   "id": "ff7fed6c-92fa-4157-9625-5412dc278979",
   "metadata": {
    "tags": []
   },
   "source": [
    "## Exercice 4: \n",
    "\n",
    "Les données ci-dessous représentent le taux d'oxygénation de cours d'eau ayant la même température dans une certaine région:\n",
    "| taux d'oxygénation (par jour) | fréquence |\n",
    "|-------------------------------|-----------|\n",
    "| $ \\le 0.1$                    | 12        |\n",
    "| $ (0.1,\\ 0.15] $              | 20        |\n",
    "| $ (0.15,\\ 0.20] $             | 23        |\n",
    "| $ (0.20,\\ 0.25] $             | 15        |\n",
    "| $ >0.25$                      | 13        |\n",
    "\n",
    "La moyenne et l'écart-type calculées pour cet échantillon de taille $83$ sont $\\overline{x} = 0.173$ et $s_x = 0.066$, respectivement. Nous voulon tester à un niveau de signification de $ 5\\, \\% $ la qualité de l'ajustement d'une loi normale aux données ci-dessus.\n",
    "\n",
    "1\\) Écrire explicitement les hypothèses nulle et alternative qui nous permettent de tester l'hypothèse ci-dessus.   \n",
    "\n",
    "**Solution**:  \n",
    "  \n",
    "2\\) Quel test allez-vous utiliser pour tester ces deux hypothèses ? Donnez la statistique $T$ associé à ce test, ainsi que sa loi approximative sous $H_0$.     \n",
    "**Solution**:  \n",
    "  \n"
   ]
  },
  {
   "cell_type": "code",
   "execution_count": null,
   "id": "9a1634fb-649a-471a-952c-4270c4ee96fa",
   "metadata": {
    "tags": []
   },
   "outputs": [],
   "source": [
    "# Vérifier que la/les conditions sont remplies\n",
    "...\n",
    "\n",
    "\n",
    "# Vérifier que la/les conditions sont remplies\n",
    "...\n"
   ]
  },
  {
   "cell_type": "markdown",
   "id": "0afef4ad-08b1-4c4a-b468-36144a367ff9",
   "metadata": {},
   "source": [
    "3\\) Tester l'hypothèse nulle $H_0$ à un seuil de $5\\,\\%$.\n",
    "\n",
    "**Solution**:  \n",
    "  \n",
    "On constate que $t_{\\text{obs}}=1.607 < \\chi^2_{2; 0.95} = 5.99$, donc on ne rejette pas\n",
    "l'hypothèse nulle."
   ]
  },
  {
   "cell_type": "code",
   "execution_count": null,
   "id": "bc5a9333-1c58-44fa-ab0f-0a99ac1b95eb",
   "metadata": {
    "tags": []
   },
   "outputs": [],
   "source": [
    "degree_of_freedom <- ... \n",
    "alpha <- ... \n",
    "\n",
    "valeur_critique <- ... \n",
    "t_obs <- ... \n",
    "# Test pour savoir si on rejette ou non l'hypothèse nulle\n",
    "...\n"
   ]
  },
  {
   "cell_type": "markdown",
   "id": "adbf0a74-4f7d-40bd-9ee6-43bde4ea0e4a",
   "metadata": {
    "tags": []
   },
   "source": [
    "## Exercice 5: \n",
    "\n",
    "Dans l'étude des défaillances d'un composant électronique, on a relevé les  retours en fabrique de 200 composants dont les défaillances ont été classées  par type (T1, T2) et par localisation (L1, L2, L3). \n",
    "\n",
    "|    |    |    |    |\n",
    "|----|----|----|----|\n",
    "|    | L1 | L2 | L3 |\n",
    "| T1 | 50 | 16 | 31 |\n",
    "| T2 | 61 | 26 | 16 |   \n",
    "\n",
    "1\\) Donnez les hypothèses nulle et alternative permettant de tester la dépendance entre le type et la localisation du défaut. Puis, donnez la statistique de test que vous comptez utiliser tester ces hypothèses.\n",
    "\n",
    "**Solution**:  \n",
    "  \n",
    "2\\) Y a-t-il des paramètres à estimer ? Si oui, lesquels ? Estimez ces paramètres.\n",
    "\n",
    "**Solution**:  \n",
    "  \n"
   ]
  },
  {
   "cell_type": "code",
   "execution_count": null,
   "id": "ba49bd16-86bb-44d8-b689-680e1cbe4c9a",
   "metadata": {
    "tags": []
   },
   "outputs": [],
   "source": [
    "data_obs <- matrix(c(50,16,31,61,26,16),nrow = 2,byrow = TRUE)\n",
    "n <- sum(data_obs)\n",
    "\n",
    "# Estimation des probabilités\n",
    "...\n",
    "\n",
    "\n",
    "# Calculez les nombres attendus \n",
    "...\n"
   ]
  },
  {
   "cell_type": "markdown",
   "id": "17904260-fb31-408c-8cce-b2141901bc00",
   "metadata": {},
   "source": [
    "3\\) En déduire la distributions de la statistique de test sous $H_O$.  \n",
    "\n",
    "**Solution**:  \n",
    "  \n",
    "4\\) Testez l'hypothèse $H_0$ à un seuil de $5\\,\\%$. Peut-on conclure qu'il y a une dépendance entre le type et la localisation du défaut?  \n",
    "\n",
    "**Solution**:  \n",
    "  \n"
   ]
  },
  {
   "cell_type": "code",
   "execution_count": null,
   "id": "17373dce-8dcf-49ef-a60c-2c2f36b8956c",
   "metadata": {
    "tags": []
   },
   "outputs": [],
   "source": [
    "degree_of_freedom <- ... \n",
    "alpha <- ... \n",
    "\n",
    "valeur_critique <- ... \n",
    "t_obs <- ... \n",
    "\n",
    "# Test pour savoir si on rejette ou non l'hypothèse nulle\n",
    "...\n"
   ]
  },
  {
   "cell_type": "markdown",
   "id": "e50d22ee-503d-4ee3-87f1-6f1f053d6192",
   "metadata": {
    "tags": []
   },
   "source": [
    "## Exercice 6: \n",
    "\n",
    "Pour certains jeux de données, il peut être judicieux de calculer une transformation des données avant d'effectuer une régression linéaire.\n",
    "\n",
    "Les données suivantes montrent les valeurs expérimentales de la pression $P$ d'une masse donnée de gaz pour différentes valeurs du volume $V$.\n",
    "\n",
    "|                               |      |      |      |      |       |       |\n",
    "|:-----------------------------:|:----:|:----:|:----:|:----:|:-----:|:-----:|\n",
    "|    Volume V [$\\text{cm}^3$]   | 54.3 | 61.8 | 72.4 | 88.7 | 118.6 | 194.0 |\n",
    "| Pression P [$\\text{kg/cm}^2$] | 61.2 | 49.5 | 37.6 | 28.4 |  19.2 |  10.1 |\n",
    "\n",
    " D'après les principes de la thermodynamique, on a la relation $P\\,V^{\\gamma}=C$, où $\\gamma$ et $C$ sont des constantes dépendant des conditions d'expérience.\n",
    " \n",
    "1\\) Transformer $P\\,V^{\\gamma}=C$ en une relation linéaire avec $Y=\\log(P)$. Quels sont les paramètres dont on cherche la valeur?  \n",
    "\n",
    "**Solution**:  \n",
    "  \n",
    "2\\) Pour des observations non-transformées, écrire une fonction qui retourne l'estimation des paramètres $\\hat{\\alpha}$ et $\\hat{\\beta}$ de la régréssion linéaire.  \n",
    "\n",
    "**Solution**:  \n",
    "  \n"
   ]
  },
  {
   "cell_type": "code",
   "execution_count": null,
   "id": "4343827a-2863-4667-a9f3-b3124c8928a6",
   "metadata": {
    "tags": []
   },
   "outputs": [],
   "source": [
    "regr_est <- function(data){\n",
    "    \n",
    "    ...\n",
    "\n",
    "    c(alpha,beta)\n",
    "}"
   ]
  },
  {
   "cell_type": "markdown",
   "id": "2b1cd270-a129-45f9-ba37-00df240b9dd0",
   "metadata": {},
   "source": [
    "3\\) Estimez $P$ quand $V=100$ $\\text{cm}^3$."
   ]
  },
  {
   "cell_type": "code",
   "execution_count": null,
   "id": "e454f6ed-1e9a-4121-9a37-777d79ea81c8",
   "metadata": {
    "tags": []
   },
   "outputs": [],
   "source": [
    "data <- data.frame(V = c(54.3,61.8,72.4,88.7,118.6,194.0),\n",
    "                    P = c(61.2,49.5,37.6,28.4,19.2,10.1))\n",
    "\n",
    "# Estimez P\n",
    "...\n"
   ]
  },
  {
   "cell_type": "markdown",
   "id": "9f5e2810-a1b3-48c2-a899-122a04537f6b",
   "metadata": {},
   "source": [
    "4\\) Calculer l'intervalle de confiance à $95\\%$ pour la pente de la droite du modèle de régression trouvé précédement.  \n",
    "\n",
    "**Solution**:  \n",
    "  \n"
   ]
  },
  {
   "cell_type": "code",
   "execution_count": null,
   "id": "1974f7d4-d73f-4e24-b066-954fb599177c",
   "metadata": {
    "tags": []
   },
   "outputs": [],
   "source": [
    "param <- ... \n",
    "data_trans <- ... \n",
    "\n",
    "s <- ... \n",
    "quantile <- ... \n",
    "\n",
    "# Autres valeurs à calculer ?\n",
    "...\n",
    "\n",
    "\n",
    "lower_bound <- ... \n",
    "upper_bound <- ... \n",
    "\n",
    "sprintf(\"L'intervalle de confiance à 95%s pour la pente de la droite du modèle de régréssion est donc [%.3f,%.3f].\",\"%\",lower_bound,upper_bound)"
   ]
  }
 ],
 "metadata": {
  "kernelspec": {
   "display_name": "R",
   "language": "R",
   "name": "ir"
  },
  "language_info": {
   "codemirror_mode": "r",
   "file_extension": ".r",
   "mimetype": "text/x-r-source",
   "name": "R",
   "pygments_lexer": "r",
   "version": "4.2.2"
  }
 },
 "nbformat": 4,
 "nbformat_minor": 5
}