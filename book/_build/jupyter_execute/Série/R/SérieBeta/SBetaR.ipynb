{
 "cells": [
  {
   "cell_type": "markdown",
   "execution_count": null,
   "id": "5df100e4-5a88-44ef-967c-2dd0c07ab2c8",
   "metadata": {},
   "source": [
    "# SérieBeta\n",
    "  ## Exercice 1: Biais"
   ]
  },
  {
   "cell_type": "markdown",
   "execution_count": null,
   "id": "a3678472-0cad-41f8-b8bf-7a7f1f7219ea",
   "metadata": {},
   "source": [
    "Soit $X_1, \\ldots, X_n$ un échantillon de taille $n$ de réalisations indépendantes\n",
    "issues d'une distribution de Bernoulli avec paramètre $p$."
   ]
  },
  {
   "cell_type": "markdown",
   "execution_count": null,
   "id": "5e57ab18-d94c-4aae-8bb8-f2223f20c3a7",
   "metadata": {},
   "source": [
    "On propose l'estimateur suivant $\\widehat{p}_n$ pour $p$:\n",
    "\n",
    "\\begin{gather*}\n",
    "\\widehat{p}_n = \\frac{1 + \\sum_{i=1}^n X_i}{2 + n}\n",
    "\\end{gather*}"
   ]
  },
  {
   "cell_type": "markdown",
   "execution_count": null,
   "id": "daa01429-a247-433e-b0e3-f83db4da582a",
   "metadata": {
    "tags": []
   },
   "source": [
    "**Question:** Quel est le biais de l'estimateur lorsque $n \\to \\infty$ ? Écrivez la valeur numérique (approximative à l'ordre $10^{-2}$) dans la variable `biais`."
   ]
  },
  {
   "cell_type": "markdown",
   "execution_count": null,
   "id": "a15b3290-940a-4c2d-906d-543f374fe3a9",
   "metadata": {},
   "source": [
    "\n",
    "\n",
    "**Solution analytique**: On peut calculer le biais par la formule\n",
    "\\begin{gather*}\n",
    "\\operatorname{biais}(\\widehat{p}_n) = \\mathbb{E}\\left[\\widehat{p}_n - p\\right]\n",
    "\\end{gather*}\n",
    "pour laquelle on trouve, via la linéarité de l'espérance,\n",
    "\n",
    "\\begin{align*}\n",
    "\\mathbb{E}\\left[\\widehat{p}_n\\right] &= \\frac{1}{2+n} \\left(1 + \\sum_{i=1}^n \\mathbb{E}[X_i]\\right) \\\\\n",
    "&= \\frac{1}{2+n} \\left(1 + np\\right) \\\\\n",
    "&= \\frac{1}{2+n} + \\frac{n}{2+n} p\n",
    "\\end{align*}\n",
    "\n",
    "\n",
    "Puisque l'expression ci-dessus tend vers $p$ lorsque $n \\to \\infty$, le biais aussi tend vers $0$ lorsque $n \\to \\infty$.\n",
    "\n",
    "*Note: L'estimateur proposé est utilisé pour éviter une estimation de $\\widehat{p} = 0$ ou $1$ exactement, ce qui arrive lorsqu'on utilise l'estimateur du maximum de vraisemblance. Voir aussi le lissage de Laplace (https://en.wikipedia.org/wiki/Rule_of_succession)*.\n",
    "\n"
   ]
  },
  {
   "cell_type": "code",
   "execution_count": null,
   "id": "909ef44c-f8c9-4587-a95c-a5dc12c233e8",
   "metadata": {
    "tags": []
   },
   "outputs": [],
   "source": [
    "# Place your answer here"
   ]
  },
  {
   "cell_type": "markdown",
   "execution_count": null,
   "id": "0783085b-8c93-49b2-aecd-67df4df88b6f",
   "metadata": {},
   "source": [
    "## Exercice 2: Temps de déboguage"
   ]
  },
  {
   "cell_type": "markdown",
   "execution_count": null,
   "id": "178084d4-17f8-491b-8900-bb038f1a63ec",
   "metadata": {},
   "source": [
    "Une erreur se tapit dans le code de votre projet de bachelor. Chaque membre $i$ de votre équipe de trois étudiants ($i \\in \\{1, 2, 3\\}$) a besoin de $T_i$ heures pour trouver le bug. On suppose que les temps $T_i$ ont des distributions exponentielles avec paramètres $\\lambda_1 = 0.1$, $\\lambda_2 = 0.35$, $\\lambda_3 = 0.06$ respectivement.\n",
    "\n",
    "Un seul membre de votre équipe est choisi au hasard avec probabilités égales pour trouver le bug."
   ]
  },
  {
   "cell_type": "markdown",
   "execution_count": null,
   "id": "658cd76d-bb5c-47c0-b9b2-81b032f9aaf7",
   "metadata": {},
   "source": [
    "**Question**: Dans cette situation, avec quelle probabilité est-ce que le bug sera trouvé en moins de 12h? Stockez la valeur dans la variable `p`."
   ]
  },
  {
   "cell_type": "markdown",
   "execution_count": null,
   "id": "38a1748e-06a5-477a-b943-0425ed9f1bed",
   "metadata": {},
   "source": [
    "\n",
    "\n",
    "**Solution analytique**: Soit $A = \\left\\{ \\text{le bug est trouvé en moins de 12h }\\right\\}$. On décompose cet événement selon le choix $C \\in \\left\\{1,2,3\\right\\}$ du membre de l'équipe:\n",
    "\n",
    "\\begin{align*}\n",
    "P(A) &= \\sum_{i=1}^3 P(A \\mid C = i) P(C = i)  \\\\\n",
    "&= \\frac{1}{3} \\sum_{i=1}^3 P(T_i \\leqslant 12) \\\\\n",
    "&= \\frac{1}{3} \\left( 1 - e^{-0.1 \\times 12} + 1 - e^{-0.35 \\times 12} + 1 - e^{-0.06 \\times 12} \\right) \\\\\n",
    "&\\approx \\frac{1}{3} (3 - 0.803) \\approx 0.732\n",
    "\\end{align*}\n",
    "\n",
    "\n"
   ]
  },
  {
   "cell_type": "code",
   "execution_count": null,
   "id": "66aa551f-a54a-4443-bef2-41f42b8a0e35",
   "metadata": {
    "tags": []
   },
   "outputs": [],
   "source": [
    "# Place your answer here"
   ]
  },
  {
   "cell_type": "markdown",
   "execution_count": null,
   "id": "684ea85f-d077-4ba7-be63-ced8d6421422",
   "metadata": {},
   "source": [
    "## Exercice 3: Expérience répétée"
   ]
  },
  {
   "cell_type": "markdown",
   "execution_count": null,
   "id": "6d68181b-cd72-40a7-82d3-639faea3098e",
   "metadata": {},
   "source": [
    "Un chercheur souhaite à tout prix démontrer par une expérience un phénomène dont il est convaincu de l'existence. Si le phénomène existe, on suppose que l'expérience le fait apparaitre avec probabilité $0 < p < 1$. En revanche, si le phénomène n'existe pas, alors l'expérience le fait faussement apparaitre (faux positif) avec probabilité $0 < q < 1$."
   ]
  },
  {
   "cell_type": "markdown",
   "execution_count": null,
   "id": "d503adad-be1b-4562-8167-2d408b0da210",
   "metadata": {},
   "source": [
    "**Question**: Le chercheur manque de scrupule et répète indépendamment l'expérience jusqu'au premier résultat positif (confirmant l'existence du phénomène). Si $p = 0.9$, $q = 0.05$, et si le phénomène existe réelement avec probabilité 50%, donnez la probabilité (dans la variable `p`) qu'il y arrive en 20 expériences ou moins."
   ]
  },
  {
   "cell_type": "markdown",
   "execution_count": null,
   "id": "64512f4c-8c31-4071-b60e-eab0e609b459",
   "metadata": {},
   "source": [
    "\n",
    "\n",
    "Ensuite, on regarde le nombre $N$ d'expériences identiques et indépendantes jusqu'au premier succès, ce qui implique que $N$ a une distribution Géométrique avec paramètre $p$ ou $q$ dépendant de l'existence réele du phénomène. Sinon, on peut regarder l'évenement inverse, c'est à dire $B = \\left\\{ \\text{Aucun succès parmi les 20 premières expériences} \\right\\} = \\left\\{ N > 20 \\right\\}$. En tout cas, on obtient\n",
    "\n",
    "\n",
    "\\begin{align*}\n",
    "P(N \\leqslant 20 \\mid \\text{existe}) &= 1 - P(B\\mid \\text{existe}) = 1 - (1-0.9)^{20}\\\\\n",
    "P(N \\leqslant 20 \\mid \\text{n'existe pas}) &= 1 - P(B \\mid \\text{n'existe pas}) = 1 - (1-0.05)^{20}\n",
    "\\end{align*}\n",
    "\n",
    "\n",
    "Enfin, on prend en compte les deux possibilités pour l'existence:\n",
    "\\begin{gather*}\n",
    "P(N \\leqslant 20) = P(N \\leqslant 20 \\mid \\text{existe}) \\times 0.5 + P(N \\leqslant 20 \\mid \\text{n'existe pas}) \\times 0.5 \\approx 0.5 + 0.64 \\times 0.5 \\approx 0.82\n",
    "\\end{gather*}\n",
    "\n"
   ]
  },
  {
   "cell_type": "code",
   "execution_count": null,
   "id": "756c37d5-58b3-4854-b669-2eafaf1582f4",
   "metadata": {
    "tags": []
   },
   "outputs": [],
   "source": [
    "# Place your answer here"
   ]
  },
  {
   "cell_type": "markdown",
   "execution_count": null,
   "id": "9c4266de-263c-4902-9226-fcebe3819ea0",
   "metadata": {
    "tags": []
   },
   "source": [
    "## Exercice 4: Transformation de V.A."
   ]
  },
  {
   "cell_type": "markdown",
   "execution_count": null,
   "id": "5baf4c73-1508-4542-b83c-23056acbac46",
   "metadata": {},
   "source": [
    "Soit $X\\sim\\mathcal{U}([1,2])$ une variable aléatoire uniforme sur l'intervalle $[1, 2]$ et soit $Y$ la variable aléatoire donnée par $Y = \\frac{1}{X}$."
   ]
  },
  {
   "cell_type": "markdown",
   "execution_count": null,
   "id": "8e6a73de-8e9a-4c29-a4a2-a0e7664a2b98",
   "metadata": {},
   "source": [
    "**Question**: Quelle est l'espérance de $Y$ ? Donnez une valeur approximée à au moins deux décimales dans la variable `ey`"
   ]
  },
  {
   "cell_type": "markdown",
   "execution_count": null,
   "id": "e07b443b-66f2-46c0-b3a2-e47eaedf1c8f",
   "metadata": {},
   "source": [
    "\n",
    "\n",
    "**Solution Analytique**: On utilise un changement de variables pour trouver la densité de $Y$. D'abord, remarquons que $P(Y < 1/2) = P(1/X < 1/2) = P(X > 2) = 0$, et pareil pour $P(Y > 1)$. Donc $Y$ prend presque surement des valeurs dans l'intervalle $[1/2, 1]$. On note aussi que $Y$ est une variable aléatoire continue.\n",
    "\n",
    "Pour trouver la densité de $Y$, on calcule d'abord pour $1/2 < y < 1$\n",
    "\\begin{gather*}\n",
    "P\\left(Y \\leqslant y\\right) = P\\left(\\frac{1}{X} \\leqslant y\\right) = P(X \\geqslant 1/y) = 1 - P(X \\leqslant 1/y) = 1 - \\frac{1/y - 1}{2 - 1} = 2 - 1/y =: F_Y(y)\n",
    "\\end{gather*}\n",
    "\n",
    "Suivant quoi la densité se trouve par\n",
    "\\begin{gather*}\n",
    "f_Y(y) = \\frac{\\partial F_Y(y)}{\\partial y} = 1/y^2\n",
    "\\end{gather*}\n",
    "pour $1/2 < y < 1$.\n",
    "\n",
    "Pour calculer l'espérance, on intègre:\n",
    "\\begin{gather*}\n",
    "\\mathbb{E}\\left[Y\\right] = \\int_{1/2}^1 y f_Y(y) \\, dy = \\int_{1/2}^1 1/y \\, dy = \\log 1 + \\log 2 = \\log 2\n",
    "\\end{gather*}\n",
    "\n"
   ]
  },
  {
   "cell_type": "code",
   "execution_count": null,
   "id": "a2e05ac8-0d93-4617-8c93-30dc0746af30",
   "metadata": {
    "tags": []
   },
   "outputs": [],
   "source": [
    "# Place your answer here"
   ]
  },
  {
   "cell_type": "markdown",
   "execution_count": null,
   "id": "51e90d9b-d3ee-492b-be11-3f79a99822af",
   "metadata": {},
   "source": [
    "## Exercice 5: Estimateur du maximum de vraisemblance"
   ]
  },
  {
   "cell_type": "markdown",
   "execution_count": null,
   "id": "452eca00-0927-4aa5-b99d-63f2a001e09e",
   "metadata": {},
   "source": [
    "On observe un échantillon $x_1,\\dots, x_n$ de réalisations indépendantes d'une loi de Poisson de paramètre $\\lambda$, dont les valeurs sont rapportées ci-dessous:\n",
    "|Valeurs|$x_1$|$x_2$|$x_3$|$x_4$|$x_5$|$x_6$|$x_7$|$x_8$|$x_9$|\n",
    "|---|---|---|---|---|---|---|---|---|---|\n",
    "||  1|  0|  2|  1|  3|  0|  1|  2|  1|"
   ]
  },
  {
   "cell_type": "markdown",
   "execution_count": null,
   "id": "26a4699b-f801-43d4-8844-ac05c6ec585a",
   "metadata": {},
   "source": [
    "1) Calculez l'estimateur du maximum de vraisemblance de $\\lambda$ que vous stockerez dans la variable `estim`."
   ]
  },
  {
   "cell_type": "markdown",
   "execution_count": null,
   "id": "8e51360c-b3ca-4b6a-b1cb-46ae71531838",
   "metadata": {},
   "source": [
    "\n",
    "\n",
    "La fonction de vraisemblance est, à une constante près,\n",
    "\\begin{gather*}\n",
    "\\ell(\\lambda) = \\sum_{i=1}^n x_i \\log \\lambda - n\\lambda\n",
    "\\end{gather*}\n",
    "\n",
    "pour lequel le maximum est $\\widehat{\\lambda} = \\frac{1}{n} \\sum_{i=1}^n x_i$.\n",
    "\n"
   ]
  },
  {
   "cell_type": "code",
   "execution_count": null,
   "id": "637bd019-11f1-40eb-8099-bb0d7b9d22ae",
   "metadata": {
    "tags": []
   },
   "outputs": [],
   "source": [
    "valeurs <- c(1,0,2,1,3,0,1,2,1)\n",
    "estim <- ... "
   ]
  },
  {
   "cell_type": "markdown",
   "execution_count": null,
   "id": "083def83-2deb-4638-ad71-8ded79de3cd0",
   "metadata": {},
   "source": [
    "2) Calculer un intervalle de confiance approximatif **à 95%** pour ce paramètre, basé sur la distribution asymptotique du l'estimateur du maximum de vraisemblance et stockez-le dans le vecteur `ci` à deux composantes ci-dessous en y remplaçant les valeurs manquantes (`numpy.nan` ou `NA`) par votre réponse."
   ]
  },
  {
   "cell_type": "markdown",
   "execution_count": null,
   "id": "23cd13c7-fab7-4d6c-b37d-813c973392b7",
   "metadata": {},
   "source": [
    "\n",
    "\n",
    "**Solution**:\n",
    "\n",
    "On trouve pour l'information de Fisher théorique\n",
    "\\begin{gather*}\n",
    "I(\\lambda) = -\\mathbb{E}\\left[\\frac{\\partial^2}{\\partial \\lambda^2} \\ell(\\lambda)\\right] = n/\\lambda\n",
    "\\end{gather*}\n",
    "L'information observée est de\n",
    "\\begin{gather*}\n",
    "\\widehat{I}_n = n/\\widehat{\\lambda} = \\frac{n^2}{\\sum_{i=1}^n x_i} = 9^2 / 11\n",
    "\\end{gather*}\n",
    "Et donc la variance asymptotique de l'estimateur est de\n",
    "\\begin{gather*}\n",
    "\\widehat{I}_n^{-1} = 11/81 \\approx 0.1358\n",
    "\\end{gather*}\n",
    "\n",
    "L'intervalle de confiance demandé est donc\n",
    "\\begin{gather*}\n",
    "\\widehat{\\lambda} \\pm z_{1-\\alpha/2} \\sqrt{0.1358} \\approx [0.499, 1.944]\n",
    "\\end{gather*}\n",
    "\n"
   ]
  },
  {
   "cell_type": "code",
   "execution_count": null,
   "id": "d5b8b58b-382a-4b29-915f-ce1f2904023b",
   "metadata": {
    "tags": []
   },
   "outputs": [],
   "source": [
    "ci ... "
   ]
  },
  {
   "cell_type": "markdown",
   "execution_count": null,
   "id": "0eede6ea-6c3d-4e4b-860f-9c8394f892eb",
   "metadata": {},
   "source": [
    "## Exercice 6: Statistiques descriptives"
   ]
  },
  {
   "cell_type": "markdown",
   "execution_count": null,
   "id": "6a00050d-bb42-4bcc-85ac-5a1da2b40f04",
   "metadata": {},
   "source": [
    "On considère le jeu de données ci-dessous décrivant la taille, le poids et la couleur du poil de 5 races de chien domestique (identifiés par `id`)."
   ]
  },
  {
   "cell_type": "code",
   "execution_count": null,
   "id": "018a81e3-7425-4011-b6f4-a394b74e050c",
   "metadata": {
    "tags": []
   },
   "outputs": [],
   "source": [
    "chiens <- structure(list(id = c(1, 1, 1, 2, 2, 2, 3, 3, 3, 4, 4, 4, 5, \n",
    "5, 5), poids = c(9.69, 9.87, 9.9, 8.43, 8.8, 9.64, 4.92, 7.13, \n",
    "5.12, 11.82, 10.32, 10.64, 11.94, 11.51, 11.17), taille = c(1.02, 0.68,\n",
    "0.74, 0.8, 0.48, 0.44, 0.5, 0.44, 0.7, 1.66, 0.52, 1.46, 0.68, 0.84, 0.74),\n",
    "poil = c(\"noir\", \"clair\", \"brun\", \"clair\", \n",
    "\"noir\", \"brun\", \"noir\", \"clair\", \"brun\", \"brun\", \"clair\", \"noir\", \n",
    "\"noir\", \"clair\", \"brun\")), row.names = c(NA, -15L), class = \"data.frame\")\n",
    "chiens"
   ]
  },
  {
   "cell_type": "markdown",
   "execution_count": null,
   "id": "4727b020-8882-44f0-b2a4-d25d89de5992",
   "metadata": {},
   "source": [
    "1) Calculez la moyenne empirique et la variance empirique (les deux versions de la variance sont acceptées ici, à la différence du point suivant) des colonnes `poids` et `taille`."
   ]
  },
  {
   "cell_type": "code",
   "execution_count": null,
   "id": "96fcd5fc-be8a-4eb1-b58f-8f22b8c332c0",
   "metadata": {},
   "outputs": [],
   "source": [
    "moy_poids <- ... \n",
    "var_poids <- ... "
   ]
  },
  {
   "cell_type": "markdown",
   "execution_count": null,
   "id": "03397811-4205-4fe4-bf6c-826182ef90e1",
   "metadata": {},
   "source": [
    "2. On suppose que les tailles sont issues d'une seule distribution normale $N(\\mu, \\sigma^2)$ pour tous les chiens. Construisez un intervalle de confiance à 95% pour le paramètre $\\mu$ de cette distribution dans la variable `ci` *(Attention: utilisez un estimateur non-biaisé de $\\sigma^2$)*."
   ]
  },
  {
   "cell_type": "markdown",
   "execution_count": null,
   "id": "2099bfa6-4e7a-4334-8ab8-1bd37c25aa69",
   "metadata": {},
   "source": [
    "\n",
    "\n",
    "**Solution**: L'intervalle est celui basé sur la distribution $t$ avec $n - 1$ degrés de liberté, c'est-à-dire\n",
    "\n",
    "\\begin{gather*}\n",
    "\\widehat{\\mu} \\pm t_{1-\\alpha/2, n-1} \\frac{\\widehat{\\sigma}}{\\sqrt{n}}\n",
    "\\end{gather*}\n",
    "\n"
   ]
  },
  {
   "cell_type": "code",
   "execution_count": null,
   "id": "f1cb793f-c024-40ef-902e-c2ed598cbccf",
   "metadata": {
    "nbgrader": {
     "grade": true,
     "grade_id": "cell-491e8233c3f0de7a",
     "locked": true,
     "points": 0,
     "schema_version": 3,
     "solution": false,
     "task": false
    },
    "tags": []
   },
   "outputs": [],
   "source": [
    "# Place your answer here"
   ]
  }
 ],
 "metadata": {
  "kernelspec": {
   "display_name": "R",
   "language": "R",
   "name": "ir"
  },
  "language_info": {
   "codemirror_mode": "r",
   "file_extension": ".r",
   "mimetype": "text/x-r-source",
   "name": "R",
   "pygments_lexer": "r",
   "version": "4.2.1"
  }
 },
 "nbformat": 4,
 "nbformat_minor": 5
}