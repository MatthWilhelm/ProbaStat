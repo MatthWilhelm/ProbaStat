{
 "cells": [
  {
   "cell_type": "markdown",
   "id": "25ad43b8",
   "metadata": {},
   "source": [
    "# Types de données\n",
    "\n",
    "Nous allons définir un certain nombre de concepts et de termes reliés à l'analyse de données. Cela nous donnera un premier aperçu de la notion d'aléa. En particulier, on abordera les concepts clés suivants:\n",
    "- population, échantillon, individu, variable;\n",
    "- catégories de variables: qualitatives (ordinales/nominales), quantitatives (discrètes/continues).\n",
    "    \n",
    "## Population et échantillon\n",
    "\n",
    "````{prf:definition}\n",
    ":label: population_echantillon\n",
    "En statistique, une **population** est l'ensemble sur lequel porte une étude statistique. Un **échantillon** est un sous-ensemble (en général connu) de la population.\n",
    "````  \n",
    "\n",
    "Typiquement, on va récolter des données sur un certain nombre **d'individus** de la **population**. On va ensuite analyser **l'échantillon** des individus dont on a obtenu les données.  \n",
    "\n",
    "On veut étudier une (ou plusieurs) caractéristique que possède chaque individu, une **variable statistique**. Par exemple, le poids de chaque individu dans la population.\n",
    "\n",
    "````{prf:example}\n",
    ":label: exemple_population_echantillon\n",
    "Alice (en section chimie) veut organiser une vente de gâteaux à l'EPFL. Elle voudrait savoir si elle doit plutôt préparer des gâteaux au chocolat ou au citron. Pour cela, elle demande à dix amis en chimie s'ils préfèrent le chocolat ou le citron.\n",
    "- **population**: les étudiants et employés de l'EPFL;\n",
    "- **échantillon**: les amis d'Alice\n",
    "- **individu**: un(e) ami(e) d'Alice\n",
    "- **variable / donnée**: préférence entre chocolat et citron\n",
    "````\n",
    "\n",
    "## Types de variables\n",
    "\n",
    "On différencie deux types de variables:\n",
    "- Les variables **qualitatives** qui expriment une caractéristique:\n",
    "    * **ordinales** (= hiérarchie): « un peu, beaucoup, passionément, à la folie »;\n",
    "    * **nominales**: « femme, homme »;  \n",
    "   \n",
    "- Les variables **quantitatives** qui ont une valeur numérique:\n",
    "    * **discrètes**: seulement certaines valeurs sont possibles (souvent entières)\n",
    "    * **continues**: n'importe quelle valeur est possible dans un intervalle.\n",
    "\n",
    "````{prf:example}\n",
    ":label: exemple_types_données\n",
    "Pour les exemples suivants, pensez-vous que ce sont des variables **qualitatives** ou **quantitatives discrètes** ou **quantitatives continues**.  \n",
    "- vote pendant une élection;\n",
    "- poids;\n",
    "- lancer d'un dé;\n",
    "- quantité de chocolat consommé en une année;\n",
    "- être gaucher ou droitier;\n",
    "\n",
    "```{warning}\n",
    " Il faut souvent considérer ces questions de près, et on peut être surpris.\n",
    "```\n",
    "\n",
    "```{admonition} Solution\n",
    ":class: tip, dropdown\n",
    "- vote pendant une élection: **qualitatif**\n",
    "- poids: **quantitatif continu**\n",
    "- lancer d'un dé: **quantitatif discret**\n",
    "- quantité de chocolat consommé en une année: **quantitatif continu**\n",
    "- être gaucher ou droitier: A première vue, **qualitatif** mais on pourrait aussi quantifier le degré de préférence pour la main droite entre $-1$ et $+1$ ce qui rendrait cette variable **quantitative continue**.\n",
    "```\n",
    "````"
   ]
  }
 ],
 "metadata": {
  "jupytext": {
   "formats": "md:myst",
   "text_representation": {
    "extension": ".md",
    "format_name": "myst"
   }
  },
  "kernelspec": {
   "display_name": "Python 3",
   "language": "python",
   "name": "python3"
  },
  "source_map": [
   11
  ]
 },
 "nbformat": 4,
 "nbformat_minor": 5
}