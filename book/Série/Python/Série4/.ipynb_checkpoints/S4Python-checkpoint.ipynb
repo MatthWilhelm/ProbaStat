{
 "cells": [
  {
   "cell_type": "markdown",
   "id": "08500e14-b774-4abb-b07a-cac2955fae3d",
   "metadata": {
    "tags": []
   },
   "source": [
    "# Série4\n",
    "  ## Exercice 1: \n",
    "\n",
    "Une entreprise d'automobiles veut publier des informations sur la consommation d'un nouveau modèle de voiture. \n",
    "Pour 12 voitures de ce modèle on mesure la consommation d'essence, en litres, pour parcourir 100 km, et on obtient\n",
    "les résultats suivants:\n",
    "\\begin{gather*}\n",
    "14.60, 11.21, 11.56, 11.37, 13.68, 15.07, 11.06, 16.58, 13.37, 15.98,\n",
    "12.07, 13.22\n",
    "\\end{gather*}\n",
    "\n",
    "1\\) Supposez que la consommation d'essence pour une voiture de ce modèle est une variable aléatoire $ X \\sim \\mathcal{N}(\\mu , 3.5 ) $ avec $ \\mu $ inconnu, et que les données récoltées sont indépendantes.  \n",
    "a\\) Écrire une fonction qui retourne un intervalle de confiance symmétrique à $ (1-\\alpha)100\\,\\% $  pour $ \\mu $ dans le cas où l'on connait la variance. (N'hésitez pas à faire des développements à la main ou en markdown avant de vous lancez dans l'implémentatioonde cette fonction)\n",
    "\n",
    "\n",
    "**Solution**:  \n",
    "  \n"
   ]
  },
  {
   "cell_type": "code",
   "execution_count": null,
   "id": "3a4e3fda-8d9a-406f-9dfc-ae0adc515b6a",
   "metadata": {
    "tags": []
   },
   "outputs": [],
   "source": [
    "import pandas as pd\n",
    "from scipy import stats as st\n",
    "import numpy as np\n",
    "\n",
    "def IC_variance_connue(x_bar,sigma_square,n,alpha):\n",
    "    quantile = ... \n",
    "        IC = ...\n",
    "    return IC"
   ]
  },
  {
   "cell_type": "markdown",
   "id": "06967c01-e12b-42e1-972d-68c9a3eb50c5",
   "metadata": {},
   "source": [
    "b\\) Calculez cet intervalle de confiance pour le jeu de donnée fourni."
   ]
  },
  {
   "cell_type": "code",
   "execution_count": null,
   "id": "ece4e51c-e208-4250-9ebf-c1e365786ddb",
   "metadata": {
    "tags": []
   },
   "outputs": [],
   "source": [
    "# Importation des données\n",
    "data = ... \n",
    "\n",
    "# Calcul de la moyenne empirique\n",
    "mean = ... \n",
    "\n",
    "n = ... \n",
    "sigma_square = ... \n",
    "alpha = ... \n",
    "\n",
    "IC = ... \n",
    "# Afficher cet intervalle\n",
    "...\n"
   ]
  },
  {
   "cell_type": "markdown",
   "id": "ac59a775-09fc-4210-855d-3c7eced0c5a1",
   "metadata": {},
   "source": [
    "On va maintenant abandonner l'hypothèse de variance connue (ce qui est plus réaliste).  On considère toujours un modèle normal, mais cette fois on suppose que $ X ~\\sim \\mathcal{N}(\\mu , \\sigma^2 ) $ avec $ \\mu $ et $ \\sigma^2 $ inconnus. Les données récoltées sont toujours considérées indépendantes.\n",
    "\n",
    "2\\) Impémentez une fonction qui retourne un intervalle de confiance symmétrique à $ (1-\\alpha)100\\,\\% $  pour $ \\mu $ dans le cas où la variance est inconnue. (N'hésitez pas à faire des développements à la main ou en markdown avant de vous lancez dans l'implémentatioonde cette fonction)\n",
    "\n",
    "**Solution**:  \n",
    "  \n"
   ]
  },
  {
   "cell_type": "code",
   "execution_count": null,
   "id": "be2faa8b-0008-4f0a-9e14-ffd21d51ea31",
   "metadata": {},
   "outputs": [],
   "source": [
    "# Place your answer here"
   ]
  },
  {
   "cell_type": "markdown",
   "id": "11bf2db4-2d03-445a-8faf-d8fbd020b05f",
   "metadata": {},
   "source": [
    "3\\) a\\) Calculez un intervalle de confiance à $95\\,\\% $ pour le jeu de donnée fourni."
   ]
  },
  {
   "cell_type": "code",
   "execution_count": null,
   "id": "7840bd87-2a57-41e6-89d2-573934406b5c",
   "metadata": {},
   "outputs": [],
   "source": [
    "# Place your answer here"
   ]
  },
  {
   "cell_type": "markdown",
   "id": "29ddb944-40dc-413c-846d-81a462343537",
   "metadata": {},
   "source": [
    "b\\) Calculez un intervalle de confiance à $90\\,\\% $ pour le jeu de donnée fourni."
   ]
  },
  {
   "cell_type": "code",
   "execution_count": null,
   "id": "167c4ab8-8e9f-4887-a8e3-f5837a38ed55",
   "metadata": {},
   "outputs": [],
   "source": [
    "# Place your answer here"
   ]
  },
  {
   "cell_type": "markdown",
   "id": "c49001e5-d84f-4aab-8178-b5cb69e1b6fd",
   "metadata": {},
   "source": [
    "c\\) Commentez la différence entre ces deux intervalles.\n",
    "\n",
    "**Solution**:  \n",
    "  \n",
    "4\\) Que l'entreprise peut-elle faire pour obtenir un intervalle de confiance à $ 95\\,\\% $ plus étroit que celui obtenu?\n",
    "\n",
    "**Solution**:  \n",
    "  \n"
   ]
  },
  {
   "cell_type": "markdown",
   "id": "6a5543d9-0a3f-4ea7-a8fa-6a2cb43ae58e",
   "metadata": {
    "tags": []
   },
   "source": [
    "## Exercice 2: \n",
    "\n",
    "Une marque de friandises produit des bonbons au chocolat de six couleurs. Le responsable  de la communication affirme que les proportions des différentes couleurs sont de $30\\,\\%$ pour le brun, $20\\,\\%$ pour le jaune, $20\\,\\%$ pour le rouge, $10\\,\\%$ pour l'orange, $10\\,\\%$ pour le vert et $10\\,\\%$ pour le doré. Une expérience réalisée sur un total de $370$ bonbons donne les nombres suivants :\n",
    "\n",
    "| Couleur           | Brun | Jaune | Rouge | Orange | Vert | Doré |\n",
    "|-------------------|------|-------|-------|--------|------|------|\n",
    "| Nombre de bonbons | 84   | 79    | 75    | 49     | 36   | 47   |\n",
    "\n",
    "Les données semblent-elles en accord avec l'affirmation du responsable de la communication? Faites un test à un niveau de signification de $5\\%$.\n",
    "\n",
    "1\\) Proposer une hypothèse nulle et une hypothèse alternative qui permettront de tester l'affirmation du responsable de la communication.\n",
    "\n",
    "**Solution**:  \n",
    "  \n",
    "2\\) Quel test allez-vous utiliser pour tester ces deux hypothèses ? Donnez la statistique $T$ associé à ce test, ainsi que sa loi approximative sous $H_0$. De plus, y a-t-il une/des conditions pour que la convergence de $T$ soit le moins déraisonnable possible ? Si oui, énoncé-la/les et vérifier la/les.\n",
    "\n",
    "**Solution**:  \n",
    "  \n"
   ]
  },
  {
   "cell_type": "code",
   "execution_count": null,
   "id": "cfc62eba-e94e-4432-8e2d-a6677e7dc5db",
   "metadata": {
    "tags": []
   },
   "outputs": [],
   "source": [
    "import pandas as pd\n",
    "\n",
    "# Vérifier que la/les conditions sont remplies\n",
    "...\n"
   ]
  },
  {
   "cell_type": "markdown",
   "id": "d737bae4-04ff-4847-8829-004e9036e6fd",
   "metadata": {},
   "source": [
    "3\\) Tester l'hypothèse nulle $H_0$ à un seuil de $5\\,\\%$. Les données semblent-elles en accord avec l'affirmation du responsable de communication ? \n",
    "\n",
    "**Solution**:  \n",
    "  \n"
   ]
  },
  {
   "cell_type": "code",
   "execution_count": null,
   "id": "8817c065-628d-4805-979f-6cd63905ca33",
   "metadata": {},
   "outputs": [],
   "source": [
    "from scipy import stats as st\n",
    "\n",
    "degree_of_freedom = ... \n",
    "alpha = ... \n",
    "\n",
    "valeur_critique = ... \n",
    "t_obs = ... \n",
    "# Test pour savoir si on rejette ou non l'hypothèse nulle\n",
    "...\n"
   ]
  },
  {
   "cell_type": "markdown",
   "id": "2e613371-d872-40f0-8412-46085b15ec7c",
   "metadata": {
    "tags": []
   },
   "source": [
    "## Exercice 3: \n",
    "\n",
    "Le tableau suivant donne le nombre de naissances dans un hôpital pour quatre trimestres consécutifs:\n",
    "\n",
    "| Trimestre            | Janv-Mars | Avr-Juin | Juil-Sept | Oct-Déc |\n",
    "|----------------------|-----------|----------|-----------|---------|\n",
    "| Nombre de naissances | 110       | 57       | 53        | 80      |\n",
    "\n",
    "1\\) Nous voulons tester à un niveau de signification de $ 1 \\,\\% $  si la natalité du premier trimestre est deux fois plus élevée que celle de chacun des autres trimestres, qui sont toutes égales.  \n",
    "a\\) Écrire explicitement les hypothèses nulle et alternative qui nous permettent de tester l'hypothèse ci-dessus. Sous $H_0$, connait-on la distribution exacte des naissances ou faut-il l'estimer ? Si elle est connue, donnez là. \n",
    "\n",
    "**Solution**:  \n",
    "  \n",
    "b\\) Quel test allez-vous utiliser pour tester ces deux hypothèses ? Donnez la statistique $T$ associé à ce test, ainsi que sa loi approximative sous $H_0$. De plus, y a-t-il une/des conditions pour que la convergence de $T$ soit le moins déraisonnable possible ? Si oui, énoncé-la/les et vérifier la/les.\n",
    "\n",
    "**Solution**:  \n",
    "  \n"
   ]
  },
  {
   "cell_type": "code",
   "execution_count": null,
   "id": "191ac679-0b56-4a76-a4ed-0947ca818c0e",
   "metadata": {
    "tags": []
   },
   "outputs": [],
   "source": [
    "import pandas as pd\n",
    "\n",
    "# Vérifier que la/les conditions sont remplies\n",
    "...\n"
   ]
  },
  {
   "cell_type": "markdown",
   "id": "c9ea2516-ca37-49a8-ae07-7eee278c7c1d",
   "metadata": {},
   "source": [
    "c\\) Tester l'hypothèse nulle $H_0$ à un seuil de $1\\,\\%$.\n",
    "\n",
    "**Solution**:  \n",
    "  \n"
   ]
  },
  {
   "cell_type": "code",
   "execution_count": null,
   "id": "63ea9afa-d357-4598-a244-ea04a8807f40",
   "metadata": {
    "tags": []
   },
   "outputs": [],
   "source": [
    "from scipy import stats as st\n",
    "\n",
    "degree_of_freedom = ... \n",
    "alpha = ... \n",
    "\n",
    "valeur_critique = ... \n",
    "\n",
    "t_obs = ... \n",
    "# Test pour savoir si on rejette ou non l'hypothèse nulle\n",
    "...\n"
   ]
  },
  {
   "cell_type": "markdown",
   "id": "30f69593-a69c-4cc4-81b9-790c0104b15e",
   "metadata": {},
   "source": [
    "2\\) Nous voulon maintenant tester à un niveau de signification de $ 1 \\,\\% $ si la natalité du premier trimestre est égale à celle du quatrième trimestre, et celle du deuxième trimestre est égale à celle du troisième trimestre.  \n",
    "a\\) Écrire explicitement les hypothèses nulle et alternative qui nous permettent de tester l'hypothèse ci-dessus.\n",
    "\n",
    "**Solution**:  \n",
    "  \n",
    "b\\)  Sous $H_0$, connait-on la distribution exacte des naissances ou faut-il l'estimer ? Si elle est connu donnez là, sinon estimez là.\n",
    "\n",
    "*Indication:* Si on note par $p_j$, $j=1,\\dots,4$, la probabilité d'être dans le $j$-ème trimestre, il faut tester $H_0$: $p_1=p_4$, $p_2=p_3$ (c'est-à-dire, les $p_j$ sont tels que $p_1=p_4$ et $p_2=p_3$, mais autrement inconnus). Pour calculer les nombres attendus, on commence par estimer la valeur $p_{14}=\\mathbb{P}(\\text{né dans le 1er ou 4ème trimestre})$ par la fréquence empirique et on utilise le fait que $p_1=p_4=p_{14}/2$ sous $H_0$.\n",
    "\n",
    "**Solution**:  \n",
    "  \n",
    "c\\) Quel test allez-vous utiliser pour tester ces deux hypothèses ? Donnez la statistique $T$ associé à ce test, ainsi que sa loi approximative sous $H_0$.  \n",
    "\n",
    "**Solution**:  \n",
    "  \n"
   ]
  },
  {
   "cell_type": "code",
   "execution_count": null,
   "id": "0f3f10ce-0360-455f-ba55-909a2ef8b825",
   "metadata": {
    "tags": []
   },
   "outputs": [],
   "source": [
    "data = pd.DataFrame(data = {\"Semestre\": [\"Janv-Mars\" , \"Avr-Juin\" , \"Juil-Sept\" , \"Oct-Déc\" ],\n",
    "                           \"Nombre_observé\": [110   , 57    , 53    , 80  ]})\n",
    "\n",
    "# Estimation probabilité\n",
    "...\n",
    "\n",
    "\n",
    "# Calculez les nombres attendus et vérifier que la condition est remplie\n",
    "...\n"
   ]
  },
  {
   "cell_type": "markdown",
   "id": "a7b3c11a-0361-4c91-b7f2-241ea0bacaac",
   "metadata": {},
   "source": [
    "d\\) Tester l'hypothèse nulle $H_0$ à un seuil de $1\\,\\%$.\n",
    "\n",
    "**Solution**:  \n",
    "  \n"
   ]
  },
  {
   "cell_type": "code",
   "execution_count": null,
   "id": "c9db06aa-fda4-4399-9afe-2c7d9252297c",
   "metadata": {
    "tags": []
   },
   "outputs": [],
   "source": [
    "from scipy import stats as st\n",
    "\n",
    "degree_of_freedom = ... \n",
    "alpha = ... \n",
    "\n",
    "valeur_critique = ... \n",
    "\n",
    "t_obs = ... \n",
    "# Test pour savoir si on rejette ou non l'hypothèse nulle\n",
    "...\n"
   ]
  },
  {
   "cell_type": "markdown",
   "id": "45dd9576-34ad-439a-bdec-77b289c7c08c",
   "metadata": {},
   "source": [
    "*Dans cet exercice on n'a rejeté aucune hypothèse nulle. Évidemment, les deux hypothèses nulles sont incompatibles, donc cela peut paraître étrange. Mais rappelons-nous que « ne pas rejeter »  n'est pas « accepter » .*"
   ]
  },
  {
   "cell_type": "markdown",
   "id": "ff7fed6c-92fa-4157-9625-5412dc278979",
   "metadata": {
    "tags": []
   },
   "source": [
    "## Exercice 4: \n",
    "\n",
    "Les données ci-dessous représentent le taux d'oxygénation de cours d'eau ayant la même température dans une certaine région:\n",
    "| taux d'oxygénation (par jour) | fréquence |\n",
    "|-------------------------------|-----------|\n",
    "| $ \\le 0.1$                    | 12        |\n",
    "| $ (0.1,\\ 0.15] $              | 20        |\n",
    "| $ (0.15,\\ 0.20] $             | 23        |\n",
    "| $ (0.20,\\ 0.25] $             | 15        |\n",
    "| $ >0.25$                      | 13        |\n",
    "\n",
    "La moyenne et l'écart-type calculées pour cet échantillon de taille $83$ sont $\\overline{x} = 0.173$ et $s_x = 0.066$, respectivement. Nous voulon tester à un niveau de signification de $ 5\\, \\% $ la qualité de l'ajustement d'une loi normale aux données ci-dessus.\n",
    "\n",
    "1\\) Écrire explicitement les hypothèses nulle et alternative qui nous permettent de tester l'hypothèse ci-dessus.   \n",
    "\n",
    "**Solution**:  \n",
    "  \n",
    "2\\) Quel test allez-vous utiliser pour tester ces deux hypothèses ? Donnez la statistique $T$ associé à ce test, ainsi que sa loi approximative sous $H_0$.     \n",
    "**Solution**:  \n",
    "  \n"
   ]
  },
  {
   "cell_type": "code",
   "execution_count": null,
   "id": "b405bf0c-fa6a-42d1-b208-23bb0566a431",
   "metadata": {
    "tags": []
   },
   "outputs": [],
   "source": [
    "import pandas as pd\n",
    "from scipy import stats as st\n",
    "\n",
    "data = pd.DataFrame(data = {\"Oxygénation\": [\"<0.1\" , \"(0.1,0.15]\" , \"(0.15,0.2],\" , \"(0.2,0.25]\", \">0.25\" ],\n",
    "                           \"Nombre_observé\": [12   , 20    , 23    , 15,13  ]})\n",
    "\n",
    "x_bar = ... \n",
    "sigma = ... \n",
    "\n",
    "# Estimation des probabilités\n",
    "...\n",
    "\n",
    "\n",
    "# Calculez les nombres attendus et vérifier que la condition est remplie\n",
    "...\n"
   ]
  },
  {
   "cell_type": "markdown",
   "id": "0afef4ad-08b1-4c4a-b468-36144a367ff9",
   "metadata": {},
   "source": [
    "3\\) Tester l'hypothèse nulle $H_0$ à un seuil de $5\\,\\%$.\n",
    "\n",
    "**Solution**:  \n",
    "  \n",
    "On constate que $t_{\\text{obs}}=1.607 < \\chi^2_{2; 0.95} = 5.99$, donc on ne rejette pas\n",
    "l'hypothèse nulle."
   ]
  },
  {
   "cell_type": "code",
   "execution_count": null,
   "id": "32f361d6-5678-4b96-aad1-ff7f1ba9f358",
   "metadata": {
    "tags": []
   },
   "outputs": [],
   "source": [
    "degree_of_freedom = ... \n",
    "alpha = ... \n",
    "\n",
    "valeur_critique = ... \n",
    "\n",
    "t_obs = ... \n",
    "# Test pour savoir si on rejette ou non l'hypothèse nulle\n",
    "...\n"
   ]
  },
  {
   "cell_type": "markdown",
   "id": "adbf0a74-4f7d-40bd-9ee6-43bde4ea0e4a",
   "metadata": {
    "tags": []
   },
   "source": [
    "## Exercice 5: \n",
    "\n",
    "Dans l'étude des défaillances d'un composant électronique, on a relevé les  retours en fabrique de 200 composants dont les défaillances ont été classées  par type (T1, T2) et par localisation (L1, L2, L3). \n",
    "\n",
    "|    |    |    |    |\n",
    "|----|----|----|----|\n",
    "|    | L1 | L2 | L3 |\n",
    "| T1 | 50 | 16 | 31 |\n",
    "| T2 | 61 | 26 | 16 |   \n",
    "\n",
    "1\\) Donnez les hypothèses nulle et alternative permettant de tester la dépendance entre le type et la localisation du défaut. Puis, donnez la statistique de test que vous comptez utiliser tester ces hypothèses.\n",
    "\n",
    "**Solution**:  \n",
    "  \n",
    "2\\) Y a-t-il des paramètres à estimer ? Si oui, lesquels ? Estimez ces paramètres.\n",
    "\n",
    "**Solution**:  \n",
    "  \n"
   ]
  },
  {
   "cell_type": "code",
   "execution_count": null,
   "id": "02e5156a-f44e-4934-a5a0-abd641826f5a",
   "metadata": {
    "tags": []
   },
   "outputs": [],
   "source": [
    "import numpy as np\n",
    "import pandas as pd\n",
    "\n",
    "data_obs = np.array([[50,16,31],[61,26,16]])\n",
    "n = data_obs.sum().sum()\n",
    "\n",
    "# Estimation des probabilités\n",
    "...\n",
    "\n",
    "\n",
    "# Calculez les nombres attendus \n",
    "...\n",
    "\n",
    "print(data_obs)"
   ]
  },
  {
   "cell_type": "markdown",
   "id": "17904260-fb31-408c-8cce-b2141901bc00",
   "metadata": {},
   "source": [
    "3\\) En déduire la distributions de la statistique de test sous $H_O$.  \n",
    "\n",
    "**Solution**:  \n",
    "  \n",
    "4\\) Testez l'hypothèse $H_0$ à un seuil de $5\\,\\%$. Peut-on conclure qu'il y a une dépendance entre le type et la localisation du défaut?  \n",
    "\n",
    "**Solution**:  \n",
    "  \n"
   ]
  },
  {
   "cell_type": "code",
   "execution_count": null,
   "id": "c5b278f3-72a5-4aa1-9367-cedd5c829e2b",
   "metadata": {},
   "outputs": [],
   "source": [
    "from scipy import stats as st\n",
    "\n",
    "degree_of_freedom = ... \n",
    "alpha = ... \n",
    "\n",
    "valeur_critique = ... \n",
    "\n",
    "t_obs = ... \n",
    "# Test pour savoir si on rejette ou non l'hypothèse nulle\n",
    "...\n"
   ]
  },
  {
   "cell_type": "markdown",
   "id": "e50d22ee-503d-4ee3-87f1-6f1f053d6192",
   "metadata": {
    "tags": []
   },
   "source": [
    "## Exercice 6: \n",
    "\n",
    "Pour certains jeux de données, il peut être judicieux de calculer une transformation des données avant d'effectuer une régression linéaire.\n",
    "\n",
    "Les données suivantes montrent les valeurs expérimentales de la pression $P$ d'une masse donnée de gaz pour différentes valeurs du volume $V$.\n",
    "\n",
    "|                               |      |      |      |      |       |       |\n",
    "|:-----------------------------:|:----:|:----:|:----:|:----:|:-----:|:-----:|\n",
    "|    Volume V [$\\text{cm}^3$]   | 54.3 | 61.8 | 72.4 | 88.7 | 118.6 | 194.0 |\n",
    "| Pression P [$\\text{kg/cm}^2$] | 61.2 | 49.5 | 37.6 | 28.4 |  19.2 |  10.1 |\n",
    "\n",
    " D'après les principes de la thermodynamique, on a la relation $P\\,V^{\\gamma}=C$, où $\\gamma$ et $C$ sont des constantes dépendant des conditions d'expérience.\n",
    " \n",
    "1\\) Transformer $P\\,V^{\\gamma}=C$ en une relation linéaire avec $Y=\\log(P)$. Quels sont les paramètres dont on cherche la valeur?  \n",
    "\n",
    "**Solution**:  \n",
    "  \n",
    "2\\) Pour des observations non-transformées, écrire une fonction qui retourne l'estimation des paramètres $\\hat{\\alpha}$ et $\\hat{\\beta}$ de la régréssion linéaire.  \n",
    "\n",
    "**Solution**:  \n",
    "  \n"
   ]
  },
  {
   "cell_type": "code",
   "execution_count": null,
   "id": "f27d96eb-15fc-47bf-a1db-45bb0c41e262",
   "metadata": {
    "tags": []
   },
   "outputs": [],
   "source": [
    "import pandas as pd\n",
    "import numpy as np\n",
    "\n",
    "def regr_est(data):\n",
    "    \n",
    "    ...\n",
    "\n",
    "    return [alpha,beta]"
   ]
  },
  {
   "cell_type": "markdown",
   "id": "2b1cd270-a129-45f9-ba37-00df240b9dd0",
   "metadata": {},
   "source": [
    "3\\) Estimez $P$ quand $V=100$ $\\text{cm}^3$."
   ]
  },
  {
   "cell_type": "code",
   "execution_count": null,
   "id": "66fe4a6a-db66-44f6-b8f9-8700b3946aef",
   "metadata": {},
   "outputs": [],
   "source": [
    "data = pd.DataFrame(data = {\"V\": [ 54.3,61.8,72.4,88.7,118.6,194.0],\n",
    "                           \"P\": [61.2,49.5,37.6,28.4,19.2,10.1]})\n",
    "\n",
    "# Estimez P\n",
    "...\n"
   ]
  },
  {
   "cell_type": "markdown",
   "id": "9f5e2810-a1b3-48c2-a899-122a04537f6b",
   "metadata": {},
   "source": [
    "4\\) Calculer l'intervalle de confiance à $95\\%$ pour la pente de la droite du modèle de régression trouvé précédement.  \n",
    "\n",
    "**Solution**:  \n",
    "  \n"
   ]
  },
  {
   "cell_type": "code",
   "execution_count": null,
   "id": "274502ca-0752-4f16-9a4e-1a257b6b12e9",
   "metadata": {},
   "outputs": [],
   "source": [
    "from scipy import stats as st\n",
    "\n",
    "alpha, beta = ... \n",
    "data_trans = ... \n",
    "\n",
    "s = ... \n",
    "quantile = ... \n",
    "\n",
    "# Autres valeurs à calculer ?\n",
    "...\n",
    "\n",
    "\n",
    "lower_bound = ... \n",
    "upper_bound = ... \n",
    "\n",
    "print(f\"L'intervalle de confiance à 95% pour la pente de la droite du modèle de régréssion est donc [{lower_bound:.3f},{upper_bound:.3f}].\")"
   ]
  }
 ],
 "metadata": {
  "kernelspec": {
   "display_name": "Python 3 (ipykernel)",
   "language": "python",
   "name": "python3"
  },
  "language_info": {
   "codemirror_mode": {
    "name": "ipython",
    "version": 3
   },
   "file_extension": ".py",
   "mimetype": "text/x-python",
   "name": "python",
   "nbconvert_exporter": "python",
   "pygments_lexer": "ipython3",
   "version": "3.9.12"
  }
 },
 "nbformat": 4,
 "nbformat_minor": 5
}
