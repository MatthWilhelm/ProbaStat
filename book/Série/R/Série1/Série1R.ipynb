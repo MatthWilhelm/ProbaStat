{
 "cells": [
  {
   "cell_type": "markdown",
   "id": "36c6d462-4e34-45b1-bb4a-9b84e9ced64d",
   "metadata": {
    "tags": []
   },
   "source": [
    "# Série1\n",
    "## Exercice 1:  \n",
    "\n",
    "On a observé la taille de 15 femmes. Le boxplot et l'histogramme ci-dessous ont été construits avec ces données:\n",
    "\n",
    "|||||||||||||||||\n",
    "|:--:|:--:|:--:|:--:|:--:|:--:|:--:|:--:|:--:|:--:|:--:|:--:|:--:|:--:|:--:|:--:|\n",
    "| **Taille** | 147 | 59 | 152 | 155 | 157 | 160 | 64 | 165 | 168 | 170 | 173 | 175 | 178 | 180 | 183 |"
   ]
  },
  {
   "cell_type": "code",
   "execution_count": null,
   "id": "926337aa-91c2-4011-b5ef-5ed0f264b996",
   "metadata": {
    "tags": []
   },
   "outputs": [],
   "source": [
    "library(ggplot2)\n",
    "library(dplyr)\n",
    "library(patchwork)\n",
    "\n",
    "data <- matrix(c(147 , 59 , 152 , 155 , 157 , 160 , 64 , 165 , 168 , 170 , 173 , 175 , 178 , 180 , 183), nrow=15, \n",
    "                ncol=1, byrow=FALSE)\n",
    "data <- data.frame(data,stringsAsFactors = TRUE)\n",
    "colnames(data) <- c(\"Taille\")"
   ]
  },
  {
   "cell_type": "markdown",
   "id": "896675cc-92ee-4365-b705-cda535551f7a",
   "metadata": {},
   "source": [
    "1\\) Calculer la moyenne et la médiane des tailles observées, puis faire un boxplot et un histogramme de ces tailles. Sur chacun de ces graphiques faire apparaître la moyenne et la médiane."
   ]
  },
  {
   "cell_type": "code",
   "execution_count": null,
   "id": "61fde28b-312d-4344-8718-7fe738039a0e",
   "metadata": {
    "tags": []
   },
   "outputs": [],
   "source": [
    "# Calculer la moyenne et la médiane des tailles observées\n",
    "mean <- ... \n",
    "median <- ... \n",
    "\n",
    "# Faire un boxplot et un histogramme\n",
    "...\n"
   ]
  },
  {
   "cell_type": "markdown",
   "id": "d8a5f884-a19a-4779-9fa6-b20184566a5e",
   "metadata": {},
   "source": [
    "2\\) Entre la moyenne et la médiane, laquelle de ces deux caractéristiques représente le mieux la tendance centrale de la \n",
    "distribution des tailles? Justifiez votre réponse.\n",
    "\n",
    "**Solution**:  \n",
    "  \n",
    "3\\) Si l'on considère seulement les tailles supérieures à $ 140 $ cm,  on obtient une moyenne de $ 166.4 $ cm et une médiane de $ 168 $ cm.  Commentez la phrase suivante : *“La médiane est plus robuste que la moyenne.”*\n",
    "\n",
    "**Solution**:  \n",
    "  \n",
    "4\\) Calculer l'écart-type et l'écart inter-quartile pour l'ensemble des tailles et pour les tailles supérieure à $140$ cm. Laquelle de ces deux caractéristiques vous semble la plus robuste?\n",
    "\n",
    "**Solution**:  \n",
    "  \n"
   ]
  },
  {
   "cell_type": "code",
   "execution_count": null,
   "id": "8fc38602-c892-47f0-b94f-28b5aa375361",
   "metadata": {},
   "outputs": [],
   "source": [
    "# Calcul de l'écart inter-quartiles\n",
    "quantile <- ...\n",
    "EIQ <- ...\n",
    "\n",
    "# Calcul de l'écart-type\n",
    "std <- ...\n",
    "\n",
    "# Sélection des tailles supérieures à 140cm\n",
    "data_140 <- ... \n",
    "\n",
    "# Calcul de l'écart inter-quartile et de l'écart-type pour les tailles supérieures à 140cm\n",
    "quantile_140 <- ...\n",
    "EIQ_140 <- ...\n",
    "std_140 <- ...\n",
    "\n",
    "# Affichage des valeures obtenues\n",
    "...\n"
   ]
  },
  {
   "cell_type": "markdown",
   "id": "3642f43b-1346-42d7-9361-bdff67d8ec0c",
   "metadata": {
    "tags": []
   },
   "source": [
    "## Exercice 2:  \n",
    "\n",
    "On a observé la taille et le poids de quelques femmes. Les résultats sont présentés dans le tableau suivant (la taille en centimètres, le poids en kilogrammes):\n",
    "\n",
    " |||||||||||||||||\n",
    "|:--:|:--:|:--:|:--:|:--:|:--:|:--:|:--:|:--:|:--:|:--:|:--:|:--:|:--:|:--:|:--:|\n",
    "| **Taille** | 147 | 150 | 152 | 155 | 157 | 160 | 163 | 165 | 168 | 170 | 173 | 175 | 178 | 180 | 183 |\n",
    "| **Poids** | 52 | 53 | 54 | 56 | 57 | 59 | 60 | 61 | 63 | 64 | 66 | 68 | 70 | 72 | 74 |"
   ]
  },
  {
   "cell_type": "code",
   "execution_count": null,
   "id": "310d6ac6-27e9-4f4b-b0b1-037cf02a2474",
   "metadata": {
    "tags": []
   },
   "outputs": [],
   "source": [
    "library(ggplot2)\n",
    "\n",
    "datas <- matrix(c(147 , 150 , 152 , 155 , 157 , 160 , 163 , 165 , 168 , 170 , 173 , 175 , 178 , 180 , 183,\n",
    "                  52 , 53 , 54 , 56 , 57 , 59 , 60 , 61 , 63 , 64 , 66 , 68 , 70 , 72 , 74), nrow=15, \n",
    "                ncol=2, byrow=FALSE)\n",
    "datas <- data.frame(datas,stringsAsFactors = TRUE)\n",
    "colnames(datas) <- c(\"Taille\",\"Poids\")\n"
   ]
  },
  {
   "cell_type": "markdown",
   "id": "2de1ec89-e5e8-4a86-be36-c3418e6793f6",
   "metadata": {
    "tags": []
   },
   "source": [
    "1\\) Est-ce que la taille est une variable quantitative, qualitative nominale ou qualitative ordinale ?\n",
    "\n",
    "**Solution**:  \n",
    "  \n",
    "2\\) Calculez la moyenne et l'écart-type des tailles observées."
   ]
  },
  {
   "cell_type": "code",
   "execution_count": null,
   "id": "ee5a4aae-8f09-4db4-baf2-c6165486a620",
   "metadata": {
    "tags": []
   },
   "outputs": [],
   "source": [
    "# Calculer la moyenne des tailles\n",
    "mean <- ... \n",
    "# Afficher cette moyenne\n",
    "...\n",
    "\n",
    "\n",
    "# Calculer l'écart-type des tailles\n",
    "std <- sd(datas$Taille)\n",
    "# Afficher cet écart-type\n",
    "...\n"
   ]
  },
  {
   "cell_type": "markdown",
   "id": "19dcfe8e-3d69-49bf-80a9-c5146ca36292",
   "metadata": {},
   "source": [
    "3\\) Pour les tailles observées, calculez le minimum, le maximum, la médiane, le quartile inférieur, le quartile supérieur et le quartile d'ordre 30%. Qu'est-ce que représentent ces quantités ?\n",
    "\n",
    "**Solution**:  \n",
    "  \n"
   ]
  },
  {
   "cell_type": "code",
   "execution_count": null,
   "id": "c855220e-b2f1-492e-b217-522d5445cbb3",
   "metadata": {
    "tags": []
   },
   "outputs": [],
   "source": [
    "min <- ... \n",
    "max <- ... \n",
    "med <- ... \n",
    "q_ <- ... \n",
    "\n",
    "# Afficher les résultats caclulés\n",
    "...\n"
   ]
  },
  {
   "cell_type": "markdown",
   "id": "40a6ff9f-e40b-482e-a45c-9d4458836cfc",
   "metadata": {},
   "source": [
    "4\\) Calculez l'écart inter-quartile des tailles observées"
   ]
  },
  {
   "cell_type": "code",
   "execution_count": null,
   "id": "b99ba833-d9eb-4437-857b-caa4bda73d36",
   "metadata": {},
   "outputs": [],
   "source": [
    "# Calcul de l'écart inter-quartile\n",
    "EIQ <- ... \n",
    "# Afficher ce résultat\n",
    "...\n"
   ]
  },
  {
   "cell_type": "markdown",
   "id": "cb388288-b20b-4625-a914-f9782e4ab5cd",
   "metadata": {},
   "source": [
    "5\\) Construisez le boxplot des tailles observées. Quels aspects des données cette représentation graphique nous permet-elle de visualiser?\n",
    "\n",
    "**Solution**:  \n",
    "  \n"
   ]
  },
  {
   "cell_type": "code",
   "execution_count": null,
   "id": "7180bca5-fc12-4d43-8aab-925bf24f9ace",
   "metadata": {
    "tags": []
   },
   "outputs": [],
   "source": [
    "# Faire un boxplot des tailles observées\n",
    "...\n"
   ]
  },
  {
   "cell_type": "markdown",
   "id": "a599e8ce-bdc4-4f2c-9d72-bf541a688a1f",
   "metadata": {},
   "source": [
    "6\\) Divisez les tailles observées en 5 groupes :  \n",
    "$ < 150 $, $ 150 - 159 $, $ 160 - 169 $, $ 170 - 179 $, $ > 179 $ cm.  \n",
    "Construisez un histogramme en utilisant une ligne par groupe. Quels aspects des données cette représentation graphique nous permet-elle de visualiser?\n",
    "\n",
    "**Solution**:  \n",
    "  \n"
   ]
  },
  {
   "cell_type": "code",
   "execution_count": null,
   "id": "055eed24-101a-4151-91e7-81d816ca3377",
   "metadata": {
    "tags": []
   },
   "outputs": [],
   "source": [
    "# Faire un histogramme avec les groupes mentionnés ci-dessus\n",
    "...\n"
   ]
  },
  {
   "cell_type": "markdown",
   "id": "8224529a-12b1-4412-84b5-071b904039a2",
   "metadata": {},
   "source": [
    "7\\) Pensez-vous qu'il existe une relation entre la taille et le poids des femmes ayant participé à l'enquête? Justifiez votre réponse à l'aide d'un graphique adéquat.\n",
    "\n",
    "**Solution**:  \n",
    "  \n"
   ]
  },
  {
   "cell_type": "code",
   "execution_count": null,
   "id": "f80391fd-60aa-4198-a67a-18e0796c0d89",
   "metadata": {},
   "outputs": [],
   "source": [
    "# Faire un graphique permettant de mettre en évidence la relation entre la taille \n",
    "# et le poids des femmes ayant participer à l'enquête\n",
    "...\n"
   ]
  },
  {
   "cell_type": "markdown",
   "id": "826caa0a",
   "metadata": {
    "tags": []
   },
   "source": [
    "## Exercice 3: \n",
    "\n",
    "On a observé la couleur des cheveux et des yeux de certains étudiants de l’Université du Delaware.\n",
    "Les résultats sont présentés dans le tableau suivant :\n",
    "\n",
    "| Cheveux / Yeux  | Brun | Bleu       | \"Hazel\" | Vert |\n",
    "| :---------------: |:---------------:|:---------------:| :---------------:| :---------------: |\n",
    "| Noir  | 68 | 20 | 15 | 5 |\n",
    "| Brun  | 119 | 84 | 54 | 29 |\n",
    "| Roux  | 26 | 17 | 14 | 14 |\n",
    "| Blond | 7 | 94 | 10 | 16|"
   ]
  },
  {
   "cell_type": "code",
   "execution_count": null,
   "id": "a7ced649",
   "metadata": {
    "tags": []
   },
   "outputs": [],
   "source": [
    "data <- matrix(c(68,119,26,7,20,84,17,94,15,54,14,10,5,29,14,16), nrow=4, \n",
    "                ncol=4, byrow=FALSE)\n",
    "data <- data.frame(data,stringsAsFactors = TRUE)\n",
    "colnames(data) <- c(\"Brun\",\"Bleu\", \"Hazel\", \"Vert\")\n",
    "rownames(data) <- c(\"Noir\",\"Brun\",\"Roux\",\"Blond\")"
   ]
  },
  {
   "cell_type": "markdown",
   "id": "32df35e8",
   "metadata": {
    "tags": []
   },
   "source": [
    "1\\) Combien d'étudiants ont participé à cette enquête ?"
   ]
  },
  {
   "cell_type": "code",
   "execution_count": null,
   "id": "e86404c2",
   "metadata": {
    "tags": []
   },
   "outputs": [],
   "source": [
    "# Calculer et affficher le nombre total d'étudiants qui ont participé à cette enquête\n",
    "...\n"
   ]
  },
  {
   "cell_type": "markdown",
   "id": "f52ad046",
   "metadata": {},
   "source": [
    "2\\) Est-ce que la couleur des cheveux est une variable quantitative, qualitative nominale ou qualitative\n",
    "ordinale ?\n",
    "\n",
    "**Solution**:  \n",
    "  \n",
    "3\\) Résumez ce que vous pouvez dire sur la couleur des cheveux des étudiants à l’aide de quelques chiffres et graphiques adéquats.\n",
    "\n",
    "**Solution**:  \n",
    "  \n"
   ]
  },
  {
   "cell_type": "code",
   "execution_count": null,
   "id": "8feb4e47",
   "metadata": {
    "tags": []
   },
   "outputs": [],
   "source": [
    "library(ggplot2)\n",
    "library(dplyr)\n",
    "\n",
    "# Calculer la fréquence absolue et relative des cheveux des étudiants\n",
    "...\n",
    "\n",
    "\n",
    "# Faire un plot en camembert de la fréquence absolue des couleurs des cheveux\n",
    "...\n",
    "\n",
    "\n",
    "# Faire un bar plot de la fréquence absolue des couleurs de cheveux\n",
    "...\n"
   ]
  },
  {
   "cell_type": "markdown",
   "id": "e4dbd980",
   "metadata": {},
   "source": [
    "4\\) Pensez-vous que la couleur des cheveux et la couleur des yeux des étudiants ayant participé à l’enquête sont liées ? Justifiez votre réponse.\n",
    "\n",
    "\n",
    "**Solution**:  \n",
    "  \n"
   ]
  },
  {
   "cell_type": "code",
   "execution_count": null,
   "id": "32c0ef2d",
   "metadata": {},
   "outputs": [],
   "source": [
    "# Place your answer here"
   ]
  },
  {
   "cell_type": "markdown",
   "id": "cf544f7d-0957-42f3-b356-27a1469460c4",
   "metadata": {
    "tags": []
   },
   "source": [
    "## Exercice 4:  \n",
    "\n",
    "On a observé les précipitations journalières 01.01.2000 - 10.07.2022 de la station météo Suisse de Changrins. "
   ]
  },
  {
   "cell_type": "code",
   "execution_count": null,
   "id": "b98b0912-c39b-4486-9c64-11b2e1a9b26d",
   "metadata": {
    "tags": []
   },
   "outputs": [],
   "source": [
    "data = read.csv('Precipitations_journalieres_Changins.csv',sep=\",\",header = FALSE)\n",
    "colnames(data) = c(\"Date\",\"Précipitation\")"
   ]
  },
  {
   "cell_type": "markdown",
   "id": "210aed38-02ed-4ddc-9edd-c9af3ebdaec7",
   "metadata": {},
   "source": [
    "1\\) Calculer la moyenne et la médiane de ces données. Puis, faire un boxplot et un histogramme de ces données et faire apparaitre la moyenne et la médiane sur chacunes de ces figures."
   ]
  },
  {
   "cell_type": "code",
   "execution_count": null,
   "id": "9645cb9b-6b39-461e-8120-9ed13d60d98a",
   "metadata": {
    "tags": []
   },
   "outputs": [],
   "source": [
    "library(ggplot2)\n",
    "library(patchwork)\n",
    "# Calculer la moyenne et la médiane des tailles observées\n",
    "mean <- ... \n",
    "median <- ... \n",
    "\n",
    "# Faire un boxplot et un histogramme\n",
    "...\n"
   ]
  },
  {
   "cell_type": "markdown",
   "id": "8e68eae7-58e8-47fa-9418-12c56b519d01",
   "metadata": {},
   "source": [
    "2\\) Laquelle de ces deux caractéristiques représente le mieux la tendance centrale de la \n",
    "distribution? Justifiez votre réponse.\n",
    "\n",
    "**Solution**:  \n",
    "  \n"
   ]
  }
 ],
 "metadata": {
  "kernelspec": {
   "display_name": "R",
   "language": "R",
   "name": "ir"
  },
  "language_info": {
   "codemirror_mode": "r",
   "file_extension": ".r",
   "mimetype": "text/x-r-source",
   "name": "R",
   "pygments_lexer": "r",
   "version": "4.2.2"
  }
 },
 "nbformat": 4,
 "nbformat_minor": 5
}
